{
 "cells": [
  {
   "cell_type": "markdown",
   "metadata": {
    "editable": true,
    "slideshow": {
     "slide_type": ""
    },
    "tags": []
   },
   "source": [
    "# Hugging Face Transformers 微调语言模型-问答任务\n",
    "\n",
    "我们已经学会使用 Pipeline 加载支持问答任务的预训练模型，本教程代码将展示如何微调训练一个支持问答任务的模型。\n",
    "\n",
    "**注意：微调后的模型仍然是通过提取上下文的子串来回答问题的，而不是生成新的文本。**\n",
    "\n",
    "### 模型执行问答效果示例\n",
    "\n",
    "![Widget inference representing the QA task](docs/images/question_answering.png)"
   ]
  },
  {
   "cell_type": "code",
   "execution_count": 1,
   "metadata": {
    "execution": {
     "iopub.execute_input": "2024-06-12T03:17:07.348747Z",
     "iopub.status.busy": "2024-06-12T03:17:07.348544Z",
     "iopub.status.idle": "2024-06-12T03:17:07.353593Z",
     "shell.execute_reply": "2024-06-12T03:17:07.352335Z",
     "shell.execute_reply.started": "2024-06-12T03:17:07.348721Z"
    },
    "id": "zVvslsfMIrIh"
   },
   "outputs": [],
   "source": [
    "# 根据你使用的模型和GPU资源情况，调整以下关键参数\n",
    "squad_v2 = False\n",
    "model_checkpoint = \"distilbert-base-uncased\"\n",
    "batch_size = 16"
   ]
  },
  {
   "cell_type": "code",
   "execution_count": 2,
   "metadata": {
    "execution": {
     "iopub.execute_input": "2024-06-12T03:17:07.357791Z",
     "iopub.status.busy": "2024-06-12T03:17:07.356970Z",
     "iopub.status.idle": "2024-06-12T03:17:11.044726Z",
     "shell.execute_reply": "2024-06-12T03:17:11.043809Z",
     "shell.execute_reply.started": "2024-06-12T03:17:07.357732Z"
    }
   },
   "outputs": [],
   "source": [
    "from transformers import pipeline\n",
    "import os\n",
    "\n",
    "import subprocess\n",
    "\n",
    "# os.environ['HF_HOME'] = '/root/autodl-tmp/huggingface/cache/'\n",
    "# os.environ['HF_HUB_CACHE'] = '/root/autodl-tmp/huggingface/cache/'\n",
    "\n",
    "# 设置 Hugging Face 端点（如果需要使用镜像）\n",
    "os.environ['HF_ENDPOINT'] = 'https://hf-mirror.com'\n",
    "\n",
    "result = subprocess.run('bash -c \"source /etc/network_turbo && env | grep proxy\"', shell=True, capture_output=True, text=True)\n",
    "output = result.stdout\n",
    "for line in output.splitlines():\n",
    "    if '=' in line:\n",
    "        var, value = line.split('=', 1)\n",
    "        os.environ[var] = value\n",
    "        "
   ]
  },
  {
   "cell_type": "markdown",
   "metadata": {
    "id": "whPRbBNbIrIl"
   },
   "source": [
    "## 下载数据集\n",
    "\n",
    "在本教程中，我们将使用[斯坦福问答数据集(SQuAD）](https://rajpurkar.github.io/SQuAD-explorer/)。\n",
    "\n",
    "### SQuAD 数据集\n",
    "\n",
    "**斯坦福问答数据集(SQuAD)** 是一个阅读理解数据集，由众包工作者在一系列维基百科文章上提出问题组成。每个问题的答案都是相应阅读段落中的文本片段或范围，或者该问题可能无法回答。\n",
    "\n",
    "SQuAD2.0将SQuAD1.1中的10万个问题与由众包工作者对抗性地撰写的5万多个无法回答的问题相结合，使其看起来与可回答的问题类似。要在SQuAD2.0上表现良好，系统不仅必须在可能时回答问题，还必须确定段落中没有支持任何答案，并放弃回答。"
   ]
  },
  {
   "cell_type": "code",
   "execution_count": 3,
   "metadata": {
    "execution": {
     "iopub.execute_input": "2024-06-12T03:17:11.046080Z",
     "iopub.status.busy": "2024-06-12T03:17:11.045748Z",
     "iopub.status.idle": "2024-06-12T03:17:11.676505Z",
     "shell.execute_reply": "2024-06-12T03:17:11.675580Z",
     "shell.execute_reply.started": "2024-06-12T03:17:11.046057Z"
    },
    "id": "IreSlFmlIrIm"
   },
   "outputs": [],
   "source": [
    "from datasets import load_dataset"
   ]
  },
  {
   "cell_type": "code",
   "execution_count": 4,
   "metadata": {
    "colab": {
     "base_uri": "https://localhost:8080/",
     "height": 270,
     "referenced_widgets": [
      "69caab03d6264fef9fc5649bffff5e20",
      "3f74532faa86412293d90d3952f38c4a",
      "50615aa59c7247c4804ca5cbc7945bd7",
      "fe962391292a413ca55dc932c4279fa7",
      "299f4b4c07654e53a25f8192bd1d7bbd",
      "ad04ed1038154081bbb0c1444784dcc2",
      "7c667ad22b5740d5a6319f1b1e3a8097",
      "46c2b043c0f84806978784a45a4e203b",
      "80e2943be35f46eeb24c8ab13faa6578",
      "de5956b5008d4fdba807bae57509c393",
      "931db1f7a42f4b46b7ff8c2e1262b994",
      "6c1db72efff5476e842c1386fadbbdba",
      "ccd2f37647c547abb4c719b75a26f2de",
      "d30a66df5c0145e79693e09789d96b81",
      "5fa26fc336274073abbd1d550542ee33",
      "2b34de08115d49d285def9269a53f484",
      "d426be871b424affb455aeb7db5e822e",
      "160bf88485f44f5cb6eaeecba5e0901f",
      "745c0d47d672477b9bb0dae77b926364",
      "d22ab78269cd4ccfbcf70c707057c31b",
      "d298eb19eeff453cba51c2804629d3f4",
      "a7204ade36314c86907c562e0a2158b8",
      "e35d42b2d352498ca3fc8530393786b2",
      "75103f83538d44abada79b51a1cec09e",
      "f6253931d90543e9b5fd0bb2d615f73a",
      "051aa783ff9e47e28d1f9584043815f5",
      "0984b2a14115454bbb009df71c1cf36f",
      "8ab9dfce29854049912178941ef1b289",
      "c9de740e007141958545e269372780a4",
      "cbea68b25d6d4ba09b2ce0f27b1726d5",
      "5781fc45cf8d486cb06ed68853b2c644",
      "d2a92143a08a4951b55bab9bc0a6d0d3",
      "a14c3e40e5254d61ba146f6ec88eae25",
      "c4ffe6f624ce4e978a0d9b864544941a",
      "1aca01c1d8c940dfadd3e7144bb35718",
      "9fbbaae50e6743f2aa19342152398186",
      "fea27ca6c9504fc896181bc1ff5730e5",
      "940d00556cb849b3a689d56e274041c2",
      "5cdf9ed939fb42d4bf77301c80b8afca",
      "94b39ccfef0b4b08bf2fb61bb0a657c1",
      "9a55087c85b74ea08b3e952ac1d73cbe",
      "2361ab124daf47cc885ff61f2899b2af",
      "1a65887eb37747ddb75dc4a40f7285f2",
      "3c946e2260704e6c98593136bd32d921",
      "50d325cdb9844f62a9ecc98e768cb5af",
      "aa781f0cfe454e9da5b53b93e9baabd8",
      "6bb68d3887ef43809eb23feb467f9723",
      "7e29a8b952cf4f4ea42833c8bf55342f",
      "dd5997d01d8947e4b1c211433969b89b",
      "2ace4dc78e2f4f1492a181bcd63304e7",
      "bbee008c2791443d8610371d1f16b62b",
      "31b1c8a2e3334b72b45b083688c1a20c",
      "7fb7c36adc624f7dbbcb4a831c1e4f63",
      "0b7c8f1939074794b3d9221244b1344d",
      "a71908883b064e1fbdddb547a8c41743",
      "2f5223f26c8541fc87e91d2205c39995"
     ]
    },
    "execution": {
     "iopub.execute_input": "2024-06-12T03:17:11.677889Z",
     "iopub.status.busy": "2024-06-12T03:17:11.677534Z",
     "iopub.status.idle": "2024-06-12T03:17:11.727403Z",
     "shell.execute_reply": "2024-06-12T03:17:11.726600Z",
     "shell.execute_reply.started": "2024-06-12T03:17:11.677864Z"
    },
    "id": "s_AY1ATSIrIq",
    "outputId": "fd0578d1-8895-443d-b56f-5908de9f1b6b"
   },
   "outputs": [],
   "source": [
    "# datasets = load_dataset(\"squad_v2\" if squad_v2 else \"squad\")\n",
    "datasets = load_dataset(\"/root/autodl-tmp/hf/datasets/squad_v2\")"
   ]
  },
  {
   "cell_type": "markdown",
   "metadata": {
    "id": "RzfPtOMoIrIu"
   },
   "source": [
    "The `datasets` object itself is [`DatasetDict`](https://huggingface.co/docs/datasets/package_reference/main_classes.html#datasetdict), which contains one key for the training, validation and test set."
   ]
  },
  {
   "cell_type": "code",
   "execution_count": 5,
   "metadata": {
    "execution": {
     "iopub.execute_input": "2024-06-12T03:17:11.728609Z",
     "iopub.status.busy": "2024-06-12T03:17:11.728385Z",
     "iopub.status.idle": "2024-06-12T03:17:11.738225Z",
     "shell.execute_reply": "2024-06-12T03:17:11.737104Z",
     "shell.execute_reply.started": "2024-06-12T03:17:11.728585Z"
    },
    "id": "GWiVUF0jIrIv",
    "outputId": "35e3ea43-f397-4a54-c90c-f2cf8d36873e"
   },
   "outputs": [
    {
     "data": {
      "text/plain": [
       "DatasetDict({\n",
       "    train: Dataset({\n",
       "        features: ['id', 'title', 'context', 'question', 'answers'],\n",
       "        num_rows: 130319\n",
       "    })\n",
       "    validation: Dataset({\n",
       "        features: ['id', 'title', 'context', 'question', 'answers'],\n",
       "        num_rows: 11873\n",
       "    })\n",
       "})"
      ]
     },
     "execution_count": 5,
     "metadata": {},
     "output_type": "execute_result"
    }
   ],
   "source": [
    "datasets"
   ]
  },
  {
   "cell_type": "markdown",
   "metadata": {},
   "source": [
    "#### 对比数据集\n",
    "\n",
    "相比快速入门使用的 Yelp 评论数据集，我们可以看到 SQuAD 训练和测试集都新增了用于上下文、问题以及问题答案的列：\n",
    "\n",
    "**YelpReviewFull Dataset：**\n",
    "\n",
    "```json\n",
    "\n",
    "DatasetDict({\n",
    "    train: Dataset({\n",
    "        features: ['label', 'text'],\n",
    "        num_rows: 650000\n",
    "    })\n",
    "    test: Dataset({\n",
    "        features: ['label', 'text'],\n",
    "        num_rows: 50000\n",
    "    })\n",
    "})\n",
    "```"
   ]
  },
  {
   "cell_type": "code",
   "execution_count": 6,
   "metadata": {
    "execution": {
     "iopub.execute_input": "2024-06-12T03:17:11.738988Z",
     "iopub.status.busy": "2024-06-12T03:17:11.738791Z",
     "iopub.status.idle": "2024-06-12T03:17:11.746768Z",
     "shell.execute_reply": "2024-06-12T03:17:11.745686Z",
     "shell.execute_reply.started": "2024-06-12T03:17:11.738967Z"
    },
    "id": "X6HrpprwIrIz",
    "outputId": "d7670bc0-42e4-4c09-8a6a-5c018ded7d95"
   },
   "outputs": [
    {
     "data": {
      "text/plain": [
       "{'id': '56be85543aeaaa14008c9063',\n",
       " 'title': 'Beyoncé',\n",
       " 'context': 'Beyoncé Giselle Knowles-Carter (/biːˈjɒnseɪ/ bee-YON-say) (born September 4, 1981) is an American singer, songwriter, record producer and actress. Born and raised in Houston, Texas, she performed in various singing and dancing competitions as a child, and rose to fame in the late 1990s as lead singer of R&B girl-group Destiny\\'s Child. Managed by her father, Mathew Knowles, the group became one of the world\\'s best-selling girl groups of all time. Their hiatus saw the release of Beyoncé\\'s debut album, Dangerously in Love (2003), which established her as a solo artist worldwide, earned five Grammy Awards and featured the Billboard Hot 100 number-one singles \"Crazy in Love\" and \"Baby Boy\".',\n",
       " 'question': 'When did Beyonce start becoming popular?',\n",
       " 'answers': {'text': ['in the late 1990s'], 'answer_start': [269]}}"
      ]
     },
     "execution_count": 6,
     "metadata": {},
     "output_type": "execute_result"
    }
   ],
   "source": [
    "datasets[\"train\"][0]"
   ]
  },
  {
   "cell_type": "markdown",
   "metadata": {},
   "source": [
    "#### 从上下文中组织回复内容\n",
    "\n",
    "我们可以看到答案是通过它们在文本中的起始位置（这里是第515个字符）以及它们的完整文本表示的，这是上面提到的上下文的子字符串。"
   ]
  },
  {
   "cell_type": "code",
   "execution_count": 7,
   "metadata": {
    "execution": {
     "iopub.execute_input": "2024-06-12T03:17:11.747696Z",
     "iopub.status.busy": "2024-06-12T03:17:11.747492Z",
     "iopub.status.idle": "2024-06-12T03:17:11.755767Z",
     "shell.execute_reply": "2024-06-12T03:17:11.755016Z",
     "shell.execute_reply.started": "2024-06-12T03:17:11.747675Z"
    },
    "id": "i3j8APAoIrI3"
   },
   "outputs": [],
   "source": [
    "from datasets import ClassLabel, Sequence\n",
    "import random\n",
    "import pandas as pd\n",
    "from IPython.display import display, HTML\n",
    "\n",
    "def show_random_elements(dataset, num_examples=10):\n",
    "    assert num_examples <= len(dataset), \"Can't pick more elements than there are in the dataset.\"\n",
    "    picks = []\n",
    "    for _ in range(num_examples):\n",
    "        pick = random.randint(0, len(dataset)-1)\n",
    "        while pick in picks:\n",
    "            pick = random.randint(0, len(dataset)-1)\n",
    "        picks.append(pick)\n",
    "    \n",
    "    df = pd.DataFrame(dataset[picks])\n",
    "    for column, typ in dataset.features.items():\n",
    "        if isinstance(typ, ClassLabel):\n",
    "            df[column] = df[column].transform(lambda i: typ.names[i])\n",
    "        elif isinstance(typ, Sequence) and isinstance(typ.feature, ClassLabel):\n",
    "            df[column] = df[column].transform(lambda x: [typ.feature.names[i] for i in x])\n",
    "    display(HTML(df.to_html()))"
   ]
  },
  {
   "cell_type": "code",
   "execution_count": 8,
   "metadata": {
    "execution": {
     "iopub.execute_input": "2024-06-12T03:17:11.756811Z",
     "iopub.status.busy": "2024-06-12T03:17:11.756611Z",
     "iopub.status.idle": "2024-06-12T03:17:11.769115Z",
     "shell.execute_reply": "2024-06-12T03:17:11.768413Z",
     "shell.execute_reply.started": "2024-06-12T03:17:11.756791Z"
    },
    "id": "SZy5tRB_IrI7",
    "outputId": "ba8f2124-e485-488f-8c0c-254f34f24f13"
   },
   "outputs": [
    {
     "data": {
      "text/html": [
       "<table border=\"1\" class=\"dataframe\">\n",
       "  <thead>\n",
       "    <tr style=\"text-align: right;\">\n",
       "      <th></th>\n",
       "      <th>id</th>\n",
       "      <th>title</th>\n",
       "      <th>context</th>\n",
       "      <th>question</th>\n",
       "      <th>answers</th>\n",
       "    </tr>\n",
       "  </thead>\n",
       "  <tbody>\n",
       "    <tr>\n",
       "      <th>0</th>\n",
       "      <td>573053ea8ab72b1400f9c46e</td>\n",
       "      <td>Windows_8</td>\n",
       "      <td>In March 2013, Microsoft also amended its certification requirements to allow tablets to use the 1024×768 resolution as a minimum; this change is expected to allow the production of certified Windows 8 tablets in smaller form factors—a market which is currently dominated by Android-based tablets. Despite the reaction of industry experts, Microsoft reported that they had sold 100 million licenses in the first six months. This matched sales of Windows 7 over a similar period. This statistic includes shipments to channel warehouses which now need to be sold in order to make way for new shipments.</td>\n",
       "      <td>What changes did Microsoft make to its certification requirements in March 2013?</td>\n",
       "      <td>{'text': ['amended its certification requirements to allow tablets to use the 1024×768 resolution as a minimum'], 'answer_start': [30]}</td>\n",
       "    </tr>\n",
       "    <tr>\n",
       "      <th>1</th>\n",
       "      <td>5ad0a984645df0001a2cfff1</td>\n",
       "      <td>Department_store</td>\n",
       "      <td>David Jones was started by David Jones, a Welsh merchant who met Hobart businessman Charles Appleton in London. Appleton established a store in Sydney in 1825 and Jones subsequently established a partnership with Appleton, moved to Australia in 1835, and the Sydney store became known as Appleton &amp; Jones. When the partnership was dissolved in 1838, Jones moved his business to premises on the corner of George Street and Barrack Lane, Sydney. David Jones claims to be the oldest department store in the world still trading under its original name.</td>\n",
       "      <td>What was the store in Sydney called after Jones moved to Austria?</td>\n",
       "      <td>{'text': [], 'answer_start': []}</td>\n",
       "    </tr>\n",
       "    <tr>\n",
       "      <th>2</th>\n",
       "      <td>5728d079ff5b5019007da721</td>\n",
       "      <td>Asthma</td>\n",
       "      <td>Avoidance of triggers is a key component of improving control and preventing attacks. The most common triggers include allergens, smoke (tobacco and other), air pollution, non selective beta-blockers, and sulfite-containing foods. Cigarette smoking and second-hand smoke (passive smoke) may reduce the effectiveness of medications such as corticosteroids. Laws that limit smoking decrease the number of people hospitalized for asthma. Dust mite control measures, including air filtration, chemicals to kill mites, vacuuming, mattress covers and others methods had no effect on asthma symptoms. Overall, exercise is beneficial in people with stable asthma. Yoga could provide small improvements in quality of life and symptoms in people with asthma.</td>\n",
       "      <td>What did law that limit smoking accomplish?</td>\n",
       "      <td>{'text': ['decrease the number of people hospitalized for asthma'], 'answer_start': [380]}</td>\n",
       "    </tr>\n",
       "    <tr>\n",
       "      <th>3</th>\n",
       "      <td>5a2af3a95b078a001a2f0761</td>\n",
       "      <td>Sanskrit</td>\n",
       "      <td>Satyagraha, an opera by Philip Glass, uses texts from the Bhagavad Gita, sung in Sanskrit. The closing credits of The Matrix Revolutions has a prayer from the Brihadaranyaka Upanishad. The song \"Cyber-raga\" from Madonna's album Music includes Sanskrit chants, and Shanti/Ashtangi from her 1998 album Ray of Light, which won a Grammy, is the ashtanga vinyasa yoga chant. The lyrics include the mantra Om shanti. Composer John Williams featured choirs singing in Sanskrit for Indiana Jones and the Temple of Doom and in Star Wars: Episode I – The Phantom Menace. The theme song of Battlestar Galactica 2004 is the Gayatri Mantra, taken from the Rigveda. The lyrics of \"The Child In Us\" by Enigma also contains Sanskrit verses.[better source needed].</td>\n",
       "      <td>What is the opera created by Steven Glass that uses Sanskrit?</td>\n",
       "      <td>{'text': [], 'answer_start': []}</td>\n",
       "    </tr>\n",
       "    <tr>\n",
       "      <th>4</th>\n",
       "      <td>5ad567b85b96ef001a10ae00</td>\n",
       "      <td>Macintosh</td>\n",
       "      <td>In recent years, Apple has seen a significant boost in sales of Macs. This has been attributed, in part, to the success of the iPod and the iPhone, a halo effect whereby satisfied iPod or iPhone owners purchase more Apple products, and Apple has since capitalized on that with the iCloud cloud service that allows users to seamlessly sync data between these devices and Macs. Nonetheless, like other personal computer manufacturers, the Macintosh lines have been hurt by consumer trend towards smartphones and tablet computers (particularly Apple's own iPhone and iPad, respectively) as the computing devices of choice among consumers.</td>\n",
       "      <td>What consumer trend has hurt many business computer manufacturers?</td>\n",
       "      <td>{'text': [], 'answer_start': []}</td>\n",
       "    </tr>\n",
       "    <tr>\n",
       "      <th>5</th>\n",
       "      <td>56db36f7e7c41114004b4f5c</td>\n",
       "      <td>2008_Summer_Olympics_torch_relay</td>\n",
       "      <td>\\n Indonesia: The Olympic flame reached Jakarta on April 22. The original 20 km relay through Jakarta was cancelled due to \"security worries\", at the request of the Chinese embassy, and the torch was instead carried round the city main's stadium, as it had been in Islamabad. Several dozen pro-Tibet protesters gathered near the stadium, and were dispersed by the police. The event was held in the streets around the city main's stadium. The cancelling of the relay through the city itself was decided due to security concerns and at the request of the Chinese embassy. Only invitees and journalists were admitted inside the stadium. Protests took place outside the stadium.</td>\n",
       "      <td>What type of facility was the torch carried at instead.</td>\n",
       "      <td>{'text': ['stadium.'], 'answer_start': [428]}</td>\n",
       "    </tr>\n",
       "    <tr>\n",
       "      <th>6</th>\n",
       "      <td>5acf9ef077cf76001a68559e</td>\n",
       "      <td>Umayyad_Caliphate</td>\n",
       "      <td>Muawiyah also encouraged peaceful coexistence with the Christian communities of Syria, granting his reign with \"peace and prosperity for Christians and Arabs alike\", and one of his closest advisers was Sarjun, the father of John of Damascus. At the same time, he waged unceasing war against the Byzantine Roman Empire. During his reign, Rhodes and Crete were occupied, and several assaults were launched against Constantinople. After their failure, and faced with a large-scale Christian uprising in the form of the Mardaites, Muawiyah concluded a peace with Byzantium. Muawiyah also oversaw military expansion in North Africa (the foundation of Kairouan) and in Central Asia (the conquest of Kabul, Bukhara, and Samarkand).</td>\n",
       "      <td>When were Rhodes and Crete freed from occupation?</td>\n",
       "      <td>{'text': [], 'answer_start': []}</td>\n",
       "    </tr>\n",
       "    <tr>\n",
       "      <th>7</th>\n",
       "      <td>5727a844ff5b5019007d9209</td>\n",
       "      <td>Dominican_Order</td>\n",
       "      <td>Dominic inspired his followers with loyalty to learning and virtue, a deep recognition of the spiritual power of worldly deprivation and the religious state, and a highly developed governmental structure. At the same time, Dominic inspired the members of his order to develop a \"mixed\" spirituality. They were both active in preaching, and contemplative in study, prayer and meditation. The brethren of the Dominican Order were urban and learned, as well as contemplative and mystical in their spirituality. While these traits had an impact on the women of the order, the nuns especially absorbed the latter characteristics and made those characteristics their own. In England, the Dominican nuns blended these elements with the defining characteristics of English Dominican spirituality and created a spirituality and collective personality that set them apart.</td>\n",
       "      <td>What type of spirituality did Dominic want his followers to learn?</td>\n",
       "      <td>{'text': ['a \"mixed\" spirituality'], 'answer_start': [276]}</td>\n",
       "    </tr>\n",
       "    <tr>\n",
       "      <th>8</th>\n",
       "      <td>57275f1df1498d1400e8f6fc</td>\n",
       "      <td>Cotton</td>\n",
       "      <td>Cotton is used to make a number of textile products. These include terrycloth for highly absorbent bath towels and robes; denim for blue jeans; cambric, popularly used in the manufacture of blue work shirts (from which we get the term \"blue-collar\"); and corduroy, seersucker, and cotton twill. Socks, underwear, and most T-shirts are made from cotton. Bed sheets often are made from cotton. Cotton also is used to make yarn used in crochet and knitting. Fabric also can be made from recycled or recovered cotton that otherwise would be thrown away during the spinning, weaving, or cutting process. While many fabrics are made completely of cotton, some materials blend cotton with other fibers, including rayon and synthetic fibers such as polyester. It can either be used in knitted or woven fabrics, as it can be blended with elastine to make a stretchier thread for knitted fabrics, and apparel such as stretch jeans.</td>\n",
       "      <td>For what is cotton used to make?</td>\n",
       "      <td>{'text': ['textile products'], 'answer_start': [35]}</td>\n",
       "    </tr>\n",
       "    <tr>\n",
       "      <th>9</th>\n",
       "      <td>5a8cbffbfd22b3001a8d8dfc</td>\n",
       "      <td>Biodiversity</td>\n",
       "      <td>Global agreements such as the Convention on Biological Diversity, give \"sovereign national rights over biological resources\" (not property). The agreements commit countries to \"conserve biodiversity\", \"develop resources for sustainability\" and \"share the benefits\" resulting from their use. Biodiverse countries that allow bioprospecting or collection of natural products, expect a share of the benefits rather than allowing the individual or institution that discovers/exploits the resource to capture them privately. Bioprospecting can become a type of biopiracy when such principles are not respected.[citation needed]</td>\n",
       "      <td>What agreement commits countries to develop resources for biopiracy?</td>\n",
       "      <td>{'text': [], 'answer_start': []}</td>\n",
       "    </tr>\n",
       "  </tbody>\n",
       "</table>"
      ],
      "text/plain": [
       "<IPython.core.display.HTML object>"
      ]
     },
     "metadata": {},
     "output_type": "display_data"
    }
   ],
   "source": [
    "show_random_elements(datasets[\"train\"])"
   ]
  },
  {
   "cell_type": "markdown",
   "metadata": {
    "id": "n9qywopnIrJH"
   },
   "source": [
    "## 预处理数据"
   ]
  },
  {
   "cell_type": "code",
   "execution_count": 9,
   "metadata": {
    "execution": {
     "iopub.execute_input": "2024-06-12T03:17:11.770072Z",
     "iopub.status.busy": "2024-06-12T03:17:11.769878Z",
     "iopub.status.idle": "2024-06-12T03:17:12.599740Z",
     "shell.execute_reply": "2024-06-12T03:17:12.598669Z",
     "shell.execute_reply.started": "2024-06-12T03:17:11.770052Z"
    },
    "id": "eXNLu_-nIrJI"
   },
   "outputs": [],
   "source": [
    "from transformers import AutoTokenizer\n",
    "#记载分词器    \n",
    "tokenizer = AutoTokenizer.from_pretrained(model_checkpoint)"
   ]
  },
  {
   "cell_type": "markdown",
   "metadata": {
    "id": "Vl6IidfdIrJK"
   },
   "source": [
    "以下断言确保我们的 Tokenizers 使用的是 FastTokenizer（Rust 实现，速度和功能性上有一定优势）。"
   ]
  },
  {
   "cell_type": "code",
   "execution_count": 10,
   "metadata": {
    "execution": {
     "iopub.execute_input": "2024-06-12T03:17:12.603500Z",
     "iopub.status.busy": "2024-06-12T03:17:12.603224Z",
     "iopub.status.idle": "2024-06-12T03:17:12.610720Z",
     "shell.execute_reply": "2024-06-12T03:17:12.608831Z",
     "shell.execute_reply.started": "2024-06-12T03:17:12.603472Z"
    }
   },
   "outputs": [],
   "source": [
    "import transformers\n",
    "assert isinstance(tokenizer, transformers.PreTrainedTokenizerFast)"
   ]
  },
  {
   "cell_type": "markdown",
   "metadata": {},
   "source": [
    "您可以在大模型表上查看哪种类型的模型具有可用的快速标记器，哪种类型没有。\n",
    "\n",
    "您可以直接在两个句子上调用此标记器（一个用于答案，一个用于上下文）："
   ]
  },
  {
   "cell_type": "code",
   "execution_count": 11,
   "metadata": {
    "execution": {
     "iopub.execute_input": "2024-06-12T03:17:12.612261Z",
     "iopub.status.busy": "2024-06-12T03:17:12.611970Z",
     "iopub.status.idle": "2024-06-12T03:17:12.621342Z",
     "shell.execute_reply": "2024-06-12T03:17:12.620187Z",
     "shell.execute_reply.started": "2024-06-12T03:17:12.612235Z"
    },
    "id": "a5hBlsrHIrJL",
    "outputId": "acdaa98a-a8cd-4a20-89b8-cc26437bbe90"
   },
   "outputs": [
    {
     "data": {
      "text/plain": [
       "{'input_ids': [101, 2054, 2003, 2115, 2171, 1029, 102, 2026, 2171, 2003, 25353, 22144, 2378, 1012, 102], 'attention_mask': [1, 1, 1, 1, 1, 1, 1, 1, 1, 1, 1, 1, 1, 1, 1]}"
      ]
     },
     "execution_count": 11,
     "metadata": {},
     "output_type": "execute_result"
    }
   ],
   "source": [
    "tokenizer(\"What is your name?\", \"My name is Sylvain.\")"
   ]
  },
  {
   "cell_type": "code",
   "execution_count": 12,
   "metadata": {
    "execution": {
     "iopub.execute_input": "2024-06-12T03:17:12.622508Z",
     "iopub.status.busy": "2024-06-12T03:17:12.622271Z",
     "iopub.status.idle": "2024-06-12T03:17:12.627519Z",
     "shell.execute_reply": "2024-06-12T03:17:12.626628Z",
     "shell.execute_reply.started": "2024-06-12T03:17:12.622482Z"
    }
   },
   "outputs": [
    {
     "name": "stdout",
     "output_type": "stream",
     "text": [
      "['what', 'is', 'your', 'name', '?', 'my', 'name', 'is', 'sy', '##lva', '##in', '.']\n"
     ]
    }
   ],
   "source": [
    "#获取分词结果\n",
    "tokens = tokenizer.tokenize(\"What is your name?\", \"My name is Sylvain.\")\n",
    "\n",
    "print(tokens)"
   ]
  },
  {
   "cell_type": "code",
   "execution_count": 13,
   "metadata": {
    "execution": {
     "iopub.execute_input": "2024-06-12T03:17:12.628438Z",
     "iopub.status.busy": "2024-06-12T03:17:12.628203Z",
     "iopub.status.idle": "2024-06-12T03:17:12.634136Z",
     "shell.execute_reply": "2024-06-12T03:17:12.633263Z",
     "shell.execute_reply.started": "2024-06-12T03:17:12.628413Z"
    }
   },
   "outputs": [
    {
     "name": "stdout",
     "output_type": "stream",
     "text": [
      "[101, 2054, 2003, 2115, 2171, 1029, 102, 2026, 2171, 2003, 25353, 22144, 2378, 1012, 102]\n"
     ]
    }
   ],
   "source": [
    "# 获取编码结果\n",
    "tokens = tokenizer.encode(\"What is your name?\", \"My name is Sylvain.\")\n",
    "\n",
    "print(tokens)"
   ]
  },
  {
   "cell_type": "code",
   "execution_count": 14,
   "metadata": {
    "execution": {
     "iopub.execute_input": "2024-06-12T03:17:12.635270Z",
     "iopub.status.busy": "2024-06-12T03:17:12.635024Z",
     "iopub.status.idle": "2024-06-12T03:17:12.642437Z",
     "shell.execute_reply": "2024-06-12T03:17:12.641512Z",
     "shell.execute_reply.started": "2024-06-12T03:17:12.635244Z"
    }
   },
   "outputs": [
    {
     "data": {
      "text/plain": [
       "'[CLS] what is your name? [SEP] my name is sylvain. [SEP]'"
      ]
     },
     "execution_count": 14,
     "metadata": {},
     "output_type": "execute_result"
    }
   ],
   "source": [
    "#获取解码结果\n",
    "tokenizer.decode(tokenizer.encode(\"What is your name?\", \"My name is Sylvain.\"))"
   ]
  },
  {
   "cell_type": "markdown",
   "metadata": {},
   "source": [
    "### Tokenizer 进阶操作\n",
    "\n",
    "在问答预处理中的一个特定问题是如何处理非常长的文档。\n",
    "\n",
    "在其他任务中，当文档的长度超过模型最大句子长度时，我们通常会截断它们，但在这里，删除上下文的一部分可能会导致我们丢失正在寻找的答案。\n",
    "\n",
    "为了解决这个问题，我们允许数据集中的一个（长）示例生成多个输入特征，每个特征的长度都小于模型的最大长度（或我们设置的超参数）。"
   ]
  },
  {
   "cell_type": "code",
   "execution_count": 15,
   "metadata": {
    "execution": {
     "iopub.execute_input": "2024-06-12T03:17:12.643515Z",
     "iopub.status.busy": "2024-06-12T03:17:12.643281Z",
     "iopub.status.idle": "2024-06-12T03:17:12.647081Z",
     "shell.execute_reply": "2024-06-12T03:17:12.646365Z",
     "shell.execute_reply.started": "2024-06-12T03:17:12.643491Z"
    }
   },
   "outputs": [],
   "source": [
    "# The maximum length of a feature (question and context)\n",
    "max_length = 384 \n",
    "# The authorized overlap between two part of the context when splitting it is needed.\n",
    "doc_stride = 128 "
   ]
  },
  {
   "cell_type": "markdown",
   "metadata": {},
   "source": [
    "#### 超出最大长度的文本数据处理\n",
    "\n",
    "下面，我们从训练集中找出一个超过最大长度（384）的文本："
   ]
  },
  {
   "cell_type": "code",
   "execution_count": 16,
   "metadata": {
    "execution": {
     "iopub.execute_input": "2024-06-12T03:17:12.648180Z",
     "iopub.status.busy": "2024-06-12T03:17:12.647947Z",
     "iopub.status.idle": "2024-06-12T03:17:12.811391Z",
     "shell.execute_reply": "2024-06-12T03:17:12.810601Z",
     "shell.execute_reply.started": "2024-06-12T03:17:12.648157Z"
    }
   },
   "outputs": [],
   "source": [
    "for i, example in enumerate(datasets[\"train\"]):\n",
    "    if len(tokenizer(example[\"question\"], example[\"context\"])[\"input_ids\"]) > 384:\n",
    "        break\n",
    "# 挑选出来超过384（最大长度）的数据样例\n",
    "example = datasets[\"train\"][i]"
   ]
  },
  {
   "cell_type": "code",
   "execution_count": 17,
   "metadata": {
    "execution": {
     "iopub.execute_input": "2024-06-12T03:17:12.812503Z",
     "iopub.status.busy": "2024-06-12T03:17:12.812300Z",
     "iopub.status.idle": "2024-06-12T03:17:12.817718Z",
     "shell.execute_reply": "2024-06-12T03:17:12.817003Z",
     "shell.execute_reply.started": "2024-06-12T03:17:12.812484Z"
    }
   },
   "outputs": [
    {
     "data": {
      "text/plain": [
       "('Beyonce got married in 2008 to whom?',\n",
       " 'On April 4, 2008, Beyoncé married Jay Z. She publicly revealed their marriage in a video montage at the listening party for her third studio album, I Am... Sasha Fierce, in Manhattan\\'s Sony Club on October 22, 2008. I Am... Sasha Fierce was released on November 18, 2008 in the United States. The album formally introduces Beyoncé\\'s alter ego Sasha Fierce, conceived during the making of her 2003 single \"Crazy in Love\", selling 482,000 copies in its first week, debuting atop the Billboard 200, and giving Beyoncé her third consecutive number-one album in the US. The album featured the number-one song \"Single Ladies (Put a Ring on It)\" and the top-five songs \"If I Were a Boy\" and \"Halo\". Achieving the accomplishment of becoming her longest-running Hot 100 single in her career, \"Halo\"\\'s success in the US helped Beyoncé attain more top-ten singles on the list than any other woman during the 2000s. It also included the successful \"Sweet Dreams\", and singles \"Diva\", \"Ego\", \"Broken-Hearted Girl\" and \"Video Phone\". The music video for \"Single Ladies\" has been parodied and imitated around the world, spawning the \"first major dance craze\" of the Internet age according to the Toronto Star. The video has won several awards, including Best Video at the 2009 MTV Europe Music Awards, the 2009 Scottish MOBO Awards, and the 2009 BET Awards. At the 2009 MTV Video Music Awards, the video was nominated for nine awards, ultimately winning three including Video of the Year. Its failure to win the Best Female Video category, which went to American country pop singer Taylor Swift\\'s \"You Belong with Me\", led to Kanye West interrupting the ceremony and Beyoncé improvising a re-presentation of Swift\\'s award during her own acceptance speech. In March 2009, Beyoncé embarked on the I Am... World Tour, her second headlining worldwide concert tour, consisting of 108 shows, grossing $119.5 million.')"
      ]
     },
     "execution_count": 17,
     "metadata": {},
     "output_type": "execute_result"
    }
   ],
   "source": [
    "example[\"question\"], example[\"context\"]"
   ]
  },
  {
   "cell_type": "code",
   "execution_count": 18,
   "metadata": {
    "execution": {
     "iopub.execute_input": "2024-06-12T03:17:12.818698Z",
     "iopub.status.busy": "2024-06-12T03:17:12.818508Z",
     "iopub.status.idle": "2024-06-12T03:17:12.824174Z",
     "shell.execute_reply": "2024-06-12T03:17:12.823485Z",
     "shell.execute_reply.started": "2024-06-12T03:17:12.818678Z"
    }
   },
   "outputs": [
    {
     "data": {
      "text/plain": [
       "437"
      ]
     },
     "execution_count": 18,
     "metadata": {},
     "output_type": "execute_result"
    }
   ],
   "source": [
    "len(tokenizer(example[\"question\"], example[\"context\"])[\"input_ids\"])"
   ]
  },
  {
   "cell_type": "markdown",
   "metadata": {},
   "source": [
    "#### 截断上下文不保留超出部分"
   ]
  },
  {
   "cell_type": "code",
   "execution_count": 19,
   "metadata": {
    "execution": {
     "iopub.execute_input": "2024-06-12T03:17:12.825154Z",
     "iopub.status.busy": "2024-06-12T03:17:12.824960Z",
     "iopub.status.idle": "2024-06-12T03:17:12.830740Z",
     "shell.execute_reply": "2024-06-12T03:17:12.830051Z",
     "shell.execute_reply.started": "2024-06-12T03:17:12.825134Z"
    }
   },
   "outputs": [
    {
     "data": {
      "text/plain": [
       "384"
      ]
     },
     "execution_count": 19,
     "metadata": {},
     "output_type": "execute_result"
    }
   ],
   "source": [
    "len(tokenizer(example[\"question\"],\n",
    "              example[\"context\"],\n",
    "              max_length=max_length,\n",
    "              truncation=\"only_second\")[\"input_ids\"])"
   ]
  },
  {
   "cell_type": "markdown",
   "metadata": {},
   "source": [
    "#### 关于截断的策略\n",
    "\n",
    "- 直接截断超出部分: truncation=`only_second`\n",
    "- 仅截断上下文（context），保留问题（question）：`return_overflowing_tokens=True` & 设置`stride`\n",
    "- longest_first: 从最长的序列开始截断（默认策略）。\n",
    "  only_first: 仅截断第一个序列。\n",
    "  only_second: 仅截断第二个序列。\n",
    "  do_not_truncate: 不截断。\n"
   ]
  },
  {
   "cell_type": "code",
   "execution_count": 20,
   "metadata": {
    "execution": {
     "iopub.execute_input": "2024-06-12T03:17:12.831750Z",
     "iopub.status.busy": "2024-06-12T03:17:12.831545Z",
     "iopub.status.idle": "2024-06-12T03:17:12.837231Z",
     "shell.execute_reply": "2024-06-12T03:17:12.836117Z",
     "shell.execute_reply.started": "2024-06-12T03:17:12.831730Z"
    }
   },
   "outputs": [],
   "source": [
    "tokenized_example = tokenizer(\n",
    "    example[\"question\"],              # 输入的第一个文本：问题\n",
    "    example[\"context\"],               # 输入的第二个文本：上下文\n",
    "    max_length=max_length,            # 最大长度：编码后的输入序列的最大长度\n",
    "    truncation=\"only_second\",         # 截断策略：仅截断第二个文本（上下文）\n",
    "    return_overflowing_tokens=True,   # 返回溢出的标记：如果文本长度超过最大长度，将返回溢出的部分\n",
    "    stride=doc_stride                 # 跨步：在处理溢出标记时的跨步长度\n",
    ")\n"
   ]
  },
  {
   "cell_type": "markdown",
   "metadata": {},
   "source": [
    "使用此策略截断后，Tokenizer 将返回多个 `input_ids` 列表。"
   ]
  },
  {
   "cell_type": "code",
   "execution_count": 21,
   "metadata": {
    "execution": {
     "iopub.execute_input": "2024-06-12T03:17:12.838146Z",
     "iopub.status.busy": "2024-06-12T03:17:12.837954Z",
     "iopub.status.idle": "2024-06-12T03:17:12.843155Z",
     "shell.execute_reply": "2024-06-12T03:17:12.842472Z",
     "shell.execute_reply.started": "2024-06-12T03:17:12.838125Z"
    }
   },
   "outputs": [
    {
     "data": {
      "text/plain": [
       "[384, 192]"
      ]
     },
     "execution_count": 21,
     "metadata": {},
     "output_type": "execute_result"
    }
   ],
   "source": [
    "[len(x) for x in tokenized_example[\"input_ids\"]]"
   ]
  },
  {
   "cell_type": "code",
   "execution_count": 22,
   "metadata": {
    "execution": {
     "iopub.execute_input": "2024-06-12T03:17:12.844070Z",
     "iopub.status.busy": "2024-06-12T03:17:12.843872Z",
     "iopub.status.idle": "2024-06-12T03:17:12.853513Z",
     "shell.execute_reply": "2024-06-12T03:17:12.852842Z",
     "shell.execute_reply.started": "2024-06-12T03:17:12.844050Z"
    }
   },
   "outputs": [
    {
     "data": {
      "text/plain": [
       "[[101,\n",
       "  20773,\n",
       "  2288,\n",
       "  2496,\n",
       "  1999,\n",
       "  2263,\n",
       "  2000,\n",
       "  3183,\n",
       "  1029,\n",
       "  102,\n",
       "  2006,\n",
       "  2258,\n",
       "  1018,\n",
       "  1010,\n",
       "  2263,\n",
       "  1010,\n",
       "  20773,\n",
       "  2496,\n",
       "  6108,\n",
       "  1062,\n",
       "  1012,\n",
       "  2016,\n",
       "  7271,\n",
       "  3936,\n",
       "  2037,\n",
       "  3510,\n",
       "  1999,\n",
       "  1037,\n",
       "  2678,\n",
       "  18318,\n",
       "  4270,\n",
       "  2012,\n",
       "  1996,\n",
       "  5962,\n",
       "  2283,\n",
       "  2005,\n",
       "  2014,\n",
       "  2353,\n",
       "  2996,\n",
       "  2201,\n",
       "  1010,\n",
       "  1045,\n",
       "  2572,\n",
       "  1012,\n",
       "  1012,\n",
       "  1012,\n",
       "  14673,\n",
       "  9205,\n",
       "  1010,\n",
       "  1999,\n",
       "  7128,\n",
       "  1005,\n",
       "  1055,\n",
       "  8412,\n",
       "  2252,\n",
       "  2006,\n",
       "  2255,\n",
       "  2570,\n",
       "  1010,\n",
       "  2263,\n",
       "  1012,\n",
       "  1045,\n",
       "  2572,\n",
       "  1012,\n",
       "  1012,\n",
       "  1012,\n",
       "  14673,\n",
       "  9205,\n",
       "  2001,\n",
       "  2207,\n",
       "  2006,\n",
       "  2281,\n",
       "  2324,\n",
       "  1010,\n",
       "  2263,\n",
       "  1999,\n",
       "  1996,\n",
       "  2142,\n",
       "  2163,\n",
       "  1012,\n",
       "  1996,\n",
       "  2201,\n",
       "  6246,\n",
       "  13999,\n",
       "  20773,\n",
       "  1005,\n",
       "  1055,\n",
       "  11477,\n",
       "  13059,\n",
       "  14673,\n",
       "  9205,\n",
       "  1010,\n",
       "  10141,\n",
       "  2076,\n",
       "  1996,\n",
       "  2437,\n",
       "  1997,\n",
       "  2014,\n",
       "  2494,\n",
       "  2309,\n",
       "  1000,\n",
       "  4689,\n",
       "  1999,\n",
       "  2293,\n",
       "  1000,\n",
       "  1010,\n",
       "  4855,\n",
       "  4466,\n",
       "  2475,\n",
       "  1010,\n",
       "  2199,\n",
       "  4809,\n",
       "  1999,\n",
       "  2049,\n",
       "  2034,\n",
       "  2733,\n",
       "  1010,\n",
       "  24469,\n",
       "  10234,\n",
       "  1996,\n",
       "  4908,\n",
       "  3263,\n",
       "  1010,\n",
       "  1998,\n",
       "  3228,\n",
       "  20773,\n",
       "  2014,\n",
       "  2353,\n",
       "  5486,\n",
       "  2193,\n",
       "  1011,\n",
       "  2028,\n",
       "  2201,\n",
       "  1999,\n",
       "  1996,\n",
       "  2149,\n",
       "  1012,\n",
       "  1996,\n",
       "  2201,\n",
       "  2956,\n",
       "  1996,\n",
       "  2193,\n",
       "  1011,\n",
       "  2028,\n",
       "  2299,\n",
       "  1000,\n",
       "  2309,\n",
       "  6456,\n",
       "  1006,\n",
       "  2404,\n",
       "  1037,\n",
       "  3614,\n",
       "  2006,\n",
       "  2009,\n",
       "  1007,\n",
       "  1000,\n",
       "  1998,\n",
       "  1996,\n",
       "  2327,\n",
       "  1011,\n",
       "  2274,\n",
       "  2774,\n",
       "  1000,\n",
       "  2065,\n",
       "  1045,\n",
       "  2020,\n",
       "  1037,\n",
       "  2879,\n",
       "  1000,\n",
       "  1998,\n",
       "  1000,\n",
       "  17201,\n",
       "  1000,\n",
       "  1012,\n",
       "  10910,\n",
       "  1996,\n",
       "  24718,\n",
       "  1997,\n",
       "  3352,\n",
       "  2014,\n",
       "  6493,\n",
       "  1011,\n",
       "  2770,\n",
       "  2980,\n",
       "  2531,\n",
       "  2309,\n",
       "  1999,\n",
       "  2014,\n",
       "  2476,\n",
       "  1010,\n",
       "  1000,\n",
       "  17201,\n",
       "  1000,\n",
       "  1005,\n",
       "  1055,\n",
       "  3112,\n",
       "  1999,\n",
       "  1996,\n",
       "  2149,\n",
       "  3271,\n",
       "  20773,\n",
       "  18759,\n",
       "  2062,\n",
       "  2327,\n",
       "  1011,\n",
       "  2702,\n",
       "  3895,\n",
       "  2006,\n",
       "  1996,\n",
       "  2862,\n",
       "  2084,\n",
       "  2151,\n",
       "  2060,\n",
       "  2450,\n",
       "  2076,\n",
       "  1996,\n",
       "  8876,\n",
       "  1012,\n",
       "  2009,\n",
       "  2036,\n",
       "  2443,\n",
       "  1996,\n",
       "  3144,\n",
       "  1000,\n",
       "  4086,\n",
       "  5544,\n",
       "  1000,\n",
       "  1010,\n",
       "  1998,\n",
       "  3895,\n",
       "  1000,\n",
       "  25992,\n",
       "  1000,\n",
       "  1010,\n",
       "  1000,\n",
       "  13059,\n",
       "  1000,\n",
       "  1010,\n",
       "  1000,\n",
       "  3714,\n",
       "  1011,\n",
       "  18627,\n",
       "  2611,\n",
       "  1000,\n",
       "  1998,\n",
       "  1000,\n",
       "  2678,\n",
       "  3042,\n",
       "  1000,\n",
       "  1012,\n",
       "  1996,\n",
       "  2189,\n",
       "  2678,\n",
       "  2005,\n",
       "  1000,\n",
       "  2309,\n",
       "  6456,\n",
       "  1000,\n",
       "  2038,\n",
       "  2042,\n",
       "  11968,\n",
       "  7716,\n",
       "  6340,\n",
       "  1998,\n",
       "  10047,\n",
       "  15198,\n",
       "  2105,\n",
       "  1996,\n",
       "  2088,\n",
       "  1010,\n",
       "  27957,\n",
       "  1996,\n",
       "  1000,\n",
       "  2034,\n",
       "  2350,\n",
       "  3153,\n",
       "  13675,\n",
       "  10936,\n",
       "  2063,\n",
       "  1000,\n",
       "  1997,\n",
       "  1996,\n",
       "  4274,\n",
       "  2287,\n",
       "  2429,\n",
       "  2000,\n",
       "  1996,\n",
       "  4361,\n",
       "  2732,\n",
       "  1012,\n",
       "  1996,\n",
       "  2678,\n",
       "  2038,\n",
       "  2180,\n",
       "  2195,\n",
       "  2982,\n",
       "  1010,\n",
       "  2164,\n",
       "  2190,\n",
       "  2678,\n",
       "  2012,\n",
       "  1996,\n",
       "  2268,\n",
       "  8692,\n",
       "  2885,\n",
       "  2189,\n",
       "  2982,\n",
       "  1010,\n",
       "  1996,\n",
       "  2268,\n",
       "  4104,\n",
       "  11240,\n",
       "  2080,\n",
       "  2982,\n",
       "  1010,\n",
       "  1998,\n",
       "  1996,\n",
       "  2268,\n",
       "  6655,\n",
       "  2982,\n",
       "  1012,\n",
       "  2012,\n",
       "  1996,\n",
       "  2268,\n",
       "  8692,\n",
       "  2678,\n",
       "  2189,\n",
       "  2982,\n",
       "  1010,\n",
       "  1996,\n",
       "  2678,\n",
       "  2001,\n",
       "  4222,\n",
       "  2005,\n",
       "  3157,\n",
       "  2982,\n",
       "  1010,\n",
       "  4821,\n",
       "  3045,\n",
       "  2093,\n",
       "  2164,\n",
       "  2678,\n",
       "  1997,\n",
       "  1996,\n",
       "  2095,\n",
       "  1012,\n",
       "  2049,\n",
       "  4945,\n",
       "  2000,\n",
       "  2663,\n",
       "  1996,\n",
       "  2190,\n",
       "  2931,\n",
       "  2678,\n",
       "  4696,\n",
       "  1010,\n",
       "  2029,\n",
       "  2253,\n",
       "  2000,\n",
       "  2137,\n",
       "  2406,\n",
       "  3769,\n",
       "  3220,\n",
       "  4202,\n",
       "  9170,\n",
       "  1005,\n",
       "  1055,\n",
       "  1000,\n",
       "  2017,\n",
       "  7141,\n",
       "  2007,\n",
       "  2033,\n",
       "  1000,\n",
       "  1010,\n",
       "  2419,\n",
       "  2000,\n",
       "  29270,\n",
       "  2225,\n",
       "  22602,\n",
       "  1996,\n",
       "  5103,\n",
       "  1998,\n",
       "  20773,\n",
       "  102],\n",
       " [101,\n",
       "  20773,\n",
       "  2288,\n",
       "  2496,\n",
       "  1999,\n",
       "  2263,\n",
       "  2000,\n",
       "  3183,\n",
       "  1029,\n",
       "  102,\n",
       "  2309,\n",
       "  6456,\n",
       "  1000,\n",
       "  2038,\n",
       "  2042,\n",
       "  11968,\n",
       "  7716,\n",
       "  6340,\n",
       "  1998,\n",
       "  10047,\n",
       "  15198,\n",
       "  2105,\n",
       "  1996,\n",
       "  2088,\n",
       "  1010,\n",
       "  27957,\n",
       "  1996,\n",
       "  1000,\n",
       "  2034,\n",
       "  2350,\n",
       "  3153,\n",
       "  13675,\n",
       "  10936,\n",
       "  2063,\n",
       "  1000,\n",
       "  1997,\n",
       "  1996,\n",
       "  4274,\n",
       "  2287,\n",
       "  2429,\n",
       "  2000,\n",
       "  1996,\n",
       "  4361,\n",
       "  2732,\n",
       "  1012,\n",
       "  1996,\n",
       "  2678,\n",
       "  2038,\n",
       "  2180,\n",
       "  2195,\n",
       "  2982,\n",
       "  1010,\n",
       "  2164,\n",
       "  2190,\n",
       "  2678,\n",
       "  2012,\n",
       "  1996,\n",
       "  2268,\n",
       "  8692,\n",
       "  2885,\n",
       "  2189,\n",
       "  2982,\n",
       "  1010,\n",
       "  1996,\n",
       "  2268,\n",
       "  4104,\n",
       "  11240,\n",
       "  2080,\n",
       "  2982,\n",
       "  1010,\n",
       "  1998,\n",
       "  1996,\n",
       "  2268,\n",
       "  6655,\n",
       "  2982,\n",
       "  1012,\n",
       "  2012,\n",
       "  1996,\n",
       "  2268,\n",
       "  8692,\n",
       "  2678,\n",
       "  2189,\n",
       "  2982,\n",
       "  1010,\n",
       "  1996,\n",
       "  2678,\n",
       "  2001,\n",
       "  4222,\n",
       "  2005,\n",
       "  3157,\n",
       "  2982,\n",
       "  1010,\n",
       "  4821,\n",
       "  3045,\n",
       "  2093,\n",
       "  2164,\n",
       "  2678,\n",
       "  1997,\n",
       "  1996,\n",
       "  2095,\n",
       "  1012,\n",
       "  2049,\n",
       "  4945,\n",
       "  2000,\n",
       "  2663,\n",
       "  1996,\n",
       "  2190,\n",
       "  2931,\n",
       "  2678,\n",
       "  4696,\n",
       "  1010,\n",
       "  2029,\n",
       "  2253,\n",
       "  2000,\n",
       "  2137,\n",
       "  2406,\n",
       "  3769,\n",
       "  3220,\n",
       "  4202,\n",
       "  9170,\n",
       "  1005,\n",
       "  1055,\n",
       "  1000,\n",
       "  2017,\n",
       "  7141,\n",
       "  2007,\n",
       "  2033,\n",
       "  1000,\n",
       "  1010,\n",
       "  2419,\n",
       "  2000,\n",
       "  29270,\n",
       "  2225,\n",
       "  22602,\n",
       "  1996,\n",
       "  5103,\n",
       "  1998,\n",
       "  20773,\n",
       "  17727,\n",
       "  12298,\n",
       "  9355,\n",
       "  1037,\n",
       "  2128,\n",
       "  1011,\n",
       "  8312,\n",
       "  1997,\n",
       "  9170,\n",
       "  1005,\n",
       "  1055,\n",
       "  2400,\n",
       "  2076,\n",
       "  2014,\n",
       "  2219,\n",
       "  9920,\n",
       "  4613,\n",
       "  1012,\n",
       "  1999,\n",
       "  2233,\n",
       "  2268,\n",
       "  1010,\n",
       "  20773,\n",
       "  11299,\n",
       "  2006,\n",
       "  1996,\n",
       "  1045,\n",
       "  2572,\n",
       "  1012,\n",
       "  1012,\n",
       "  1012,\n",
       "  2088,\n",
       "  2778,\n",
       "  1010,\n",
       "  2014,\n",
       "  2117,\n",
       "  26533,\n",
       "  4969,\n",
       "  4164,\n",
       "  2778,\n",
       "  1010,\n",
       "  5398,\n",
       "  1997,\n",
       "  10715,\n",
       "  3065,\n",
       "  1010,\n",
       "  18244,\n",
       "  1002,\n",
       "  13285,\n",
       "  1012,\n",
       "  1019,\n",
       "  2454,\n",
       "  1012,\n",
       "  102]]"
      ]
     },
     "execution_count": 22,
     "metadata": {},
     "output_type": "execute_result"
    }
   ],
   "source": [
    "tokenized_example[\"input_ids\"]"
   ]
  },
  {
   "cell_type": "code",
   "execution_count": 23,
   "metadata": {
    "execution": {
     "iopub.execute_input": "2024-06-12T03:17:12.854247Z",
     "iopub.status.busy": "2024-06-12T03:17:12.854067Z",
     "iopub.status.idle": "2024-06-12T03:17:12.862018Z",
     "shell.execute_reply": "2024-06-12T03:17:12.861311Z",
     "shell.execute_reply.started": "2024-06-12T03:17:12.854228Z"
    }
   },
   "outputs": [
    {
     "data": {
      "text/plain": [
       "'[CLS] beyonce got married in 2008 to whom? [SEP] on april 4, 2008, beyonce married jay z. she publicly revealed their marriage in a video montage at the listening party for her third studio album, i am... sasha fierce, in manhattan\\'s sony club on october 22, 2008. i am... sasha fierce was released on november 18, 2008 in the united states. the album formally introduces beyonce\\'s alter ego sasha fierce, conceived during the making of her 2003 single \" crazy in love \", selling 482, 000 copies in its first week, debuting atop the billboard 200, and giving beyonce her third consecutive number - one album in the us. the album featured the number - one song \" single ladies ( put a ring on it ) \" and the top - five songs \" if i were a boy \" and \" halo \". achieving the accomplishment of becoming her longest - running hot 100 single in her career, \" halo \"\\'s success in the us helped beyonce attain more top - ten singles on the list than any other woman during the 2000s. it also included the successful \" sweet dreams \", and singles \" diva \", \" ego \", \" broken - hearted girl \" and \" video phone \". the music video for \" single ladies \" has been parodied and imitated around the world, spawning the \" first major dance craze \" of the internet age according to the toronto star. the video has won several awards, including best video at the 2009 mtv europe music awards, the 2009 scottish mobo awards, and the 2009 bet awards. at the 2009 mtv video music awards, the video was nominated for nine awards, ultimately winning three including video of the year. its failure to win the best female video category, which went to american country pop singer taylor swift\\'s \" you belong with me \", led to kanye west interrupting the ceremony and beyonce [SEP]'"
      ]
     },
     "execution_count": 23,
     "metadata": {},
     "output_type": "execute_result"
    }
   ],
   "source": [
    "tokenizer.decode( tokenized_example[\"input_ids\"][0])"
   ]
  },
  {
   "cell_type": "markdown",
   "metadata": {},
   "source": [
    "解码两个输入特征，可以看到重叠的部分："
   ]
  },
  {
   "cell_type": "code",
   "execution_count": 24,
   "metadata": {
    "execution": {
     "iopub.execute_input": "2024-06-12T03:17:12.863154Z",
     "iopub.status.busy": "2024-06-12T03:17:12.862933Z",
     "iopub.status.idle": "2024-06-12T03:17:12.872265Z",
     "shell.execute_reply": "2024-06-12T03:17:12.871519Z",
     "shell.execute_reply.started": "2024-06-12T03:17:12.863133Z"
    }
   },
   "outputs": [
    {
     "name": "stdout",
     "output_type": "stream",
     "text": [
      "[CLS] beyonce got married in 2008 to whom? [SEP] on april 4, 2008, beyonce married jay z. she publicly revealed their marriage in a video montage at the listening party for her third studio album, i am... sasha fierce, in manhattan's sony club on october 22, 2008. i am... sasha fierce was released on november 18, 2008 in the united states. the album formally introduces beyonce's alter ego sasha fierce, conceived during the making of her 2003 single \" crazy in love \", selling 482, 000 copies in its first week, debuting atop the billboard 200, and giving beyonce her third consecutive number - one album in the us. the album featured the number - one song \" single ladies ( put a ring on it ) \" and the top - five songs \" if i were a boy \" and \" halo \". achieving the accomplishment of becoming her longest - running hot 100 single in her career, \" halo \"'s success in the us helped beyonce attain more top - ten singles on the list than any other woman during the 2000s. it also included the successful \" sweet dreams \", and singles \" diva \", \" ego \", \" broken - hearted girl \" and \" video phone \". the music video for \" single ladies \" has been parodied and imitated around the world, spawning the \" first major dance craze \" of the internet age according to the toronto star. the video has won several awards, including best video at the 2009 mtv europe music awards, the 2009 scottish mobo awards, and the 2009 bet awards. at the 2009 mtv video music awards, the video was nominated for nine awards, ultimately winning three including video of the year. its failure to win the best female video category, which went to american country pop singer taylor swift's \" you belong with me \", led to kanye west interrupting the ceremony and beyonce [SEP]\n",
      "[CLS] beyonce got married in 2008 to whom? [SEP] single ladies \" has been parodied and imitated around the world, spawning the \" first major dance craze \" of the internet age according to the toronto star. the video has won several awards, including best video at the 2009 mtv europe music awards, the 2009 scottish mobo awards, and the 2009 bet awards. at the 2009 mtv video music awards, the video was nominated for nine awards, ultimately winning three including video of the year. its failure to win the best female video category, which went to american country pop singer taylor swift's \" you belong with me \", led to kanye west interrupting the ceremony and beyonce improvising a re - presentation of swift's award during her own acceptance speech. in march 2009, beyonce embarked on the i am... world tour, her second headlining worldwide concert tour, consisting of 108 shows, grossing $ 119. 5 million. [SEP]\n"
     ]
    }
   ],
   "source": [
    "for x in tokenized_example[\"input_ids\"][:2]:\n",
    "    print(tokenizer.decode(x))"
   ]
  },
  {
   "cell_type": "markdown",
   "metadata": {},
   "source": [
    "#### 使用 offsets_mapping 获取原始的 input_ids\n",
    "\n",
    "设置 `return_offsets_mapping=True`，将使得截断分割生成的多个 input_ids 列表中的 token，通过映射保留原始文本的 input_ids。\n",
    "\n",
    "如下所示：第一个标记（[CLS]）的起始和结束字符都是（0, 0），因为它不对应问题/答案的任何部分，然后第二个标记与问题(question)的字符0到3相同."
   ]
  },
  {
   "cell_type": "code",
   "execution_count": 25,
   "metadata": {
    "execution": {
     "iopub.execute_input": "2024-06-12T03:17:12.873370Z",
     "iopub.status.busy": "2024-06-12T03:17:12.873141Z",
     "iopub.status.idle": "2024-06-12T03:17:12.879563Z",
     "shell.execute_reply": "2024-06-12T03:17:12.878807Z",
     "shell.execute_reply.started": "2024-06-12T03:17:12.873348Z"
    }
   },
   "outputs": [
    {
     "name": "stdout",
     "output_type": "stream",
     "text": [
      "[(0, 0), (0, 7), (8, 11), (12, 19), (20, 22), (23, 27), (28, 30), (31, 35), (35, 36), (0, 0), (0, 2), (3, 8), (9, 10), (10, 11), (12, 16), (16, 17), (18, 25), (26, 33), (34, 37), (38, 39), (39, 40), (41, 44), (45, 53), (54, 62), (63, 68), (69, 77), (78, 80), (81, 82), (83, 88), (89, 93), (93, 96), (97, 99), (100, 103), (104, 113), (114, 119), (120, 123), (124, 127), (128, 133), (134, 140), (141, 146), (146, 147), (148, 149), (150, 152), (152, 153), (153, 154), (154, 155), (156, 161), (162, 168), (168, 169), (170, 172), (173, 182), (182, 183), (183, 184), (185, 189), (190, 194), (195, 197), (198, 205), (206, 208), (208, 209), (210, 214), (214, 215), (216, 217), (218, 220), (220, 221), (221, 222), (222, 223), (224, 229), (230, 236), (237, 240), (241, 249), (250, 252), (253, 261), (262, 264), (264, 265), (266, 270), (271, 273), (274, 277), (278, 284), (285, 291), (291, 292), (293, 296), (297, 302), (303, 311), (312, 322), (323, 330), (330, 331), (331, 332), (333, 338), (339, 342), (343, 348), (349, 355), (355, 356), (357, 366), (367, 373), (374, 377), (378, 384), (385, 387), (388, 391), (392, 396), (397, 403)]\n"
     ]
    }
   ],
   "source": [
    "tokenized_example = tokenizer(\n",
    "    example[\"question\"],              # 输入的第一个文本：问题\n",
    "    example[\"context\"],               # 输入的第二个文本：上下文\n",
    "    max_length=max_length,            # 最大长度：编码后的输入序列的最大长度\n",
    "    truncation=\"only_second\",         # 截断策略：仅截断第二个文本（上下文）\n",
    "    return_overflowing_tokens=True,   # 返回溢出的标记：如果文本长度超过最大长度，将返回溢出的部分\n",
    "    return_offsets_mapping=True,      # 返回偏移映射：用于确定标记在原始文本中的位置\n",
    "    stride=doc_stride                 # 跨步：在处理溢出标记时的跨步长度\n",
    ")\n",
    "\n",
    "print(tokenized_example[\"offset_mapping\"][0][:100])  # 打印前100个偏移映射\n"
   ]
  },
  {
   "cell_type": "code",
   "execution_count": 26,
   "metadata": {
    "execution": {
     "iopub.execute_input": "2024-06-12T03:17:12.880655Z",
     "iopub.status.busy": "2024-06-12T03:17:12.880436Z",
     "iopub.status.idle": "2024-06-12T03:17:12.901150Z",
     "shell.execute_reply": "2024-06-12T03:17:12.900485Z",
     "shell.execute_reply.started": "2024-06-12T03:17:12.880633Z"
    }
   },
   "outputs": [
    {
     "data": {
      "text/plain": [
       "[[(0, 0),\n",
       "  (0, 7),\n",
       "  (8, 11),\n",
       "  (12, 19),\n",
       "  (20, 22),\n",
       "  (23, 27),\n",
       "  (28, 30),\n",
       "  (31, 35),\n",
       "  (35, 36),\n",
       "  (0, 0),\n",
       "  (0, 2),\n",
       "  (3, 8),\n",
       "  (9, 10),\n",
       "  (10, 11),\n",
       "  (12, 16),\n",
       "  (16, 17),\n",
       "  (18, 25),\n",
       "  (26, 33),\n",
       "  (34, 37),\n",
       "  (38, 39),\n",
       "  (39, 40),\n",
       "  (41, 44),\n",
       "  (45, 53),\n",
       "  (54, 62),\n",
       "  (63, 68),\n",
       "  (69, 77),\n",
       "  (78, 80),\n",
       "  (81, 82),\n",
       "  (83, 88),\n",
       "  (89, 93),\n",
       "  (93, 96),\n",
       "  (97, 99),\n",
       "  (100, 103),\n",
       "  (104, 113),\n",
       "  (114, 119),\n",
       "  (120, 123),\n",
       "  (124, 127),\n",
       "  (128, 133),\n",
       "  (134, 140),\n",
       "  (141, 146),\n",
       "  (146, 147),\n",
       "  (148, 149),\n",
       "  (150, 152),\n",
       "  (152, 153),\n",
       "  (153, 154),\n",
       "  (154, 155),\n",
       "  (156, 161),\n",
       "  (162, 168),\n",
       "  (168, 169),\n",
       "  (170, 172),\n",
       "  (173, 182),\n",
       "  (182, 183),\n",
       "  (183, 184),\n",
       "  (185, 189),\n",
       "  (190, 194),\n",
       "  (195, 197),\n",
       "  (198, 205),\n",
       "  (206, 208),\n",
       "  (208, 209),\n",
       "  (210, 214),\n",
       "  (214, 215),\n",
       "  (216, 217),\n",
       "  (218, 220),\n",
       "  (220, 221),\n",
       "  (221, 222),\n",
       "  (222, 223),\n",
       "  (224, 229),\n",
       "  (230, 236),\n",
       "  (237, 240),\n",
       "  (241, 249),\n",
       "  (250, 252),\n",
       "  (253, 261),\n",
       "  (262, 264),\n",
       "  (264, 265),\n",
       "  (266, 270),\n",
       "  (271, 273),\n",
       "  (274, 277),\n",
       "  (278, 284),\n",
       "  (285, 291),\n",
       "  (291, 292),\n",
       "  (293, 296),\n",
       "  (297, 302),\n",
       "  (303, 311),\n",
       "  (312, 322),\n",
       "  (323, 330),\n",
       "  (330, 331),\n",
       "  (331, 332),\n",
       "  (333, 338),\n",
       "  (339, 342),\n",
       "  (343, 348),\n",
       "  (349, 355),\n",
       "  (355, 356),\n",
       "  (357, 366),\n",
       "  (367, 373),\n",
       "  (374, 377),\n",
       "  (378, 384),\n",
       "  (385, 387),\n",
       "  (388, 391),\n",
       "  (392, 396),\n",
       "  (397, 403),\n",
       "  (404, 405),\n",
       "  (405, 410),\n",
       "  (411, 413),\n",
       "  (414, 418),\n",
       "  (418, 419),\n",
       "  (419, 420),\n",
       "  (421, 428),\n",
       "  (429, 431),\n",
       "  (431, 432),\n",
       "  (432, 433),\n",
       "  (433, 436),\n",
       "  (437, 443),\n",
       "  (444, 446),\n",
       "  (447, 450),\n",
       "  (451, 456),\n",
       "  (457, 461),\n",
       "  (461, 462),\n",
       "  (463, 471),\n",
       "  (472, 476),\n",
       "  (477, 480),\n",
       "  (481, 490),\n",
       "  (491, 494),\n",
       "  (494, 495),\n",
       "  (496, 499),\n",
       "  (500, 506),\n",
       "  (507, 514),\n",
       "  (515, 518),\n",
       "  (519, 524),\n",
       "  (525, 536),\n",
       "  (537, 543),\n",
       "  (543, 544),\n",
       "  (544, 547),\n",
       "  (548, 553),\n",
       "  (554, 556),\n",
       "  (557, 560),\n",
       "  (561, 563),\n",
       "  (563, 564),\n",
       "  (565, 568),\n",
       "  (569, 574),\n",
       "  (575, 583),\n",
       "  (584, 587),\n",
       "  (588, 594),\n",
       "  (594, 595),\n",
       "  (595, 598),\n",
       "  (599, 603),\n",
       "  (604, 605),\n",
       "  (605, 611),\n",
       "  (612, 618),\n",
       "  (619, 620),\n",
       "  (620, 623),\n",
       "  (624, 625),\n",
       "  (626, 630),\n",
       "  (631, 633),\n",
       "  (634, 636),\n",
       "  (636, 637),\n",
       "  (637, 638),\n",
       "  (639, 642),\n",
       "  (643, 646),\n",
       "  (647, 650),\n",
       "  (650, 651),\n",
       "  (651, 655),\n",
       "  (656, 661),\n",
       "  (662, 663),\n",
       "  (663, 665),\n",
       "  (666, 667),\n",
       "  (668, 672),\n",
       "  (673, 674),\n",
       "  (675, 678),\n",
       "  (678, 679),\n",
       "  (680, 683),\n",
       "  (684, 685),\n",
       "  (685, 689),\n",
       "  (689, 690),\n",
       "  (690, 691),\n",
       "  (692, 701),\n",
       "  (702, 705),\n",
       "  (706, 720),\n",
       "  (721, 723),\n",
       "  (724, 732),\n",
       "  (733, 736),\n",
       "  (737, 744),\n",
       "  (744, 745),\n",
       "  (745, 752),\n",
       "  (753, 756),\n",
       "  (757, 760),\n",
       "  (761, 767),\n",
       "  (768, 770),\n",
       "  (771, 774),\n",
       "  (775, 781),\n",
       "  (781, 782),\n",
       "  (783, 784),\n",
       "  (784, 788),\n",
       "  (788, 789),\n",
       "  (789, 790),\n",
       "  (790, 791),\n",
       "  (792, 799),\n",
       "  (800, 802),\n",
       "  (803, 806),\n",
       "  (807, 809),\n",
       "  (810, 816),\n",
       "  (817, 824),\n",
       "  (825, 831),\n",
       "  (832, 836),\n",
       "  (837, 840),\n",
       "  (840, 841),\n",
       "  (841, 844),\n",
       "  (845, 852),\n",
       "  (853, 855),\n",
       "  (856, 859),\n",
       "  (860, 864),\n",
       "  (865, 869),\n",
       "  (870, 873),\n",
       "  (874, 879),\n",
       "  (880, 885),\n",
       "  (886, 892),\n",
       "  (893, 896),\n",
       "  (897, 902),\n",
       "  (902, 903),\n",
       "  (904, 906),\n",
       "  (907, 911),\n",
       "  (912, 920),\n",
       "  (921, 924),\n",
       "  (925, 935),\n",
       "  (936, 937),\n",
       "  (937, 942),\n",
       "  (943, 949),\n",
       "  (949, 950),\n",
       "  (950, 951),\n",
       "  (952, 955),\n",
       "  (956, 963),\n",
       "  (964, 965),\n",
       "  (965, 969),\n",
       "  (969, 970),\n",
       "  (970, 971),\n",
       "  (972, 973),\n",
       "  (973, 976),\n",
       "  (976, 977),\n",
       "  (977, 978),\n",
       "  (979, 980),\n",
       "  (980, 986),\n",
       "  (986, 987),\n",
       "  (987, 994),\n",
       "  (995, 999),\n",
       "  (999, 1000),\n",
       "  (1001, 1004),\n",
       "  (1005, 1006),\n",
       "  (1006, 1011),\n",
       "  (1012, 1017),\n",
       "  (1017, 1018),\n",
       "  (1018, 1019),\n",
       "  (1020, 1023),\n",
       "  (1024, 1029),\n",
       "  (1030, 1035),\n",
       "  (1036, 1039),\n",
       "  (1040, 1041),\n",
       "  (1041, 1047),\n",
       "  (1048, 1054),\n",
       "  (1054, 1055),\n",
       "  (1056, 1059),\n",
       "  (1060, 1064),\n",
       "  (1065, 1068),\n",
       "  (1068, 1070),\n",
       "  (1070, 1073),\n",
       "  (1074, 1077),\n",
       "  (1078, 1080),\n",
       "  (1080, 1086),\n",
       "  (1087, 1093),\n",
       "  (1094, 1097),\n",
       "  (1098, 1103),\n",
       "  (1103, 1104),\n",
       "  (1105, 1113),\n",
       "  (1114, 1117),\n",
       "  (1118, 1119),\n",
       "  (1119, 1124),\n",
       "  (1125, 1130),\n",
       "  (1131, 1136),\n",
       "  (1137, 1139),\n",
       "  (1139, 1141),\n",
       "  (1141, 1142),\n",
       "  (1142, 1143),\n",
       "  (1144, 1146),\n",
       "  (1147, 1150),\n",
       "  (1151, 1159),\n",
       "  (1160, 1163),\n",
       "  (1164, 1173),\n",
       "  (1174, 1176),\n",
       "  (1177, 1180),\n",
       "  (1181, 1188),\n",
       "  (1189, 1193),\n",
       "  (1193, 1194),\n",
       "  (1195, 1198),\n",
       "  (1199, 1204),\n",
       "  (1205, 1208),\n",
       "  (1209, 1212),\n",
       "  (1213, 1220),\n",
       "  (1221, 1227),\n",
       "  (1227, 1228),\n",
       "  (1229, 1238),\n",
       "  (1239, 1243),\n",
       "  (1244, 1249),\n",
       "  (1250, 1252),\n",
       "  (1253, 1256),\n",
       "  (1257, 1261),\n",
       "  (1262, 1265),\n",
       "  (1266, 1272),\n",
       "  (1273, 1278),\n",
       "  (1279, 1285),\n",
       "  (1285, 1286),\n",
       "  (1287, 1290),\n",
       "  (1291, 1295),\n",
       "  (1296, 1304),\n",
       "  (1305, 1308),\n",
       "  (1308, 1309),\n",
       "  (1310, 1316),\n",
       "  (1316, 1317),\n",
       "  (1318, 1321),\n",
       "  (1322, 1325),\n",
       "  (1326, 1330),\n",
       "  (1331, 1334),\n",
       "  (1335, 1341),\n",
       "  (1341, 1342),\n",
       "  (1343, 1345),\n",
       "  (1346, 1349),\n",
       "  (1350, 1354),\n",
       "  (1355, 1358),\n",
       "  (1359, 1364),\n",
       "  (1365, 1370),\n",
       "  (1371, 1377),\n",
       "  (1377, 1378),\n",
       "  (1379, 1382),\n",
       "  (1383, 1388),\n",
       "  (1389, 1392),\n",
       "  (1393, 1402),\n",
       "  (1403, 1406),\n",
       "  (1407, 1411),\n",
       "  (1412, 1418),\n",
       "  (1418, 1419),\n",
       "  (1420, 1430),\n",
       "  (1431, 1438),\n",
       "  (1439, 1444),\n",
       "  (1445, 1454),\n",
       "  (1455, 1460),\n",
       "  (1461, 1463),\n",
       "  (1464, 1467),\n",
       "  (1468, 1472),\n",
       "  (1472, 1473),\n",
       "  (1474, 1477),\n",
       "  (1478, 1485),\n",
       "  (1486, 1488),\n",
       "  (1489, 1492),\n",
       "  (1493, 1496),\n",
       "  (1497, 1501),\n",
       "  (1502, 1508),\n",
       "  (1509, 1514),\n",
       "  (1515, 1523),\n",
       "  (1523, 1524),\n",
       "  (1525, 1530),\n",
       "  (1531, 1535),\n",
       "  (1536, 1538),\n",
       "  (1539, 1547),\n",
       "  (1548, 1555),\n",
       "  (1556, 1559),\n",
       "  (1560, 1566),\n",
       "  (1567, 1573),\n",
       "  (1574, 1579),\n",
       "  (1579, 1580),\n",
       "  (1580, 1581),\n",
       "  (1582, 1583),\n",
       "  (1583, 1586),\n",
       "  (1587, 1593),\n",
       "  (1594, 1598),\n",
       "  (1599, 1601),\n",
       "  (1601, 1602),\n",
       "  (1602, 1603),\n",
       "  (1604, 1607),\n",
       "  (1608, 1610),\n",
       "  (1611, 1616),\n",
       "  (1617, 1621),\n",
       "  (1622, 1634),\n",
       "  (1635, 1638),\n",
       "  (1639, 1647),\n",
       "  (1648, 1651),\n",
       "  (1652, 1659),\n",
       "  (0, 0)],\n",
       " [(0, 0),\n",
       "  (0, 7),\n",
       "  (8, 11),\n",
       "  (12, 19),\n",
       "  (20, 22),\n",
       "  (23, 27),\n",
       "  (28, 30),\n",
       "  (31, 35),\n",
       "  (35, 36),\n",
       "  (0, 0),\n",
       "  (1041, 1047),\n",
       "  (1048, 1054),\n",
       "  (1054, 1055),\n",
       "  (1056, 1059),\n",
       "  (1060, 1064),\n",
       "  (1065, 1068),\n",
       "  (1068, 1070),\n",
       "  (1070, 1073),\n",
       "  (1074, 1077),\n",
       "  (1078, 1080),\n",
       "  (1080, 1086),\n",
       "  (1087, 1093),\n",
       "  (1094, 1097),\n",
       "  (1098, 1103),\n",
       "  (1103, 1104),\n",
       "  (1105, 1113),\n",
       "  (1114, 1117),\n",
       "  (1118, 1119),\n",
       "  (1119, 1124),\n",
       "  (1125, 1130),\n",
       "  (1131, 1136),\n",
       "  (1137, 1139),\n",
       "  (1139, 1141),\n",
       "  (1141, 1142),\n",
       "  (1142, 1143),\n",
       "  (1144, 1146),\n",
       "  (1147, 1150),\n",
       "  (1151, 1159),\n",
       "  (1160, 1163),\n",
       "  (1164, 1173),\n",
       "  (1174, 1176),\n",
       "  (1177, 1180),\n",
       "  (1181, 1188),\n",
       "  (1189, 1193),\n",
       "  (1193, 1194),\n",
       "  (1195, 1198),\n",
       "  (1199, 1204),\n",
       "  (1205, 1208),\n",
       "  (1209, 1212),\n",
       "  (1213, 1220),\n",
       "  (1221, 1227),\n",
       "  (1227, 1228),\n",
       "  (1229, 1238),\n",
       "  (1239, 1243),\n",
       "  (1244, 1249),\n",
       "  (1250, 1252),\n",
       "  (1253, 1256),\n",
       "  (1257, 1261),\n",
       "  (1262, 1265),\n",
       "  (1266, 1272),\n",
       "  (1273, 1278),\n",
       "  (1279, 1285),\n",
       "  (1285, 1286),\n",
       "  (1287, 1290),\n",
       "  (1291, 1295),\n",
       "  (1296, 1304),\n",
       "  (1305, 1308),\n",
       "  (1308, 1309),\n",
       "  (1310, 1316),\n",
       "  (1316, 1317),\n",
       "  (1318, 1321),\n",
       "  (1322, 1325),\n",
       "  (1326, 1330),\n",
       "  (1331, 1334),\n",
       "  (1335, 1341),\n",
       "  (1341, 1342),\n",
       "  (1343, 1345),\n",
       "  (1346, 1349),\n",
       "  (1350, 1354),\n",
       "  (1355, 1358),\n",
       "  (1359, 1364),\n",
       "  (1365, 1370),\n",
       "  (1371, 1377),\n",
       "  (1377, 1378),\n",
       "  (1379, 1382),\n",
       "  (1383, 1388),\n",
       "  (1389, 1392),\n",
       "  (1393, 1402),\n",
       "  (1403, 1406),\n",
       "  (1407, 1411),\n",
       "  (1412, 1418),\n",
       "  (1418, 1419),\n",
       "  (1420, 1430),\n",
       "  (1431, 1438),\n",
       "  (1439, 1444),\n",
       "  (1445, 1454),\n",
       "  (1455, 1460),\n",
       "  (1461, 1463),\n",
       "  (1464, 1467),\n",
       "  (1468, 1472),\n",
       "  (1472, 1473),\n",
       "  (1474, 1477),\n",
       "  (1478, 1485),\n",
       "  (1486, 1488),\n",
       "  (1489, 1492),\n",
       "  (1493, 1496),\n",
       "  (1497, 1501),\n",
       "  (1502, 1508),\n",
       "  (1509, 1514),\n",
       "  (1515, 1523),\n",
       "  (1523, 1524),\n",
       "  (1525, 1530),\n",
       "  (1531, 1535),\n",
       "  (1536, 1538),\n",
       "  (1539, 1547),\n",
       "  (1548, 1555),\n",
       "  (1556, 1559),\n",
       "  (1560, 1566),\n",
       "  (1567, 1573),\n",
       "  (1574, 1579),\n",
       "  (1579, 1580),\n",
       "  (1580, 1581),\n",
       "  (1582, 1583),\n",
       "  (1583, 1586),\n",
       "  (1587, 1593),\n",
       "  (1594, 1598),\n",
       "  (1599, 1601),\n",
       "  (1601, 1602),\n",
       "  (1602, 1603),\n",
       "  (1604, 1607),\n",
       "  (1608, 1610),\n",
       "  (1611, 1616),\n",
       "  (1617, 1621),\n",
       "  (1622, 1634),\n",
       "  (1635, 1638),\n",
       "  (1639, 1647),\n",
       "  (1648, 1651),\n",
       "  (1652, 1659),\n",
       "  (1660, 1663),\n",
       "  (1663, 1666),\n",
       "  (1666, 1671),\n",
       "  (1672, 1673),\n",
       "  (1674, 1676),\n",
       "  (1676, 1677),\n",
       "  (1677, 1689),\n",
       "  (1690, 1692),\n",
       "  (1693, 1698),\n",
       "  (1698, 1699),\n",
       "  (1699, 1700),\n",
       "  (1701, 1706),\n",
       "  (1707, 1713),\n",
       "  (1714, 1717),\n",
       "  (1718, 1721),\n",
       "  (1722, 1732),\n",
       "  (1733, 1739),\n",
       "  (1739, 1740),\n",
       "  (1741, 1743),\n",
       "  (1744, 1749),\n",
       "  (1750, 1754),\n",
       "  (1754, 1755),\n",
       "  (1756, 1763),\n",
       "  (1764, 1772),\n",
       "  (1773, 1775),\n",
       "  (1776, 1779),\n",
       "  (1780, 1781),\n",
       "  (1782, 1784),\n",
       "  (1784, 1785),\n",
       "  (1785, 1786),\n",
       "  (1786, 1787),\n",
       "  (1788, 1793),\n",
       "  (1794, 1798),\n",
       "  (1798, 1799),\n",
       "  (1800, 1803),\n",
       "  (1804, 1810),\n",
       "  (1811, 1821),\n",
       "  (1822, 1831),\n",
       "  (1832, 1839),\n",
       "  (1840, 1844),\n",
       "  (1844, 1845),\n",
       "  (1846, 1856),\n",
       "  (1857, 1859),\n",
       "  (1860, 1863),\n",
       "  (1864, 1869),\n",
       "  (1869, 1870),\n",
       "  (1871, 1879),\n",
       "  (1880, 1881),\n",
       "  (1881, 1884),\n",
       "  (1884, 1885),\n",
       "  (1885, 1886),\n",
       "  (1887, 1894),\n",
       "  (1894, 1895),\n",
       "  (0, 0)]]"
      ]
     },
     "execution_count": 26,
     "metadata": {},
     "output_type": "execute_result"
    }
   ],
   "source": [
    "tokenized_example[\"offset_mapping\"]"
   ]
  },
  {
   "cell_type": "markdown",
   "metadata": {},
   "source": [
    "偏移映射是一个列表，其中每个元素都是一个元组，表示每个标记在原始文本中的起始和结束位置。例如，(0, 3) 表示该标记在原始文本中的起始位置是第0个字符，结束位置是第5个字符。\n",
    "此，我们可以使用这个映射来找到答案在给定特征中的起始和结束标记的位置。\n",
    "\n",
    "我们只需区分偏移的哪些部分对应于问题，哪些部分对应于上下文。"
   ]
  },
  {
   "cell_type": "code",
   "execution_count": 27,
   "metadata": {
    "execution": {
     "iopub.execute_input": "2024-06-12T03:17:12.902179Z",
     "iopub.status.busy": "2024-06-12T03:17:12.901965Z",
     "iopub.status.idle": "2024-06-12T03:17:12.908238Z",
     "shell.execute_reply": "2024-06-12T03:17:12.907093Z",
     "shell.execute_reply.started": "2024-06-12T03:17:12.902157Z"
    }
   },
   "outputs": [
    {
     "data": {
      "text/plain": [
       "20773"
      ]
     },
     "execution_count": 27,
     "metadata": {},
     "output_type": "execute_result"
    }
   ],
   "source": [
    "tokenized_example[\"input_ids\"][0][1]"
   ]
  },
  {
   "cell_type": "code",
   "execution_count": 28,
   "metadata": {
    "execution": {
     "iopub.execute_input": "2024-06-12T03:17:12.909092Z",
     "iopub.status.busy": "2024-06-12T03:17:12.908867Z",
     "iopub.status.idle": "2024-06-12T03:17:12.915541Z",
     "shell.execute_reply": "2024-06-12T03:17:12.914460Z",
     "shell.execute_reply.started": "2024-06-12T03:17:12.909069Z"
    }
   },
   "outputs": [
    {
     "name": "stdout",
     "output_type": "stream",
     "text": [
      "first_token_id:20773\n",
      "offsets:(0, 7)\n",
      "beyonce Beyonce\n"
     ]
    }
   ],
   "source": [
    "#获取第0个序列的第一个token\n",
    "first_token_id = tokenized_example[\"input_ids\"][0][1]\n",
    "print(f\"first_token_id:{first_token_id}\")\n",
    "offsets = tokenized_example[\"offset_mapping\"][0][1]\n",
    "print(f\"offsets:{offsets}\")\n",
    "print(tokenizer.convert_ids_to_tokens([first_token_id])[0], example[\"question\"][offsets[0]:offsets[1]])"
   ]
  },
  {
   "cell_type": "code",
   "execution_count": 29,
   "metadata": {
    "execution": {
     "iopub.execute_input": "2024-06-12T03:17:12.916325Z",
     "iopub.status.busy": "2024-06-12T03:17:12.916126Z",
     "iopub.status.idle": "2024-06-12T03:17:12.922848Z",
     "shell.execute_reply": "2024-06-12T03:17:12.921733Z",
     "shell.execute_reply.started": "2024-06-12T03:17:12.916304Z"
    }
   },
   "outputs": [
    {
     "name": "stdout",
     "output_type": "stream",
     "text": [
      "got got\n"
     ]
    }
   ],
   "source": [
    "second_token_id = tokenized_example[\"input_ids\"][0][2]\n",
    "offsets = tokenized_example[\"offset_mapping\"][0][2]\n",
    "print(tokenizer.convert_ids_to_tokens([second_token_id])[0], example[\"question\"][offsets[0]:offsets[1]])"
   ]
  },
  {
   "cell_type": "code",
   "execution_count": 30,
   "metadata": {
    "execution": {
     "iopub.execute_input": "2024-06-12T03:17:12.923627Z",
     "iopub.status.busy": "2024-06-12T03:17:12.923420Z",
     "iopub.status.idle": "2024-06-12T03:17:12.930904Z",
     "shell.execute_reply": "2024-06-12T03:17:12.929615Z",
     "shell.execute_reply.started": "2024-06-12T03:17:12.923606Z"
    }
   },
   "outputs": [
    {
     "data": {
      "text/plain": [
       "'Beyonce got married in 2008 to whom?'"
      ]
     },
     "execution_count": 30,
     "metadata": {},
     "output_type": "execute_result"
    }
   ],
   "source": [
    "example[\"question\"]"
   ]
  },
  {
   "cell_type": "markdown",
   "metadata": {},
   "source": [
    "借助`tokenized_example`的`sequence_ids`方法，我们可以方便的区分token的来源编号：\n",
    "\n",
    "- 对于特殊标记：返回None，\n",
    "- 对于正文Token：返回句子编号（从0开始编号）。\n",
    "\n",
    "综上，现在我们可以很方便的在一个输入特征中找到答案的起始和结束 Token。"
   ]
  },
  {
   "cell_type": "code",
   "execution_count": 31,
   "metadata": {
    "execution": {
     "iopub.execute_input": "2024-06-12T03:17:12.932206Z",
     "iopub.status.busy": "2024-06-12T03:17:12.931966Z",
     "iopub.status.idle": "2024-06-12T03:17:12.939402Z",
     "shell.execute_reply": "2024-06-12T03:17:12.938228Z",
     "shell.execute_reply.started": "2024-06-12T03:17:12.932184Z"
    }
   },
   "outputs": [
    {
     "name": "stdout",
     "output_type": "stream",
     "text": [
      "[None, 0, 0, 0, 0, 0, 0, 0, 0, None, 1, 1, 1, 1, 1, 1, 1, 1, 1, 1, 1, 1, 1, 1, 1, 1, 1, 1, 1, 1, 1, 1, 1, 1, 1, 1, 1, 1, 1, 1, 1, 1, 1, 1, 1, 1, 1, 1, 1, 1, 1, 1, 1, 1, 1, 1, 1, 1, 1, 1, 1, 1, 1, 1, 1, 1, 1, 1, 1, 1, 1, 1, 1, 1, 1, 1, 1, 1, 1, 1, 1, 1, 1, 1, 1, 1, 1, 1, 1, 1, 1, 1, 1, 1, 1, 1, 1, 1, 1, 1, 1, 1, 1, 1, 1, 1, 1, 1, 1, 1, 1, 1, 1, 1, 1, 1, 1, 1, 1, 1, 1, 1, 1, 1, 1, 1, 1, 1, 1, 1, 1, 1, 1, 1, 1, 1, 1, 1, 1, 1, 1, 1, 1, 1, 1, 1, 1, 1, 1, 1, 1, 1, 1, 1, 1, 1, 1, 1, 1, 1, 1, 1, 1, 1, 1, 1, 1, 1, 1, 1, 1, 1, 1, 1, 1, 1, 1, 1, 1, 1, 1, 1, 1, 1, 1, 1, 1, 1, 1, 1, 1, 1, 1, 1, 1, 1, 1, 1, 1, 1, 1, 1, 1, 1, 1, 1, 1, 1, 1, 1, 1, 1, 1, 1, 1, 1, 1, 1, 1, 1, 1, 1, 1, 1, 1, 1, 1, 1, 1, 1, 1, 1, 1, 1, 1, 1, 1, 1, 1, 1, 1, 1, 1, 1, 1, 1, 1, 1, 1, 1, 1, 1, 1, 1, 1, 1, 1, 1, 1, 1, 1, 1, 1, 1, 1, 1, 1, 1, 1, 1, 1, 1, 1, 1, 1, 1, 1, 1, 1, 1, 1, 1, 1, 1, 1, 1, 1, 1, 1, 1, 1, 1, 1, 1, 1, 1, 1, 1, 1, 1, 1, 1, 1, 1, 1, 1, 1, 1, 1, 1, 1, 1, 1, 1, 1, 1, 1, 1, 1, 1, 1, 1, 1, 1, 1, 1, 1, 1, 1, 1, 1, 1, 1, 1, 1, 1, 1, 1, 1, 1, 1, 1, 1, 1, 1, 1, 1, 1, 1, 1, 1, 1, 1, 1, 1, 1, 1, 1, 1, 1, 1, 1, 1, 1, 1, 1, 1, 1, 1, 1, 1, 1, 1, 1, 1, 1, 1, 1, 1, 1, 1, 1, 1, None]\n",
      "384\n"
     ]
    }
   ],
   "source": [
    "# 获取编码后的序列ID\n",
    "sequence_ids = tokenized_example.sequence_ids()\n",
    "print(sequence_ids)\n",
    "print(len(sequence_ids))"
   ]
  },
  {
   "cell_type": "code",
   "execution_count": 32,
   "metadata": {
    "execution": {
     "iopub.execute_input": "2024-06-12T03:17:12.940243Z",
     "iopub.status.busy": "2024-06-12T03:17:12.940035Z",
     "iopub.status.idle": "2024-06-12T03:17:12.950162Z",
     "shell.execute_reply": "2024-06-12T03:17:12.949411Z",
     "shell.execute_reply.started": "2024-06-12T03:17:12.940222Z"
    }
   },
   "outputs": [
    {
     "name": "stdout",
     "output_type": "stream",
     "text": [
      "example:{'id': '56be95823aeaaa14008c910c', 'title': 'Beyoncé', 'context': 'On April 4, 2008, Beyoncé married Jay Z. She publicly revealed their marriage in a video montage at the listening party for her third studio album, I Am... Sasha Fierce, in Manhattan\\'s Sony Club on October 22, 2008. I Am... Sasha Fierce was released on November 18, 2008 in the United States. The album formally introduces Beyoncé\\'s alter ego Sasha Fierce, conceived during the making of her 2003 single \"Crazy in Love\", selling 482,000 copies in its first week, debuting atop the Billboard 200, and giving Beyoncé her third consecutive number-one album in the US. The album featured the number-one song \"Single Ladies (Put a Ring on It)\" and the top-five songs \"If I Were a Boy\" and \"Halo\". Achieving the accomplishment of becoming her longest-running Hot 100 single in her career, \"Halo\"\\'s success in the US helped Beyoncé attain more top-ten singles on the list than any other woman during the 2000s. It also included the successful \"Sweet Dreams\", and singles \"Diva\", \"Ego\", \"Broken-Hearted Girl\" and \"Video Phone\". The music video for \"Single Ladies\" has been parodied and imitated around the world, spawning the \"first major dance craze\" of the Internet age according to the Toronto Star. The video has won several awards, including Best Video at the 2009 MTV Europe Music Awards, the 2009 Scottish MOBO Awards, and the 2009 BET Awards. At the 2009 MTV Video Music Awards, the video was nominated for nine awards, ultimately winning three including Video of the Year. Its failure to win the Best Female Video category, which went to American country pop singer Taylor Swift\\'s \"You Belong with Me\", led to Kanye West interrupting the ceremony and Beyoncé improvising a re-presentation of Swift\\'s award during her own acceptance speech. In March 2009, Beyoncé embarked on the I Am... World Tour, her second headlining worldwide concert tour, consisting of 108 shows, grossing $119.5 million.', 'question': 'Beyonce got married in 2008 to whom?', 'answers': {'text': ['Jay Z'], 'answer_start': [34]}}\n",
      "answers:{'text': ['Jay Z'], 'answer_start': [34]}\n",
      "start_char:34\n",
      "end_char:39\n",
      "token_start_index:10\n",
      "token_end_index:383\n",
      "token_end_index:382\n",
      "18 19\n"
     ]
    }
   ],
   "source": [
    "print(f\"example:{example}\")\n",
    "answers = example[\"answers\"]\n",
    "start_char = answers[\"answer_start\"][0]\n",
    "end_char = start_char + len(answers[\"text\"][0])\n",
    "print(f\"answers:{answers}\")\n",
    "print(f\"start_char:{start_char}\")\n",
    "print(f\"end_char:{end_char}\")\n",
    "# 当前span在文本中的起始标记索引。\n",
    "token_start_index = 0\n",
    "while sequence_ids[token_start_index] != 1:\n",
    "    token_start_index += 1\n",
    "print(f\"token_start_index:{token_start_index}\")\n",
    "# 当前span在文本中的结束标记索引。\n",
    "token_end_index = len(tokenized_example[\"input_ids\"][0]) - 1\n",
    "print(f\"token_end_index:{token_end_index}\")\n",
    "while sequence_ids[token_end_index] != 1:\n",
    "    token_end_index -= 1\n",
    "print(f\"token_end_index:{token_end_index}\")\n",
    "# 检测答案是否超出span范围（如果超出范围，该特征将以CLS标记索引标记）。\n",
    "offsets = tokenized_example[\"offset_mapping\"][0]\n",
    "if (offsets[token_start_index][0] <= start_char and offsets[token_end_index][1] >= end_char):\n",
    "    # 将token_start_index和token_end_index移动到答案的两端。\n",
    "    # 注意：如果答案是最后一个单词，我们可以移到最后一个标记之后（边界情况）。\n",
    "    while token_start_index < len(offsets) and offsets[token_start_index][0] <= start_char:\n",
    "        token_start_index += 1\n",
    "    start_position = token_start_index - 1\n",
    "    while offsets[token_end_index][1] >= end_char:\n",
    "        token_end_index -= 1\n",
    "    end_position = token_end_index + 1\n",
    "    print(start_position, end_position)\n",
    "else:\n",
    "    print(\"答案不在此特征中。\")\n"
   ]
  },
  {
   "cell_type": "markdown",
   "metadata": {},
   "source": [
    "打印检查是否准确找到了起始位置："
   ]
  },
  {
   "cell_type": "code",
   "execution_count": 33,
   "metadata": {
    "execution": {
     "iopub.execute_input": "2024-06-12T03:17:12.951240Z",
     "iopub.status.busy": "2024-06-12T03:17:12.951032Z",
     "iopub.status.idle": "2024-06-12T03:17:12.955886Z",
     "shell.execute_reply": "2024-06-12T03:17:12.955150Z",
     "shell.execute_reply.started": "2024-06-12T03:17:12.951219Z"
    }
   },
   "outputs": [
    {
     "name": "stdout",
     "output_type": "stream",
     "text": [
      "jay z\n",
      "Jay Z\n"
     ]
    }
   ],
   "source": [
    "# 通过查找 offset mapping 位置，解码 context 中的答案 \n",
    "print(tokenizer.decode(tokenized_example[\"input_ids\"][0][start_position: end_position+1]))\n",
    "# 直接打印 数据集中的标准答案（answer[\"text\"])\n",
    "print(answers[\"text\"][0])"
   ]
  },
  {
   "cell_type": "markdown",
   "metadata": {},
   "source": [
    "#### 关于填充的策略\n",
    "\n",
    "- 对于没有超过最大长度的文本，填充补齐长度。\n",
    "- 对于需要左侧填充的模型，交换 question 和 context 顺序"
   ]
  },
  {
   "cell_type": "code",
   "execution_count": 34,
   "metadata": {
    "execution": {
     "iopub.execute_input": "2024-06-12T03:17:12.959899Z",
     "iopub.status.busy": "2024-06-12T03:17:12.959656Z",
     "iopub.status.idle": "2024-06-12T03:17:12.963515Z",
     "shell.execute_reply": "2024-06-12T03:17:12.962690Z",
     "shell.execute_reply.started": "2024-06-12T03:17:12.959878Z"
    }
   },
   "outputs": [],
   "source": [
    "pad_on_right = tokenizer.padding_side == \"right\""
   ]
  },
  {
   "cell_type": "markdown",
   "metadata": {},
   "source": [
    "### 整合以上所有预处理步骤\n",
    "\n",
    "让我们将所有内容整合到一个函数中，并将其应用到训练集。\n",
    "\n",
    "针对不可回答的情况（上下文过长，答案在另一个特征中），我们为开始和结束位置都设置了cls索引。\n",
    "\n",
    "如果allow_impossible_answers标志为False，我们还可以简单地从训练集中丢弃这些示例。"
   ]
  },
  {
   "cell_type": "code",
   "execution_count": 35,
   "metadata": {
    "execution": {
     "iopub.execute_input": "2024-06-12T03:17:12.965003Z",
     "iopub.status.busy": "2024-06-12T03:17:12.964699Z",
     "iopub.status.idle": "2024-06-12T03:17:12.977811Z",
     "shell.execute_reply": "2024-06-12T03:17:12.976920Z",
     "shell.execute_reply.started": "2024-06-12T03:17:12.964973Z"
    }
   },
   "outputs": [],
   "source": [
    "def prepare_train_features(examples):\n",
    "    # 一些问题的左侧可能有很多空白字符，这对我们没有用，而且会导致上下文的截断失败\n",
    "    # （标记化的问题将占用大量空间）。因此，我们删除左侧的空白字符。\n",
    "    examples[\"question\"] = [q.lstrip() for q in examples[\"question\"]]\n",
    "\n",
    "    # 使用截断和填充对我们的示例进行标记化，但保留溢出部分，使用步幅（stride）。\n",
    "    # 当上下文很长时，这会导致一个示例可能提供多个特征，其中每个特征的上下文都与前一个特征的上下文有一些重叠。\n",
    "    tokenized_examples = tokenizer(\n",
    "        examples[\"question\" if pad_on_right else \"context\"],\n",
    "        examples[\"context\" if pad_on_right else \"question\"],\n",
    "        truncation=\"only_second\" if pad_on_right else \"only_first\",\n",
    "        max_length=max_length,\n",
    "        stride=doc_stride,\n",
    "        return_overflowing_tokens=True,\n",
    "        return_offsets_mapping=True,\n",
    "        padding=\"max_length\",\n",
    "    )\n",
    "\n",
    "    # 由于一个示例可能给我们提供多个特征（如果它具有很长的上下文），我们需要一个从特征到其对应示例的映射。这个键就提供了这个映射关系。\n",
    "    sample_mapping = tokenized_examples.pop(\"overflow_to_sample_mapping\")\n",
    "    # 偏移映射将为我们提供从令牌到原始上下文中的字符位置的映射。这将帮助我们计算开始位置和结束位置。\n",
    "    offset_mapping = tokenized_examples.pop(\"offset_mapping\")\n",
    "\n",
    "    # 让我们为这些示例进行标记！\n",
    "    tokenized_examples[\"start_positions\"] = []\n",
    "    tokenized_examples[\"end_positions\"] = []\n",
    "\n",
    "    for i, offsets in enumerate(offset_mapping):\n",
    "        # 我们将使用 CLS 特殊 token 的索引来标记不可能的答案。\n",
    "        input_ids = tokenized_examples[\"input_ids\"][i]\n",
    "        cls_index = input_ids.index(tokenizer.cls_token_id)\n",
    "\n",
    "        # 获取与该示例对应的序列（以了解上下文和问题是什么）。\n",
    "        sequence_ids = tokenized_examples.sequence_ids(i)\n",
    "\n",
    "        # 一个示例可以提供多个跨度，这是包含此文本跨度的示例的索引。\n",
    "        sample_index = sample_mapping[i]\n",
    "        answers = examples[\"answers\"][sample_index]\n",
    "        # 如果没有给出答案，则将cls_index设置为答案。\n",
    "        if len(answers[\"answer_start\"]) == 0:\n",
    "            tokenized_examples[\"start_positions\"].append(cls_index)\n",
    "            tokenized_examples[\"end_positions\"].append(cls_index)\n",
    "        else:\n",
    "            # 答案在文本中的开始和结束字符索引。\n",
    "            start_char = answers[\"answer_start\"][0]\n",
    "            end_char = start_char + len(answers[\"text\"][0])\n",
    "\n",
    "            # 当前跨度在文本中的开始令牌索引。\n",
    "            token_start_index = 0\n",
    "            while sequence_ids[token_start_index] != (1 if pad_on_right else 0):\n",
    "                token_start_index += 1\n",
    "\n",
    "            # 当前跨度在文本中的结束令牌索引。\n",
    "            token_end_index = len(input_ids) - 1\n",
    "            while sequence_ids[token_end_index] != (1 if pad_on_right else 0):\n",
    "                token_end_index -= 1\n",
    "\n",
    "            # 检测答案是否超出跨度（在这种情况下，该特征的标签将使用CLS索引）。\n",
    "            if not (offsets[token_start_index][0] <= start_char and offsets[token_end_index][1] >= end_char):\n",
    "                tokenized_examples[\"start_positions\"].append(cls_index)\n",
    "                tokenized_examples[\"end_positions\"].append(cls_index)\n",
    "            else:\n",
    "                # 否则，将token_start_index和token_end_index移到答案的两端。\n",
    "                # 注意：如果答案是最后一个单词（边缘情况），我们可以在最后一个偏移之后继续。\n",
    "                while token_start_index < len(offsets) and offsets[token_start_index][0] <= start_char:\n",
    "                    token_start_index += 1\n",
    "                tokenized_examples[\"start_positions\"].append(token_start_index - 1)\n",
    "                while offsets[token_end_index][1] >= end_char:\n",
    "                    token_end_index -= 1\n",
    "                tokenized_examples[\"end_positions\"].append(token_end_index + 1)\n",
    "\n",
    "    return tokenized_examples"
   ]
  },
  {
   "cell_type": "markdown",
   "metadata": {
    "id": "zS-6iXTkIrJT"
   },
   "source": [
    "#### datasets.map 的进阶使用\n",
    "\n",
    "使用 `datasets.map` 方法将 `prepare_train_features` 应用于所有训练、验证和测试数据：\n",
    "\n",
    "- batched: 批量处理数据。\n",
    "- remove_columns: 因为预处理更改了样本的数量，所以在应用它时需要删除旧列。\n",
    "- load_from_cache_file：是否使用datasets库的自动缓存\n",
    "\n",
    "datasets 库针对大规模数据，实现了高效缓存机制，能够自动检测传递给 map 的函数是否已更改（因此需要不使用缓存数据）。如果在调用 map 时设置 `load_from_cache_file=False`，可以强制重新应用预处理。"
   ]
  },
  {
   "cell_type": "code",
   "execution_count": 36,
   "metadata": {
    "execution": {
     "iopub.execute_input": "2024-06-12T03:17:12.979175Z",
     "iopub.status.busy": "2024-06-12T03:17:12.978884Z",
     "iopub.status.idle": "2024-06-12T03:17:53.110737Z",
     "shell.execute_reply": "2024-06-12T03:17:53.110060Z",
     "shell.execute_reply.started": "2024-06-12T03:17:12.979147Z"
    },
    "id": "DDtsaJeVIrJT",
    "outputId": "aa4734bf-4ef5-4437-9948-2c16363da719"
   },
   "outputs": [
    {
     "data": {
      "application/vnd.jupyter.widget-view+json": {
       "model_id": "379459955ab443c78df72eaa84379fd6",
       "version_major": 2,
       "version_minor": 0
      },
      "text/plain": [
       "Map:   0%|          | 0/130319 [00:00<?, ? examples/s]"
      ]
     },
     "metadata": {},
     "output_type": "display_data"
    },
    {
     "data": {
      "application/vnd.jupyter.widget-view+json": {
       "model_id": "39e2d7059c6e411aa518f41524913565",
       "version_major": 2,
       "version_minor": 0
      },
      "text/plain": [
       "Map:   0%|          | 0/11873 [00:00<?, ? examples/s]"
      ]
     },
     "metadata": {},
     "output_type": "display_data"
    }
   ],
   "source": [
    "tokenized_datasets = datasets.map(prepare_train_features,\n",
    "                                  batched=True,\n",
    "                                  remove_columns=datasets[\"train\"].column_names)"
   ]
  },
  {
   "cell_type": "markdown",
   "metadata": {
    "id": "545PP3o8IrJV"
   },
   "source": [
    "## 微调模型"
   ]
  },
  {
   "cell_type": "markdown",
   "metadata": {
    "id": "FBiW8UpKIrJW"
   },
   "source": [
    "现在我们的数据已经准备好用于训练，我们可以下载预训练模型并进行微调。\n",
    "\n",
    "由于我们的任务是问答，我们使用 `AutoModelForQuestionAnswering` 类。(对比 Yelp 评论打分使用的是 `AutoModelForSequenceClassification` 类）\n",
    "\n",
    "警告通知我们正在丢弃一些权重（`vocab_transform` 和 `vocab_layer_norm` 层），并随机初始化其他一些权重（`pre_classifier` 和 `classifier` 层）。在微调模型情况下是绝对正常的，因为我们正在删除用于预训练模型的掩码语言建模任务的头部，并用一个新的头部替换它，对于这个新头部，我们没有预训练的权重，所以库会警告我们在用它进行推理之前应该对这个模型进行微调，而这正是我们要做的事情。"
   ]
  },
  {
   "cell_type": "code",
   "execution_count": 37,
   "metadata": {
    "execution": {
     "iopub.execute_input": "2024-06-12T03:17:53.111712Z",
     "iopub.status.busy": "2024-06-12T03:17:53.111481Z",
     "iopub.status.idle": "2024-06-12T03:18:14.370117Z",
     "shell.execute_reply": "2024-06-12T03:18:14.368755Z",
     "shell.execute_reply.started": "2024-06-12T03:17:53.111698Z"
    },
    "id": "TlqNaB8jIrJW",
    "outputId": "84916cf3-6e6c-47f3-d081-032ec30a4132"
   },
   "outputs": [
    {
     "data": {
      "application/vnd.jupyter.widget-view+json": {
       "model_id": "914b5802e7c44e428d9e69d2071504a9",
       "version_major": 2,
       "version_minor": 0
      },
      "text/plain": [
       "model.safetensors:   0%|          | 0.00/268M [00:00<?, ?B/s]"
      ]
     },
     "metadata": {},
     "output_type": "display_data"
    },
    {
     "name": "stderr",
     "output_type": "stream",
     "text": [
      "Some weights of DistilBertForQuestionAnswering were not initialized from the model checkpoint at distilbert-base-uncased and are newly initialized: ['qa_outputs.bias', 'qa_outputs.weight']\n",
      "You should probably TRAIN this model on a down-stream task to be able to use it for predictions and inference.\n"
     ]
    }
   ],
   "source": [
    "from transformers import AutoModelForQuestionAnswering, TrainingArguments, Trainer\n",
    "\n",
    "model = AutoModelForQuestionAnswering.from_pretrained(model_checkpoint)"
   ]
  },
  {
   "cell_type": "markdown",
   "metadata": {
    "id": "_N8urzhyIrJY"
   },
   "source": [
    "#### 训练超参数（TrainingArguments）"
   ]
  },
  {
   "cell_type": "code",
   "execution_count": 38,
   "metadata": {
    "execution": {
     "iopub.execute_input": "2024-06-12T03:18:14.372829Z",
     "iopub.status.busy": "2024-06-12T03:18:14.372248Z",
     "iopub.status.idle": "2024-06-12T03:18:14.490397Z",
     "shell.execute_reply": "2024-06-12T03:18:14.488829Z",
     "shell.execute_reply.started": "2024-06-12T03:18:14.372784Z"
    },
    "id": "Bliy8zgjIrJY"
   },
   "outputs": [
    {
     "name": "stderr",
     "output_type": "stream",
     "text": [
      "/root/miniconda3/lib/python3.12/site-packages/transformers/training_args.py:1474: FutureWarning: `evaluation_strategy` is deprecated and will be removed in version 4.46 of 🤗 Transformers. Use `eval_strategy` instead\n",
      "  warnings.warn(\n"
     ]
    }
   ],
   "source": [
    "batch_size=64\n",
    "model_dir = f\"models/{model_checkpoint}-finetuned-squad\"\n",
    "\n",
    "args = TrainingArguments(\n",
    "    output_dir=model_dir,\n",
    "    evaluation_strategy = \"epoch\",\n",
    "    learning_rate=2e-5,\n",
    "    per_device_train_batch_size=batch_size,\n",
    "    per_device_eval_batch_size=batch_size,\n",
    "    num_train_epochs=3,\n",
    "    weight_decay=0.01,\n",
    ")"
   ]
  },
  {
   "cell_type": "markdown",
   "metadata": {},
   "source": [
    "#### Data Collator（数据整理器）\n",
    "\n",
    "数据整理器将训练数据整理为批次数据，用于模型训练时的批次处理。本教程使用默认的 `default_data_collator`。\n"
   ]
  },
  {
   "cell_type": "code",
   "execution_count": 39,
   "metadata": {
    "execution": {
     "iopub.execute_input": "2024-06-12T03:18:14.493452Z",
     "iopub.status.busy": "2024-06-12T03:18:14.492521Z",
     "iopub.status.idle": "2024-06-12T03:18:14.499123Z",
     "shell.execute_reply": "2024-06-12T03:18:14.497821Z",
     "shell.execute_reply.started": "2024-06-12T03:18:14.493391Z"
    }
   },
   "outputs": [],
   "source": [
    "from transformers import default_data_collator\n",
    "\n",
    "data_collator = default_data_collator"
   ]
  },
  {
   "cell_type": "markdown",
   "metadata": {
    "id": "rXuFTAzDIrJe"
   },
   "source": [
    "### 实例化训练器（Trainer）\n",
    "\n",
    "为了减少训练时间（需要大量算力支持），我们不在本教程的训练模型过程中计算模型评估指标。\n",
    "\n",
    "而是训练完成后，再独立进行模型评估。"
   ]
  },
  {
   "cell_type": "code",
   "execution_count": 40,
   "metadata": {
    "execution": {
     "iopub.execute_input": "2024-06-12T03:18:14.501510Z",
     "iopub.status.busy": "2024-06-12T03:18:14.500771Z",
     "iopub.status.idle": "2024-06-12T03:18:14.803224Z",
     "shell.execute_reply": "2024-06-12T03:18:14.802248Z",
     "shell.execute_reply.started": "2024-06-12T03:18:14.501452Z"
    },
    "id": "imY1oC3SIrJf"
   },
   "outputs": [],
   "source": [
    "trainer = Trainer(\n",
    "    model,\n",
    "    args,\n",
    "    train_dataset=tokenized_datasets[\"train\"],\n",
    "    eval_dataset=tokenized_datasets[\"validation\"],\n",
    "    data_collator=data_collator,\n",
    "    tokenizer=tokenizer,\n",
    ")"
   ]
  },
  {
   "cell_type": "markdown",
   "metadata": {},
   "source": [
    "#### GPU 使用情况\n",
    "\n",
    "训练数据与模型配置：\n",
    "\n",
    "- SQUAD v1.1\n",
    "- model_checkpoint = \"distilbert-base-uncased\"\n",
    "- batch_size = 64\n",
    "\n",
    "NVIDIA GPU 使用情况：\n",
    "\n",
    "```shell\n",
    "Every 1.0s: nvidia-smi                                                   Wed Dec 20 15:39:57 2023\n",
    "\n",
    "Wed Dec 20 15:39:57 2023\n",
    "+---------------------------------------------------------------------------------------+\n",
    "| NVIDIA-SMI 535.129.03             Driver Version: 535.129.03   CUDA Version: 12.2     |\n",
    "|-----------------------------------------+----------------------+----------------------+\n",
    "| GPU  Name                 Persistence-M | Bus-Id        Disp.A | Volatile Uncorr. ECC |\n",
    "| Fan  Temp   Perf          Pwr:Usage/Cap |         Memory-Usage | GPU-Util  Compute M. |\n",
    "|                                         |                      |               MIG M. |\n",
    "|=========================================+======================+======================|\n",
    "|   0  Tesla T4                       Off | 00000000:00:0D.0 Off |                    0 |\n",
    "| N/A   67C    P0              67W /  70W |  14617MiB / 15360MiB |    100%      Default |\n",
    "|                                         |                      |                  N/A |\n",
    "+-----------------------------------------+----------------------+----------------------+\n",
    "\n",
    "+---------------------------------------------------------------------------------------+\n",
    "| Processes:                                                                            |\n",
    "|  GPU   GI   CI        PID   Type   Process name                            GPU Memory |\n",
    "|        ID   ID                                                             Usage      |\n",
    "|=======================================================================================|\n",
    "|    0   N/A  N/A     16384      C   /root/miniconda3/bin/python               14612MiB |\n",
    "+---------------------------------------------------------------------------------------+\n",
    "```"
   ]
  },
  {
   "cell_type": "code",
   "execution_count": 41,
   "metadata": {
    "execution": {
     "iopub.execute_input": "2024-06-12T03:18:14.804965Z",
     "iopub.status.busy": "2024-06-12T03:18:14.804316Z",
     "iopub.status.idle": "2024-06-12T03:51:16.800935Z",
     "shell.execute_reply": "2024-06-12T03:51:16.799715Z",
     "shell.execute_reply.started": "2024-06-12T03:18:14.804940Z"
    },
    "id": "uNx5pyRlIrJh",
    "outputId": "077e661e-d36c-469b-89b8-7ff7f73541ec"
   },
   "outputs": [
    {
     "data": {
      "text/html": [
       "\n",
       "    <div>\n",
       "      \n",
       "      <progress value='6177' max='6177' style='width:300px; height:20px; vertical-align: middle;'></progress>\n",
       "      [6177/6177 33:01, Epoch 3/3]\n",
       "    </div>\n",
       "    <table border=\"1\" class=\"dataframe\">\n",
       "  <thead>\n",
       " <tr style=\"text-align: left;\">\n",
       "      <th>Epoch</th>\n",
       "      <th>Training Loss</th>\n",
       "      <th>Validation Loss</th>\n",
       "    </tr>\n",
       "  </thead>\n",
       "  <tbody>\n",
       "    <tr>\n",
       "      <td>1</td>\n",
       "      <td>1.384300</td>\n",
       "      <td>1.257237</td>\n",
       "    </tr>\n",
       "    <tr>\n",
       "      <td>2</td>\n",
       "      <td>1.127100</td>\n",
       "      <td>1.331912</td>\n",
       "    </tr>\n",
       "    <tr>\n",
       "      <td>3</td>\n",
       "      <td>0.986700</td>\n",
       "      <td>1.375728</td>\n",
       "    </tr>\n",
       "  </tbody>\n",
       "</table><p>"
      ],
      "text/plain": [
       "<IPython.core.display.HTML object>"
      ]
     },
     "metadata": {},
     "output_type": "display_data"
    },
    {
     "data": {
      "text/plain": [
       "TrainOutput(global_step=6177, training_loss=1.304300118943953, metrics={'train_runtime': 1981.726, 'train_samples_per_second': 199.453, 'train_steps_per_second': 3.117, 'total_flos': 3.873165421863629e+16, 'train_loss': 1.304300118943953, 'epoch': 3.0})"
      ]
     },
     "execution_count": 41,
     "metadata": {},
     "output_type": "execute_result"
    }
   ],
   "source": [
    "trainer.train()"
   ]
  },
  {
   "cell_type": "markdown",
   "metadata": {},
   "source": [
    "### 训练完成后，第一时间保存模型权重文件。"
   ]
  },
  {
   "cell_type": "code",
   "execution_count": 42,
   "metadata": {
    "execution": {
     "iopub.execute_input": "2024-06-12T03:51:16.802877Z",
     "iopub.status.busy": "2024-06-12T03:51:16.802600Z",
     "iopub.status.idle": "2024-06-12T03:51:17.439361Z",
     "shell.execute_reply": "2024-06-12T03:51:17.438453Z",
     "shell.execute_reply.started": "2024-06-12T03:51:16.802854Z"
    }
   },
   "outputs": [],
   "source": [
    "model_to_save = trainer.save_model(model_dir)"
   ]
  },
  {
   "cell_type": "markdown",
   "metadata": {},
   "source": [
    "## 模型评估"
   ]
  },
  {
   "cell_type": "markdown",
   "metadata": {},
   "source": [
    "**评估模型输出需要一些额外的处理：将模型的预测映射回上下文的部分。**\n",
    "\n",
    "模型直接输出的是预测答案的`起始位置`和`结束位置`的**logits**"
   ]
  },
  {
   "cell_type": "code",
   "execution_count": 43,
   "metadata": {
    "execution": {
     "iopub.execute_input": "2024-06-12T03:51:17.440651Z",
     "iopub.status.busy": "2024-06-12T03:51:17.440427Z",
     "iopub.status.idle": "2024-06-12T03:51:17.516306Z",
     "shell.execute_reply": "2024-06-12T03:51:17.515545Z",
     "shell.execute_reply.started": "2024-06-12T03:51:17.440629Z"
    }
   },
   "outputs": [
    {
     "data": {
      "text/plain": [
       "odict_keys(['loss', 'start_logits', 'end_logits'])"
      ]
     },
     "execution_count": 43,
     "metadata": {},
     "output_type": "execute_result"
    }
   ],
   "source": [
    "import torch\n",
    "\n",
    "for batch in trainer.get_eval_dataloader():\n",
    "    break\n",
    "batch = {k: v.to(trainer.args.device) for k, v in batch.items()}\n",
    "with torch.no_grad():\n",
    "    output = trainer.model(**batch)\n",
    "output.keys()"
   ]
  },
  {
   "cell_type": "markdown",
   "metadata": {},
   "source": [
    "模型的输出是一个类似字典的对象，其中包含损失（因为我们提供了标签），以及起始和结束logits。我们不需要损失来进行预测，让我们看一下logits："
   ]
  },
  {
   "cell_type": "code",
   "execution_count": 44,
   "metadata": {
    "execution": {
     "iopub.execute_input": "2024-06-12T03:51:17.517490Z",
     "iopub.status.busy": "2024-06-12T03:51:17.517277Z",
     "iopub.status.idle": "2024-06-12T03:51:17.523141Z",
     "shell.execute_reply": "2024-06-12T03:51:17.522406Z",
     "shell.execute_reply.started": "2024-06-12T03:51:17.517468Z"
    }
   },
   "outputs": [
    {
     "data": {
      "text/plain": [
       "(torch.Size([64, 384]), torch.Size([64, 384]))"
      ]
     },
     "execution_count": 44,
     "metadata": {},
     "output_type": "execute_result"
    }
   ],
   "source": [
    "output.start_logits.shape, output.end_logits.shape"
   ]
  },
  {
   "cell_type": "code",
   "execution_count": 45,
   "metadata": {
    "execution": {
     "iopub.execute_input": "2024-06-12T03:51:17.524253Z",
     "iopub.status.busy": "2024-06-12T03:51:17.524045Z",
     "iopub.status.idle": "2024-06-12T03:51:17.607451Z",
     "shell.execute_reply": "2024-06-12T03:51:17.606662Z",
     "shell.execute_reply.started": "2024-06-12T03:51:17.524233Z"
    }
   },
   "outputs": [
    {
     "data": {
      "text/plain": [
       "(tensor([ 49,  37,  72,  80, 157,  17,  44,  99, 147, 202, 119,  52,  22,  31,\n",
       "           0, 120, 252,  94,  90,  35,   0,  56,  88, 152,  23,   0,   0, 138,\n",
       "          15,  51, 128,   0,  72,  32,   0,   0,  93,  25,  93, 105,  40,  13,\n",
       "          33,  55,  99,  29,  80,   0,  28,  29,   0,   0, 139,  70,  49,  17,\n",
       "          47,  62,  75,   0,  16,  93,   0,  12], device='cuda:0'),\n",
       " tensor([ 49,  40,  76,  81, 157,  19,  44, 101, 153, 204, 120,  52,  26,  33,\n",
       "           0, 121, 252,  97,  91,  20,   0,  56,   0, 153,  24,   0,   0, 142,\n",
       "          16,  52, 149,   0,  72,   0,   0,   0,  94,  27,  94, 112,  44,  15,\n",
       "          50,  56, 104,  30,  81,   0,  29,  30,   0,  80, 141,  71,  51,  15,\n",
       "          49,  63,  82,   0,  17,   0,   0,  15], device='cuda:0'))"
      ]
     },
     "execution_count": 45,
     "metadata": {},
     "output_type": "execute_result"
    }
   ],
   "source": [
    "output.start_logits.argmax(dim=-1), output.end_logits.argmax(dim=-1)"
   ]
  },
  {
   "cell_type": "markdown",
   "metadata": {},
   "source": [
    "#### 如何从模型输出的位置 logit 组合成答案\n",
    "\n",
    "我们有每个特征和每个标记的logit。在每个特征中为每个标记预测答案最明显的方法是，将起始logits的最大索引作为起始位置，将结束logits的最大索引作为结束位置。\n",
    "\n",
    "在许多情况下这种方式效果很好，但是如果此预测给出了不可能的结果该怎么办？比如：起始位置可能大于结束位置，或者指向问题中的文本片段而不是答案。在这种情况下，我们可能希望查看第二好的预测，看它是否给出了一个可能的答案，并选择它。\n",
    "\n",
    "选择第二好的答案并不像选择最佳答案那么容易：\n",
    "- 它是起始logits中第二佳索引与结束logits中最佳索引吗？\n",
    "- 还是起始logits中最佳索引与结束logits中第二佳索引？\n",
    "- 如果第二好的答案也不可能，那么对于第三好的答案，情况会更加棘手。\n",
    "\n",
    "为了对答案进行分类，\n",
    "1. 将使用通过添加起始和结束logits获得的分数\n",
    "1. 设计一个名为`n_best_size`的超参数，限制不对所有可能的答案进行排序。\n",
    "1. 我们将选择起始和结束logits中的最佳索引，并收集这些预测的所有答案。\n",
    "1. 在检查每一个是否有效后，我们将按照其分数对它们进行排序，并保留最佳的答案。\n",
    "\n",
    "以下是我们如何在批次中的第一个特征上执行此操作的示例："
   ]
  },
  {
   "cell_type": "code",
   "execution_count": 46,
   "metadata": {
    "execution": {
     "iopub.execute_input": "2024-06-12T03:51:17.608648Z",
     "iopub.status.busy": "2024-06-12T03:51:17.608433Z",
     "iopub.status.idle": "2024-06-12T03:51:17.612715Z",
     "shell.execute_reply": "2024-06-12T03:51:17.612015Z",
     "shell.execute_reply.started": "2024-06-12T03:51:17.608626Z"
    }
   },
   "outputs": [],
   "source": [
    "n_best_size = 20"
   ]
  },
  {
   "cell_type": "code",
   "execution_count": 47,
   "metadata": {
    "execution": {
     "iopub.execute_input": "2024-06-12T03:51:17.613762Z",
     "iopub.status.busy": "2024-06-12T03:51:17.613566Z",
     "iopub.status.idle": "2024-06-12T03:51:17.619888Z",
     "shell.execute_reply": "2024-06-12T03:51:17.619147Z",
     "shell.execute_reply.started": "2024-06-12T03:51:17.613742Z"
    }
   },
   "outputs": [],
   "source": [
    "import numpy as np\n",
    "\n",
    "start_logits = output.start_logits[0].cpu().numpy()\n",
    "end_logits = output.end_logits[0].cpu().numpy()\n",
    "\n",
    "# 获取最佳的起始和结束位置的索引：\n",
    "start_indexes = np.argsort(start_logits)[-1 : -n_best_size - 1 : -1].tolist()\n",
    "end_indexes = np.argsort(end_logits)[-1 : -n_best_size - 1 : -1].tolist()\n",
    "\n",
    "valid_answers = []\n",
    "\n",
    "# 遍历起始位置和结束位置的索引组合\n",
    "for start_index in start_indexes:\n",
    "    for end_index in end_indexes:\n",
    "        if start_index <= end_index:  # 需要进一步测试以检查答案是否在上下文中\n",
    "            valid_answers.append(\n",
    "                {\n",
    "                    \"score\": start_logits[start_index] + end_logits[end_index],\n",
    "                    \"text\": \"\"  # 我们需要找到一种方法来获取与上下文中答案对应的原始子字符串\n",
    "                }\n",
    "            )\n"
   ]
  },
  {
   "cell_type": "markdown",
   "metadata": {},
   "source": [
    "\n",
    "然后，我们可以根据它们的得分对`valid_answers`进行排序，并仅保留最佳答案。唯一剩下的问题是如何检查给定的跨度是否在上下文中（而不是问题中），以及如何获取其中的文本。为此，我们需要向我们的验证特征添加两个内容：\n",
    "\n",
    "- 生成该特征的示例的ID（因为每个示例可以生成多个特征，如前所示）；\n",
    "- 偏移映射，它将为我们提供从标记索引到上下文中字符位置的映射。\n",
    "\n",
    "这就是为什么我们将使用以下函数稍微不同于`prepare_train_features`来重新处理验证集："
   ]
  },
  {
   "cell_type": "code",
   "execution_count": 48,
   "metadata": {
    "execution": {
     "iopub.execute_input": "2024-06-12T03:51:17.620977Z",
     "iopub.status.busy": "2024-06-12T03:51:17.620775Z",
     "iopub.status.idle": "2024-06-12T03:51:17.628047Z",
     "shell.execute_reply": "2024-06-12T03:51:17.627293Z",
     "shell.execute_reply.started": "2024-06-12T03:51:17.620957Z"
    }
   },
   "outputs": [],
   "source": [
    "def prepare_validation_features(examples):\n",
    "    # 一些问题的左侧有很多空白，这些空白并不有用且会导致上下文截断失败（分词后的问题会占用很多空间）。\n",
    "    # 因此我们移除这些左侧空白\n",
    "    examples[\"question\"] = [q.lstrip() for q in examples[\"question\"]]\n",
    "\n",
    "    # 使用截断和可能的填充对我们的示例进行分词，但使用步长保留溢出的令牌。这导致一个长上下文的示例可能产生\n",
    "    # 几个特征，每个特征的上下文都会稍微与前一个特征的上下文重叠。\n",
    "    tokenized_examples = tokenizer(\n",
    "        examples[\"question\" if pad_on_right else \"context\"],\n",
    "        examples[\"context\" if pad_on_right else \"question\"],\n",
    "        truncation=\"only_second\" if pad_on_right else \"only_first\",\n",
    "        max_length=max_length,\n",
    "        stride=doc_stride,\n",
    "        return_overflowing_tokens=True,\n",
    "        return_offsets_mapping=True,\n",
    "        padding=\"max_length\",\n",
    "    )\n",
    "\n",
    "    # 由于一个示例在上下文很长时可能会产生几个特征，我们需要一个从特征映射到其对应示例的映射。这个键就是为了这个目的。\n",
    "    sample_mapping = tokenized_examples.pop(\"overflow_to_sample_mapping\")\n",
    "\n",
    "    # 我们保留产生这个特征的示例ID，并且会存储偏移映射。\n",
    "    tokenized_examples[\"example_id\"] = []\n",
    "\n",
    "    for i in range(len(tokenized_examples[\"input_ids\"])):\n",
    "        # 获取与该示例对应的序列（以了解哪些是上下文，哪些是问题）。\n",
    "        sequence_ids = tokenized_examples.sequence_ids(i)\n",
    "        context_index = 1 if pad_on_right else 0\n",
    "\n",
    "        # 一个示例可以产生几个文本段，这里是包含该文本段的示例的索引。\n",
    "        sample_index = sample_mapping[i]\n",
    "        tokenized_examples[\"example_id\"].append(examples[\"id\"][sample_index])\n",
    "\n",
    "        # 将不属于上下文的偏移映射设置为None，以便容易确定一个令牌位置是否属于上下文。\n",
    "        tokenized_examples[\"offset_mapping\"][i] = [\n",
    "            (o if sequence_ids[k] == context_index else None)\n",
    "            for k, o in enumerate(tokenized_examples[\"offset_mapping\"][i])\n",
    "        ]\n",
    "\n",
    "    return tokenized_examples\n"
   ]
  },
  {
   "cell_type": "markdown",
   "metadata": {},
   "source": [
    "将`prepare_validation_features`应用到整个验证集："
   ]
  },
  {
   "cell_type": "code",
   "execution_count": 49,
   "metadata": {
    "execution": {
     "iopub.execute_input": "2024-06-12T03:51:17.629108Z",
     "iopub.status.busy": "2024-06-12T03:51:17.628902Z",
     "iopub.status.idle": "2024-06-12T03:51:22.451263Z",
     "shell.execute_reply": "2024-06-12T03:51:22.450580Z",
     "shell.execute_reply.started": "2024-06-12T03:51:17.629087Z"
    }
   },
   "outputs": [
    {
     "data": {
      "application/vnd.jupyter.widget-view+json": {
       "model_id": "eeb7616320244fda8faf3e36a6eaf02d",
       "version_major": 2,
       "version_minor": 0
      },
      "text/plain": [
       "Map:   0%|          | 0/11873 [00:00<?, ? examples/s]"
      ]
     },
     "metadata": {},
     "output_type": "display_data"
    }
   ],
   "source": [
    "validation_features = datasets[\"validation\"].map(\n",
    "    prepare_validation_features,\n",
    "    batched=True,\n",
    "    remove_columns=datasets[\"validation\"].column_names\n",
    ")"
   ]
  },
  {
   "cell_type": "markdown",
   "metadata": {},
   "source": [
    "Now we can grab the predictions for all features by using the `Trainer.predict` method:"
   ]
  },
  {
   "cell_type": "code",
   "execution_count": 50,
   "metadata": {
    "execution": {
     "iopub.execute_input": "2024-06-12T03:51:22.452165Z",
     "iopub.status.busy": "2024-06-12T03:51:22.452028Z",
     "iopub.status.idle": "2024-06-12T03:51:43.576894Z",
     "shell.execute_reply": "2024-06-12T03:51:43.576358Z",
     "shell.execute_reply.started": "2024-06-12T03:51:22.452151Z"
    }
   },
   "outputs": [
    {
     "data": {
      "text/html": [],
      "text/plain": [
       "<IPython.core.display.HTML object>"
      ]
     },
     "metadata": {},
     "output_type": "display_data"
    }
   ],
   "source": [
    "raw_predictions = trainer.predict(validation_features)"
   ]
  },
  {
   "cell_type": "markdown",
   "metadata": {},
   "source": [
    "`Trainer`会隐藏模型不使用的列（在这里是`example_id`和`offset_mapping`，我们需要它们进行后处理），所以我们需要将它们重新设置回来："
   ]
  },
  {
   "cell_type": "code",
   "execution_count": 51,
   "metadata": {
    "execution": {
     "iopub.execute_input": "2024-06-12T03:51:43.580109Z",
     "iopub.status.busy": "2024-06-12T03:51:43.578782Z",
     "iopub.status.idle": "2024-06-12T03:51:43.583849Z",
     "shell.execute_reply": "2024-06-12T03:51:43.583409Z",
     "shell.execute_reply.started": "2024-06-12T03:51:43.580082Z"
    }
   },
   "outputs": [],
   "source": [
    "validation_features.set_format(type=validation_features.format[\"type\"], columns=list(validation_features.features.keys()))"
   ]
  },
  {
   "cell_type": "markdown",
   "metadata": {},
   "source": [
    "现在，我们可以改进之前的测试：\n",
    "\n",
    "由于在偏移映射中，当它对应于问题的一部分时，我们将其设置为None，因此可以轻松检查答案是否完全在上下文中。我们还可以从考虑中排除非常长的答案（可以调整的超参数）。\n",
    "\n",
    "展开说下具体实现：\n",
    "- 首先从模型输出中获取起始和结束的逻辑值（logits），这些值表明答案在文本中可能开始和结束的位置。\n",
    "- 然后，它使用偏移映射（offset_mapping）来找到这些逻辑值在原始文本中的具体位置。\n",
    "- 接下来，代码遍历可能的开始和结束索引组合，排除那些不在上下文范围内或长度不合适的答案。\n",
    "- 对于有效的答案，它计算出一个分数（基于开始和结束逻辑值的和），并将答案及其分数存储起来。\n",
    "- 最后，它根据分数对答案进行排序，并返回得分最高的几个答案。"
   ]
  },
  {
   "cell_type": "code",
   "execution_count": 52,
   "metadata": {
    "execution": {
     "iopub.execute_input": "2024-06-12T03:51:43.584769Z",
     "iopub.status.busy": "2024-06-12T03:51:43.584628Z",
     "iopub.status.idle": "2024-06-12T03:51:43.587387Z",
     "shell.execute_reply": "2024-06-12T03:51:43.587006Z",
     "shell.execute_reply.started": "2024-06-12T03:51:43.584755Z"
    }
   },
   "outputs": [],
   "source": [
    "max_answer_length = 30"
   ]
  },
  {
   "cell_type": "code",
   "execution_count": 53,
   "metadata": {
    "execution": {
     "iopub.execute_input": "2024-06-12T03:51:43.588089Z",
     "iopub.status.busy": "2024-06-12T03:51:43.587945Z",
     "iopub.status.idle": "2024-06-12T03:51:43.598369Z",
     "shell.execute_reply": "2024-06-12T03:51:43.597739Z",
     "shell.execute_reply.started": "2024-06-12T03:51:43.588075Z"
    }
   },
   "outputs": [
    {
     "data": {
      "text/plain": [
       "[{'score': 12.874292, 'text': 'France'},\n",
       " {'score': 9.437713,\n",
       "  'text': 'France. They were descended from Norse (\"Norman\" comes from \"Norseman\") raiders and pirates from Denmark, Iceland and Norway'},\n",
       " {'score': 8.302984,\n",
       "  'text': 'France. They were descended from Norse (\"Norman\" comes from \"Norseman\") raiders and pirates from Denmark'},\n",
       " {'score': 7.2917128,\n",
       "  'text': 'France. They were descended from Norse (\"Norman\" comes from \"Norseman\") raiders and pirates from Denmark, Iceland'},\n",
       " {'score': 5.4903603, 'text': 'Normandy, a region in France'},\n",
       " {'score': 5.4563837, 'text': 'in France'},\n",
       " {'score': 5.413789, 'text': 'Denmark, Iceland and Norway'},\n",
       " {'score': 4.5007563, 'text': 'a region in France'},\n",
       " {'score': 4.35485, 'text': 'Iceland and Norway'},\n",
       " {'score': 4.2790594, 'text': 'Denmark'},\n",
       " {'score': 3.74992, 'text': 'France.'},\n",
       " {'score': 3.6782966, 'text': 'region in France'},\n",
       " {'score': 3.5391026, 'text': 'Norway'},\n",
       " {'score': 3.374726, 'text': 'France. They were descended from Norse'},\n",
       " {'score': 3.2677882, 'text': 'Denmark, Iceland'},\n",
       " {'score': 2.820263,\n",
       "  'text': 'French: Normands; Latin: Normanni) were the people who in the 10th and 11th centuries gave their name to Normandy, a region in France'},\n",
       " {'score': 2.5186615,\n",
       "  'text': 'France. They were descended from Norse (\"Norman\" comes from \"Norseman\") raiders and pirates from Denmark, Iceland and'},\n",
       " {'score': 2.387199,\n",
       "  'text': 'France. They were descended from Norse (\"Norman\" comes from \"Norseman\") raiders and pirates from Denmark,'},\n",
       " {'score': 2.299161,\n",
       "  'text': 'France. They were descended from Norse (\"Norman\" comes from \"Norseman\")'},\n",
       " {'score': 2.2088492, 'text': 'Iceland'}]"
      ]
     },
     "execution_count": 53,
     "metadata": {},
     "output_type": "execute_result"
    }
   ],
   "source": [
    "start_logits = output.start_logits[0].cpu().numpy()\n",
    "end_logits = output.end_logits[0].cpu().numpy()\n",
    "offset_mapping = validation_features[0][\"offset_mapping\"]\n",
    "\n",
    "# 第一个特征来自第一个示例。对于更一般的情况，我们需要将example_id匹配到一个示例索引\n",
    "context = datasets[\"validation\"][0][\"context\"]\n",
    "\n",
    "# 收集最佳开始/结束逻辑的索引：\n",
    "start_indexes = np.argsort(start_logits)[-1 : -n_best_size - 1 : -1].tolist()\n",
    "end_indexes = np.argsort(end_logits)[-1 : -n_best_size - 1 : -1].tolist()\n",
    "valid_answers = []\n",
    "for start_index in start_indexes:\n",
    "    for end_index in end_indexes:\n",
    "        # 不考虑超出范围的答案，原因是索引超出范围或对应于输入ID的部分不在上下文中。\n",
    "        if (\n",
    "            start_index >= len(offset_mapping)\n",
    "            or end_index >= len(offset_mapping)\n",
    "            or offset_mapping[start_index] is None\n",
    "            or offset_mapping[end_index] is None\n",
    "        ):\n",
    "            continue\n",
    "        # 不考虑长度小于0或大于max_answer_length的答案。\n",
    "        if end_index < start_index or end_index - start_index + 1 > max_answer_length:\n",
    "            continue\n",
    "        if start_index <= end_index: # 我们需要细化这个测试，以检查答案是否在上下文中\n",
    "            start_char = offset_mapping[start_index][0]\n",
    "            end_char = offset_mapping[end_index][1]\n",
    "            valid_answers.append(\n",
    "                {\n",
    "                    \"score\": start_logits[start_index] + end_logits[end_index],\n",
    "                    \"text\": context[start_char: end_char]\n",
    "                }\n",
    "            )\n",
    "\n",
    "valid_answers = sorted(valid_answers, key=lambda x: x[\"score\"], reverse=True)[:n_best_size]\n",
    "valid_answers\n"
   ]
  },
  {
   "cell_type": "markdown",
   "metadata": {},
   "source": [
    "打印比较模型输出和标准答案（Ground-truth）是否一致:"
   ]
  },
  {
   "cell_type": "code",
   "execution_count": 54,
   "metadata": {
    "execution": {
     "iopub.execute_input": "2024-06-12T03:51:43.599141Z",
     "iopub.status.busy": "2024-06-12T03:51:43.599013Z",
     "iopub.status.idle": "2024-06-12T03:51:43.603799Z",
     "shell.execute_reply": "2024-06-12T03:51:43.603193Z",
     "shell.execute_reply.started": "2024-06-12T03:51:43.599128Z"
    }
   },
   "outputs": [
    {
     "data": {
      "text/plain": [
       "{'text': ['France', 'France', 'France', 'France'],\n",
       " 'answer_start': [159, 159, 159, 159]}"
      ]
     },
     "execution_count": 54,
     "metadata": {},
     "output_type": "execute_result"
    }
   ],
   "source": [
    "datasets[\"validation\"][0][\"answers\"]"
   ]
  },
  {
   "cell_type": "markdown",
   "metadata": {},
   "source": [
    "**模型最高概率的输出与标准答案一致**\n",
    "\n",
    "正如上面的代码所示，这在第一个特征上很容易，因为我们知道它来自第一个示例。\n",
    "\n",
    "对于其他特征，我们需要建立一个示例与其对应特征的映射关系。\n",
    "\n",
    "此外，由于一个示例可以生成多个特征，我们需要将由给定示例生成的所有特征中的所有答案汇集在一起，然后选择最佳答案。\n",
    "\n",
    "下面的代码构建了一个示例索引到其对应特征索引的映射关系："
   ]
  },
  {
   "cell_type": "code",
   "execution_count": 55,
   "metadata": {
    "execution": {
     "iopub.execute_input": "2024-06-12T03:51:43.604527Z",
     "iopub.status.busy": "2024-06-12T03:51:43.604413Z",
     "iopub.status.idle": "2024-06-12T03:51:51.332792Z",
     "shell.execute_reply": "2024-06-12T03:51:51.331924Z",
     "shell.execute_reply.started": "2024-06-12T03:51:43.604515Z"
    }
   },
   "outputs": [],
   "source": [
    "import collections\n",
    "\n",
    "examples = datasets[\"validation\"]\n",
    "features = validation_features\n",
    "\n",
    "example_id_to_index = {k: i for i, k in enumerate(examples[\"id\"])}\n",
    "features_per_example = collections.defaultdict(list)\n",
    "for i, feature in enumerate(features):\n",
    "    features_per_example[example_id_to_index[feature[\"example_id\"]]].append(i)"
   ]
  },
  {
   "cell_type": "markdown",
   "metadata": {},
   "source": [
    "当`squad_v2 = True`时，有一定概率出现不可能的答案（impossible answer)。\n",
    "\n",
    "上面的代码仅保留在上下文中的答案，我们还需要获取不可能答案的分数（其起始和结束索引对应于CLS标记的索引）。\n",
    "\n",
    "当一个示例生成多个特征时，我们必须在所有特征中的不可能答案都预测出现不可能答案时（因为一个特征可能之所以能够预测出不可能答案，是因为答案不在它可以访问的上下文部分），这就是为什么一个示例中不可能答案的分数是该示例生成的每个特征中的不可能答案的分数的最小值。"
   ]
  },
  {
   "cell_type": "code",
   "execution_count": 56,
   "metadata": {
    "execution": {
     "iopub.execute_input": "2024-06-12T03:51:51.333945Z",
     "iopub.status.busy": "2024-06-12T03:51:51.333786Z",
     "iopub.status.idle": "2024-06-12T03:51:51.342863Z",
     "shell.execute_reply": "2024-06-12T03:51:51.342268Z",
     "shell.execute_reply.started": "2024-06-12T03:51:51.333931Z"
    }
   },
   "outputs": [],
   "source": [
    "from tqdm.auto import tqdm\n",
    "\n",
    "def postprocess_qa_predictions(examples, features, raw_predictions, n_best_size = 20, max_answer_length = 30):\n",
    "    all_start_logits, all_end_logits = raw_predictions\n",
    "    # 构建一个从示例到其对应特征的映射。\n",
    "    example_id_to_index = {k: i for i, k in enumerate(examples[\"id\"])}\n",
    "    features_per_example = collections.defaultdict(list)\n",
    "    for i, feature in enumerate(features):\n",
    "        features_per_example[example_id_to_index[feature[\"example_id\"]]].append(i)\n",
    "\n",
    "    # 我们需要填充的字典。\n",
    "    predictions = collections.OrderedDict()\n",
    "\n",
    "    # 日志记录。\n",
    "    print(f\"正在后处理 {len(examples)} 个示例的预测，这些预测分散在 {len(features)} 个特征中。\")\n",
    "\n",
    "    # 遍历所有示例！\n",
    "    for example_index, example in enumerate(tqdm(examples)):\n",
    "        # 这些是与当前示例关联的特征的索引。\n",
    "        feature_indices = features_per_example[example_index]\n",
    "\n",
    "        min_null_score = None # 仅在squad_v2为True时使用。\n",
    "        valid_answers = []\n",
    "        \n",
    "        context = example[\"context\"]\n",
    "        # 遍历与当前示例关联的所有特征。\n",
    "        for feature_index in feature_indices:\n",
    "            # 我们获取模型对这个特征的预测。\n",
    "            start_logits = all_start_logits[feature_index]\n",
    "            end_logits = all_end_logits[feature_index]\n",
    "            # 这将允许我们将logits中的某些位置映射到原始上下文中的文本跨度。\n",
    "            offset_mapping = features[feature_index][\"offset_mapping\"]\n",
    "\n",
    "            # 更新最小空预测。\n",
    "            cls_index = features[feature_index][\"input_ids\"].index(tokenizer.cls_token_id)\n",
    "            feature_null_score = start_logits[cls_index] + end_logits[cls_index]\n",
    "            if min_null_score is None or min_null_score < feature_null_score:\n",
    "                min_null_score = feature_null_score\n",
    "\n",
    "            # 浏览所有的最佳开始和结束logits，为 `n_best_size` 个最佳选择。\n",
    "            start_indexes = np.argsort(start_logits)[-1 : -n_best_size - 1 : -1].tolist()\n",
    "            end_indexes = np.argsort(end_logits)[-1 : -n_best_size - 1 : -1].tolist()\n",
    "            for start_index in start_indexes:\n",
    "                for end_index in end_indexes:\n",
    "                    # 不考虑超出范围的答案，原因是索引超出范围或对应于输入ID的部分不在上下文中。\n",
    "                    if (\n",
    "                        start_index >= len(offset_mapping)\n",
    "                        or end_index >= len(offset_mapping)\n",
    "                        or offset_mapping[start_index] is None\n",
    "                        or offset_mapping[end_index] is None\n",
    "                    ):\n",
    "                        continue\n",
    "                    # 不考虑长度小于0或大于max_answer_length的答案。\n",
    "                    if end_index < start_index or end_index - start_index + 1 > max_answer_length:\n",
    "                        continue\n",
    "\n",
    "                    start_char = offset_mapping[start_index][0]\n",
    "                    end_char = offset_mapping[end_index][1]\n",
    "                    valid_answers.append(\n",
    "                        {\n",
    "                            \"score\": start_logits[start_index] + end_logits[end_index],\n",
    "                            \"text\": context[start_char: end_char]\n",
    "                        }\n",
    "                    )\n",
    "        \n",
    "        if len(valid_answers) > 0:\n",
    "            best_answer = sorted(valid_answers, key=lambda x: x[\"score\"], reverse=True)[0]\n",
    "        else:\n",
    "            # 在极少数情况下我们没有一个非空预测，我们创建一个假预测以避免失败。\n",
    "            best_answer = {\"text\": \"\", \"score\": 0.0}\n",
    "        \n",
    "        # 选择我们的最终答案：最佳答案或空答案（仅适用于squad_v2）\n",
    "        if not squad_v2:\n",
    "            predictions[example[\"id\"]] = best_answer[\"text\"]\n",
    "        else:\n",
    "            answer = best_answer[\"text\"] if best_answer[\"score\"] > min_null_score else \"\"\n",
    "            predictions[example[\"id\"]] = answer\n",
    "\n",
    "    return predictions\n"
   ]
  },
  {
   "cell_type": "markdown",
   "metadata": {},
   "source": [
    "在原始结果上应用后处理问答结果："
   ]
  },
  {
   "cell_type": "code",
   "execution_count": 57,
   "metadata": {
    "execution": {
     "iopub.execute_input": "2024-06-12T03:51:51.343581Z",
     "iopub.status.busy": "2024-06-12T03:51:51.343462Z",
     "iopub.status.idle": "2024-06-12T03:52:17.707984Z",
     "shell.execute_reply": "2024-06-12T03:52:17.707257Z",
     "shell.execute_reply.started": "2024-06-12T03:51:51.343568Z"
    }
   },
   "outputs": [
    {
     "name": "stdout",
     "output_type": "stream",
     "text": [
      "正在后处理 11873 个示例的预测，这些预测分散在 12134 个特征中。\n"
     ]
    },
    {
     "data": {
      "application/vnd.jupyter.widget-view+json": {
       "model_id": "02bc0bd45add40baaed34659b410702a",
       "version_major": 2,
       "version_minor": 0
      },
      "text/plain": [
       "  0%|          | 0/11873 [00:00<?, ?it/s]"
      ]
     },
     "metadata": {},
     "output_type": "display_data"
    }
   ],
   "source": [
    "final_predictions = postprocess_qa_predictions(datasets[\"validation\"], validation_features, raw_predictions.predictions)"
   ]
  },
  {
   "cell_type": "markdown",
   "metadata": {},
   "source": [
    "使用 `datasets.load_metric` 中加载 `SQuAD v2` 的评估指标"
   ]
  },
  {
   "cell_type": "code",
   "execution_count": 58,
   "metadata": {
    "execution": {
     "iopub.execute_input": "2024-06-12T03:52:17.708891Z",
     "iopub.status.busy": "2024-06-12T03:52:17.708749Z",
     "iopub.status.idle": "2024-06-12T03:52:23.266918Z",
     "shell.execute_reply": "2024-06-12T03:52:23.266154Z",
     "shell.execute_reply.started": "2024-06-12T03:52:17.708876Z"
    }
   },
   "outputs": [
    {
     "name": "stderr",
     "output_type": "stream",
     "text": [
      "/tmp/ipykernel_33185/2330875496.py:3: FutureWarning: load_metric is deprecated and will be removed in the next major version of datasets. Use 'evaluate.load' instead, from the new library 🤗 Evaluate: https://huggingface.co/docs/evaluate\n",
      "  metric = load_metric(\"squad_v2\" if squad_v2 else \"squad\")\n",
      "/root/miniconda3/lib/python3.12/site-packages/datasets/load.py:759: FutureWarning: The repository for squad contains custom code which must be executed to correctly load the metric. You can inspect the repository content at https://raw.githubusercontent.com/huggingface/datasets/2.19.2/metrics/squad/squad.py\n",
      "You can avoid this message in future by passing the argument `trust_remote_code=True`.\n",
      "Passing `trust_remote_code=True` will be mandatory to load this metric from the next major release of `datasets`.\n",
      "  warnings.warn(\n"
     ]
    },
    {
     "data": {
      "application/vnd.jupyter.widget-view+json": {
       "model_id": "3e5939bc219e409387192ce463dbbdd1",
       "version_major": 2,
       "version_minor": 0
      },
      "text/plain": [
       "Downloading builder script:   0%|          | 0.00/1.72k [00:00<?, ?B/s]"
      ]
     },
     "metadata": {},
     "output_type": "display_data"
    },
    {
     "data": {
      "application/vnd.jupyter.widget-view+json": {
       "model_id": "2481284a05174c4b8b9064fd468b40dc",
       "version_major": 2,
       "version_minor": 0
      },
      "text/plain": [
       "Downloading extra modules:   0%|          | 0.00/1.11k [00:00<?, ?B/s]"
      ]
     },
     "metadata": {},
     "output_type": "display_data"
    }
   ],
   "source": [
    "from datasets import load_metric\n",
    "\n",
    "metric = load_metric(\"squad_v2\" if squad_v2 else \"squad\")"
   ]
  },
  {
   "cell_type": "markdown",
   "metadata": {},
   "source": [
    "接下来，我们可以调用上面定义的函数进行评估。\n",
    "\n",
    "只需稍微调整一下预测和标签的格式，因为它期望的是一系列字典而不是一个大字典。\n",
    "\n",
    "在使用`squad_v2`数据集时，我们还需要设置`no_answer_probability`参数（我们在这里将其设置为0.0，因为如果我们选择了答案，我们已经将答案设置为空）。"
   ]
  },
  {
   "cell_type": "code",
   "execution_count": 59,
   "metadata": {
    "execution": {
     "iopub.execute_input": "2024-06-12T03:52:23.268116Z",
     "iopub.status.busy": "2024-06-12T03:52:23.267875Z",
     "iopub.status.idle": "2024-06-12T03:52:25.345250Z",
     "shell.execute_reply": "2024-06-12T03:52:25.343787Z",
     "shell.execute_reply.started": "2024-06-12T03:52:23.268092Z"
    }
   },
   "outputs": [
    {
     "ename": "ValueError",
     "evalue": "max() iterable argument is empty",
     "output_type": "error",
     "traceback": [
      "\u001b[0;31m---------------------------------------------------------------------------\u001b[0m",
      "\u001b[0;31mValueError\u001b[0m                                Traceback (most recent call last)",
      "Cell \u001b[0;32mIn[59], line 6\u001b[0m\n\u001b[1;32m      4\u001b[0m     formatted_predictions \u001b[38;5;241m=\u001b[39m [{\u001b[38;5;124m\"\u001b[39m\u001b[38;5;124mid\u001b[39m\u001b[38;5;124m\"\u001b[39m: k, \u001b[38;5;124m\"\u001b[39m\u001b[38;5;124mprediction_text\u001b[39m\u001b[38;5;124m\"\u001b[39m: v} \u001b[38;5;28;01mfor\u001b[39;00m k, v \u001b[38;5;129;01min\u001b[39;00m final_predictions\u001b[38;5;241m.\u001b[39mitems()]\n\u001b[1;32m      5\u001b[0m references \u001b[38;5;241m=\u001b[39m [{\u001b[38;5;124m\"\u001b[39m\u001b[38;5;124mid\u001b[39m\u001b[38;5;124m\"\u001b[39m: ex[\u001b[38;5;124m\"\u001b[39m\u001b[38;5;124mid\u001b[39m\u001b[38;5;124m\"\u001b[39m], \u001b[38;5;124m\"\u001b[39m\u001b[38;5;124manswers\u001b[39m\u001b[38;5;124m\"\u001b[39m: ex[\u001b[38;5;124m\"\u001b[39m\u001b[38;5;124manswers\u001b[39m\u001b[38;5;124m\"\u001b[39m]} \u001b[38;5;28;01mfor\u001b[39;00m ex \u001b[38;5;129;01min\u001b[39;00m datasets[\u001b[38;5;124m\"\u001b[39m\u001b[38;5;124mvalidation\u001b[39m\u001b[38;5;124m\"\u001b[39m]]\n\u001b[0;32m----> 6\u001b[0m \u001b[43mmetric\u001b[49m\u001b[38;5;241;43m.\u001b[39;49m\u001b[43mcompute\u001b[49m\u001b[43m(\u001b[49m\u001b[43mpredictions\u001b[49m\u001b[38;5;241;43m=\u001b[39;49m\u001b[43mformatted_predictions\u001b[49m\u001b[43m,\u001b[49m\u001b[43m \u001b[49m\u001b[43mreferences\u001b[49m\u001b[38;5;241;43m=\u001b[39;49m\u001b[43mreferences\u001b[49m\u001b[43m)\u001b[49m\n",
      "File \u001b[0;32m~/miniconda3/lib/python3.12/site-packages/datasets/metric.py:455\u001b[0m, in \u001b[0;36mMetric.compute\u001b[0;34m(self, predictions, references, **kwargs)\u001b[0m\n\u001b[1;32m    453\u001b[0m inputs \u001b[38;5;241m=\u001b[39m {input_name: \u001b[38;5;28mself\u001b[39m\u001b[38;5;241m.\u001b[39mdata[input_name] \u001b[38;5;28;01mfor\u001b[39;00m input_name \u001b[38;5;129;01min\u001b[39;00m \u001b[38;5;28mself\u001b[39m\u001b[38;5;241m.\u001b[39mfeatures}\n\u001b[1;32m    454\u001b[0m \u001b[38;5;28;01mwith\u001b[39;00m temp_seed(\u001b[38;5;28mself\u001b[39m\u001b[38;5;241m.\u001b[39mseed):\n\u001b[0;32m--> 455\u001b[0m     output \u001b[38;5;241m=\u001b[39m \u001b[38;5;28;43mself\u001b[39;49m\u001b[38;5;241;43m.\u001b[39;49m\u001b[43m_compute\u001b[49m\u001b[43m(\u001b[49m\u001b[38;5;241;43m*\u001b[39;49m\u001b[38;5;241;43m*\u001b[39;49m\u001b[43minputs\u001b[49m\u001b[43m,\u001b[49m\u001b[43m \u001b[49m\u001b[38;5;241;43m*\u001b[39;49m\u001b[38;5;241;43m*\u001b[39;49m\u001b[43mcompute_kwargs\u001b[49m\u001b[43m)\u001b[49m\n\u001b[1;32m    457\u001b[0m \u001b[38;5;28;01mif\u001b[39;00m \u001b[38;5;28mself\u001b[39m\u001b[38;5;241m.\u001b[39mbuf_writer \u001b[38;5;129;01mis\u001b[39;00m \u001b[38;5;129;01mnot\u001b[39;00m \u001b[38;5;28;01mNone\u001b[39;00m:\n\u001b[1;32m    458\u001b[0m     \u001b[38;5;28mself\u001b[39m\u001b[38;5;241m.\u001b[39mbuf_writer \u001b[38;5;241m=\u001b[39m \u001b[38;5;28;01mNone\u001b[39;00m\n",
      "File \u001b[0;32m~/.cache/huggingface/modules/datasets_modules/metrics/squad/17251fdf0fee19c22e38bea85ee9d91fba9f81547983e13e6b89b6abfeceeff0/squad.py:108\u001b[0m, in \u001b[0;36mSquad._compute\u001b[0;34m(self, predictions, references)\u001b[0m\n\u001b[1;32m     92\u001b[0m pred_dict \u001b[38;5;241m=\u001b[39m {prediction[\u001b[38;5;124m\"\u001b[39m\u001b[38;5;124mid\u001b[39m\u001b[38;5;124m\"\u001b[39m]: prediction[\u001b[38;5;124m\"\u001b[39m\u001b[38;5;124mprediction_text\u001b[39m\u001b[38;5;124m\"\u001b[39m] \u001b[38;5;28;01mfor\u001b[39;00m prediction \u001b[38;5;129;01min\u001b[39;00m predictions}\n\u001b[1;32m     93\u001b[0m dataset \u001b[38;5;241m=\u001b[39m [\n\u001b[1;32m     94\u001b[0m     {\n\u001b[1;32m     95\u001b[0m         \u001b[38;5;124m\"\u001b[39m\u001b[38;5;124mparagraphs\u001b[39m\u001b[38;5;124m\"\u001b[39m: [\n\u001b[0;32m   (...)\u001b[0m\n\u001b[1;32m    106\u001b[0m     }\n\u001b[1;32m    107\u001b[0m ]\n\u001b[0;32m--> 108\u001b[0m score \u001b[38;5;241m=\u001b[39m \u001b[43mevaluate\u001b[49m\u001b[43m(\u001b[49m\u001b[43mdataset\u001b[49m\u001b[38;5;241;43m=\u001b[39;49m\u001b[43mdataset\u001b[49m\u001b[43m,\u001b[49m\u001b[43m \u001b[49m\u001b[43mpredictions\u001b[49m\u001b[38;5;241;43m=\u001b[39;49m\u001b[43mpred_dict\u001b[49m\u001b[43m)\u001b[49m\n\u001b[1;32m    109\u001b[0m \u001b[38;5;28;01mreturn\u001b[39;00m score\n",
      "File \u001b[0;32m~/.cache/huggingface/modules/datasets_modules/metrics/squad/17251fdf0fee19c22e38bea85ee9d91fba9f81547983e13e6b89b6abfeceeff0/evaluate.py:67\u001b[0m, in \u001b[0;36mevaluate\u001b[0;34m(dataset, predictions)\u001b[0m\n\u001b[1;32m     65\u001b[0m             ground_truths \u001b[38;5;241m=\u001b[39m [x[\u001b[38;5;124m\"\u001b[39m\u001b[38;5;124mtext\u001b[39m\u001b[38;5;124m\"\u001b[39m] \u001b[38;5;28;01mfor\u001b[39;00m x \u001b[38;5;129;01min\u001b[39;00m qa[\u001b[38;5;124m\"\u001b[39m\u001b[38;5;124manswers\u001b[39m\u001b[38;5;124m\"\u001b[39m]]\n\u001b[1;32m     66\u001b[0m             prediction \u001b[38;5;241m=\u001b[39m predictions[qa[\u001b[38;5;124m\"\u001b[39m\u001b[38;5;124mid\u001b[39m\u001b[38;5;124m\"\u001b[39m]]\n\u001b[0;32m---> 67\u001b[0m             exact_match \u001b[38;5;241m+\u001b[39m\u001b[38;5;241m=\u001b[39m \u001b[43mmetric_max_over_ground_truths\u001b[49m\u001b[43m(\u001b[49m\u001b[43mexact_match_score\u001b[49m\u001b[43m,\u001b[49m\u001b[43m \u001b[49m\u001b[43mprediction\u001b[49m\u001b[43m,\u001b[49m\u001b[43m \u001b[49m\u001b[43mground_truths\u001b[49m\u001b[43m)\u001b[49m\n\u001b[1;32m     68\u001b[0m             f1 \u001b[38;5;241m+\u001b[39m\u001b[38;5;241m=\u001b[39m metric_max_over_ground_truths(f1_score, prediction, ground_truths)\n\u001b[1;32m     70\u001b[0m exact_match \u001b[38;5;241m=\u001b[39m \u001b[38;5;241m100.0\u001b[39m \u001b[38;5;241m*\u001b[39m exact_match \u001b[38;5;241m/\u001b[39m total\n",
      "File \u001b[0;32m~/.cache/huggingface/modules/datasets_modules/metrics/squad/17251fdf0fee19c22e38bea85ee9d91fba9f81547983e13e6b89b6abfeceeff0/evaluate.py:52\u001b[0m, in \u001b[0;36mmetric_max_over_ground_truths\u001b[0;34m(metric_fn, prediction, ground_truths)\u001b[0m\n\u001b[1;32m     50\u001b[0m     score \u001b[38;5;241m=\u001b[39m metric_fn(prediction, ground_truth)\n\u001b[1;32m     51\u001b[0m     scores_for_ground_truths\u001b[38;5;241m.\u001b[39mappend(score)\n\u001b[0;32m---> 52\u001b[0m \u001b[38;5;28;01mreturn\u001b[39;00m \u001b[38;5;28;43mmax\u001b[39;49m\u001b[43m(\u001b[49m\u001b[43mscores_for_ground_truths\u001b[49m\u001b[43m)\u001b[49m\n",
      "\u001b[0;31mValueError\u001b[0m: max() iterable argument is empty"
     ]
    }
   ],
   "source": [
    "if squad_v2:\n",
    "    formatted_predictions = [{\"id\": k, \"prediction_text\": v, \"no_answer_probability\": 0.0} for k, v in final_predictions.items()]\n",
    "else:\n",
    "    formatted_predictions = [{\"id\": k, \"prediction_text\": v} for k, v in final_predictions.items()]\n",
    "references = [{\"id\": ex[\"id\"], \"answers\": ex[\"answers\"]} for ex in datasets[\"validation\"]]\n",
    "metric.compute(predictions=formatted_predictions, references=references)"
   ]
  },
  {
   "cell_type": "code",
   "execution_count": null,
   "metadata": {},
   "outputs": [],
   "source": []
  },
  {
   "cell_type": "markdown",
   "metadata": {},
   "source": [
    "### Homework：加载本地保存的模型，进行评估和再训练更高的 F1 Score"
   ]
  },
  {
   "cell_type": "code",
   "execution_count": null,
   "metadata": {
    "execution": {
     "iopub.status.busy": "2024-06-12T03:52:25.346011Z",
     "iopub.status.idle": "2024-06-12T03:52:25.346281Z",
     "shell.execute_reply": "2024-06-12T03:52:25.346159Z",
     "shell.execute_reply.started": "2024-06-12T03:52:25.346145Z"
    }
   },
   "outputs": [],
   "source": [
    "trained_model = AutoModelForQuestionAnswering.from_pretrained(model_dir)"
   ]
  },
  {
   "cell_type": "code",
   "execution_count": null,
   "metadata": {
    "execution": {
     "iopub.status.busy": "2024-06-12T03:52:25.347734Z",
     "iopub.status.idle": "2024-06-12T03:52:25.347988Z",
     "shell.execute_reply": "2024-06-12T03:52:25.347871Z",
     "shell.execute_reply.started": "2024-06-12T03:52:25.347858Z"
    }
   },
   "outputs": [],
   "source": [
    "trained_trainer = Trainer(\n",
    "    trained_model,\n",
    "    args,\n",
    "    train_dataset=tokenized_datasets[\"train\"],\n",
    "    eval_dataset=tokenized_datasets[\"validation\"],\n",
    "    data_collator=data_collator,\n",
    "    tokenizer=tokenizer,\n",
    ")"
   ]
  },
  {
   "cell_type": "code",
   "execution_count": null,
   "metadata": {},
   "outputs": [],
   "source": []
  }
 ],
 "metadata": {
  "colab": {
   "name": "Question Answering on SQUAD",
   "provenance": []
  },
  "kernelspec": {
   "display_name": "peft",
   "language": "python",
   "name": "peft"
  },
  "language_info": {
   "codemirror_mode": {
    "name": "ipython",
    "version": 3
   },
   "file_extension": ".py",
   "mimetype": "text/x-python",
   "name": "python",
   "nbconvert_exporter": "python",
   "pygments_lexer": "ipython3",
   "version": "3.12.2"
  }
 },
 "nbformat": 4,
 "nbformat_minor": 4
}

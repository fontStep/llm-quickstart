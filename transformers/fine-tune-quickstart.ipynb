{
 "cells": [
  {
   "cell_type": "markdown",
   "id": "90c6730f-5d76-450b-9788-ec883d024f57",
   "metadata": {},
   "source": [
    "# Hugging Face Transformers 微调训练入门\n",
    "\n",
    "本示例将介绍基于 Transformers 实现模型微调训练的主要流程，包括：\n",
    "- 数据集下载\n",
    "- 数据预处理\n",
    "- 训练超参数配置\n",
    "- 训练评估指标设置\n",
    "- 训练器基本介绍\n",
    "- 实战训练\n",
    "- 模型保存"
   ]
  },
  {
   "cell_type": "markdown",
   "id": "aa0b1e12-1921-4438-8d5d-9760a629dcfe",
   "metadata": {},
   "source": [
    "## YelpReviewFull 数据集\n",
    "\n",
    "**Hugging Face 数据集：[ YelpReviewFull ](https://huggingface.co/datasets/yelp_review_full)**\n",
    "\n",
    "### 数据集摘要\n",
    "\n",
    "Yelp评论数据集包括来自Yelp的评论。它是从Yelp Dataset Challenge 2015数据中提取的。\n",
    "\n",
    "### 支持的任务和排行榜\n",
    "文本分类、情感分类：该数据集主要用于文本分类：给定文本，预测情感。\n",
    "\n",
    "### 语言\n",
    "这些评论主要以英语编写。\n",
    "\n",
    "### 数据集结构\n",
    "\n",
    "#### 数据实例\n",
    "一个典型的数据点包括文本和相应的标签。\n",
    "\n",
    "来自YelpReviewFull测试集的示例如下：\n",
    "\n",
    "```json\n",
    "{\n",
    "    'label': 0,\n",
    "    'text': 'I got \\'new\\' tires from them and within two weeks got a flat. I took my car to a local mechanic to see if i could get the hole patched, but they said the reason I had a flat was because the previous patch had blown - WAIT, WHAT? I just got the tire and never needed to have it patched? This was supposed to be a new tire. \\\\nI took the tire over to Flynn\\'s and they told me that someone punctured my tire, then tried to patch it. So there are resentful tire slashers? I find that very unlikely. After arguing with the guy and telling him that his logic was far fetched he said he\\'d give me a new tire \\\\\"this time\\\\\". \\\\nI will never go back to Flynn\\'s b/c of the way this guy treated me and the simple fact that they gave me a used tire!'\n",
    "}\n",
    "```\n",
    "\n",
    "#### 数据字段\n",
    "\n",
    "- 'text': 评论文本使用双引号（\"）转义，任何内部双引号都通过2个双引号（\"\"）转义。换行符使用反斜杠后跟一个 \"n\" 字符转义，即 \"\\n\"。\n",
    "- 'label': 对应于评论的分数（介于1和5之间）。\n",
    "\n",
    "#### 数据拆分\n",
    "\n",
    "Yelp评论完整星级数据集是通过随机选取每个1到5星评论的130,000个训练样本和10,000个测试样本构建的。总共有650,000个训练样本和50,000个测试样本。\n",
    "\n",
    "## 下载数据集"
   ]
  },
  {
   "cell_type": "code",
   "execution_count": 1,
   "id": "bbf72d6c-7ea5-4ee1-969a-c5060b9cb2d4",
   "metadata": {
    "editable": true,
    "execution": {
     "iopub.execute_input": "2024-06-11T10:39:30.148646Z",
     "iopub.status.busy": "2024-06-11T10:39:30.147951Z",
     "iopub.status.idle": "2024-06-11T10:39:36.918053Z",
     "shell.execute_reply": "2024-06-11T10:39:36.915775Z",
     "shell.execute_reply.started": "2024-06-11T10:39:30.148589Z"
    },
    "slideshow": {
     "slide_type": ""
    },
    "tags": []
   },
   "outputs": [
    {
     "data": {
      "application/vnd.jupyter.widget-view+json": {
       "model_id": "f4e202226d96427394b1343c4fe81127",
       "version_major": 2,
       "version_minor": 0
      },
      "text/plain": [
       "Generating train split:   0%|          | 0/650000 [00:00<?, ? examples/s]"
      ]
     },
     "metadata": {},
     "output_type": "display_data"
    },
    {
     "data": {
      "application/vnd.jupyter.widget-view+json": {
       "model_id": "09d9004fb3804d278876afea26c8ddc5",
       "version_major": 2,
       "version_minor": 0
      },
      "text/plain": [
       "Generating test split:   0%|          | 0/50000 [00:00<?, ? examples/s]"
      ]
     },
     "metadata": {},
     "output_type": "display_data"
    }
   ],
   "source": [
    "from datasets import load_dataset\n",
    "dataset = load_dataset(\"/root/autodl-tmp/hf/datasets/yelp_review_full\")"
   ]
  },
  {
   "cell_type": "code",
   "execution_count": 2,
   "id": "ec6fc806-1395-42dd-8121-a6e98a95cf01",
   "metadata": {
    "execution": {
     "iopub.execute_input": "2024-06-11T10:39:36.921092Z",
     "iopub.status.busy": "2024-06-11T10:39:36.920308Z",
     "iopub.status.idle": "2024-06-11T10:39:36.933133Z",
     "shell.execute_reply": "2024-06-11T10:39:36.931617Z",
     "shell.execute_reply.started": "2024-06-11T10:39:36.921033Z"
    }
   },
   "outputs": [
    {
     "data": {
      "text/plain": [
       "DatasetDict({\n",
       "    train: Dataset({\n",
       "        features: ['label', 'text'],\n",
       "        num_rows: 650000\n",
       "    })\n",
       "    test: Dataset({\n",
       "        features: ['label', 'text'],\n",
       "        num_rows: 50000\n",
       "    })\n",
       "})"
      ]
     },
     "execution_count": 2,
     "metadata": {},
     "output_type": "execute_result"
    }
   ],
   "source": [
    "\n",
    "dataset"
   ]
  },
  {
   "cell_type": "code",
   "execution_count": 3,
   "id": "c94ad529-1604-48bd-8c8d-aa2f3bca6200",
   "metadata": {
    "execution": {
     "iopub.execute_input": "2024-06-11T10:39:36.935237Z",
     "iopub.status.busy": "2024-06-11T10:39:36.934747Z",
     "iopub.status.idle": "2024-06-11T10:39:36.947237Z",
     "shell.execute_reply": "2024-06-11T10:39:36.945233Z",
     "shell.execute_reply.started": "2024-06-11T10:39:36.935187Z"
    }
   },
   "outputs": [
    {
     "data": {
      "text/plain": [
       "{'label': 2,\n",
       " 'text': \"As far as Starbucks go, this is a pretty nice one.  The baristas are friendly and while I was here, a lot of regulars must have come in, because they bantered away with almost everyone.  The bathroom was clean and well maintained and the trash wasn't overflowing in the canisters around the store.  The pastries looked fresh, but I didn't partake.  The noise level was also at a nice working level - not too loud, music just barely audible.\\\\n\\\\nI do wish there was more seating.  It is nice that this location has a counter at the end of the bar for sole workers, but it doesn't replace more tables.  I'm sure this isn't as much of a problem in the summer when there's the space outside.\\\\n\\\\nThere was a treat receipt promo going on, but the barista didn't tell me about it, which I found odd.  Usually when they have promos like that going on, they ask everyone if they want their receipt to come back later in the day to claim whatever the offer is.  Today it was one of their new pastries for $1, I know in the summer they do $2 grande iced drinks with that morning's receipt.\\\\n\\\\nOverall, nice working or socializing environment.  Very friendly and inviting.  It's what I've come to expect from Starbucks, so points for consistency.\"}"
      ]
     },
     "execution_count": 3,
     "metadata": {},
     "output_type": "execute_result"
    }
   ],
   "source": [
    "dataset[\"train\"][111]"
   ]
  },
  {
   "cell_type": "code",
   "execution_count": 4,
   "id": "6dc45997-e391-456f-b0b9-d3193b0f6a9d",
   "metadata": {
    "execution": {
     "iopub.execute_input": "2024-06-11T10:39:36.949812Z",
     "iopub.status.busy": "2024-06-11T10:39:36.949248Z",
     "iopub.status.idle": "2024-06-11T10:39:36.958460Z",
     "shell.execute_reply": "2024-06-11T10:39:36.956454Z",
     "shell.execute_reply.started": "2024-06-11T10:39:36.949759Z"
    }
   },
   "outputs": [],
   "source": [
    "import random\n",
    "import pandas as pd\n",
    "import datasets\n",
    "from IPython.display import display, HTML"
   ]
  },
  {
   "cell_type": "code",
   "execution_count": 5,
   "id": "9e2ecebb-d5d1-456d-967c-842a79fdd622",
   "metadata": {
    "execution": {
     "iopub.execute_input": "2024-06-11T10:39:36.960874Z",
     "iopub.status.busy": "2024-06-11T10:39:36.960322Z",
     "iopub.status.idle": "2024-06-11T10:39:36.973295Z",
     "shell.execute_reply": "2024-06-11T10:39:36.971601Z",
     "shell.execute_reply.started": "2024-06-11T10:39:36.960819Z"
    }
   },
   "outputs": [],
   "source": [
    "def show_random_elements(dataset, num_examples=10):\n",
    "    assert num_examples <= len(dataset), \"Can't pick more elements than there are in the dataset.\"\n",
    "    picks = []\n",
    "    for _ in range(num_examples):\n",
    "        pick = random.randint(0, len(dataset)-1)\n",
    "        while pick in picks:\n",
    "            pick = random.randint(0, len(dataset)-1)\n",
    "        picks.append(pick)\n",
    "    \n",
    "    df = pd.DataFrame(dataset[picks])\n",
    "    for column, typ in dataset.features.items():\n",
    "        if isinstance(typ, datasets.ClassLabel):\n",
    "            df[column] = df[column].transform(lambda i: typ.names[i])\n",
    "    display(HTML(df.to_html()))"
   ]
  },
  {
   "cell_type": "code",
   "execution_count": 6,
   "id": "1af560b6-7d21-499e-9b82-114be371a98a",
   "metadata": {
    "execution": {
     "iopub.execute_input": "2024-06-11T10:39:36.978748Z",
     "iopub.status.busy": "2024-06-11T10:39:36.978184Z",
     "iopub.status.idle": "2024-06-11T10:39:37.000868Z",
     "shell.execute_reply": "2024-06-11T10:39:36.999016Z",
     "shell.execute_reply.started": "2024-06-11T10:39:36.978696Z"
    }
   },
   "outputs": [
    {
     "data": {
      "text/html": [
       "<table border=\"1\" class=\"dataframe\">\n",
       "  <thead>\n",
       "    <tr style=\"text-align: right;\">\n",
       "      <th></th>\n",
       "      <th>label</th>\n",
       "      <th>text</th>\n",
       "    </tr>\n",
       "  </thead>\n",
       "  <tbody>\n",
       "    <tr>\n",
       "      <th>0</th>\n",
       "      <td>3 stars</td>\n",
       "      <td>came here during 4th of july weekend and had an early dinner before the crowd. \\nwe were actually planning on going to bacchanal, but when we called, they said the wait was at least 2 hours...and this was at 3:30pm...\\nso since we already had bacchanal previously, we wanted to try wicked spoon because this one we have not been to. \\n\\nthe food here is good, very neat, clean, individualized portions. however, the selection is not that great, they lack the las vegas seafood smorgasboard that most other buffets provide. the shrimp cocktail, while the shrimpp are very large and plump, are rationed into 2 piece portions with cocktail sauce atop in a shot glass...\\n\\ni think i expected a bit too much, or maybe my memory of the awesome buffet at bacchanal raised my standards for a vegas buffet, and wicked spoon just wasnt sufficient enough.</td>\n",
       "    </tr>\n",
       "    <tr>\n",
       "      <th>1</th>\n",
       "      <td>1 star</td>\n",
       "      <td>I was a client of Rocket Media for  a few years. My experience with them has been less than stellar!\\n\\nAs a business owner I have found there customer service, rude and non empathetic! During the first heat wave to hit Boston my site was loading at a extremely slow speed of 28 seconds per page! \\n\\nUnfortunately I was the one to notice the slow speeds, not Rocket Media the company I paid to host my site. \\n\\nAfter a few agonizing days of zero response I removed Rocket Media from hosting and Controlling my site. Responses from the Owner telling me that I was a \\\" Web Developer\\\" were uncalled for and unnecessary. It showed me that customer service and the mind set of the owner to provide a great customer service were non existent.\\n\\nAfter a few more agonizing days of unnecessary delays in moving my site, Rocket Media finally moved it.\\n\\nI will close on my experience- I will say that when I informed Rocket Media that the page loads were in excess of 28 seconds per page. Rocket Media moved the site from one host to another. The Cloud host from where the site was moved had zero reported issues. Yet I was charged to move the site! Pretty funny how I can spend $750 dollars per month in hosting my site and then be billed because it's not working correctly!\\n\\nI know when I am being jerked around! I should have followed my gut insticnts years ago. Being held hostage by a developer is not fun!\\n\\nJust my experience.</td>\n",
       "    </tr>\n",
       "    <tr>\n",
       "      <th>2</th>\n",
       "      <td>4 stars</td>\n",
       "      <td>I would definitely regard Last Drop as one of the more notable pubs in the Grassmarket.  What Last Drop has by the bucket load is character. From the outside, the warm maroon colour offers an attraction, and upon entering, the customer is not disappointed. \\n\\nInside, the pub is very bright yet still maintains a cosy atmosphere.  The interior is well seated with traditional oak chairs and stools and the walls present many interesting objects. These include blackboards (with chalk available to write what you will), a strangely curious piece of metal apparatus which is apparently an early pinball machine and, my personal highlight, hundreds of bank notes pasted on the ceiling and top of the walls around the bar. \\n\\nUnfortunately, being a pub of Grassmarket, drinks can be a little on the pricey side. However, it is no more expensive than it's neighbours and so if you're only out for a drink or two, it is certainly worth it given the pleasantness of the Grassmarket and the interesting atmosphere generated by this tavern.</td>\n",
       "    </tr>\n",
       "    <tr>\n",
       "      <th>3</th>\n",
       "      <td>2 star</td>\n",
       "      <td>I think if I had to pick between overpriced Nathan's and overpriced Bonanno's, Bonanno's wins. I couldn't go to McDonald's next door out of principle, but I was sorely tempted.</td>\n",
       "    </tr>\n",
       "    <tr>\n",
       "      <th>4</th>\n",
       "      <td>1 star</td>\n",
       "      <td>Glad they are out of business.</td>\n",
       "    </tr>\n",
       "    <tr>\n",
       "      <th>5</th>\n",
       "      <td>4 stars</td>\n",
       "      <td>You should make an appointment before you go, but other than the huge, horrid waiting if you don't make an appointment, the Apple store in South Park gives some of the best customer service in town. It's packed, all the time...but the \\\"Geniuses\\\" are fabulous. These guys know the answers to every question.\\n\\nI left them with my precious MacBook when it was having a few issues a little while back, and they returned it to me as good as new. They even polished it up a bit, getting all my smudges and fingerprints and dog-nose marks off the keyboard and the screen. It was really better service than I could have imagined. \\n\\nMy only complaint was that I had to call them to see when it was ready. They didn't call me, or if they did call me, they didn't leave a voice mail that I received. I would have preferred not to have that panicked feeling where I thought my computer could be gone forever...it's my livelihood and all.</td>\n",
       "    </tr>\n",
       "    <tr>\n",
       "      <th>6</th>\n",
       "      <td>1 star</td>\n",
       "      <td>I have lived in this area for 5 years and specifically Shadow Hills Apartment's for just over a year. There are many places in the immediate area that will give you more bang for your buck let alone a more professional staff to deal with.\\n   I write this review because of my extreme dissatisfaction with this complex. Upon moving here there was an all-star team in the office in regards to leasing, management and maintenance. Just over 6 months ago there was an extreme shift in the staff and I have never experienced such a lack of compassion, lack of urgency, and general abrasiveness from a team in my life.\\n   For one, on a general scale the quality of tenant's has decreased at an alarming rate. In the time that I've lived here in a top floor unit I have experienced a man that beat his wife multiple times, and have complained to the office to take action multiple times with a modest amount of action from them at best and a completely casual reaction. I have also lived above what can only clearly be described as a drug dealer's stash house, that reeked of weed, had violent arguments erupt at all times of the day, and drug deals at all times of the night. Besides my \\\"high quality\\\" neighbors, there is an unruly amount of middle school to high school kids that are clearly up to no good and basically terrorize the neighborhood. I'm not even comfortable letting my 5 and 2 year old go play in the courtyard even with supervision due to these children's lack of respect and common decency. The mob of children is another thing that the management does not take seriously.\\n   There was formerly a top notch maintenance team that went way past the call of just doing their jobs that was attentive, responsible, and consistent. Now the maintenance team does as little as possible on a daily basis and seems to never have any appropriate response time to any issues.\\n   When it comes to even dealing with any bit of business that you may have there is an 80% chance that you will be dealing with Yesenia the assistant manager. Not only does Yesenia have one of the most abrasive and aggressive attitudes I've ever come across, however it is also clear that she looks down upon tenants. The staff that is currently there takes a posture with all tenants as if they're are entering a knock down, drag out fight and leaves you feeling as if you're communicating with the principal of a school as opposed to actually doing adult business with a company. The leasing agents also have absolutely NO liberty to make any decision and you are wasting your time speaking with them in any regard other than getting packages, but barely even that.\\n   This is the only bad experience I've ever been compelled to leave a Yelp review about, let alone a negative one. I originally came to this place because I had my eyes on it for years and was impressed by their consistent delightful presence and what appeared to be a pleasant place to live. I was even quite impressed, then all hell broke lose. I really would hate for any young couple, or family to have to experience what we have here so far. It is more than worth at this point to pay a $1200 broken lease fee than it would ever possibly be to stay here and waste any more time, energy, and money here. I really hope Mark Taylor actually reads the terrible reviews all around about this place and actually does something about it.</td>\n",
       "    </tr>\n",
       "    <tr>\n",
       "      <th>7</th>\n",
       "      <td>2 star</td>\n",
       "      <td>This is just one of those malls where you go when youre bored and you dont really feel like shopping. not that many good deals here...alot of the  stuff here is  expensive...you can find better deals at bigger name Malls, i dont like how the people on the kiosk are very pushy....a no is NO dude gees! they literally grab you sit you down and push you to buy their product. this happened to my wife and i and the guy would not take no for an answer. and thats annoying...we just want to shop yo!\\nthe bathrooms smell too...the ONLY good thing in my opinion is the Salvadorian restaurant in there. they sell some very good Pupusas :)</td>\n",
       "    </tr>\n",
       "    <tr>\n",
       "      <th>8</th>\n",
       "      <td>4 stars</td>\n",
       "      <td>Despite the long waiting time, our dining experience here is pretty good. \\nWe got the scone and donuts to start. Then I ordered the french toast and my boyfriend got the English breakfast.\\nMy French toast was awesome. it was made with thick toast, and it got a nice balance with cranberry (sweet and sour taste) and crunch thin slices of apply. It got a great texture. \\nThe only thing I don't like about this place is it is really crowed. People are standing next you your table waiting to be seated. \\nBut overall, nice restaurant.</td>\n",
       "    </tr>\n",
       "    <tr>\n",
       "      <th>9</th>\n",
       "      <td>5 stars</td>\n",
       "      <td>I started going to Dr. Gong when I first needed glasses in 8th grade, and she has always been amazing.  A very warm, kind person that makes you feel at home during your checkup, and also very knowledgeable.  I've always gotten the right prescription and had any questions answered by her.  I'd definitely recommend her if you need an eye exam.</td>\n",
       "    </tr>\n",
       "  </tbody>\n",
       "</table>"
      ],
      "text/plain": [
       "<IPython.core.display.HTML object>"
      ]
     },
     "metadata": {},
     "output_type": "display_data"
    }
   ],
   "source": [
    "show_random_elements(dataset[\"train\"])"
   ]
  },
  {
   "cell_type": "markdown",
   "id": "c9df7cd0-23cd-458f-b2b5-f025c3b9fe62",
   "metadata": {},
   "source": [
    "## 预处理数据\n",
    "\n",
    "下载数据集到本地后，使用 Tokenizer 来处理文本，对于长度不等的输入数据，可以使用填充（padding）和截断（truncation）策略来处理。\n",
    "\n",
    "Datasets 的 `map` 方法，支持一次性在整个数据集上应用预处理函数。\n",
    "\n",
    "下面使用填充到最大长度的策略，处理整个数据集："
   ]
  },
  {
   "cell_type": "code",
   "execution_count": 7,
   "id": "8bf2b342-e1dd-4ab6-ad57-28eb2513ae38",
   "metadata": {
    "execution": {
     "iopub.execute_input": "2024-06-11T10:39:37.003015Z",
     "iopub.status.busy": "2024-06-11T10:39:37.002490Z",
     "iopub.status.idle": "2024-06-11T10:42:21.959142Z",
     "shell.execute_reply": "2024-06-11T10:42:21.958461Z",
     "shell.execute_reply.started": "2024-06-11T10:39:37.002964Z"
    }
   },
   "outputs": [
    {
     "data": {
      "application/vnd.jupyter.widget-view+json": {
       "model_id": "b2d9df74dfed479584f2e0e7d0727e44",
       "version_major": 2,
       "version_minor": 0
      },
      "text/plain": [
       "Map:   0%|          | 0/650000 [00:00<?, ? examples/s]"
      ]
     },
     "metadata": {},
     "output_type": "display_data"
    },
    {
     "data": {
      "application/vnd.jupyter.widget-view+json": {
       "model_id": "9ccd65efb2964f3b96b10f9c1126e924",
       "version_major": 2,
       "version_minor": 0
      },
      "text/plain": [
       "Map:   0%|          | 0/50000 [00:00<?, ? examples/s]"
      ]
     },
     "metadata": {},
     "output_type": "display_data"
    }
   ],
   "source": [
    "from transformers import AutoTokenizer\n",
    "\n",
    "tokenizer = AutoTokenizer.from_pretrained(\"/root/autodl-tmp/hf/modules/bert-base-cased\")\n",
    "\n",
    "\n",
    "def tokenize_function(examples):\n",
    "    return tokenizer(examples[\"text\"], padding=\"max_length\", truncation=True)\n",
    "\n",
    "\n",
    "tokenized_datasets = dataset.map(tokenize_function, batched=True)"
   ]
  },
  {
   "cell_type": "code",
   "execution_count": 8,
   "id": "47a415a8-cd15-4a8c-851b-9b4740ef8271",
   "metadata": {
    "execution": {
     "iopub.execute_input": "2024-06-11T10:42:21.960008Z",
     "iopub.status.busy": "2024-06-11T10:42:21.959874Z",
     "iopub.status.idle": "2024-06-11T10:42:21.967859Z",
     "shell.execute_reply": "2024-06-11T10:42:21.967247Z",
     "shell.execute_reply.started": "2024-06-11T10:42:21.959994Z"
    }
   },
   "outputs": [
    {
     "data": {
      "text/html": [
       "<table border=\"1\" class=\"dataframe\">\n",
       "  <thead>\n",
       "    <tr style=\"text-align: right;\">\n",
       "      <th></th>\n",
       "      <th>label</th>\n",
       "      <th>text</th>\n",
       "      <th>input_ids</th>\n",
       "      <th>token_type_ids</th>\n",
       "      <th>attention_mask</th>\n",
       "    </tr>\n",
       "  </thead>\n",
       "  <tbody>\n",
       "    <tr>\n",
       "      <th>0</th>\n",
       "      <td>5 stars</td>\n",
       "      <td>One of my favorite places to go. The staff is very friendly and always making great recommendations for the perfect dish. The food itself is truly delicious, and there are so many options to try for a low cost.</td>\n",
       "      <td>[101, 1448, 1104, 1139, 5095, 2844, 1106, 1301, 119, 1109, 2546, 1110, 1304, 4931, 1105, 1579, 1543, 1632, 11859, 1111, 1103, 3264, 10478, 119, 1109, 2094, 2111, 1110, 5098, 13108, 117, 1105, 1175, 1132, 1177, 1242, 6665, 1106, 2222, 1111, 170, 1822, 2616, 119, 102, 0, 0, 0, 0, 0, 0, 0, 0, 0, 0, 0, 0, 0, 0, 0, 0, 0, 0, 0, 0, 0, 0, 0, 0, 0, 0, 0, 0, 0, 0, 0, 0, 0, 0, 0, 0, 0, 0, 0, 0, 0, 0, 0, 0, 0, 0, 0, 0, 0, 0, 0, 0, 0, 0, 0, ...]</td>\n",
       "      <td>[0, 0, 0, 0, 0, 0, 0, 0, 0, 0, 0, 0, 0, 0, 0, 0, 0, 0, 0, 0, 0, 0, 0, 0, 0, 0, 0, 0, 0, 0, 0, 0, 0, 0, 0, 0, 0, 0, 0, 0, 0, 0, 0, 0, 0, 0, 0, 0, 0, 0, 0, 0, 0, 0, 0, 0, 0, 0, 0, 0, 0, 0, 0, 0, 0, 0, 0, 0, 0, 0, 0, 0, 0, 0, 0, 0, 0, 0, 0, 0, 0, 0, 0, 0, 0, 0, 0, 0, 0, 0, 0, 0, 0, 0, 0, 0, 0, 0, 0, 0, ...]</td>\n",
       "      <td>[1, 1, 1, 1, 1, 1, 1, 1, 1, 1, 1, 1, 1, 1, 1, 1, 1, 1, 1, 1, 1, 1, 1, 1, 1, 1, 1, 1, 1, 1, 1, 1, 1, 1, 1, 1, 1, 1, 1, 1, 1, 1, 1, 1, 1, 0, 0, 0, 0, 0, 0, 0, 0, 0, 0, 0, 0, 0, 0, 0, 0, 0, 0, 0, 0, 0, 0, 0, 0, 0, 0, 0, 0, 0, 0, 0, 0, 0, 0, 0, 0, 0, 0, 0, 0, 0, 0, 0, 0, 0, 0, 0, 0, 0, 0, 0, 0, 0, 0, 0, ...]</td>\n",
       "    </tr>\n",
       "  </tbody>\n",
       "</table>"
      ],
      "text/plain": [
       "<IPython.core.display.HTML object>"
      ]
     },
     "metadata": {},
     "output_type": "display_data"
    }
   ],
   "source": [
    "show_random_elements(tokenized_datasets[\"train\"], num_examples=1)"
   ]
  },
  {
   "cell_type": "markdown",
   "id": "1c33d153-f729-4f04-972c-a764c1cbbb8b",
   "metadata": {},
   "source": [
    "### 数据抽样\n",
    "\n",
    "使用 1000 个数据样本，在 BERT 上演示小规模训练（基于 Pytorch Trainer）\n",
    "\n",
    "`shuffle()`函数会随机重新排列列的值。如果您希望对用于洗牌数据集的算法有更多控制，可以在此函数中指定generator参数来使用不同的numpy.random.Generator。"
   ]
  },
  {
   "cell_type": "code",
   "execution_count": 9,
   "id": "a17317d8-3c6a-467f-843d-87491f600db1",
   "metadata": {
    "execution": {
     "iopub.execute_input": "2024-06-11T10:42:21.968577Z",
     "iopub.status.busy": "2024-06-11T10:42:21.968463Z",
     "iopub.status.idle": "2024-06-11T10:42:22.074563Z",
     "shell.execute_reply": "2024-06-11T10:42:22.073889Z",
     "shell.execute_reply.started": "2024-06-11T10:42:21.968564Z"
    }
   },
   "outputs": [],
   "source": [
    "small_train_dataset = tokenized_datasets[\"train\"].shuffle(seed=42).select(range(650000))\n",
    "small_eval_dataset = tokenized_datasets[\"test\"].shuffle(seed=42).select(range(50000))"
   ]
  },
  {
   "cell_type": "code",
   "execution_count": 10,
   "id": "3aea2b4b-3abd-4ec4-9be3-b4c469e22aa8",
   "metadata": {
    "execution": {
     "iopub.execute_input": "2024-06-11T10:42:22.075294Z",
     "iopub.status.busy": "2024-06-11T10:42:22.075176Z",
     "iopub.status.idle": "2024-06-11T10:42:22.079643Z",
     "shell.execute_reply": "2024-06-11T10:42:22.079051Z",
     "shell.execute_reply.started": "2024-06-11T10:42:22.075282Z"
    }
   },
   "outputs": [
    {
     "data": {
      "text/plain": [
       "Dataset({\n",
       "    features: ['label', 'text', 'input_ids', 'token_type_ids', 'attention_mask'],\n",
       "    num_rows: 650000\n",
       "})"
      ]
     },
     "execution_count": 10,
     "metadata": {},
     "output_type": "execute_result"
    }
   ],
   "source": [
    "small_train_dataset"
   ]
  },
  {
   "cell_type": "markdown",
   "id": "d3b65d63-2d3a-4a56-bc31-6e88a29e9dec",
   "metadata": {},
   "source": [
    "## 微调训练配置\n",
    "\n",
    "### 加载 BERT 模型\n",
    "\n",
    "警告通知我们正在丢弃一些权重（`vocab_transform` 和 `vocab_layer_norm` 层），并随机初始化其他一些权重（`pre_classifier` 和 `classifier` 层）。在微调模型情况下是绝对正常的，因为我们正在删除用于预训练模型的掩码语言建模任务的头部，并用一个新的头部替换它，对于这个新头部，我们没有预训练的权重，所以库会警告我们在用它进行推理之前应该对这个模型进行微调，而这正是我们要做的事情。"
   ]
  },
  {
   "cell_type": "code",
   "execution_count": 11,
   "id": "4d2af4df-abd4-4a4b-94b6-b0e7375304ed",
   "metadata": {
    "execution": {
     "iopub.execute_input": "2024-06-11T10:42:22.080273Z",
     "iopub.status.busy": "2024-06-11T10:42:22.080157Z",
     "iopub.status.idle": "2024-06-11T10:42:22.824538Z",
     "shell.execute_reply": "2024-06-11T10:42:22.823818Z",
     "shell.execute_reply.started": "2024-06-11T10:42:22.080261Z"
    }
   },
   "outputs": [
    {
     "name": "stderr",
     "output_type": "stream",
     "text": [
      "Some weights of BertForSequenceClassification were not initialized from the model checkpoint at /root/autodl-tmp/hf/modules/bert-base-cased and are newly initialized: ['classifier.bias', 'classifier.weight']\n",
      "You should probably TRAIN this model on a down-stream task to be able to use it for predictions and inference.\n"
     ]
    }
   ],
   "source": [
    "from transformers import AutoModelForSequenceClassification\n",
    "\n",
    "model = AutoModelForSequenceClassification.from_pretrained(\"/root/autodl-tmp/hf/modules/bert-base-cased\", num_labels=5)"
   ]
  },
  {
   "cell_type": "markdown",
   "id": "b44014df-b52c-4c72-9e9f-54424725a473",
   "metadata": {},
   "source": [
    "### 训练超参数（TrainingArguments）\n",
    "\n",
    "完整配置参数与默认值：https://huggingface.co/docs/transformers/v4.36.1/en/main_classes/trainer#transformers.TrainingArguments\n",
    "\n",
    "源代码定义：https://github.com/huggingface/transformers/blob/v4.36.1/src/transformers/training_args.py#L161\n",
    "\n",
    "**最重要配置：模型权重保存路径(output_dir)**"
   ]
  },
  {
   "cell_type": "code",
   "execution_count": 12,
   "id": "98c01d5c-de72-4ff0-b11d-e07ac5346888",
   "metadata": {
    "execution": {
     "iopub.execute_input": "2024-06-11T10:42:22.825496Z",
     "iopub.status.busy": "2024-06-11T10:42:22.825256Z",
     "iopub.status.idle": "2024-06-11T10:42:22.904230Z",
     "shell.execute_reply": "2024-06-11T10:42:22.903410Z",
     "shell.execute_reply.started": "2024-06-11T10:42:22.825482Z"
    }
   },
   "outputs": [],
   "source": [
    "from transformers import TrainingArguments\n",
    "\n",
    "model_dir = \"models/bert-base-cased-finetune-yelp\"\n",
    "\n",
    "# logging_steps 默认值为500，根据我们的训练数据和步长，将其设置为100\n",
    "training_args = TrainingArguments(output_dir=model_dir,\n",
    "                                  per_device_train_batch_size=32,\n",
    "                                  num_train_epochs=5,\n",
    "                                  logging_steps=500)"
   ]
  },
  {
   "cell_type": "code",
   "execution_count": 13,
   "id": "0ce03480-3aaa-48ea-a0c6-a177b8d8e34f",
   "metadata": {
    "execution": {
     "iopub.execute_input": "2024-06-11T10:42:22.905360Z",
     "iopub.status.busy": "2024-06-11T10:42:22.905138Z",
     "iopub.status.idle": "2024-06-11T10:42:22.910402Z",
     "shell.execute_reply": "2024-06-11T10:42:22.909681Z",
     "shell.execute_reply.started": "2024-06-11T10:42:22.905340Z"
    }
   },
   "outputs": [
    {
     "name": "stdout",
     "output_type": "stream",
     "text": [
      "TrainingArguments(\n",
      "_n_gpu=1,\n",
      "accelerator_config={'split_batches': False, 'dispatch_batches': None, 'even_batches': True, 'use_seedable_sampler': True, 'non_blocking': False, 'gradient_accumulation_kwargs': None},\n",
      "adafactor=False,\n",
      "adam_beta1=0.9,\n",
      "adam_beta2=0.999,\n",
      "adam_epsilon=1e-08,\n",
      "auto_find_batch_size=False,\n",
      "batch_eval_metrics=False,\n",
      "bf16=False,\n",
      "bf16_full_eval=False,\n",
      "data_seed=None,\n",
      "dataloader_drop_last=False,\n",
      "dataloader_num_workers=0,\n",
      "dataloader_persistent_workers=False,\n",
      "dataloader_pin_memory=True,\n",
      "dataloader_prefetch_factor=None,\n",
      "ddp_backend=None,\n",
      "ddp_broadcast_buffers=None,\n",
      "ddp_bucket_cap_mb=None,\n",
      "ddp_find_unused_parameters=None,\n",
      "ddp_timeout=1800,\n",
      "debug=[],\n",
      "deepspeed=None,\n",
      "disable_tqdm=False,\n",
      "dispatch_batches=None,\n",
      "do_eval=False,\n",
      "do_predict=False,\n",
      "do_train=False,\n",
      "eval_accumulation_steps=None,\n",
      "eval_delay=0,\n",
      "eval_do_concat_batches=True,\n",
      "eval_steps=None,\n",
      "eval_strategy=IntervalStrategy.NO,\n",
      "evaluation_strategy=None,\n",
      "fp16=False,\n",
      "fp16_backend=auto,\n",
      "fp16_full_eval=False,\n",
      "fp16_opt_level=O1,\n",
      "fsdp=[],\n",
      "fsdp_config={'min_num_params': 0, 'xla': False, 'xla_fsdp_v2': False, 'xla_fsdp_grad_ckpt': False},\n",
      "fsdp_min_num_params=0,\n",
      "fsdp_transformer_layer_cls_to_wrap=None,\n",
      "full_determinism=False,\n",
      "gradient_accumulation_steps=1,\n",
      "gradient_checkpointing=False,\n",
      "gradient_checkpointing_kwargs=None,\n",
      "greater_is_better=None,\n",
      "group_by_length=False,\n",
      "half_precision_backend=auto,\n",
      "hub_always_push=False,\n",
      "hub_model_id=None,\n",
      "hub_private_repo=False,\n",
      "hub_strategy=HubStrategy.EVERY_SAVE,\n",
      "hub_token=<HUB_TOKEN>,\n",
      "ignore_data_skip=False,\n",
      "include_inputs_for_metrics=False,\n",
      "include_num_input_tokens_seen=False,\n",
      "include_tokens_per_second=False,\n",
      "jit_mode_eval=False,\n",
      "label_names=None,\n",
      "label_smoothing_factor=0.0,\n",
      "learning_rate=5e-05,\n",
      "length_column_name=length,\n",
      "load_best_model_at_end=False,\n",
      "local_rank=0,\n",
      "log_level=passive,\n",
      "log_level_replica=warning,\n",
      "log_on_each_node=True,\n",
      "logging_dir=models/bert-base-cased-finetune-yelp/runs/Jun11_18-42-22_autodl-container-6dda4b9e00-7a2a7cc7,\n",
      "logging_first_step=False,\n",
      "logging_nan_inf_filter=True,\n",
      "logging_steps=500,\n",
      "logging_strategy=IntervalStrategy.STEPS,\n",
      "lr_scheduler_kwargs={},\n",
      "lr_scheduler_type=SchedulerType.LINEAR,\n",
      "max_grad_norm=1.0,\n",
      "max_steps=-1,\n",
      "metric_for_best_model=None,\n",
      "mp_parameters=,\n",
      "neftune_noise_alpha=None,\n",
      "no_cuda=False,\n",
      "num_train_epochs=5,\n",
      "optim=OptimizerNames.ADAMW_TORCH,\n",
      "optim_args=None,\n",
      "optim_target_modules=None,\n",
      "output_dir=models/bert-base-cased-finetune-yelp,\n",
      "overwrite_output_dir=False,\n",
      "past_index=-1,\n",
      "per_device_eval_batch_size=8,\n",
      "per_device_train_batch_size=32,\n",
      "prediction_loss_only=False,\n",
      "push_to_hub=False,\n",
      "push_to_hub_model_id=None,\n",
      "push_to_hub_organization=None,\n",
      "push_to_hub_token=<PUSH_TO_HUB_TOKEN>,\n",
      "ray_scope=last,\n",
      "remove_unused_columns=True,\n",
      "report_to=['tensorboard'],\n",
      "restore_callback_states_from_checkpoint=False,\n",
      "resume_from_checkpoint=None,\n",
      "run_name=models/bert-base-cased-finetune-yelp,\n",
      "save_on_each_node=False,\n",
      "save_only_model=False,\n",
      "save_safetensors=True,\n",
      "save_steps=500,\n",
      "save_strategy=IntervalStrategy.STEPS,\n",
      "save_total_limit=None,\n",
      "seed=42,\n",
      "skip_memory_metrics=True,\n",
      "split_batches=None,\n",
      "tf32=None,\n",
      "torch_compile=False,\n",
      "torch_compile_backend=None,\n",
      "torch_compile_mode=None,\n",
      "torchdynamo=None,\n",
      "tpu_metrics_debug=False,\n",
      "tpu_num_cores=None,\n",
      "use_cpu=False,\n",
      "use_ipex=False,\n",
      "use_legacy_prediction_loop=False,\n",
      "use_mps_device=False,\n",
      "warmup_ratio=0.0,\n",
      "warmup_steps=0,\n",
      "weight_decay=0.0,\n",
      ")\n"
     ]
    }
   ],
   "source": [
    "# 完整的超参数配置\n",
    "print(training_args)"
   ]
  },
  {
   "cell_type": "markdown",
   "id": "7ebd3365-d359-4ab4-a300-4717590cc240",
   "metadata": {},
   "source": [
    "### 训练过程中的指标评估（Evaluate)\n",
    "\n",
    "**[Hugging Face Evaluate 库](https://huggingface.co/docs/evaluate/index)** 支持使用一行代码，获得数十种不同领域（自然语言处理、计算机视觉、强化学习等）的评估方法。 当前支持 **完整评估指标：https://huggingface.co/evaluate-metric**\n",
    "\n",
    "训练器（Trainer）在训练过程中不会自动评估模型性能。因此，我们需要向训练器传递一个函数来计算和报告指标。 \n",
    "\n",
    "Evaluate库提供了一个简单的准确率函数，您可以使用`evaluate.load`函数加载"
   ]
  },
  {
   "cell_type": "code",
   "execution_count": 14,
   "id": "2a8ef138-5bf2-41e5-8c68-df8e11f4e98f",
   "metadata": {
    "execution": {
     "iopub.execute_input": "2024-06-11T10:42:22.911154Z",
     "iopub.status.busy": "2024-06-11T10:42:22.910970Z",
     "iopub.status.idle": "2024-06-11T10:42:23.193517Z",
     "shell.execute_reply": "2024-06-11T10:42:23.192826Z",
     "shell.execute_reply.started": "2024-06-11T10:42:22.911136Z"
    }
   },
   "outputs": [],
   "source": [
    "import numpy as np\n",
    "import evaluate\n",
    "\n",
    "metric = evaluate.load(\"/root/autodl-tmp/hf/evaluate-main/metrics/accuracy\")"
   ]
  },
  {
   "cell_type": "markdown",
   "id": "70d406c0-56d0-4a54-9c6c-e126ab7f5254",
   "metadata": {},
   "source": [
    "\n",
    "接着，调用 `compute` 函数来计算预测的准确率。\n",
    "\n",
    "在将预测传递给 compute 函数之前，我们需要将 logits 转换为预测值（**所有Transformers 模型都返回 logits**）。"
   ]
  },
  {
   "cell_type": "code",
   "execution_count": 15,
   "id": "f46d2e59-1ebf-43d2-bc86-6b57a4d24d19",
   "metadata": {
    "execution": {
     "iopub.execute_input": "2024-06-11T10:42:23.194242Z",
     "iopub.status.busy": "2024-06-11T10:42:23.194032Z",
     "iopub.status.idle": "2024-06-11T10:42:23.197848Z",
     "shell.execute_reply": "2024-06-11T10:42:23.197239Z",
     "shell.execute_reply.started": "2024-06-11T10:42:23.194230Z"
    }
   },
   "outputs": [],
   "source": [
    "def compute_metrics(eval_pred):\n",
    "    logits, labels = eval_pred\n",
    "    predictions = np.argmax(logits, axis=-1)\n",
    "    return metric.compute(predictions=predictions, references=labels)"
   ]
  },
  {
   "cell_type": "markdown",
   "id": "e2feba67-9ca9-4793-9a15-3eaa426df2a1",
   "metadata": {},
   "source": [
    "#### 训练过程指标监控\n",
    "\n",
    "通常，为了监控训练过程中的评估指标变化，我们可以在`TrainingArguments`指定`evaluation_strategy`参数，以便在 epoch 结束时报告评估指标。"
   ]
  },
  {
   "cell_type": "code",
   "execution_count": 16,
   "id": "afaaee18-4986-4e39-8ad9-b8d413ab4cd1",
   "metadata": {
    "execution": {
     "iopub.execute_input": "2024-06-11T10:42:23.198499Z",
     "iopub.status.busy": "2024-06-11T10:42:23.198388Z",
     "iopub.status.idle": "2024-06-11T10:42:23.247088Z",
     "shell.execute_reply": "2024-06-11T10:42:23.246367Z",
     "shell.execute_reply.started": "2024-06-11T10:42:23.198488Z"
    }
   },
   "outputs": [
    {
     "name": "stderr",
     "output_type": "stream",
     "text": [
      "/root/miniconda3/lib/python3.12/site-packages/transformers/training_args.py:1474: FutureWarning: `evaluation_strategy` is deprecated and will be removed in version 4.46 of 🤗 Transformers. Use `eval_strategy` instead\n",
      "  warnings.warn(\n"
     ]
    }
   ],
   "source": [
    "from transformers import TrainingArguments, Trainer\n",
    "\n",
    "# training_args = TrainingArguments(output_dir=model_dir,\n",
    "#                                   evaluation_strategy=\"epoch\", \n",
    "#                                   per_device_train_batch_size=32,\n",
    "#                                   num_train_epochs=5,\n",
    "#                                   logging_steps=2000)\n",
    "model_dir = \"models/bert-base-cased-finetune-yelp\"\n",
    "\n",
    "training_args = TrainingArguments(\n",
    "    output_dir=model_dir,            # 模型保存目录\n",
    "    evaluation_strategy=\"epoch\",       # 每个epoch进行评估\n",
    "    per_device_train_batch_size=32,    # 每个设备的训练批次大小\n",
    "    num_train_epochs=5,                # 训练的总epoch数\n",
    "    logging_steps=500,                 # 每500步记录日志\n",
    "    save_steps=1000,                   # 每1000步保存一个checkpoint\n",
    "    save_total_limit=3,                # 最多保存3个checkpoint，旧的会被删除\n",
    ")"
   ]
  },
  {
   "cell_type": "markdown",
   "id": "d47d6981-e444-4c0f-a7cb-dd7f2ba8df12",
   "metadata": {},
   "source": [
    "## 开始训练\n",
    "\n",
    "### 实例化训练器（Trainer）\n",
    "\n",
    "`kernel version` 版本问题：暂不影响本示例代码运行"
   ]
  },
  {
   "cell_type": "code",
   "execution_count": 17,
   "id": "ca1d12ac-89dc-4c30-8282-f859724c0062",
   "metadata": {
    "execution": {
     "iopub.execute_input": "2024-06-11T10:42:23.247763Z",
     "iopub.status.busy": "2024-06-11T10:42:23.247642Z",
     "iopub.status.idle": "2024-06-11T10:42:23.426955Z",
     "shell.execute_reply": "2024-06-11T10:42:23.426255Z",
     "shell.execute_reply.started": "2024-06-11T10:42:23.247752Z"
    }
   },
   "outputs": [],
   "source": [
    "trainer = Trainer(\n",
    "    model=model,\n",
    "    args=training_args,\n",
    "    train_dataset=small_train_dataset,\n",
    "    eval_dataset=small_eval_dataset,\n",
    "    compute_metrics=compute_metrics,\n",
    ")"
   ]
  },
  {
   "cell_type": "markdown",
   "id": "a833e0db-1168-4a3c-8b75-bfdcef8c5157",
   "metadata": {},
   "source": [
    "## 使用 nvidia-smi 查看 GPU 使用\n",
    "\n",
    "为了实时查看GPU使用情况，可以使用 `watch` 指令实现轮询：`watch -n 1 nvidia-smi`:\n",
    "\n",
    "```shell\n",
    "Every 1.0s: nvidia-smi                                                   Wed Dec 20 14:37:41 2023\n",
    "\n",
    "Wed Dec 20 14:37:41 2023\n",
    "+---------------------------------------------------------------------------------------+\n",
    "| NVIDIA-SMI 535.129.03             Driver Version: 535.129.03   CUDA Version: 12.2     |\n",
    "|-----------------------------------------+----------------------+----------------------+\n",
    "| GPU  Name                 Persistence-M | Bus-Id        Disp.A | Volatile Uncorr. ECC |\n",
    "| Fan  Temp   Perf          Pwr:Usage/Cap |         Memory-Usage | GPU-Util  Compute M. |\n",
    "|                                         |                      |               MIG M. |\n",
    "|=========================================+======================+======================|\n",
    "|   0  Tesla T4                       Off | 00000000:00:0D.0 Off |                    0 |\n",
    "| N/A   64C    P0              69W /  70W |   6665MiB / 15360MiB |     98%      Default |\n",
    "|                                         |                      |                  N/A |\n",
    "+-----------------------------------------+----------------------+----------------------+\n",
    "\n",
    "+---------------------------------------------------------------------------------------+\n",
    "| Processes:                                                                            |\n",
    "|  GPU   GI   CI        PID   Type   Process name                            GPU Memory |\n",
    "|        ID   ID                                                             Usage      |\n",
    "|=======================================================================================|\n",
    "|    0   N/A  N/A     18395      C   /root/miniconda3/bin/python                6660MiB |\n",
    "+---------------------------------------------------------------------------------------+\n",
    "```"
   ]
  },
  {
   "cell_type": "code",
   "execution_count": 18,
   "id": "accfe921-471d-481a-96da-c491cdebad0c",
   "metadata": {
    "execution": {
     "iopub.execute_input": "2024-06-11T10:42:23.427680Z",
     "iopub.status.busy": "2024-06-11T10:42:23.427480Z",
     "iopub.status.idle": "2024-06-11T10:42:23.431149Z",
     "shell.execute_reply": "2024-06-11T10:42:23.430376Z",
     "shell.execute_reply.started": "2024-06-11T10:42:23.427668Z"
    }
   },
   "outputs": [],
   "source": [
    "# trainer.train()\n",
    "# small_test_dataset = tokenized_datasets[\"test\"].shuffle(seed=64).select(range(100))\n",
    "# print(small_test_dataset)\n",
    "# trainer.evaluate(small_test_dataset)\n",
    "# trainer.save_model(model_dir)\n",
    "# trainer.save_state()\n"
   ]
  },
  {
   "cell_type": "code",
   "execution_count": 25,
   "id": "6d581099-37a4-4470-b051-1ada38554089",
   "metadata": {
    "execution": {
     "iopub.execute_input": "2024-06-11T23:18:29.156317Z",
     "iopub.status.busy": "2024-06-11T23:18:29.155459Z",
     "iopub.status.idle": "2024-06-11T23:18:29.207462Z",
     "shell.execute_reply": "2024-06-11T23:18:29.205888Z",
     "shell.execute_reply.started": "2024-06-11T23:18:29.156287Z"
    }
   },
   "outputs": [],
   "source": [
    "small_test_dataset = tokenized_datasets[\"test\"].shuffle(seed=64).select(range(1000))"
   ]
  },
  {
   "cell_type": "code",
   "execution_count": 26,
   "id": "ffb47eab-1370-491e-8a84-6d5347a350b2",
   "metadata": {
    "execution": {
     "iopub.execute_input": "2024-06-11T23:18:38.449342Z",
     "iopub.status.busy": "2024-06-11T23:18:38.448436Z",
     "iopub.status.idle": "2024-06-11T23:18:42.665377Z",
     "shell.execute_reply": "2024-06-11T23:18:42.664654Z",
     "shell.execute_reply.started": "2024-06-11T23:18:38.449271Z"
    }
   },
   "outputs": [
    {
     "data": {
      "text/html": [
       "\n",
       "    <div>\n",
       "      \n",
       "      <progress value='125' max='125' style='width:300px; height:20px; vertical-align: middle;'></progress>\n",
       "      [125/125 00:04]\n",
       "    </div>\n",
       "    "
      ],
      "text/plain": [
       "<IPython.core.display.HTML object>"
      ]
     },
     "metadata": {},
     "output_type": "display_data"
    },
    {
     "data": {
      "text/plain": [
       "{'eval_loss': 0.9648737907409668,\n",
       " 'eval_accuracy': 0.672,\n",
       " 'eval_runtime': 4.1993,\n",
       " 'eval_samples_per_second': 238.135,\n",
       " 'eval_steps_per_second': 29.767,\n",
       " 'epoch': 5.0}"
      ]
     },
     "execution_count": 26,
     "metadata": {},
     "output_type": "execute_result"
    }
   ],
   "source": [
    "trainer.evaluate(small_test_dataset)"
   ]
  },
  {
   "cell_type": "markdown",
   "id": "27a55686-7c43-4ab8-a5cd-0e77f14c7c52",
   "metadata": {},
   "source": [
    "### 保存模型和训练状态\n",
    "\n",
    "- 使用 `trainer.save_model` 方法保存模型，后续可以通过 from_pretrained() 方法重新加载\n",
    "- 使用 `trainer.save_state` 方法保存训练状态"
   ]
  },
  {
   "cell_type": "code",
   "execution_count": 27,
   "id": "ad0cbc14-9ef7-450f-a1a3-4f92b6486f41",
   "metadata": {
    "execution": {
     "iopub.execute_input": "2024-06-11T23:19:01.912935Z",
     "iopub.status.busy": "2024-06-11T23:19:01.912606Z",
     "iopub.status.idle": "2024-06-11T23:19:02.745750Z",
     "shell.execute_reply": "2024-06-11T23:19:02.744747Z",
     "shell.execute_reply.started": "2024-06-11T23:19:01.912910Z"
    }
   },
   "outputs": [],
   "source": [
    "trainer.save_model(model_dir)"
   ]
  },
  {
   "cell_type": "code",
   "execution_count": null,
   "id": "f6e30510-0536-49d4-8e1b-43fc25272bde",
   "metadata": {},
   "outputs": [],
   "source": [
    "tok"
   ]
  },
  {
   "cell_type": "code",
   "execution_count": 28,
   "id": "badf5868-2847-439d-a73e-42d1cca67b5e",
   "metadata": {
    "execution": {
     "iopub.execute_input": "2024-06-11T23:19:14.869828Z",
     "iopub.status.busy": "2024-06-11T23:19:14.868906Z",
     "iopub.status.idle": "2024-06-11T23:19:14.878276Z",
     "shell.execute_reply": "2024-06-11T23:19:14.877452Z",
     "shell.execute_reply.started": "2024-06-11T23:19:14.869802Z"
    }
   },
   "outputs": [],
   "source": [
    "trainer.save_state()"
   ]
  },
  {
   "cell_type": "code",
   "execution_count": 23,
   "id": "8c9441ad-f65a-42b7-9016-4809c78285e9",
   "metadata": {
    "execution": {
     "iopub.execute_input": "2024-06-11T10:42:23.446676Z",
     "iopub.status.busy": "2024-06-11T10:42:23.446550Z",
     "iopub.status.idle": "2024-06-11T16:45:39.495201Z",
     "shell.execute_reply": "2024-06-11T16:45:39.494339Z",
     "shell.execute_reply.started": "2024-06-11T10:42:23.446664Z"
    }
   },
   "outputs": [
    {
     "data": {
      "text/html": [
       "\n",
       "    <div>\n",
       "      \n",
       "      <progress value='101565' max='101565' style='width:300px; height:20px; vertical-align: middle;'></progress>\n",
       "      [101565/101565 6:03:14, Epoch 5/5]\n",
       "    </div>\n",
       "    <table border=\"1\" class=\"dataframe\">\n",
       "  <thead>\n",
       " <tr style=\"text-align: left;\">\n",
       "      <th>Epoch</th>\n",
       "      <th>Training Loss</th>\n",
       "      <th>Validation Loss</th>\n",
       "      <th>Accuracy</th>\n",
       "    </tr>\n",
       "  </thead>\n",
       "  <tbody>\n",
       "    <tr>\n",
       "      <td>2</td>\n",
       "      <td>0.686300</td>\n",
       "      <td>0.715343</td>\n",
       "      <td>0.686100</td>\n",
       "    </tr>\n",
       "    <tr>\n",
       "      <td>3</td>\n",
       "      <td>0.611400</td>\n",
       "      <td>0.713564</td>\n",
       "      <td>0.688920</td>\n",
       "    </tr>\n",
       "    <tr>\n",
       "      <td>4</td>\n",
       "      <td>0.502600</td>\n",
       "      <td>0.784768</td>\n",
       "      <td>0.686300</td>\n",
       "    </tr>\n",
       "    <tr>\n",
       "      <td>5</td>\n",
       "      <td>0.388900</td>\n",
       "      <td>0.913151</td>\n",
       "      <td>0.683600</td>\n",
       "    </tr>\n",
       "  </tbody>\n",
       "</table><p>"
      ],
      "text/plain": [
       "<IPython.core.display.HTML object>"
      ]
     },
     "metadata": {},
     "output_type": "display_data"
    },
    {
     "data": {
      "text/plain": [
       "TrainOutput(global_step=101565, training_loss=0.30843003368363603, metrics={'train_runtime': 21795.1551, 'train_samples_per_second': 149.116, 'train_steps_per_second': 4.66, 'total_flos': 8.55133963008e+17, 'train_loss': 0.30843003368363603, 'epoch': 5.0})"
      ]
     },
     "execution_count": 23,
     "metadata": {},
     "output_type": "execute_result"
    }
   ],
   "source": [
    "from transformers import AutoModelForSequenceClassification,Trainer\n",
    "\n",
    "# 从保存的checkpoint加载模型\n",
    "model = AutoModelForSequenceClassification.from_pretrained('/root/autodl-tmp/project/transformers/models/bert-base-cased-finetune-yelp/checkpoint-40000',num_labels=5)\n",
    "\n",
    "# 初始化Trainer\n",
    "trainer = Trainer(\n",
    "    model=model,\n",
    "    args=training_args,\n",
    "    train_dataset=small_train_dataset,\n",
    "    eval_dataset=small_eval_dataset,\n",
    "    compute_metrics=compute_metrics,\n",
    ")\n",
    "\n",
    "# 从checkpoint继续训练\n",
    "trainer.train(resume_from_checkpoint=True)\n"
   ]
  },
  {
   "cell_type": "code",
   "execution_count": 24,
   "id": "fd92e35d-fed7-4ff2-aa84-27b5e29b917a",
   "metadata": {
    "execution": {
     "iopub.execute_input": "2024-06-11T16:45:39.496726Z",
     "iopub.status.busy": "2024-06-11T16:45:39.496512Z",
     "iopub.status.idle": "2024-06-11T16:45:39.500411Z",
     "shell.execute_reply": "2024-06-11T16:45:39.500000Z",
     "shell.execute_reply.started": "2024-06-11T16:45:39.496706Z"
    }
   },
   "outputs": [],
   "source": [
    "# trainer.model.save_pretrained(\"./\")"
   ]
  },
  {
   "cell_type": "code",
   "execution_count": 33,
   "id": "b824408d-9f22-4db6-bc8b-2dcf709ea09f",
   "metadata": {
    "execution": {
     "iopub.execute_input": "2024-06-12T01:34:17.438033Z",
     "iopub.status.busy": "2024-06-12T01:34:17.437360Z",
     "iopub.status.idle": "2024-06-12T01:34:17.626223Z",
     "shell.execute_reply": "2024-06-12T01:34:17.625314Z",
     "shell.execute_reply.started": "2024-06-12T01:34:17.437976Z"
    }
   },
   "outputs": [
    {
     "data": {
      "text/plain": [
       "BertForSequenceClassification(\n",
       "  (bert): BertModel(\n",
       "    (embeddings): BertEmbeddings(\n",
       "      (word_embeddings): Embedding(28996, 768, padding_idx=0)\n",
       "      (position_embeddings): Embedding(512, 768)\n",
       "      (token_type_embeddings): Embedding(2, 768)\n",
       "      (LayerNorm): LayerNorm((768,), eps=1e-12, elementwise_affine=True)\n",
       "      (dropout): Dropout(p=0.1, inplace=False)\n",
       "    )\n",
       "    (encoder): BertEncoder(\n",
       "      (layer): ModuleList(\n",
       "        (0-11): 12 x BertLayer(\n",
       "          (attention): BertAttention(\n",
       "            (self): BertSdpaSelfAttention(\n",
       "              (query): Linear(in_features=768, out_features=768, bias=True)\n",
       "              (key): Linear(in_features=768, out_features=768, bias=True)\n",
       "              (value): Linear(in_features=768, out_features=768, bias=True)\n",
       "              (dropout): Dropout(p=0.1, inplace=False)\n",
       "            )\n",
       "            (output): BertSelfOutput(\n",
       "              (dense): Linear(in_features=768, out_features=768, bias=True)\n",
       "              (LayerNorm): LayerNorm((768,), eps=1e-12, elementwise_affine=True)\n",
       "              (dropout): Dropout(p=0.1, inplace=False)\n",
       "            )\n",
       "          )\n",
       "          (intermediate): BertIntermediate(\n",
       "            (dense): Linear(in_features=768, out_features=3072, bias=True)\n",
       "            (intermediate_act_fn): GELUActivation()\n",
       "          )\n",
       "          (output): BertOutput(\n",
       "            (dense): Linear(in_features=3072, out_features=768, bias=True)\n",
       "            (LayerNorm): LayerNorm((768,), eps=1e-12, elementwise_affine=True)\n",
       "            (dropout): Dropout(p=0.1, inplace=False)\n",
       "          )\n",
       "        )\n",
       "      )\n",
       "    )\n",
       "    (pooler): BertPooler(\n",
       "      (dense): Linear(in_features=768, out_features=768, bias=True)\n",
       "      (activation): Tanh()\n",
       "    )\n",
       "  )\n",
       "  (dropout): Dropout(p=0.1, inplace=False)\n",
       "  (classifier): Linear(in_features=768, out_features=5, bias=True)\n",
       ")"
      ]
     },
     "execution_count": 33,
     "metadata": {},
     "output_type": "execute_result"
    }
   ],
   "source": [
    "model = AutoModelForSequenceClassification.from_pretrained(\"/root/autodl-tmp/project/transformers/models/bert-base-cased-finetune-yelp\")\n",
    "\n",
    "\n"
   ]
  },
  {
   "cell_type": "code",
   "execution_count": 45,
   "id": "2b7c81ce-0fb1-4d76-a98d-d42d4124e7b9",
   "metadata": {
    "execution": {
     "iopub.execute_input": "2024-06-12T02:01:47.053876Z",
     "iopub.status.busy": "2024-06-12T02:01:47.053016Z",
     "iopub.status.idle": "2024-06-12T02:01:47.111340Z",
     "shell.execute_reply": "2024-06-12T02:01:47.110426Z",
     "shell.execute_reply.started": "2024-06-12T02:01:47.053821Z"
    }
   },
   "outputs": [],
   "source": [
    "text = \"I think if I had to pick between overpriced Nathan's and overpriced Bonanno's, Bonanno's wins. I couldn't go to McDonald's next door out of principle, but I was sorely tempted.\"\n",
    "encoded_input = tokenizer(text, return_tensors='pt')\n",
    "output = model(**encoded_input)"
   ]
  },
  {
   "cell_type": "code",
   "execution_count": 46,
   "id": "6575891c-253c-4f88-95c7-63557eab906c",
   "metadata": {
    "execution": {
     "iopub.execute_input": "2024-06-12T02:01:49.280776Z",
     "iopub.status.busy": "2024-06-12T02:01:49.279929Z",
     "iopub.status.idle": "2024-06-12T02:01:49.292673Z",
     "shell.execute_reply": "2024-06-12T02:01:49.290660Z",
     "shell.execute_reply.started": "2024-06-12T02:01:49.280719Z"
    }
   },
   "outputs": [
    {
     "data": {
      "text/plain": [
       "SequenceClassifierOutput(loss=None, logits=tensor([[ 2.4590,  6.2178,  1.4186, -3.6088, -5.0214]],\n",
       "       grad_fn=<AddmmBackward0>), hidden_states=None, attentions=None)"
      ]
     },
     "execution_count": 46,
     "metadata": {},
     "output_type": "execute_result"
    }
   ],
   "source": [
    "output"
   ]
  },
  {
   "cell_type": "code",
   "execution_count": 47,
   "id": "42f109a9-77df-4a7e-8d7a-afe94ac60842",
   "metadata": {
    "execution": {
     "iopub.execute_input": "2024-06-12T02:01:51.600843Z",
     "iopub.status.busy": "2024-06-12T02:01:51.600179Z",
     "iopub.status.idle": "2024-06-12T02:01:51.614542Z",
     "shell.execute_reply": "2024-06-12T02:01:51.612151Z",
     "shell.execute_reply.started": "2024-06-12T02:01:51.600788Z"
    }
   },
   "outputs": [
    {
     "name": "stdout",
     "output_type": "stream",
     "text": [
      "Predicted class: 1, Probabilities: tensor([[2.2596e-02, 9.6936e-01, 7.9835e-03, 5.2342e-05, 1.2745e-05]],\n",
      "       grad_fn=<SoftmaxBackward0>)\n"
     ]
    }
   ],
   "source": [
    "import torch\n",
    "\n",
    "# 获取logits并转换为概率分布\n",
    "logits = output.logits\n",
    "probabilities = torch.nn.functional.softmax(logits, dim=-1)\n",
    "\n",
    "# 获取预测类别\n",
    "predicted_class = torch.argmax(probabilities, dim=-1)\n",
    "\n",
    "print(f\"Predicted class: {predicted_class.item()}, Probabilities: {probabilities}\")"
   ]
  },
  {
   "cell_type": "markdown",
   "id": "61828934-01da-4fc3-9e75-8d754c25dfbc",
   "metadata": {},
   "source": [
    "## Homework: 使用完整的 YelpReviewFull 数据集训练，看 Acc 最高能到多少"
   ]
  },
  {
   "cell_type": "code",
   "execution_count": null,
   "id": "6ee2580a-7a5a-46ae-a28b-b41e9e838eb1",
   "metadata": {},
   "outputs": [],
   "source": []
  }
 ],
 "metadata": {
  "kernelspec": {
   "display_name": "peft",
   "language": "python",
   "name": "peft"
  },
  "language_info": {
   "codemirror_mode": {
    "name": "ipython",
    "version": 3
   },
   "file_extension": ".py",
   "mimetype": "text/x-python",
   "name": "python",
   "nbconvert_exporter": "python",
   "pygments_lexer": "ipython3",
   "version": "3.12.2"
  }
 },
 "nbformat": 4,
 "nbformat_minor": 5
}

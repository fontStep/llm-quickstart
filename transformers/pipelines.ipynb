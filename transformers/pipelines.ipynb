{
 "cells": [
  {
   "cell_type": "markdown",
   "id": "417a9e80-e1be-4db4-bfa5-831570a39fe3",
   "metadata": {
    "editable": true,
    "slideshow": {
     "slide_type": ""
    },
    "tags": []
   },
   "source": [
    "# HF Transformers 核心模块学习：Pipelines\n",
    "\n",
    "**Pipelines**（管道）是使用模型进行推理的一种简单易上手的方式。\n",
    "\n",
    "这些管道是抽象了 Transformers 库中大部分复杂代码的对象，提供了一个专门用于多种任务的简单API，包括**命名实体识别、掩码语言建模、情感分析、特征提取和问答**等。\n",
    "\n",
    "\n",
    "| Modality                    | Task                         | Description                                                | Pipeline API                                  |\n",
    "| --------------------------- | ---------------------------- | ---------------------------------------------------------- | --------------------------------------------- |\n",
    "| Audio                       | Audio classification         | 为音频文件分配一个标签                                     | pipeline(task=“audio-classification”)         |\n",
    "|                             | Automatic speech recognition | 将音频文件中的语音提取为文本                               | pipeline(task=“automatic-speech-recognition”) |\n",
    "| Computer vision             | Image classification         | 为图像分配一个标签                                         | pipeline(task=“image-classification”)         |\n",
    "|                             | Object detection             | 预测图像中目标对象的边界框和类别                           | pipeline(task=“object-detection”)             |\n",
    "|                             | Image segmentation           | 为图像中每个独立的像素分配标签（支持语义、全景和实例分割） | pipeline(task=“image-segmentation”)           |\n",
    "| Natural language processing | Text classification          | 为给定的文本序列分配一个标签                               | pipeline(task=“sentiment-analysis”)           |\n",
    "|                             | Token classification         | 为序列里的每个 token 分配一个标签（人, 组织, 地址等等）    | pipeline(task=“ner”)                          |\n",
    "|                             | Question answering           | 通过给定的上下文和问题, 在文本中提取答案                   | pipeline(task=“question-answering”)           |\n",
    "|                             | Summarization                | 为文本序列或文档生成总结                                   | pipeline(task=“summarization”)                |\n",
    "|                             | Translation                  | 将文本从一种语言翻译为另一种语言                           | pipeline(task=“translation”)                  |\n",
    "| Multimodal                  | Document question answering  | 根据给定的文档和问题回答一个关于该文档的问题。             | pipeline(task=“document-question-answering”)  |\n",
    "|                             | Visual Question Answering    | 给定一个图像和一个问题，正确地回答有关图像的问题           | pipeline(task=“vqa”)                          |\n",
    "\n",
    "\n",
    "\n",
    "Pipelines 已支持的完整任务列表：https://huggingface.co/docs/transformers/task_summary\n"
   ]
  },
  {
   "cell_type": "markdown",
   "id": "418f2e3c-a185-4164-ab8b-3b8c98c3b4a5",
   "metadata": {
    "jp-MarkdownHeadingCollapsed": true
   },
   "source": [
    "## Pipeline API\n",
    "\n",
    "**Pipeline API** 是对所有其他可用管道的包装。它可以像任何其他管道一样实例化，并且降低AI推理的学习和使用成本。\n",
    "\n",
    "![](docs/images/pipeline_func.png)\n",
    "\n",
    "### 使用 Pipeline API 实现 Text Classification 任务\n",
    "\n",
    "\n",
    "**Text classification**(文本分类)与任何模态中的分类任务一样，文本分类将一个文本序列（可以是句子级别、段落或者整篇文章）标记为预定义的类别集合之一。文本分类有许多实际应用，其中包括：\n",
    "\n",
    "- 情感分析：根据某种极性（如积极或消极）对文本进行标记，以在政治、金融和市场等领域支持决策制定。\n",
    "- 内容分类：根据某个主题对文本进行标记，以帮助组织和过滤新闻和社交媒体信息流中的信息（天气、体育、金融等）。\n",
    "\n",
    "\n",
    "下面以 `Text classification` 中的情感分析任务为例，展示如何使用 Pipeline API。\n",
    "\n",
    "模型主页：https://huggingface.co/distilbert-base-uncased-finetuned-sst-2-english"
   ]
  },
  {
   "cell_type": "markdown",
   "id": "b9c38e82-e8f6-4af0-b257-b46f446aa249",
   "metadata": {
    "tags": []
   },
   "source": [
    "## transformers 自定义模型下载的路径\n",
    "\n",
    "在transformers自定义模型下载的路径方法\n",
    "\n",
    "```python\n",
    "import os\n",
    "\n",
    "os.environ['HF_HOME'] = '/mnt/new_volume/hf'\n",
    "os.environ['HF_HUB_CACHE'] = '/mnt/new_volume/hf/hub'\n",
    "```"
   ]
  },
  {
   "cell_type": "markdown",
   "id": "5b8b61cb",
   "metadata": {},
   "source": [
    "## entiment-asnalysis"
   ]
  },
  {
   "cell_type": "markdown",
   "id": "cf7aa779",
   "metadata": {},
   "source": [
    "### distilbert-base-uncased-finetuned-sst-2-english模型"
   ]
  },
  {
   "cell_type": "code",
   "execution_count": 1,
   "id": "9684ec5f-9460-4876-9883-69380eacb0e7",
   "metadata": {},
   "outputs": [
    {
     "data": {
      "text/plain": [
       "[{'label': 'NEGATIVE', 'score': 0.8957212567329407}]"
      ]
     },
     "execution_count": 1,
     "metadata": {},
     "output_type": "execute_result"
    }
   ],
   "source": [
    "from transformers import pipeline\n",
    "\n",
    "# 仅指定任务时，使用默认模型（不推荐）\n",
    "pipe = pipeline(task=\"sentiment-analysis\",model=\"/root/autodl-tmp/hf/modules/distilbert-base-uncased-finetuned-sst-2-english\")\n",
    "pipe(\"今儿上海可真冷啊\")"
   ]
  },
  {
   "cell_type": "markdown",
   "id": "63a12486-952a-447d-9e90-6b041349a26e",
   "metadata": {},
   "source": [
    "#### 测试更多示例"
   ]
  },
  {
   "cell_type": "code",
   "execution_count": 2,
   "id": "ee67f529-3d32-4834-b29a-e51a65cf4d49",
   "metadata": {},
   "outputs": [
    {
     "data": {
      "text/plain": [
       "[{'label': 'NEGATIVE', 'score': 0.9238728880882263}]"
      ]
     },
     "execution_count": 2,
     "metadata": {},
     "output_type": "execute_result"
    }
   ],
   "source": [
    "pipe(\"我觉得这家店蒜泥白肉的味道一般\")"
   ]
  },
  {
   "cell_type": "code",
   "execution_count": 7,
   "id": "25e0c251-d150-4f1a-a04c-5948e51e92f1",
   "metadata": {},
   "outputs": [
    {
     "data": {
      "text/plain": [
       "[{'label': 'NEGATIVE', 'score': 0.9921407103538513}]"
      ]
     },
     "execution_count": 7,
     "metadata": {},
     "output_type": "execute_result"
    }
   ],
   "source": [
    "pipe(\"I think the taste of this restaurant's garlic pork is average\")"
   ]
  },
  {
   "cell_type": "code",
   "execution_count": 3,
   "id": "4e104034-94ca-4370-8d35-438501c29ead",
   "metadata": {},
   "outputs": [
    {
     "data": {
      "text/plain": [
       "[{'label': 'NEGATIVE', 'score': 0.8578681349754333}]"
      ]
     },
     "execution_count": 3,
     "metadata": {},
     "output_type": "execute_result"
    }
   ],
   "source": [
    "# 默认使用的模型 distilbert-base-uncased-finetuned-sst-2-english \n",
    "# 并未针对中文做太多训练，中文的文本分类任务表现未必满意\n",
    "pipe(\"你学东西真的好快，理论课一讲就明白了\")"
   ]
  },
  {
   "cell_type": "code",
   "execution_count": 4,
   "id": "9c3d11aa-d523-491c-8910-bdc8aba49487",
   "metadata": {},
   "outputs": [
    {
     "data": {
      "text/plain": [
       "[{'label': 'POSITIVE', 'score': 0.9961802959442139}]"
      ]
     },
     "execution_count": 4,
     "metadata": {},
     "output_type": "execute_result"
    }
   ],
   "source": [
    "# 替换为英文后，文本分类任务的表现立刻改善\n",
    "pipe(\"You learn things really quickly. You understand the theory class as soon as it is taught.\")"
   ]
  },
  {
   "cell_type": "code",
   "execution_count": 5,
   "id": "09df7300-2f0d-4bc4-9572-0631658e8253",
   "metadata": {},
   "outputs": [
    {
     "data": {
      "text/plain": [
       "[{'label': 'NEGATIVE', 'score': 0.9995032548904419}]"
      ]
     },
     "execution_count": 5,
     "metadata": {},
     "output_type": "execute_result"
    }
   ],
   "source": [
    "pipe(\"Today Shanghai is really cold.\")"
   ]
  },
  {
   "cell_type": "markdown",
   "id": "507dbfc3-5347-4b82-8ea1-4e6c3d81c07f",
   "metadata": {},
   "source": [
    "#### 批处理调用模型推理"
   ]
  },
  {
   "cell_type": "code",
   "execution_count": 6,
   "id": "1390396e-1af8-497f-85d9-6c9e984b4609",
   "metadata": {},
   "outputs": [
    {
     "data": {
      "text/plain": [
       "[{'label': 'NEGATIVE', 'score': 0.9995032548904419},\n",
       " {'label': 'NEGATIVE', 'score': 0.9984821677207947},\n",
       " {'label': 'POSITIVE', 'score': 0.9961802959442139}]"
      ]
     },
     "execution_count": 6,
     "metadata": {},
     "output_type": "execute_result"
    }
   ],
   "source": [
    "text_list = [\n",
    "    \"Today Shanghai is really cold.\",\n",
    "    \"I think the taste of the garlic mashed pork in this store is average.\",\n",
    "    \"You learn things really quickly. You understand the theory class as soon as it is taught.\"\n",
    "]\n",
    "\n",
    "pipe(text_list)"
   ]
  },
  {
   "cell_type": "markdown",
   "id": "0a3c97c2",
   "metadata": {},
   "source": [
    "### Qwen1.5-7B-Chat模型"
   ]
  },
  {
   "cell_type": "code",
   "execution_count": 8,
   "id": "57c57525",
   "metadata": {
    "execution": {
     "iopub.execute_input": "2024-06-07T08:14:29.857248Z",
     "iopub.status.busy": "2024-06-07T08:14:29.856730Z",
     "iopub.status.idle": "2024-06-07T08:14:37.314336Z",
     "shell.execute_reply": "2024-06-07T08:14:37.313482Z",
     "shell.execute_reply.started": "2024-06-07T08:14:29.857219Z"
    }
   },
   "outputs": [
    {
     "data": {
      "application/vnd.jupyter.widget-view+json": {
       "model_id": "9f1956d704eb4928aef41d46dfb9881f",
       "version_major": 2,
       "version_minor": 0
      },
      "text/plain": [
       "Loading checkpoint shards:   0%|          | 0/4 [00:00<?, ?it/s]"
      ]
     },
     "metadata": {},
     "output_type": "display_data"
    },
    {
     "name": "stderr",
     "output_type": "stream",
     "text": [
      "Some weights of Qwen2ForSequenceClassification were not initialized from the model checkpoint at /root/autodl-tmp/hf/modules/Qwen1.5-7B-Chat and are newly initialized: ['score.weight']\n",
      "You should probably TRAIN this model on a down-stream task to be able to use it for predictions and inference.\n",
      "Special tokens have been added in the vocabulary, make sure the associated word embeddings are fine-tuned or trained.\n"
     ]
    }
   ],
   "source": [
    "qwen = pipeline(task=\"sentiment-analysis\",model = \"/root/autodl-tmp/hf/modules/Qwen1.5-7B-Chat\")"
   ]
  },
  {
   "cell_type": "code",
   "execution_count": 9,
   "id": "fdec798a",
   "metadata": {
    "execution": {
     "iopub.execute_input": "2024-06-07T08:14:41.138158Z",
     "iopub.status.busy": "2024-06-07T08:14:41.137706Z",
     "iopub.status.idle": "2024-06-07T08:14:41.782548Z",
     "shell.execute_reply": "2024-06-07T08:14:41.781767Z",
     "shell.execute_reply.started": "2024-06-07T08:14:41.138133Z"
    }
   },
   "outputs": [
    {
     "data": {
      "text/plain": [
       "[{'label': 'LABEL_1', 'score': 0.7561785578727722}]"
      ]
     },
     "execution_count": 9,
     "metadata": {},
     "output_type": "execute_result"
    }
   ],
   "source": [
    "qwen(\"我觉得这家店蒜泥白肉的味道一般\")"
   ]
  },
  {
   "cell_type": "code",
   "execution_count": 10,
   "id": "fab154c3",
   "metadata": {
    "execution": {
     "iopub.execute_input": "2024-06-07T08:14:52.252898Z",
     "iopub.status.busy": "2024-06-07T08:14:52.252578Z",
     "iopub.status.idle": "2024-06-07T08:14:53.173211Z",
     "shell.execute_reply": "2024-06-07T08:14:53.172651Z",
     "shell.execute_reply.started": "2024-06-07T08:14:52.252874Z"
    }
   },
   "outputs": [
    {
     "data": {
      "text/plain": [
       "[{'label': 'LABEL_0', 'score': 0.9999998807907104}]"
      ]
     },
     "execution_count": 10,
     "metadata": {},
     "output_type": "execute_result"
    }
   ],
   "source": [
    "qwen(\"I think the taste of this restaurant's garlic pork is average.\")"
   ]
  },
  {
   "cell_type": "code",
   "execution_count": 11,
   "id": "e5ae21df",
   "metadata": {
    "execution": {
     "iopub.execute_input": "2024-06-07T08:15:02.001487Z",
     "iopub.status.busy": "2024-06-07T08:15:02.001072Z",
     "iopub.status.idle": "2024-06-07T08:15:02.480266Z",
     "shell.execute_reply": "2024-06-07T08:15:02.479582Z",
     "shell.execute_reply.started": "2024-06-07T08:15:02.001462Z"
    }
   },
   "outputs": [
    {
     "data": {
      "text/plain": [
       "[{'label': 'LABEL_0', 'score': 0.9625878930091858}]"
      ]
     },
     "execution_count": 11,
     "metadata": {},
     "output_type": "execute_result"
    }
   ],
   "source": [
    "qwen(\"今天可真热呀\")"
   ]
  },
  {
   "cell_type": "code",
   "execution_count": 13,
   "id": "c2a4949f",
   "metadata": {
    "execution": {
     "iopub.execute_input": "2024-06-07T08:15:12.272049Z",
     "iopub.status.busy": "2024-06-07T08:15:12.270971Z",
     "iopub.status.idle": "2024-06-07T08:15:12.690405Z",
     "shell.execute_reply": "2024-06-07T08:15:12.689600Z",
     "shell.execute_reply.started": "2024-06-07T08:15:12.272023Z"
    }
   },
   "outputs": [
    {
     "data": {
      "text/plain": [
       "[{'label': 'LABEL_1', 'score': 0.9535388946533203}]"
      ]
     },
     "execution_count": 13,
     "metadata": {},
     "output_type": "execute_result"
    }
   ],
   "source": [
    "qwen(\"It's really hot today\")"
   ]
  },
  {
   "cell_type": "code",
   "execution_count": 12,
   "id": "e1c8af7d",
   "metadata": {
    "execution": {
     "iopub.execute_input": "2024-06-07T08:15:07.473870Z",
     "iopub.status.busy": "2024-06-07T08:15:07.473482Z",
     "iopub.status.idle": "2024-06-07T08:15:08.362499Z",
     "shell.execute_reply": "2024-06-07T08:15:08.361695Z",
     "shell.execute_reply.started": "2024-06-07T08:15:07.473844Z"
    }
   },
   "outputs": [
    {
     "data": {
      "text/plain": [
       "[{'label': 'LABEL_0', 'score': 0.9998940229415894}]"
      ]
     },
     "execution_count": 12,
     "metadata": {},
     "output_type": "execute_result"
    }
   ],
   "source": [
    "qwen(\"你学东西真的好快，理论课一讲就明白了\")"
   ]
  },
  {
   "cell_type": "code",
   "execution_count": 14,
   "id": "a6b4068b",
   "metadata": {
    "execution": {
     "iopub.execute_input": "2024-06-07T08:15:16.553970Z",
     "iopub.status.busy": "2024-06-07T08:15:16.553679Z",
     "iopub.status.idle": "2024-06-07T08:15:17.324027Z",
     "shell.execute_reply": "2024-06-07T08:15:17.323253Z",
     "shell.execute_reply.started": "2024-06-07T08:15:16.553947Z"
    }
   },
   "outputs": [
    {
     "data": {
      "text/plain": [
       "[{'label': 'LABEL_0', 'score': 0.9991976618766785}]"
      ]
     },
     "execution_count": 14,
     "metadata": {},
     "output_type": "execute_result"
    }
   ],
   "source": [
    "qwen(\"You learn things really quickly. You understand the theory class as soon as it is taught.\")"
   ]
  },
  {
   "cell_type": "code",
   "execution_count": 15,
   "id": "9f496336",
   "metadata": {
    "execution": {
     "iopub.execute_input": "2024-06-07T08:15:20.384390Z",
     "iopub.status.busy": "2024-06-07T08:15:20.383215Z",
     "iopub.status.idle": "2024-06-07T08:15:20.984837Z",
     "shell.execute_reply": "2024-06-07T08:15:20.984285Z",
     "shell.execute_reply.started": "2024-06-07T08:15:20.384362Z"
    }
   },
   "outputs": [
    {
     "data": {
      "text/plain": [
       "[{'label': 'LABEL_0', 'score': 0.9692286252975464}]"
      ]
     },
     "execution_count": 15,
     "metadata": {},
     "output_type": "execute_result"
    }
   ],
   "source": [
    "qwen(\"今儿上海可真冷啊\")"
   ]
  },
  {
   "cell_type": "code",
   "execution_count": 16,
   "id": "3eff5d35",
   "metadata": {
    "execution": {
     "iopub.execute_input": "2024-06-07T08:15:24.145721Z",
     "iopub.status.busy": "2024-06-07T08:15:24.145256Z",
     "iopub.status.idle": "2024-06-07T08:15:24.600209Z",
     "shell.execute_reply": "2024-06-07T08:15:24.599661Z",
     "shell.execute_reply.started": "2024-06-07T08:15:24.145695Z"
    }
   },
   "outputs": [
    {
     "data": {
      "text/plain": [
       "[{'label': 'LABEL_0', 'score': 0.9997708201408386}]"
      ]
     },
     "execution_count": 16,
     "metadata": {},
     "output_type": "execute_result"
    }
   ],
   "source": [
    "qwen(\"Today Shanghai is really cold.\")"
   ]
  },
  {
   "cell_type": "markdown",
   "id": "a9101c93-b65c-4abc-a2df-b267c7e32001",
   "metadata": {},
   "source": [
    " ### cardiffnlp/twitter-roberta-base-sentiment-latest模型"
   ]
  },
  {
   "cell_type": "code",
   "execution_count": 34,
   "id": "7878b998-93c5-485b-8676-683a92a1c779",
   "metadata": {
    "execution": {
     "iopub.execute_input": "2024-06-07T08:34:45.399184Z",
     "iopub.status.busy": "2024-06-07T08:34:45.398610Z",
     "iopub.status.idle": "2024-06-07T08:34:45.916359Z",
     "shell.execute_reply": "2024-06-07T08:34:45.915469Z",
     "shell.execute_reply.started": "2024-06-07T08:34:45.399154Z"
    }
   },
   "outputs": [],
   "source": [
    "distilbert = pipeline(task=\"sentiment-analysis\",model = \"/root/autodl-tmp/hf/modules/distilbert-base-multilingual-cased-sentiments-student\")"
   ]
  },
  {
   "cell_type": "code",
   "execution_count": 35,
   "id": "2bd03264-0aaa-4dcf-8e28-7a22a485a746",
   "metadata": {
    "execution": {
     "iopub.execute_input": "2024-06-07T08:34:49.400039Z",
     "iopub.status.busy": "2024-06-07T08:34:49.399570Z",
     "iopub.status.idle": "2024-06-07T08:34:49.421104Z",
     "shell.execute_reply": "2024-06-07T08:34:49.419901Z",
     "shell.execute_reply.started": "2024-06-07T08:34:49.400014Z"
    }
   },
   "outputs": [
    {
     "data": {
      "text/plain": [
       "[{'label': 'neutral', 'score': 0.6030056476593018}]"
      ]
     },
     "execution_count": 35,
     "metadata": {},
     "output_type": "execute_result"
    }
   ],
   "source": [
    "distilbert(\"我觉得这家店蒜泥白肉的味道一般\")"
   ]
  },
  {
   "cell_type": "code",
   "execution_count": 36,
   "id": "2875fc68-58fa-4e65-aed1-92ec11d7b9d9",
   "metadata": {
    "execution": {
     "iopub.execute_input": "2024-06-07T08:34:54.202787Z",
     "iopub.status.busy": "2024-06-07T08:34:54.201563Z",
     "iopub.status.idle": "2024-06-07T08:34:54.233834Z",
     "shell.execute_reply": "2024-06-07T08:34:54.232664Z",
     "shell.execute_reply.started": "2024-06-07T08:34:54.202728Z"
    }
   },
   "outputs": [
    {
     "data": {
      "text/plain": [
       "[{'label': 'positive', 'score': 0.5195603370666504}]"
      ]
     },
     "execution_count": 36,
     "metadata": {},
     "output_type": "execute_result"
    }
   ],
   "source": [
    "distilbert(\"I think the taste of this restaurant's garlic pork is average.\")"
   ]
  },
  {
   "cell_type": "code",
   "execution_count": 37,
   "id": "ba2e5a6d-01ee-4377-ad56-2c54173684bc",
   "metadata": {
    "execution": {
     "iopub.execute_input": "2024-06-07T08:34:59.461048Z",
     "iopub.status.busy": "2024-06-07T08:34:59.459867Z",
     "iopub.status.idle": "2024-06-07T08:34:59.487633Z",
     "shell.execute_reply": "2024-06-07T08:34:59.486428Z",
     "shell.execute_reply.started": "2024-06-07T08:34:59.460989Z"
    }
   },
   "outputs": [
    {
     "data": {
      "text/plain": [
       "[{'label': 'positive', 'score': 0.8534454107284546}]"
      ]
     },
     "execution_count": 37,
     "metadata": {},
     "output_type": "execute_result"
    }
   ],
   "source": [
    "distilbert(\"今天可真热呀\")"
   ]
  },
  {
   "cell_type": "code",
   "execution_count": 38,
   "id": "aa45e54b-8d4e-4292-9178-d882f62da0c4",
   "metadata": {
    "execution": {
     "iopub.execute_input": "2024-06-07T08:35:03.059670Z",
     "iopub.status.busy": "2024-06-07T08:35:03.058847Z",
     "iopub.status.idle": "2024-06-07T08:35:03.085716Z",
     "shell.execute_reply": "2024-06-07T08:35:03.084585Z",
     "shell.execute_reply.started": "2024-06-07T08:35:03.059611Z"
    }
   },
   "outputs": [
    {
     "data": {
      "text/plain": [
       "[{'label': 'positive', 'score': 0.6402294039726257}]"
      ]
     },
     "execution_count": 38,
     "metadata": {},
     "output_type": "execute_result"
    }
   ],
   "source": [
    "distilbert(\"It's really hot today\")"
   ]
  },
  {
   "cell_type": "code",
   "execution_count": 39,
   "id": "51450dee-9737-4658-86b6-5d294a6286e7",
   "metadata": {
    "execution": {
     "iopub.execute_input": "2024-06-07T08:35:05.937684Z",
     "iopub.status.busy": "2024-06-07T08:35:05.936429Z",
     "iopub.status.idle": "2024-06-07T08:35:05.967378Z",
     "shell.execute_reply": "2024-06-07T08:35:05.966238Z",
     "shell.execute_reply.started": "2024-06-07T08:35:05.937621Z"
    }
   },
   "outputs": [
    {
     "data": {
      "text/plain": [
       "[{'label': 'positive', 'score': 0.9461328983306885}]"
      ]
     },
     "execution_count": 39,
     "metadata": {},
     "output_type": "execute_result"
    }
   ],
   "source": [
    "distilbert(\"你学东西真的好快，理论课一讲就明白了\")"
   ]
  },
  {
   "cell_type": "code",
   "execution_count": 40,
   "id": "6557bb54-1ea0-4c5e-bbb0-85aee5e569ad",
   "metadata": {
    "execution": {
     "iopub.execute_input": "2024-06-07T08:35:09.969744Z",
     "iopub.status.busy": "2024-06-07T08:35:09.968893Z",
     "iopub.status.idle": "2024-06-07T08:35:09.999375Z",
     "shell.execute_reply": "2024-06-07T08:35:09.998310Z",
     "shell.execute_reply.started": "2024-06-07T08:35:09.969684Z"
    }
   },
   "outputs": [
    {
     "data": {
      "text/plain": [
       "[{'label': 'positive', 'score': 0.7639098763465881}]"
      ]
     },
     "execution_count": 40,
     "metadata": {},
     "output_type": "execute_result"
    }
   ],
   "source": [
    "distilbert(\"You learn things really quickly. You understand the theory class as soon as it is taught.\")"
   ]
  },
  {
   "cell_type": "code",
   "execution_count": 41,
   "id": "7e229c5e-4e99-40a4-a6fb-3b9192fcc1f3",
   "metadata": {
    "execution": {
     "iopub.execute_input": "2024-06-07T08:35:13.603592Z",
     "iopub.status.busy": "2024-06-07T08:35:13.602945Z",
     "iopub.status.idle": "2024-06-07T08:35:13.627815Z",
     "shell.execute_reply": "2024-06-07T08:35:13.626561Z",
     "shell.execute_reply.started": "2024-06-07T08:35:13.603534Z"
    }
   },
   "outputs": [
    {
     "data": {
      "text/plain": [
       "[{'label': 'negative', 'score': 0.6657698750495911}]"
      ]
     },
     "execution_count": 41,
     "metadata": {},
     "output_type": "execute_result"
    }
   ],
   "source": [
    "distilbert(\"今儿上海可真冷啊\")"
   ]
  },
  {
   "cell_type": "code",
   "execution_count": 42,
   "id": "4808255c-6e5e-45ac-aaef-36f8f1d4887d",
   "metadata": {
    "execution": {
     "iopub.execute_input": "2024-06-07T08:35:16.254982Z",
     "iopub.status.busy": "2024-06-07T08:35:16.254163Z",
     "iopub.status.idle": "2024-06-07T08:35:16.276996Z",
     "shell.execute_reply": "2024-06-07T08:35:16.275864Z",
     "shell.execute_reply.started": "2024-06-07T08:35:16.254922Z"
    }
   },
   "outputs": [
    {
     "data": {
      "text/plain": [
       "[{'label': 'negative', 'score': 0.7824515104293823}]"
      ]
     },
     "execution_count": 42,
     "metadata": {},
     "output_type": "execute_result"
    }
   ],
   "source": [
    "distilbert(\"Today Shanghai is really cold.\")"
   ]
  },
  {
   "cell_type": "code",
   "execution_count": null,
   "id": "a517d9f5-3088-46c3-a609-d50c7134d624",
   "metadata": {},
   "outputs": [],
   "source": []
  },
  {
   "cell_type": "code",
   "execution_count": 25,
   "id": "3bf24d25-02c3-40b2-8e01-3ed17d632964",
   "metadata": {
    "execution": {
     "iopub.execute_input": "2024-06-07T08:28:31.838751Z",
     "iopub.status.busy": "2024-06-07T08:28:31.838306Z",
     "iopub.status.idle": "2024-06-07T08:28:32.268330Z",
     "shell.execute_reply": "2024-06-07T08:28:32.267473Z",
     "shell.execute_reply.started": "2024-06-07T08:28:31.838724Z"
    }
   },
   "outputs": [
    {
     "name": "stderr",
     "output_type": "stream",
     "text": [
      "Some weights of the model checkpoint at /root/autodl-tmp/hf/modules/twitter-roberta-base-sentiment-latest were not used when initializing RobertaForSequenceClassification: ['roberta.pooler.dense.bias', 'roberta.pooler.dense.weight']\n",
      "- This IS expected if you are initializing RobertaForSequenceClassification from the checkpoint of a model trained on another task or with another architecture (e.g. initializing a BertForSequenceClassification model from a BertForPreTraining model).\n",
      "- This IS NOT expected if you are initializing RobertaForSequenceClassification from the checkpoint of a model that you expect to be exactly identical (initializing a BertForSequenceClassification model from a BertForSequenceClassification model).\n"
     ]
    }
   ],
   "source": [
    "cardiffnlp = pipeline(task=\"sentiment-analysis\",model = \"/root/autodl-tmp/hf/modules/twitter-roberta-base-sentiment-latest\")"
   ]
  },
  {
   "cell_type": "code",
   "execution_count": 26,
   "id": "acb2bbf4-7355-43ae-a866-304a5ef2ec82",
   "metadata": {
    "execution": {
     "iopub.execute_input": "2024-06-07T08:28:45.089829Z",
     "iopub.status.busy": "2024-06-07T08:28:45.089381Z",
     "iopub.status.idle": "2024-06-07T08:28:45.133759Z",
     "shell.execute_reply": "2024-06-07T08:28:45.132664Z",
     "shell.execute_reply.started": "2024-06-07T08:28:45.089804Z"
    }
   },
   "outputs": [
    {
     "data": {
      "text/plain": [
       "[{'label': 'neutral', 'score': 0.7896567583084106}]"
      ]
     },
     "execution_count": 26,
     "metadata": {},
     "output_type": "execute_result"
    }
   ],
   "source": [
    "cardiffnlp(\"我觉得这家店蒜泥白肉的味道一般\")"
   ]
  },
  {
   "cell_type": "code",
   "execution_count": 27,
   "id": "076af868-a7af-4570-a7e4-6d09022edb83",
   "metadata": {
    "execution": {
     "iopub.execute_input": "2024-06-07T08:28:50.319944Z",
     "iopub.status.busy": "2024-06-07T08:28:50.319298Z",
     "iopub.status.idle": "2024-06-07T08:28:50.359631Z",
     "shell.execute_reply": "2024-06-07T08:28:50.358777Z",
     "shell.execute_reply.started": "2024-06-07T08:28:50.319885Z"
    }
   },
   "outputs": [
    {
     "data": {
      "text/plain": [
       "[{'label': 'negative', 'score': 0.9096534848213196}]"
      ]
     },
     "execution_count": 27,
     "metadata": {},
     "output_type": "execute_result"
    }
   ],
   "source": [
    "cardiffnlp(\"I think the taste of this restaurant's garlic pork is average.\")"
   ]
  },
  {
   "cell_type": "code",
   "execution_count": 28,
   "id": "a3b59fa8-0c96-4f11-80b4-b41161907875",
   "metadata": {
    "execution": {
     "iopub.execute_input": "2024-06-07T08:28:54.952374Z",
     "iopub.status.busy": "2024-06-07T08:28:54.951880Z",
     "iopub.status.idle": "2024-06-07T08:28:54.980364Z",
     "shell.execute_reply": "2024-06-07T08:28:54.979943Z",
     "shell.execute_reply.started": "2024-06-07T08:28:54.952344Z"
    }
   },
   "outputs": [
    {
     "data": {
      "text/plain": [
       "[{'label': 'neutral', 'score': 0.7702414393424988}]"
      ]
     },
     "execution_count": 28,
     "metadata": {},
     "output_type": "execute_result"
    }
   ],
   "source": [
    "cardiffnlp(\"今天可真热呀\")"
   ]
  },
  {
   "cell_type": "code",
   "execution_count": 29,
   "id": "8dae4ce7-2b7a-4f67-a8c2-1010dc612159",
   "metadata": {
    "execution": {
     "iopub.execute_input": "2024-06-07T08:28:59.736152Z",
     "iopub.status.busy": "2024-06-07T08:28:59.735332Z",
     "iopub.status.idle": "2024-06-07T08:28:59.767211Z",
     "shell.execute_reply": "2024-06-07T08:28:59.766400Z",
     "shell.execute_reply.started": "2024-06-07T08:28:59.736090Z"
    }
   },
   "outputs": [
    {
     "data": {
      "text/plain": [
       "[{'label': 'neutral', 'score': 0.4667932987213135}]"
      ]
     },
     "execution_count": 29,
     "metadata": {},
     "output_type": "execute_result"
    }
   ],
   "source": [
    "cardiffnlp(\"It's really hot today\")"
   ]
  },
  {
   "cell_type": "code",
   "execution_count": 30,
   "id": "223d0b64-a69a-4cd9-89e8-e72c5327a20a",
   "metadata": {
    "execution": {
     "iopub.execute_input": "2024-06-07T08:29:03.026778Z",
     "iopub.status.busy": "2024-06-07T08:29:03.025704Z",
     "iopub.status.idle": "2024-06-07T08:29:03.083713Z",
     "shell.execute_reply": "2024-06-07T08:29:03.082922Z",
     "shell.execute_reply.started": "2024-06-07T08:29:03.026719Z"
    }
   },
   "outputs": [
    {
     "data": {
      "text/plain": [
       "[{'label': 'neutral', 'score': 0.7751216888427734}]"
      ]
     },
     "execution_count": 30,
     "metadata": {},
     "output_type": "execute_result"
    }
   ],
   "source": [
    "cardiffnlp(\"你学东西真的好快，理论课一讲就明白了\")"
   ]
  },
  {
   "cell_type": "code",
   "execution_count": 31,
   "id": "18c5f55a-e7b2-482e-8220-3cab1f91ad98",
   "metadata": {
    "execution": {
     "iopub.execute_input": "2024-06-07T08:29:06.746911Z",
     "iopub.status.busy": "2024-06-07T08:29:06.746096Z",
     "iopub.status.idle": "2024-06-07T08:29:06.795689Z",
     "shell.execute_reply": "2024-06-07T08:29:06.794826Z",
     "shell.execute_reply.started": "2024-06-07T08:29:06.746851Z"
    }
   },
   "outputs": [
    {
     "data": {
      "text/plain": [
       "[{'label': 'positive', 'score': 0.785957396030426}]"
      ]
     },
     "execution_count": 31,
     "metadata": {},
     "output_type": "execute_result"
    }
   ],
   "source": [
    "cardiffnlp(\"You learn things really quickly. You understand the theory class as soon as it is taught.\")"
   ]
  },
  {
   "cell_type": "code",
   "execution_count": 32,
   "id": "ad3b9f64-72dd-4878-a868-fa4be618c46a",
   "metadata": {
    "execution": {
     "iopub.execute_input": "2024-06-07T08:29:10.004040Z",
     "iopub.status.busy": "2024-06-07T08:29:10.002640Z",
     "iopub.status.idle": "2024-06-07T08:29:10.052098Z",
     "shell.execute_reply": "2024-06-07T08:29:10.051248Z",
     "shell.execute_reply.started": "2024-06-07T08:29:10.003957Z"
    }
   },
   "outputs": [
    {
     "data": {
      "text/plain": [
       "[{'label': 'neutral', 'score': 0.7541275024414062}]"
      ]
     },
     "execution_count": 32,
     "metadata": {},
     "output_type": "execute_result"
    }
   ],
   "source": [
    "cardiffnlp(\"今儿上海可真冷啊\")"
   ]
  },
  {
   "cell_type": "code",
   "execution_count": 33,
   "id": "cff65e86-be19-441e-ac8e-9ce520573ed0",
   "metadata": {
    "execution": {
     "iopub.execute_input": "2024-06-07T08:29:13.403327Z",
     "iopub.status.busy": "2024-06-07T08:29:13.402508Z",
     "iopub.status.idle": "2024-06-07T08:29:13.440185Z",
     "shell.execute_reply": "2024-06-07T08:29:13.439040Z",
     "shell.execute_reply.started": "2024-06-07T08:29:13.403267Z"
    }
   },
   "outputs": [
    {
     "data": {
      "text/plain": [
       "[{'label': 'negative', 'score': 0.7752947807312012}]"
      ]
     },
     "execution_count": 33,
     "metadata": {},
     "output_type": "execute_result"
    }
   ],
   "source": [
    "cardiffnlp(\"Today Shanghai is really cold.\")"
   ]
  },
  {
   "cell_type": "markdown",
   "id": "6d5a27fe-87d0-45fc-a31a-9a8db23e290a",
   "metadata": {},
   "source": [
    "## 使用 Pipeline API 调用更多预定义任务\n",
    "\n",
    "## Natural Language Processing(NLP)\n",
    "\n",
    "**NLP**(自然语言处理)任务是最常见的任务类型之一，因为文本是我们进行交流的一种自然方式。要将文本转换为模型可识别的格式，需要对其进行分词。这意味着将一系列文本划分为单独的单词或子词（标记），然后将这些标记转换为数字。结果就是，您可以将一系列文本表示为一系列数字，并且一旦您拥有了一系列数字，它就可以输入到模型中来解决各种NLP任务！\n",
    "\n",
    "上面演示的 文本分类任务，以及接下来的标记、问答等任务都属于 NLP 范畴。\n",
    "\n",
    "### Token Classification\n",
    "\n",
    "在任何NLP任务中，文本都经过预处理，将文本序列分成单个单词或子词。这些被称为tokens。\n",
    "\n",
    "**Token Classification**（Token分类）将每个token分配一个来自预定义类别集的标签。\n",
    "\n",
    "两种常见的 Token 分类是：\n",
    "\n",
    "- 命名实体识别（NER）：根据实体类别（如组织、人员、位置或日期）对token进行标记。NER在生物医学设置中特别受欢迎，可以标记基因、蛋白质和药物名称。\n",
    "- 词性标注（POS）：根据其词性（如名词、动词或形容词）对标记进行标记。POS对于帮助翻译系统了解两个相同的单词如何在语法上不同很有用（作为名词的银行与作为动词的银行）。\n",
    "\n",
    "模型主页：https://huggingface.co/dbmdz/bert-large-cased-finetuned-conll03-english"
   ]
  },
  {
   "cell_type": "code",
   "execution_count": 21,
   "id": "4f1ed125-f9ed-42d9-b102-dbc3172baefd",
   "metadata": {
    "execution": {
     "iopub.execute_input": "2024-06-07T08:26:02.651869Z",
     "iopub.status.busy": "2024-06-07T08:26:02.650822Z",
     "iopub.status.idle": "2024-06-07T08:26:03.222618Z",
     "shell.execute_reply": "2024-06-07T08:26:03.222149Z",
     "shell.execute_reply.started": "2024-06-07T08:26:02.651807Z"
    }
   },
   "outputs": [
    {
     "name": "stderr",
     "output_type": "stream",
     "text": [
      "Some weights of the model checkpoint at /root/autodl-tmp/hf/modules/bert-large-cased-finetuned-conll03-english were not used when initializing BertForTokenClassification: ['bert.pooler.dense.bias', 'bert.pooler.dense.weight']\n",
      "- This IS expected if you are initializing BertForTokenClassification from the checkpoint of a model trained on another task or with another architecture (e.g. initializing a BertForSequenceClassification model from a BertForPreTraining model).\n",
      "- This IS NOT expected if you are initializing BertForTokenClassification from the checkpoint of a model that you expect to be exactly identical (initializing a BertForSequenceClassification model from a BertForSequenceClassification model).\n"
     ]
    }
   ],
   "source": [
    "from transformers import pipeline\n",
    "\n",
    "classifier = pipeline(task=\"ner\",model=\"/root/autodl-tmp/hf/modules/bert-large-cased-finetuned-conll03-english\")"
   ]
  },
  {
   "cell_type": "code",
   "execution_count": 22,
   "id": "68bab77c-0fe6-4781-b978-02d56829db33",
   "metadata": {
    "execution": {
     "iopub.execute_input": "2024-06-07T08:26:08.232587Z",
     "iopub.status.busy": "2024-06-07T08:26:08.232351Z",
     "iopub.status.idle": "2024-06-07T08:26:08.275971Z",
     "shell.execute_reply": "2024-06-07T08:26:08.275489Z",
     "shell.execute_reply.started": "2024-06-07T08:26:08.232569Z"
    }
   },
   "outputs": [
    {
     "name": "stdout",
     "output_type": "stream",
     "text": [
      "{'entity': 'I-ORG', 'score': 0.9968, 'index': 1, 'word': 'Hu', 'start': 0, 'end': 2}\n",
      "{'entity': 'I-ORG', 'score': 0.9293, 'index': 2, 'word': '##gging', 'start': 2, 'end': 7}\n",
      "{'entity': 'I-ORG', 'score': 0.9763, 'index': 3, 'word': 'Face', 'start': 8, 'end': 12}\n",
      "{'entity': 'I-MISC', 'score': 0.9983, 'index': 6, 'word': 'French', 'start': 18, 'end': 24}\n",
      "{'entity': 'I-LOC', 'score': 0.999, 'index': 10, 'word': 'New', 'start': 42, 'end': 45}\n",
      "{'entity': 'I-LOC', 'score': 0.9987, 'index': 11, 'word': 'York', 'start': 46, 'end': 50}\n",
      "{'entity': 'I-LOC', 'score': 0.9992, 'index': 12, 'word': 'City', 'start': 51, 'end': 55}\n"
     ]
    }
   ],
   "source": [
    "preds = classifier(\"Hugging Face is a French company based in New York City.\")\n",
    "preds = [\n",
    "    {\n",
    "        \"entity\": pred[\"entity\"],\n",
    "        \"score\": round(pred[\"score\"], 4),\n",
    "        \"index\": pred[\"index\"],\n",
    "        \"word\": pred[\"word\"],\n",
    "        \"start\": pred[\"start\"],\n",
    "        \"end\": pred[\"end\"],\n",
    "    }\n",
    "    for pred in preds\n",
    "]\n",
    "print(*preds, sep=\"\\n\")"
   ]
  },
  {
   "cell_type": "code",
   "execution_count": 23,
   "id": "3cb890d4-550f-4742-8efd-d23130710f71",
   "metadata": {
    "execution": {
     "iopub.execute_input": "2024-06-07T08:26:50.320587Z",
     "iopub.status.busy": "2024-06-07T08:26:50.319560Z",
     "iopub.status.idle": "2024-06-07T08:26:50.439664Z",
     "shell.execute_reply": "2024-06-07T08:26:50.438681Z",
     "shell.execute_reply.started": "2024-06-07T08:26:50.320545Z"
    }
   },
   "outputs": [
    {
     "data": {
      "text/plain": [
       "[]"
      ]
     },
     "execution_count": 23,
     "metadata": {},
     "output_type": "execute_result"
    }
   ],
   "source": [
    "classifier(\"6月6日，中吉乌铁路项目三国政府间协定签字仪式在京举行，习近平指出：愿早日建成中吉乌铁路这条惠及三国和三国人民的战略通道\")"
   ]
  },
  {
   "cell_type": "code",
   "execution_count": 24,
   "id": "d6f88129-274a-46c4-aff2-d8b4b79d0042",
   "metadata": {
    "execution": {
     "iopub.execute_input": "2024-06-07T08:27:40.518085Z",
     "iopub.status.busy": "2024-06-07T08:27:40.516767Z",
     "iopub.status.idle": "2024-06-07T08:27:40.826655Z",
     "shell.execute_reply": "2024-06-07T08:27:40.825850Z",
     "shell.execute_reply.started": "2024-06-07T08:27:40.518037Z"
    }
   },
   "outputs": [
    {
     "data": {
      "text/plain": [
       "[{'entity': 'I-LOC',\n",
       "  'score': 0.70050573,\n",
       "  'index': 17,\n",
       "  'word': 'China',\n",
       "  'start': 74,\n",
       "  'end': 79},\n",
       " {'entity': 'I-LOC',\n",
       "  'score': 0.9514764,\n",
       "  'index': 19,\n",
       "  'word': 'Kyrgyzstan',\n",
       "  'start': 80,\n",
       "  'end': 90},\n",
       " {'entity': 'I-LOC',\n",
       "  'score': 0.99769527,\n",
       "  'index': 21,\n",
       "  'word': 'Uzbekistan',\n",
       "  'start': 91,\n",
       "  'end': 101},\n",
       " {'entity': 'I-LOC',\n",
       "  'score': 0.99976784,\n",
       "  'index': 27,\n",
       "  'word': 'Beijing',\n",
       "  'start': 130,\n",
       "  'end': 137},\n",
       " {'entity': 'I-PER',\n",
       "  'score': 0.9952678,\n",
       "  'index': 29,\n",
       "  'word': 'Xi',\n",
       "  'start': 139,\n",
       "  'end': 141},\n",
       " {'entity': 'I-PER',\n",
       "  'score': 0.99149126,\n",
       "  'index': 30,\n",
       "  'word': 'Jin',\n",
       "  'start': 142,\n",
       "  'end': 145},\n",
       " {'entity': 'I-PER',\n",
       "  'score': 0.92602485,\n",
       "  'index': 31,\n",
       "  'word': '##ping',\n",
       "  'start': 145,\n",
       "  'end': 149},\n",
       " {'entity': 'I-LOC',\n",
       "  'score': 0.819423,\n",
       "  'index': 39,\n",
       "  'word': 'China',\n",
       "  'start': 185,\n",
       "  'end': 190},\n",
       " {'entity': 'I-LOC',\n",
       "  'score': 0.9647289,\n",
       "  'index': 41,\n",
       "  'word': 'Kyrgyzstan',\n",
       "  'start': 191,\n",
       "  'end': 201},\n",
       " {'entity': 'I-LOC',\n",
       "  'score': 0.998539,\n",
       "  'index': 43,\n",
       "  'word': 'Uzbekistan',\n",
       "  'start': 202,\n",
       "  'end': 212}]"
      ]
     },
     "execution_count": 24,
     "metadata": {},
     "output_type": "execute_result"
    }
   ],
   "source": [
    "classifier(\"On June 6, the signing ceremony of the intergovernmental agreement on the China-Kyrgyzstan-Uzbekistan railway project was held in Beijing. Xi Jinping pointed out that he hoped that the China-Kyrgyzstan-Uzbekistan railway, a strategic channel that would benefit the three countries and their peoples, would be completed as soon as possible.\")"
   ]
  },
  {
   "cell_type": "markdown",
   "id": "21c72d55-e574-444f-96bc-62704022a148",
   "metadata": {},
   "source": [
    "#### 合并实体"
   ]
  },
  {
   "cell_type": "code",
   "execution_count": 43,
   "id": "9b441191-6156-44b8-a323-db461ad06efb",
   "metadata": {
    "execution": {
     "iopub.execute_input": "2024-06-07T08:36:09.240316Z",
     "iopub.status.busy": "2024-06-07T08:36:09.239476Z",
     "iopub.status.idle": "2024-06-07T08:36:09.950239Z",
     "shell.execute_reply": "2024-06-07T08:36:09.949529Z",
     "shell.execute_reply.started": "2024-06-07T08:36:09.240255Z"
    }
   },
   "outputs": [
    {
     "name": "stderr",
     "output_type": "stream",
     "text": [
      "Some weights of the model checkpoint at /root/autodl-tmp/hf/modules/bert-large-cased-finetuned-conll03-english were not used when initializing BertForTokenClassification: ['bert.pooler.dense.bias', 'bert.pooler.dense.weight']\n",
      "- This IS expected if you are initializing BertForTokenClassification from the checkpoint of a model trained on another task or with another architecture (e.g. initializing a BertForSequenceClassification model from a BertForPreTraining model).\n",
      "- This IS NOT expected if you are initializing BertForTokenClassification from the checkpoint of a model that you expect to be exactly identical (initializing a BertForSequenceClassification model from a BertForSequenceClassification model).\n",
      "/root/miniconda3/lib/python3.12/site-packages/transformers/pipelines/token_classification.py:168: UserWarning: `grouped_entities` is deprecated and will be removed in version v5.0.0, defaulted to `aggregation_strategy=\"AggregationStrategy.SIMPLE\"` instead.\n",
      "  warnings.warn(\n"
     ]
    },
    {
     "data": {
      "text/plain": [
       "[{'entity_group': 'ORG',\n",
       "  'score': 0.9674639,\n",
       "  'word': 'Hugging Face',\n",
       "  'start': 0,\n",
       "  'end': 12},\n",
       " {'entity_group': 'MISC',\n",
       "  'score': 0.9982874,\n",
       "  'word': 'French',\n",
       "  'start': 18,\n",
       "  'end': 24},\n",
       " {'entity_group': 'LOC',\n",
       "  'score': 0.99896103,\n",
       "  'word': 'New York City',\n",
       "  'start': 42,\n",
       "  'end': 55}]"
      ]
     },
     "execution_count": 43,
     "metadata": {},
     "output_type": "execute_result"
    }
   ],
   "source": [
    "classifier = pipeline(task=\"ner\", grouped_entities=True,model=\"/root/autodl-tmp/hf/modules/bert-large-cased-finetuned-conll03-english\")\n",
    "classifier(\"Hugging Face is a French company based in New York City.\")"
   ]
  },
  {
   "cell_type": "code",
   "execution_count": 44,
   "id": "3c8d1744-250c-491d-8271-2c5bd8bd6e1d",
   "metadata": {
    "execution": {
     "iopub.execute_input": "2024-06-07T08:36:39.786553Z",
     "iopub.status.busy": "2024-06-07T08:36:39.786120Z",
     "iopub.status.idle": "2024-06-07T08:36:39.918327Z",
     "shell.execute_reply": "2024-06-07T08:36:39.917550Z",
     "shell.execute_reply.started": "2024-06-07T08:36:39.786526Z"
    }
   },
   "outputs": [
    {
     "data": {
      "text/plain": [
       "[]"
      ]
     },
     "execution_count": 44,
     "metadata": {},
     "output_type": "execute_result"
    }
   ],
   "source": [
    "classifier(\"6月6日，中吉乌铁路项目三国政府间协定签字仪式在京举行，习近平指出：愿早日建成中吉乌铁路这条惠及三国和三国人民的战略通道\")"
   ]
  },
  {
   "cell_type": "code",
   "execution_count": 45,
   "id": "7f7c865c-110b-4295-a84a-08b91b51a60a",
   "metadata": {
    "execution": {
     "iopub.execute_input": "2024-06-07T08:37:03.494189Z",
     "iopub.status.busy": "2024-06-07T08:37:03.493730Z",
     "iopub.status.idle": "2024-06-07T08:37:04.652036Z",
     "shell.execute_reply": "2024-06-07T08:37:04.651267Z",
     "shell.execute_reply.started": "2024-06-07T08:37:03.494164Z"
    }
   },
   "outputs": [
    {
     "data": {
      "text/plain": [
       "[{'entity_group': 'LOC',\n",
       "  'score': 0.70050573,\n",
       "  'word': 'China',\n",
       "  'start': 74,\n",
       "  'end': 79},\n",
       " {'entity_group': 'LOC',\n",
       "  'score': 0.9514764,\n",
       "  'word': 'Kyrgyzstan',\n",
       "  'start': 80,\n",
       "  'end': 90},\n",
       " {'entity_group': 'LOC',\n",
       "  'score': 0.99769527,\n",
       "  'word': 'Uzbekistan',\n",
       "  'start': 91,\n",
       "  'end': 101},\n",
       " {'entity_group': 'LOC',\n",
       "  'score': 0.99976784,\n",
       "  'word': 'Beijing',\n",
       "  'start': 130,\n",
       "  'end': 137},\n",
       " {'entity_group': 'PER',\n",
       "  'score': 0.97092795,\n",
       "  'word': 'Xi Jinping',\n",
       "  'start': 139,\n",
       "  'end': 149},\n",
       " {'entity_group': 'LOC',\n",
       "  'score': 0.819423,\n",
       "  'word': 'China',\n",
       "  'start': 185,\n",
       "  'end': 190},\n",
       " {'entity_group': 'LOC',\n",
       "  'score': 0.9647289,\n",
       "  'word': 'Kyrgyzstan',\n",
       "  'start': 191,\n",
       "  'end': 201},\n",
       " {'entity_group': 'LOC',\n",
       "  'score': 0.998539,\n",
       "  'word': 'Uzbekistan',\n",
       "  'start': 202,\n",
       "  'end': 212}]"
      ]
     },
     "execution_count": 45,
     "metadata": {},
     "output_type": "execute_result"
    }
   ],
   "source": [
    "classifier(\"On June 6, the signing ceremony of the intergovernmental agreement on the China-Kyrgyzstan-Uzbekistan railway project was held in Beijing. Xi Jinping pointed out that he hoped that the China-Kyrgyzstan-Uzbekistan railway, a strategic channel that would benefit the three countries and their peoples, would be completed as soon as possible.\")"
   ]
  },
  {
   "cell_type": "markdown",
   "id": "b3f334cd-3f01-4e38-95d3-17f9b638aa78",
   "metadata": {},
   "source": [
    "### modules/xlm-roberta-large-finetuned-conll03-english模型"
   ]
  },
  {
   "cell_type": "code",
   "execution_count": 52,
   "id": "00a9ad91-ac94-45e3-ac55-2129a4c1a38a",
   "metadata": {
    "execution": {
     "iopub.execute_input": "2024-06-07T08:54:18.431099Z",
     "iopub.status.busy": "2024-06-07T08:54:18.430551Z",
     "iopub.status.idle": "2024-06-07T08:54:20.517821Z",
     "shell.execute_reply": "2024-06-07T08:54:20.516881Z",
     "shell.execute_reply.started": "2024-06-07T08:54:18.431066Z"
    }
   },
   "outputs": [
    {
     "name": "stderr",
     "output_type": "stream",
     "text": [
      "Some weights of the model checkpoint at /root/autodl-tmp/hf/modules/xlm-roberta-large-finetuned-conll03-english were not used when initializing XLMRobertaForTokenClassification: ['roberta.pooler.dense.bias', 'roberta.pooler.dense.weight']\n",
      "- This IS expected if you are initializing XLMRobertaForTokenClassification from the checkpoint of a model trained on another task or with another architecture (e.g. initializing a BertForSequenceClassification model from a BertForPreTraining model).\n",
      "- This IS NOT expected if you are initializing XLMRobertaForTokenClassification from the checkpoint of a model that you expect to be exactly identical (initializing a BertForSequenceClassification model from a BertForSequenceClassification model).\n"
     ]
    }
   ],
   "source": [
    "classifier = pipeline(task=\"ner\",model=\"/root/autodl-tmp/hf/modules/xlm-roberta-large-finetuned-conll03-english\",grouped_entities=True)"
   ]
  },
  {
   "cell_type": "code",
   "execution_count": 53,
   "id": "bfcac438-0e56-45ae-bba4-eed7c338b137",
   "metadata": {
    "execution": {
     "iopub.execute_input": "2024-06-07T08:54:21.435915Z",
     "iopub.status.busy": "2024-06-07T08:54:21.435598Z",
     "iopub.status.idle": "2024-06-07T08:54:21.483976Z",
     "shell.execute_reply": "2024-06-07T08:54:21.483119Z",
     "shell.execute_reply.started": "2024-06-07T08:54:21.435891Z"
    }
   },
   "outputs": [
    {
     "data": {
      "text/plain": [
       "[{'entity_group': 'ORG',\n",
       "  'score': 0.9999173,\n",
       "  'word': 'Hugging Face',\n",
       "  'start': 0,\n",
       "  'end': 12},\n",
       " {'entity_group': 'MISC',\n",
       "  'score': 0.9999932,\n",
       "  'word': 'French',\n",
       "  'start': 18,\n",
       "  'end': 24},\n",
       " {'entity_group': 'LOC',\n",
       "  'score': 0.99999696,\n",
       "  'word': 'New York City',\n",
       "  'start': 42,\n",
       "  'end': 55}]"
      ]
     },
     "execution_count": 53,
     "metadata": {},
     "output_type": "execute_result"
    }
   ],
   "source": [
    "classifier(\"Hugging Face is a French company based in New York City.\")"
   ]
  },
  {
   "cell_type": "code",
   "execution_count": 54,
   "id": "897ecade-3371-4ad9-b9c0-5c400e22567f",
   "metadata": {
    "execution": {
     "iopub.execute_input": "2024-06-07T08:54:32.822934Z",
     "iopub.status.busy": "2024-06-07T08:54:32.821981Z",
     "iopub.status.idle": "2024-06-07T08:54:32.911165Z",
     "shell.execute_reply": "2024-06-07T08:54:32.910328Z",
     "shell.execute_reply.started": "2024-06-07T08:54:32.822901Z"
    }
   },
   "outputs": [
    {
     "data": {
      "text/plain": [
       "[{'entity_group': 'LOC',\n",
       "  'score': 0.9995888,\n",
       "  'word': '中吉乌',\n",
       "  'start': 5,\n",
       "  'end': 8},\n",
       " {'entity_group': 'LOC',\n",
       "  'score': 0.9999939,\n",
       "  'word': '京',\n",
       "  'start': 24,\n",
       "  'end': 25},\n",
       " {'entity_group': 'PER',\n",
       "  'score': 0.9995895,\n",
       "  'word': '习近平',\n",
       "  'start': 28,\n",
       "  'end': 31},\n",
       " {'entity_group': 'LOC',\n",
       "  'score': 0.9994803,\n",
       "  'word': '中吉乌',\n",
       "  'start': 39,\n",
       "  'end': 42}]"
      ]
     },
     "execution_count": 54,
     "metadata": {},
     "output_type": "execute_result"
    }
   ],
   "source": [
    "classifier(\"6月6日，中吉乌铁路项目三国政府间协定签字仪式在京举行，习近平指出：愿早日建成中吉乌铁路这条惠及三国和三国人民的战略通道\")"
   ]
  },
  {
   "cell_type": "code",
   "execution_count": 55,
   "id": "bdefd2d0-b9cb-46bd-b6a3-8a334b3d5971",
   "metadata": {
    "execution": {
     "iopub.execute_input": "2024-06-07T08:54:49.826419Z",
     "iopub.status.busy": "2024-06-07T08:54:49.825846Z",
     "iopub.status.idle": "2024-06-07T08:54:50.099646Z",
     "shell.execute_reply": "2024-06-07T08:54:50.098873Z",
     "shell.execute_reply.started": "2024-06-07T08:54:49.826383Z"
    }
   },
   "outputs": [
    {
     "data": {
      "text/plain": [
       "[{'entity_group': 'MISC',\n",
       "  'score': 0.9518931,\n",
       "  'word': 'China-Kyrgyzstan-Uzbekistan',\n",
       "  'start': 74,\n",
       "  'end': 101},\n",
       " {'entity_group': 'LOC',\n",
       "  'score': 0.999998,\n",
       "  'word': 'Beijing',\n",
       "  'start': 130,\n",
       "  'end': 137},\n",
       " {'entity_group': 'PER',\n",
       "  'score': 0.9999905,\n",
       "  'word': 'Xi Jinping',\n",
       "  'start': 139,\n",
       "  'end': 149},\n",
       " {'entity_group': 'MISC',\n",
       "  'score': 0.91028666,\n",
       "  'word': 'China-K',\n",
       "  'start': 185,\n",
       "  'end': 192},\n",
       " {'entity_group': 'LOC',\n",
       "  'score': 0.6281686,\n",
       "  'word': 'yrgyzstan',\n",
       "  'start': 192,\n",
       "  'end': 201},\n",
       " {'entity_group': 'MISC',\n",
       "  'score': 0.7831001,\n",
       "  'word': '-U',\n",
       "  'start': 201,\n",
       "  'end': 203},\n",
       " {'entity_group': 'LOC',\n",
       "  'score': 0.7278358,\n",
       "  'word': 'zbekistan',\n",
       "  'start': 203,\n",
       "  'end': 212}]"
      ]
     },
     "execution_count": 55,
     "metadata": {},
     "output_type": "execute_result"
    }
   ],
   "source": [
    "classifier(\"On June 6, the signing ceremony of the intergovernmental agreement on the China-Kyrgyzstan-Uzbekistan railway project was held in Beijing. Xi Jinping pointed out that he hoped that the China-Kyrgyzstan-Uzbekistan railway, a strategic channel that would benefit the three countries and their peoples, would be completed as soon as possible.\")"
   ]
  },
  {
   "cell_type": "markdown",
   "id": "369dda97-bd1a-4cb0-9636-47c2308c6289",
   "metadata": {},
   "source": [
    "### Question Answering\n",
    "\n",
    "**Question Answering**(问答)是另一个token-level的任务，返回一个问题的答案，有时带有上下文（开放领域），有时不带上下文（封闭领域）。每当我们向虚拟助手提出问题时，例如询问一家餐厅是否营业，就会发生这种情况。它还可以提供客户或技术支持，并帮助搜索引擎检索您要求的相关信息。\n",
    "\n",
    "有两种常见的问答类型：\n",
    "\n",
    "- 提取式：给定一个问题和一些上下文，模型必须从上下文中提取出一段文字作为答案\n",
    "- 生成式：给定一个问题和一些上下文，答案是根据上下文生成的；这种方法由`Text2TextGenerationPipeline`处理，而不是下面展示的`QuestionAnsweringPipeline`\n",
    "\n",
    "模型主页：https://huggingface.co/distilbert-base-cased-distilled-squad"
   ]
  },
  {
   "cell_type": "code",
   "execution_count": 46,
   "id": "a5281b0b-6b57-4884-92e1-cc2677987360",
   "metadata": {
    "execution": {
     "iopub.execute_input": "2024-06-07T08:41:56.077265Z",
     "iopub.status.busy": "2024-06-07T08:41:56.075732Z",
     "iopub.status.idle": "2024-06-07T08:41:56.281601Z",
     "shell.execute_reply": "2024-06-07T08:41:56.280687Z",
     "shell.execute_reply.started": "2024-06-07T08:41:56.077225Z"
    }
   },
   "outputs": [],
   "source": [
    "from transformers import pipeline\n",
    "\n",
    "question_answerer = pipeline(task=\"question-answering\",model=\"/root/autodl-tmp/hf/modules/distilbert-base-cased-distilled-squad\")"
   ]
  },
  {
   "cell_type": "code",
   "execution_count": 47,
   "id": "ca674a51-30a4-4dea-a443-e428925e990f",
   "metadata": {
    "execution": {
     "iopub.execute_input": "2024-06-07T08:42:01.268318Z",
     "iopub.status.busy": "2024-06-07T08:42:01.267217Z",
     "iopub.status.idle": "2024-06-07T08:42:01.300638Z",
     "shell.execute_reply": "2024-06-07T08:42:01.299560Z",
     "shell.execute_reply.started": "2024-06-07T08:42:01.268258Z"
    }
   },
   "outputs": [
    {
     "name": "stdout",
     "output_type": "stream",
     "text": [
      "score: 0.9327, start: 30, end: 54, answer: huggingface/transformers\n"
     ]
    }
   ],
   "source": [
    "preds = question_answerer(\n",
    "    question=\"What is the name of the repository?\",\n",
    "    context=\"The name of the repository is huggingface/transformers\",\n",
    ")\n",
    "print(\n",
    "    f\"score: {round(preds['score'], 4)}, start: {preds['start']}, end: {preds['end']}, answer: {preds['answer']}\"\n",
    ")"
   ]
  },
  {
   "cell_type": "code",
   "execution_count": 12,
   "id": "f2158feb-a528-410a-aabf-f3bd7f2726c4",
   "metadata": {},
   "outputs": [
    {
     "name": "stdout",
     "output_type": "stream",
     "text": [
      "score: 0.9458, start: 115, end: 122, answer: Beijing\n"
     ]
    }
   ],
   "source": [
    "preds = question_answerer(\n",
    "    question=\"What is the capital of China?\",\n",
    "    context=\"On 1 October 1949, CCP Chairman Mao Zedong formally proclaimed the People's Republic of China in Tiananmen Square, Beijing.\",\n",
    ")\n",
    "print(\n",
    "    f\"score: {round(preds['score'], 4)}, start: {preds['start']}, end: {preds['end']}, answer: {preds['answer']}\"\n",
    ")"
   ]
  },
  {
   "cell_type": "code",
   "execution_count": 61,
   "id": "fdb1d7e5-6baa-4142-81c1-5d311c0440e6",
   "metadata": {
    "execution": {
     "iopub.execute_input": "2024-06-07T09:15:33.965354Z",
     "iopub.status.busy": "2024-06-07T09:15:33.964468Z",
     "iopub.status.idle": "2024-06-07T09:15:34.022211Z",
     "shell.execute_reply": "2024-06-07T09:15:34.020867Z",
     "shell.execute_reply.started": "2024-06-07T09:15:33.965292Z"
    }
   },
   "outputs": [
    {
     "name": "stdout",
     "output_type": "stream",
     "text": [
      "score: 0.0029, start: 69, end: 73, answer: 6个月。\n"
     ]
    }
   ],
   "source": [
    "preds = question_answerer(\n",
    "    question=\"延期缴纳税款不能超过多久\",\n",
    "    context=\"\"\"\n",
    "    纳税人因有特殊困难，不能按期缴纳税款的，经省、自治区、直辖市国家税务局、地方税务局批准，可以延期缴纳税款，但最长不得超过的期限是6个月。\n",
    "    \"\"\")\n",
    "\n",
    "\n",
    "\n",
    "print(\n",
    "    f\"score: {round(preds['score'], 4)}, start: {preds['start']}, end: {preds['end']}, answer: {preds['answer']}\"\n",
    ")"
   ]
  },
  {
   "cell_type": "code",
   "execution_count": 63,
   "id": "eebd7483-99a5-4f2a-894c-13cf5a3b71b2",
   "metadata": {
    "execution": {
     "iopub.execute_input": "2024-06-07T09:16:50.976678Z",
     "iopub.status.busy": "2024-06-07T09:16:50.975531Z",
     "iopub.status.idle": "2024-06-07T09:16:51.033792Z",
     "shell.execute_reply": "2024-06-07T09:16:51.032865Z",
     "shell.execute_reply.started": "2024-06-07T09:16:50.976617Z"
    }
   },
   "outputs": [
    {
     "name": "stdout",
     "output_type": "stream",
     "text": [
      "score: 0.0006, start: 51, end: 63, answer: 高温。据调查，最近二套房\n"
     ]
    }
   ],
   "source": [
    "preds = question_answerer(\n",
    "    question=\"政治法律环境对企业的影响因素是？\",\n",
    "    context=\"\"\"\n",
    "    近年来，房地产界一直处于高温状态，不过，随着国家有关房地产政策的出台，在一定程度上遏制了这种高温。据调查，最近二套房、三套房的成交量同期相比有所下降。这体现了政治法律环境对企业的影响因素是不可测性。\t\n",
    "\n",
    "    \"\"\")\n",
    "\n",
    "\n",
    "\n",
    "print(\n",
    "    f\"score: {round(preds['score'], 4)}, start: {preds['start']}, end: {preds['end']}, answer: {preds['answer']}\"\n",
    ")"
   ]
  },
  {
   "cell_type": "markdown",
   "id": "c60a4e1d-ad63-491d-8893-92c753f154cf",
   "metadata": {},
   "source": [
    "### timpal0l/mdeberta-v3-base-squad2 模型"
   ]
  },
  {
   "cell_type": "code",
   "execution_count": 7,
   "id": "cb8154f6-4052-4703-b867-a166ca0d231a",
   "metadata": {
    "execution": {
     "iopub.execute_input": "2024-06-08T11:36:14.810673Z",
     "iopub.status.busy": "2024-06-08T11:36:14.809333Z",
     "iopub.status.idle": "2024-06-08T11:36:16.229063Z",
     "shell.execute_reply": "2024-06-08T11:36:16.228327Z",
     "shell.execute_reply.started": "2024-06-08T11:36:14.810612Z"
    }
   },
   "outputs": [],
   "source": [
    "from transformers import pipeline\n",
    "mdeberta_question_answerer = pipeline(task=\"question-answering\",model=\"/root/autodl-tmp/hf/modules/mdeberta-v3-base-squad2\")"
   ]
  },
  {
   "cell_type": "code",
   "execution_count": 8,
   "id": "7fa8de5a-bdaf-49c0-8351-2fe7aedc44e0",
   "metadata": {
    "execution": {
     "iopub.execute_input": "2024-06-08T11:36:20.300775Z",
     "iopub.status.busy": "2024-06-08T11:36:20.300352Z",
     "iopub.status.idle": "2024-06-08T11:36:20.426758Z",
     "shell.execute_reply": "2024-06-08T11:36:20.426196Z",
     "shell.execute_reply.started": "2024-06-08T11:36:20.300758Z"
    }
   },
   "outputs": [
    {
     "name": "stdout",
     "output_type": "stream",
     "text": [
      "score: 0.934, start: 5, end: 104, answer: 近年来，房地产界一直处于高温状态，不过，随着国家有关房地产政策的出台，在一定程度上遏制了这种高温。据调查，最近二套房、三套房的成交量同期相比有所下降。这体现了政治法律环境对企业的影响因素是不可测性。\n"
     ]
    }
   ],
   "source": [
    "preds = mdeberta_question_answerer(\n",
    "    question=\"政治法律环境对企业的影响因素是？\",\n",
    "    context=\"\"\"\n",
    "    近年来，房地产界一直处于高温状态，不过，随着国家有关房地产政策的出台，在一定程度上遏制了这种高温。据调查，最近二套房、三套房的成交量同期相比有所下降。这体现了政治法律环境对企业的影响因素是不可测性。\t\n",
    "\n",
    "    \"\"\")\n",
    "\n",
    "\n",
    "\n",
    "print(\n",
    "    f\"score: {round(preds['score'], 4)}, start: {preds['start']}, end: {preds['end']}, answer: {preds['answer']}\"\n",
    ")"
   ]
  },
  {
   "cell_type": "code",
   "execution_count": 9,
   "id": "74b46cf4-4727-4ec9-b18e-1d0f28392824",
   "metadata": {
    "execution": {
     "iopub.execute_input": "2024-06-08T11:36:27.929507Z",
     "iopub.status.busy": "2024-06-08T11:36:27.929060Z",
     "iopub.status.idle": "2024-06-08T11:36:28.047175Z",
     "shell.execute_reply": "2024-06-08T11:36:28.046280Z",
     "shell.execute_reply.started": "2024-06-08T11:36:27.929483Z"
    }
   },
   "outputs": [
    {
     "name": "stdout",
     "output_type": "stream",
     "text": [
      "score: 0.9716, start: 5, end: 73, answer: 纳税人因有特殊困难，不能按期缴纳税款的，经省、自治区、直辖市国家税务局、地方税务局批准，可以延期缴纳税款，但最长不得超过的期限是6个月。\n"
     ]
    }
   ],
   "source": [
    "preds = mdeberta_question_answerer(\n",
    "    question=\"延期缴纳税款不能超过多久\",\n",
    "    context=\"\"\"\n",
    "    纳税人因有特殊困难，不能按期缴纳税款的，经省、自治区、直辖市国家税务局、地方税务局批准，可以延期缴纳税款，但最长不得超过的期限是6个月。\n",
    "    \"\"\")\n",
    "\n",
    "\n",
    "\n",
    "print(\n",
    "    f\"score: {round(preds['score'], 4)}, start: {preds['start']}, end: {preds['end']}, answer: {preds['answer']}\"\n",
    ")"
   ]
  },
  {
   "cell_type": "code",
   "execution_count": 10,
   "id": "5fc9fd66-08be-4961-8ee6-b8fa65b14039",
   "metadata": {
    "execution": {
     "iopub.execute_input": "2024-06-08T11:37:09.812962Z",
     "iopub.status.busy": "2024-06-08T11:37:09.812656Z",
     "iopub.status.idle": "2024-06-08T11:37:09.947414Z",
     "shell.execute_reply": "2024-06-08T11:37:09.946732Z",
     "shell.execute_reply.started": "2024-06-08T11:37:09.812939Z"
    }
   },
   "outputs": [
    {
     "name": "stdout",
     "output_type": "stream",
     "text": [
      "score: 0.9839, start: 29, end: 54, answer:  huggingface/transformers\n"
     ]
    }
   ],
   "source": [
    "preds = mdeberta_question_answerer(\n",
    "    question=\"What is the name of the repository?\",\n",
    "    context=\"The name of the repository is huggingface/transformers\",\n",
    ")\n",
    "print(\n",
    "    f\"score: {round(preds['score'], 4)}, start: {preds['start']}, end: {preds['end']}, answer: {preds['answer']}\"\n",
    ")"
   ]
  },
  {
   "cell_type": "code",
   "execution_count": 12,
   "id": "dfda4a76-58f6-47ab-8af7-9d5a09b7d187",
   "metadata": {
    "execution": {
     "iopub.execute_input": "2024-06-08T11:37:43.425489Z",
     "iopub.status.busy": "2024-06-08T11:37:43.424799Z",
     "iopub.status.idle": "2024-06-08T11:37:43.501709Z",
     "shell.execute_reply": "2024-06-08T11:37:43.501040Z",
     "shell.execute_reply.started": "2024-06-08T11:37:43.425443Z"
    }
   },
   "outputs": [
    {
     "name": "stdout",
     "output_type": "stream",
     "text": [
      "score: 0.9296, start: 114, end: 123, answer:  Beijing.\n"
     ]
    }
   ],
   "source": [
    "preds = mdeberta_question_answerer(\n",
    "    question=\"What is the capital of China?\",\n",
    "    context=\"On 1 October 1949, CCP Chairman Mao Zedong formally proclaimed the People's Republic of China in Tiananmen Square, Beijing.\",\n",
    ")\n",
    "print(\n",
    "    f\"score: {round(preds['score'], 4)}, start: {preds['start']}, end: {preds['end']}, answer: {preds['answer']}\"\n",
    ")"
   ]
  },
  {
   "cell_type": "code",
   "execution_count": 13,
   "id": "39ee71ea-bd88-42ec-a400-3ae4fd7f2b3c",
   "metadata": {
    "execution": {
     "iopub.execute_input": "2024-06-08T11:39:09.125019Z",
     "iopub.status.busy": "2024-06-08T11:39:09.124632Z",
     "iopub.status.idle": "2024-06-08T11:39:09.200405Z",
     "shell.execute_reply": "2024-06-08T11:39:09.199868Z",
     "shell.execute_reply.started": "2024-06-08T11:39:09.124993Z"
    }
   },
   "outputs": [
    {
     "name": "stdout",
     "output_type": "stream",
     "text": [
      "score: 0.6993, start: 0, end: 43, answer: 1949年10月1日，中国共产党主席毛泽东在北京天安门广场正式宣布中华人民共和国成立。\n"
     ]
    }
   ],
   "source": [
    "preds = mdeberta_question_answerer(\n",
    "    question=\"中国的首都是哪儿?\",\n",
    "    context=\"1949年10月1日，中国共产党主席毛泽东在北京天安门广场正式宣布中华人民共和国成立。\",\n",
    ")\n",
    "print(\n",
    "    f\"score: {round(preds['score'], 4)}, start: {preds['start']}, end: {preds['end']}, answer: {preds['answer']}\"\n",
    ")"
   ]
  },
  {
   "cell_type": "markdown",
   "id": "d995cb85-ab8f-4b28-9413-1a83fa3e4c4d",
   "metadata": {},
   "source": [
    "### Summarization\n",
    "\n",
    "**Summarization**(文本摘要）从较长的文本中创建一个较短的版本，同时尽可能保留原始文档的大部分含义。摘要是一个序列到序列的任务；它输出比输入更短的文本序列。有许多长篇文档可以进行摘要，以帮助读者快速了解主要要点。法案、法律和财务文件、专利和科学论文等文档可以摘要，以节省读者的时间并作为阅读辅助工具。\n",
    "\n",
    "与问答类似，摘要有两种类型：\n",
    "\n",
    "- 提取式：从原始文本中识别和提取最重要的句子\n",
    "- 生成式：从原始文本中生成目标摘要（可能包括输入文件中没有的新单词）；`SummarizationPipeline`使用生成式方法\n",
    "\n",
    "模型主页：https://huggingface.co/t5-base"
   ]
  },
  {
   "cell_type": "code",
   "execution_count": 65,
   "id": "8e028f36-2b50-4ae3-8dce-2f0ac685e8fb",
   "metadata": {
    "execution": {
     "iopub.execute_input": "2024-06-07T09:23:41.560497Z",
     "iopub.status.busy": "2024-06-07T09:23:41.559122Z",
     "iopub.status.idle": "2024-06-07T09:23:42.499820Z",
     "shell.execute_reply": "2024-06-07T09:23:42.498833Z",
     "shell.execute_reply.started": "2024-06-07T09:23:41.560435Z"
    }
   },
   "outputs": [],
   "source": [
    "from transformers import pipeline\n",
    "\n",
    "summarizer = pipeline(task=\"summarization\",\n",
    "                      model=\"/root/autodl-tmp/hf/modules/t5-base\",\n",
    "                      min_length=8,\n",
    "                      max_length=32,\n",
    ")"
   ]
  },
  {
   "cell_type": "code",
   "execution_count": 66,
   "id": "8c760bbf-2ae4-4f84-bd5e-32c30ee6bd78",
   "metadata": {
    "execution": {
     "iopub.execute_input": "2024-06-07T09:23:44.946729Z",
     "iopub.status.busy": "2024-06-07T09:23:44.946271Z",
     "iopub.status.idle": "2024-06-07T09:23:45.731466Z",
     "shell.execute_reply": "2024-06-07T09:23:45.730662Z",
     "shell.execute_reply.started": "2024-06-07T09:23:44.946705Z"
    }
   },
   "outputs": [
    {
     "data": {
      "text/plain": [
       "[{'summary_text': 'the Transformer is the first sequence transduction model based entirely on attention . it replaces recurrent layers commonly used in encoder-decode'}]"
      ]
     },
     "execution_count": 66,
     "metadata": {},
     "output_type": "execute_result"
    }
   ],
   "source": [
    "summarizer(\n",
    "    \"\"\"\n",
    "    In this work, we presented the Transformer, the first sequence transduction model based entirely on attention, \n",
    "    replacing the recurrent layers most commonly used in encoder-decoder architectures with multi-headed self-attention. \n",
    "    For translation tasks, the Transformer can be trained significantly faster than architectures based on recurrent or convolutional layers. \n",
    "    On both WMT 2014 English-to-German and WMT 2014 English-to-French translation tasks, we achieve a new state of the art. \n",
    "    In the former task our best model outperforms even all previously reported ensembles.\n",
    "    \"\"\"\n",
    ")\n"
   ]
  },
  {
   "cell_type": "code",
   "execution_count": 67,
   "id": "b50ff52b-e61e-40cd-ab66-a591dc0c3b0d",
   "metadata": {
    "execution": {
     "iopub.execute_input": "2024-06-07T09:25:20.848042Z",
     "iopub.status.busy": "2024-06-07T09:25:20.847577Z",
     "iopub.status.idle": "2024-06-07T09:25:21.666149Z",
     "shell.execute_reply": "2024-06-07T09:25:21.665671Z",
     "shell.execute_reply.started": "2024-06-07T09:25:20.848016Z"
    }
   },
   "outputs": [
    {
     "data": {
      "text/plain": [
       "[{'summary_text': 'large language models (LLMs) are very large deep learning models pre-trained on vast amounts of data . transformers are capable of un'}]"
      ]
     },
     "execution_count": 67,
     "metadata": {},
     "output_type": "execute_result"
    }
   ],
   "source": [
    "summarizer(\n",
    "    '''\n",
    "    Large language models (LLM) are very large deep learning models that are pre-trained on vast amounts of data. \n",
    "    The underlying transformer is a set of neural networks that consist of an encoder and a decoder with self-attention capabilities. \n",
    "    The encoder and decoder extract meanings from a sequence of text and understand the relationships between words and phrases in it.\n",
    "    Transformer LLMs are capable of unsupervised training, although a more precise explanation is that transformers perform self-learning. \n",
    "    It is through this process that transformers learn to understand basic grammar, languages, and knowledge.\n",
    "    Unlike earlier recurrent neural networks (RNN) that sequentially process inputs, transformers process entire sequences in parallel. \n",
    "    This allows the data scientists to use GPUs for training transformer-based LLMs, significantly reducing the training time.\n",
    "    '''\n",
    ")\n"
   ]
  },
  {
   "cell_type": "code",
   "execution_count": 68,
   "id": "32d2cb38-ea6b-4579-9d94-3b458830c87c",
   "metadata": {
    "execution": {
     "iopub.execute_input": "2024-06-07T09:29:28.474238Z",
     "iopub.status.busy": "2024-06-07T09:29:28.473775Z",
     "iopub.status.idle": "2024-06-07T09:29:29.567668Z",
     "shell.execute_reply": "2024-06-07T09:29:29.566561Z",
     "shell.execute_reply.started": "2024-06-07T09:29:28.474212Z"
    }
   },
   "outputs": [
    {
     "data": {
      "text/plain": [
       "[{'summary_text': 'bt u  gia phn lng trên, ng'}]"
      ]
     },
     "execution_count": 68,
     "metadata": {},
     "output_type": "execute_result"
    }
   ],
   "source": [
    "summarizer(\n",
    "    \"\"\"\n",
    "    Trước khi bắt đầu đo, đứng thẳng và đặt tay ở hai bên cơ thể. Hơi cong cánh tay với các ngón tay đặt vào túi quần trước. Bắt đầu ở giữa phần lưng trên, ngay bên dưới cổ. Đo độ dài từ giữa lưng trên đến đường viền vai áo. Viết lại số đo này vì bạn sẽ cần đến ở bước sau. Đo độ dài từ đường viền vai áo đến cổ tay. Cố gắng kéo thước dây đến xương cổ tay. Cẩn thận để không dừng thước đo ngay phía trên cổ tay, kẻo làm cho tay áo quá ngắn. Cộng hai số đo này để tìm ra độ dài tay áo. Số đo tay áo sẽ ở khoảng từ 81 - 94cm.\t\n",
    "\n",
    "    \"\"\"\n",
    ")\n",
    "\n"
   ]
  },
  {
   "cell_type": "code",
   "execution_count": 69,
   "id": "275f8896-489c-4b62-ad17-3ae7939f7aa9",
   "metadata": {
    "execution": {
     "iopub.execute_input": "2024-06-07T09:30:14.411844Z",
     "iopub.status.busy": "2024-06-07T09:30:14.411375Z",
     "iopub.status.idle": "2024-06-07T09:30:15.232285Z",
     "shell.execute_reply": "2024-06-07T09:30:15.231502Z",
     "shell.execute_reply.started": "2024-06-07T09:30:14.411817Z"
    }
   },
   "outputs": [
    {
     "data": {
      "text/plain": [
       "[{'summary_text': 'Windex , . 101(237), ,,  : '}]"
      ]
     },
     "execution_count": 69,
     "metadata": {},
     "output_type": "execute_result"
    }
   ],
   "source": [
    "summarizer(\n",
    "    \"\"\"\n",
    "    硅藻土是纯天然物质，可以安全用在人类和宠物周围，帮助消灭蚂蚁和其它爬行动物。硅藻土由化石碎屑组成，一旦昆虫爬过，这些化石碎屑就会切割它们的外骨骼。把硅藻土撒在角落、水槽下、窗台和蚂蚁常出没的地方。 每一两个星期用吸尘机打扫硅藻土一次，然后换上新的粉末。 这个方法在潮湿地区不太有效，因为潮湿的硅藻土不再锋利。 如果地毯上有许多黑蚂蚁，你可撒一层小苏打，等待几个小时，然后用吸尘机打扫干净。你也可以将玉米淀粉洒在地上，立刻用吸尘机清理玉米淀粉，然后才用吸尘机吸走蚂蚁。吸尘机里的玉米淀粉会使蚂蚁窒息。 特定的天然喷剂可以用作驱虫剂。你可以简单地自制驱虫剂，只需把10滴精油添加到1杯水中（约237毫升），然后倒入喷瓶。到处喷射精油混合液，防止蚂蚁进入屋子。你可以试用以下精油： 桉树油（家中有猫的话不可以用） 茶树油 薰衣草 薄荷 柠檬 Windex玻璃清洁剂 也许你家中的洗衣房已备有一盒硼酸。这个家居用品也是非常有效的杀虫剂。只需把硼酸撒在角落和房间四周。一旦蚂蚁和其它生物爬过硼酸，就会死亡。 如果你手边没有其它驱逐剂，可以尝试在蚂蚁聚集的房间里撒一些肉桂粉。肉桂粉和它散发的强烈味道能驱赶蚂蚁。虽然撒肉桂粉无法杀灭蚂蚁，但可以防止它们再回来。\n",
    "    \"\"\"\n",
    ")"
   ]
  },
  {
   "cell_type": "code",
   "execution_count": 4,
   "id": "cbe54659-3406-430f-876a-f63bcd05dd39",
   "metadata": {
    "execution": {
     "iopub.execute_input": "2024-06-11T02:09:09.569623Z",
     "iopub.status.busy": "2024-06-11T02:09:09.569095Z",
     "iopub.status.idle": "2024-06-11T02:09:14.985705Z",
     "shell.execute_reply": "2024-06-11T02:09:14.984793Z",
     "shell.execute_reply.started": "2024-06-11T02:09:09.569597Z"
    }
   },
   "outputs": [],
   "source": [
    "from transformers import pipeline\n",
    "mT5 = pipeline(task=\"summarization\",\n",
    "                      model=\"/root/autodl-tmp/hf/modules/mT5_multilingual_XLSum\",\n",
    ")\n",
    "# mT5 = pipeline(\"summarization\", model=\"csebuetnlp/mT5_multilingual_XLSum\")\n",
    "\n",
    "# Use a pipeline as a high-level helper\n"
   ]
  },
  {
   "cell_type": "code",
   "execution_count": 5,
   "id": "7808ac31-7f36-44fa-942d-ff25c9916799",
   "metadata": {
    "execution": {
     "iopub.execute_input": "2024-06-11T02:09:20.330283Z",
     "iopub.status.busy": "2024-06-11T02:09:20.329809Z",
     "iopub.status.idle": "2024-06-11T02:09:22.151444Z",
     "shell.execute_reply": "2024-06-11T02:09:22.150611Z",
     "shell.execute_reply.started": "2024-06-11T02:09:20.330266Z"
    }
   },
   "outputs": [
    {
     "data": {
      "text/plain": [
       "[{'summary_text': '硅藻土是地球上最古老的建筑物之一,它被认为是保护地球不受潮湿影响的一部分。'}]"
      ]
     },
     "execution_count": 5,
     "metadata": {},
     "output_type": "execute_result"
    }
   ],
   "source": [
    "mT5(\n",
    "    \"\"\"\n",
    "    硅藻土是纯天然物质，可以安全用在人类和宠物周围，帮助消灭蚂蚁和其它爬行动物。硅藻土由化石碎屑组成，一旦昆虫爬过，这些化石碎屑就会切割它们的外骨骼。把硅藻土撒在角落、水槽下、窗台和蚂蚁常出没的地方。 每一两个星期用吸尘机打扫硅藻土一次，然后换上新的粉末。 这个方法在潮湿地区不太有效，因为潮湿的硅藻土不再锋利。 如果地毯上有许多黑蚂蚁，你可撒一层小苏打，等待几个小时，然后用吸尘机打扫干净。你也可以将玉米淀粉洒在地上，立刻用吸尘机清理玉米淀粉，然后才用吸尘机吸走蚂蚁。吸尘机里的玉米淀粉会使蚂蚁窒息。 特定的天然喷剂可以用作驱虫剂。你可以简单地自制驱虫剂，只需把10滴精油添加到1杯水中（约237毫升），然后倒入喷瓶。到处喷射精油混合液，防止蚂蚁进入屋子。你可以试用以下精油： 桉树油（家中有猫的话不可以用） 茶树油 薰衣草 薄荷 柠檬 Windex玻璃清洁剂 也许你家中的洗衣房已备有一盒硼酸。这个家居用品也是非常有效的杀虫剂。只需把硼酸撒在角落和房间四周。一旦蚂蚁和其它生物爬过硼酸，就会死亡。 如果你手边没有其它驱逐剂，可以尝试在蚂蚁聚集的房间里撒一些肉桂粉。肉桂粉和它散发的强烈味道能驱赶蚂蚁。虽然撒肉桂粉无法杀灭蚂蚁，但可以防止它们再回来。\n",
    "    \"\"\"\n",
    ")"
   ]
  },
  {
   "cell_type": "markdown",
   "id": "72315144-7fae-4848-af79-a70e428b2416",
   "metadata": {},
   "source": [
    "\n",
    "## Audio 音频处理任务\n",
    "\n",
    "音频和语音处理任务与其他模态略有不同，主要是因为音频作为输入是一个连续的信号。与文本不同，原始音频波形不能像句子可以被划分为单词那样被整齐地分割成离散的块。为了解决这个问题，通常在固定的时间间隔内对原始音频信号进行采样。如果在每个时间间隔内采样更多样本，采样率就会更高，音频更接近原始音频源。\n",
    "\n",
    "以前的方法是预处理音频以从中提取有用的特征。现在更常见的做法是直接将原始音频波形输入到特征编码器中，以提取音频表示。这样可以简化预处理步骤，并允许模型学习最重要的特征。\n",
    "\n",
    "### Audio classification\n",
    "\n",
    "**Audio classification**(音频分类)是一项将音频数据从预定义的类别集合中进行标记的任务。这是一个广泛的类别，具有许多具体的应用，其中一些包括：\n",
    "\n",
    "- 声学场景分类：使用场景标签（“办公室”、“海滩”、“体育场”）对音频进行标记。\n",
    "- 声学事件检测：使用声音事件标签（“汽车喇叭声”、“鲸鱼叫声”、“玻璃破碎声”）对音频进行标记。\n",
    "- 标记：对包含多种声音的音频进行标记（鸟鸣、会议中的说话人识别）。\n",
    "- 音乐分类：使用流派标签（“金属”、“嘻哈”、“乡村”）对音乐进行标记。\n",
    "\n",
    "模型主页：https://huggingface.co/superb/hubert-base-superb-er\n",
    "\n",
    "数据集主页：https://huggingface.co/datasets/superb#er\n",
    "\n",
    "```\n",
    "情感识别（ER）为每个话语预测一个情感类别。我们采用了最广泛使用的ER数据集IEMOCAP，并遵循传统的评估协议：我们删除不平衡的情感类别，只保留最后四个具有相似数量数据点的类别，并在标准分割的五折交叉验证上进行评估。评估指标是准确率（ACC）。\n",
    "```"
   ]
  },
  {
   "cell_type": "markdown",
   "id": "e4d4c1e9-8a67-4c72-8dce-ab326e0bc3b6",
   "metadata": {},
   "source": [
    "#### 前置依赖包安装\n",
    "\n",
    "建议在命令行安装必要的音频数据处理包: ffmpeg\n",
    "\n",
    "```shell\n",
    "$apt update & apt upgrade\n",
    "$apt install -y ffmpeg\n",
    "$pip install ffmpeg ffmpeg-python\n",
    "```"
   ]
  },
  {
   "cell_type": "code",
   "execution_count": 2,
   "id": "2e1f8a8d-75eb-49ab-9353-6c9d1f384cac",
   "metadata": {
    "execution": {
     "iopub.execute_input": "2024-06-08T13:26:46.242027Z",
     "iopub.status.busy": "2024-06-08T13:26:46.241259Z",
     "iopub.status.idle": "2024-06-08T13:26:49.977911Z",
     "shell.execute_reply": "2024-06-08T13:26:49.977127Z",
     "shell.execute_reply.started": "2024-06-08T13:26:46.241971Z"
    }
   },
   "outputs": [
    {
     "name": "stderr",
     "output_type": "stream",
     "text": [
      "Some weights of the model checkpoint at /root/autodl-tmp/hf/modules/hubert-base-superb-er were not used when initializing HubertForSequenceClassification: ['hubert.encoder.pos_conv_embed.conv.weight_g', 'hubert.encoder.pos_conv_embed.conv.weight_v']\n",
      "- This IS expected if you are initializing HubertForSequenceClassification from the checkpoint of a model trained on another task or with another architecture (e.g. initializing a BertForSequenceClassification model from a BertForPreTraining model).\n",
      "- This IS NOT expected if you are initializing HubertForSequenceClassification from the checkpoint of a model that you expect to be exactly identical (initializing a BertForSequenceClassification model from a BertForSequenceClassification model).\n",
      "Some weights of HubertForSequenceClassification were not initialized from the model checkpoint at /root/autodl-tmp/hf/modules/hubert-base-superb-er and are newly initialized: ['hubert.encoder.pos_conv_embed.conv.parametrizations.weight.original0', 'hubert.encoder.pos_conv_embed.conv.parametrizations.weight.original1']\n",
      "You should probably TRAIN this model on a down-stream task to be able to use it for predictions and inference.\n"
     ]
    }
   ],
   "source": [
    "from transformers import pipeline\n",
    "\n",
    "classifier = pipeline(task=\"audio-classification\", model=\"/root/autodl-tmp/hf/modules/hubert-base-superb-er\")"
   ]
  },
  {
   "cell_type": "code",
   "execution_count": 3,
   "id": "204a4159-d14d-4623-8340-93d15abcc549",
   "metadata": {
    "execution": {
     "iopub.execute_input": "2024-06-08T13:26:49.979112Z",
     "iopub.status.busy": "2024-06-08T13:26:49.978894Z",
     "iopub.status.idle": "2024-06-08T13:26:50.420712Z",
     "shell.execute_reply": "2024-06-08T13:26:50.419586Z",
     "shell.execute_reply.started": "2024-06-08T13:26:49.979098Z"
    }
   },
   "outputs": [
    {
     "data": {
      "text/plain": [
       "[{'score': 0.3642, 'label': 'neu'},\n",
       " {'score': 0.3408, 'label': 'hap'},\n",
       " {'score': 0.2599, 'label': 'ang'},\n",
       " {'score': 0.0351, 'label': 'sad'}]"
      ]
     },
     "execution_count": 3,
     "metadata": {},
     "output_type": "execute_result"
    }
   ],
   "source": [
    "# 使用 Hugging Face Datasets 上的测试文件\n",
    "preds = classifier(\"/root/autodl-tmp/project/transformers/data/audio/1.flac\")\n",
    "preds = [{\"score\": round(pred[\"score\"], 4), \"label\": pred[\"label\"]} for pred in preds]\n",
    "preds"
   ]
  },
  {
   "cell_type": "code",
   "execution_count": 25,
   "id": "2528bf81-8289-4bb9-bf2d-c0ce9f7e8b36",
   "metadata": {
    "execution": {
     "iopub.execute_input": "2024-06-08T12:04:50.744006Z",
     "iopub.status.busy": "2024-06-08T12:04:50.743522Z",
     "iopub.status.idle": "2024-06-08T12:04:51.281768Z",
     "shell.execute_reply": "2024-06-08T12:04:51.280856Z",
     "shell.execute_reply.started": "2024-06-08T12:04:50.743979Z"
    }
   },
   "outputs": [
    {
     "data": {
      "text/plain": [
       "[{'score': 0.4532, 'label': 'hap'},\n",
       " {'score': 0.3622, 'label': 'sad'},\n",
       " {'score': 0.0943, 'label': 'neu'},\n",
       " {'score': 0.0903, 'label': 'ang'}]"
      ]
     },
     "execution_count": 25,
     "metadata": {},
     "output_type": "execute_result"
    }
   ],
   "source": [
    "# 使用本地的音频文件做测试\n",
    "preds = classifier(\"data/audio/mlk.flac\")\n",
    "preds = [{\"score\": round(pred[\"score\"], 4), \"label\": pred[\"label\"]} for pred in preds]\n",
    "preds"
   ]
  },
  {
   "cell_type": "code",
   "execution_count": null,
   "id": "d6826a83-f5a5-454e-ac16-1f215abef861",
   "metadata": {},
   "outputs": [],
   "source": []
  },
  {
   "cell_type": "markdown",
   "id": "e073cd1f-ba16-40a7-a029-bbd5e2a53dee",
   "metadata": {},
   "source": [
    "### Automatic speech recognition（ASR）\n",
    "\n",
    "**Automatic speech recognition**（自动语音识别）将语音转录为文本。这是最常见的音频任务之一，部分原因是因为语音是人类交流的自然形式。如今，ASR系统嵌入在智能技术产品中，如扬声器、电话和汽车。我们可以要求虚拟助手播放音乐、设置提醒和告诉我们天气。\n",
    "\n",
    "但是，Transformer架构帮助解决的一个关键挑战是低资源语言。通过在大量语音数据上进行预训练，仅在一个低资源语言的一小时标记语音数据上进行微调，仍然可以产生与以前在100倍更多标记数据上训练的ASR系统相比高质量的结果。\n",
    "\n",
    "模型主页：https://huggingface.co/openai/whisper-small\n",
    "\n",
    "下面展示使用 `OpenAI Whisper Small` 模型实现 ASR 的 Pipeline API 示例："
   ]
  },
  {
   "cell_type": "code",
   "execution_count": 6,
   "id": "68d14f8c-1571-4889-abd4-8fde09dc610a",
   "metadata": {
    "execution": {
     "iopub.execute_input": "2024-06-08T14:34:07.341101Z",
     "iopub.status.busy": "2024-06-08T14:34:07.340232Z",
     "iopub.status.idle": "2024-06-08T14:34:08.917115Z",
     "shell.execute_reply": "2024-06-08T14:34:08.916285Z",
     "shell.execute_reply.started": "2024-06-08T14:34:07.341041Z"
    }
   },
   "outputs": [
    {
     "name": "stderr",
     "output_type": "stream",
     "text": [
      "Special tokens have been added in the vocabulary, make sure the associated word embeddings are fine-tuned or trained.\n"
     ]
    }
   ],
   "source": [
    "from transformers import pipeline\n",
    "\n",
    "# 使用 `model` 参数指定模型\n",
    "transcriber = pipeline(task=\"automatic-speech-recognition\", model=\"/root/autodl-tmp/hf/modules/whisper-small\")"
   ]
  },
  {
   "cell_type": "code",
   "execution_count": 7,
   "id": "316ebe18-9c8e-4ded-96b7-751304aa9122",
   "metadata": {
    "execution": {
     "iopub.execute_input": "2024-06-08T14:34:11.048889Z",
     "iopub.status.busy": "2024-06-08T14:34:11.048392Z",
     "iopub.status.idle": "2024-06-08T14:34:12.356303Z",
     "shell.execute_reply": "2024-06-08T14:34:12.355712Z",
     "shell.execute_reply.started": "2024-06-08T14:34:11.048865Z"
    }
   },
   "outputs": [
    {
     "data": {
      "text/plain": [
       "{'text': ' I have a dream that one day this nation will rise up and live out the true meaning of its creed.'}"
      ]
     },
     "execution_count": 7,
     "metadata": {},
     "output_type": "execute_result"
    }
   ],
   "source": [
    "text = transcriber(\"data/audio/mlk.flac\")\n",
    "text"
   ]
  },
  {
   "cell_type": "code",
   "execution_count": 10,
   "id": "192d5e06-ac4a-4a56-be36-9e445751bda6",
   "metadata": {
    "execution": {
     "iopub.execute_input": "2024-06-08T14:37:59.284533Z",
     "iopub.status.busy": "2024-06-08T14:37:59.283706Z",
     "iopub.status.idle": "2024-06-08T14:38:11.600910Z",
     "shell.execute_reply": "2024-06-08T14:38:11.600122Z",
     "shell.execute_reply.started": "2024-06-08T14:37:59.284477Z"
    }
   },
   "outputs": [
    {
     "data": {
      "text/plain": [
       "{'text': '《网络安全意识》国家网络安全中心替代格式版本本内容由苏格兰领导组织与合作伙伴共同制作并由苏格兰政府网络适应性部门拨款本指南根据国家网络安全中心网站上的内容编写所含信息分為7個社區語言音頻分別是本音頻片段包括簡介並概述您可以採取的用於提高在線安全性的6項措施然後關於您可以採取的6項措施分別有單獨的詳細音頻片段在國家網絡安全中心網站上可访问提到的所有链接网指是www.ncsc.gov.uk斜杠cyberawre斜杠提升您的在线安全性的六种方法由於新冠疫情,今年人們花費了更多時間上網,這意味著黑客有更多機會進行網絡攻擊他們通常會使用以下方法對人們和企業進行攻擊電子郵件和網站騙局惡意軟件,這是只可能會損壞您的設備或讓黑客進入的軟件如果黑客进入您的设备或账户,他们就可以获取您的资金、您的个人信息,或有关您业务的信息。您可以采取以下六项措施来提高网络安全性。措施1.为您的电子邮箱使用一个单独的墙密码。措施2,使用三个随机词创建强密码措施3,将密码保存在您的浏览器中措施4,打开双音速认证,简称RFA措施5,更新您的设备措施 6 倍份您的數據'}"
      ]
     },
     "execution_count": 10,
     "metadata": {},
     "output_type": "execute_result"
    }
   ],
   "source": [
    "text = transcriber(\"data/audio/2.flac\")\n",
    "text"
   ]
  },
  {
   "cell_type": "markdown",
   "id": "228b1482-1e13-4557-8d37-5d56e961b5c5",
   "metadata": {},
   "source": [
    "## Computer Vision 计算机视觉\n",
    "\n",
    "**Computer Vision**（计算机视觉）任务中最早成功之一是使用卷积神经网络（CNN）识别邮政编码数字图像。图像由像素组成，每个像素都有一个数值。这使得将图像表示为像素值矩阵变得容易。每个像素值组合描述了图像的颜色。\n",
    "\n",
    "计算机视觉任务可以通过以下两种通用方式解决：\n",
    "\n",
    "- 使用卷积来学习图像的层次特征，从低级特征到高级抽象特征。\n",
    "- 将图像分成块，并使用Transformer逐步学习每个图像块如何相互关联以形成图像。与CNN偏好的自底向上方法不同，这种方法有点像从一个模糊的图像开始，然后逐渐将其聚焦清晰。"
   ]
  },
  {
   "cell_type": "markdown",
   "id": "cf0bf9f4-6413-409b-968e-f03ca0c88367",
   "metadata": {},
   "source": [
    "### Image Classificaiton\n",
    "\n",
    "**Image Classificaiton**(图像分类)将整个图像从预定义的类别集合中进行标记。像大多数分类任务一样，图像分类有许多实际用例，其中一些包括：\n",
    "\n",
    "- 医疗保健：标记医学图像以检测疾病或监测患者健康状况\n",
    "- 环境：标记卫星图像以监测森林砍伐、提供野外管理信息或检测野火\n",
    "- 农业：标记农作物图像以监测植物健康或用于土地使用监测的卫星图像\n",
    "- 生态学：标记动物或植物物种的图像以监测野生动物种群或跟踪濒危物种\n",
    "\n",
    "模型主页：https://huggingface.co/google/vit-base-patch16-224"
   ]
  },
  {
   "cell_type": "code",
   "execution_count": 11,
   "id": "98ca9736-10b9-45b0-a3e3-925f153bab57",
   "metadata": {
    "execution": {
     "iopub.execute_input": "2024-06-08T14:54:21.537431Z",
     "iopub.status.busy": "2024-06-08T14:54:21.536969Z",
     "iopub.status.idle": "2024-06-08T14:54:21.961987Z",
     "shell.execute_reply": "2024-06-08T14:54:21.960661Z",
     "shell.execute_reply.started": "2024-06-08T14:54:21.537406Z"
    }
   },
   "outputs": [],
   "source": [
    "from transformers import pipeline\n",
    "\n",
    "classifier = pipeline(task=\"image-classification\",model=\"/root/autodl-tmp/hf/modules/vit-base-patch16-224\")"
   ]
  },
  {
   "cell_type": "code",
   "execution_count": 22,
   "id": "d8a41647-e8db-4d29-9dac-06c3c145acaa",
   "metadata": {},
   "outputs": [
    {
     "name": "stdout",
     "output_type": "stream",
     "text": [
      "{'score': 0.4335, 'label': 'lynx, catamount'}\n",
      "{'score': 0.0348, 'label': 'cougar, puma, catamount, mountain lion, painter, panther, Felis concolor'}\n",
      "{'score': 0.0324, 'label': 'snow leopard, ounce, Panthera uncia'}\n",
      "{'score': 0.0239, 'label': 'Egyptian cat'}\n",
      "{'score': 0.0229, 'label': 'tiger cat'}\n"
     ]
    }
   ],
   "source": [
    "preds = classifier(\n",
    "    \"https://huggingface.co/datasets/huggingface/documentation-images/resolve/main/pipeline-cat-chonk.jpeg\"\n",
    ")\n",
    "preds = [{\"score\": round(pred[\"score\"], 4), \"label\": pred[\"label\"]} for pred in preds]\n",
    "print(*preds, sep=\"\\n\")"
   ]
  },
  {
   "cell_type": "markdown",
   "id": "662ecb60-ebb9-4f4e-82bc-21e79bb22d90",
   "metadata": {},
   "source": [
    "![](data/image/cat-chonk.jpeg)"
   ]
  },
  {
   "cell_type": "code",
   "execution_count": 12,
   "id": "67592129-6430-4349-8016-7dde511ff69b",
   "metadata": {
    "execution": {
     "iopub.execute_input": "2024-06-08T14:55:19.443419Z",
     "iopub.status.busy": "2024-06-08T14:55:19.443098Z",
     "iopub.status.idle": "2024-06-08T14:55:19.624497Z",
     "shell.execute_reply": "2024-06-08T14:55:19.623568Z",
     "shell.execute_reply.started": "2024-06-08T14:55:19.443394Z"
    }
   },
   "outputs": [
    {
     "name": "stdout",
     "output_type": "stream",
     "text": [
      "{'score': 0.4335, 'label': 'lynx, catamount'}\n",
      "{'score': 0.0348, 'label': 'cougar, puma, catamount, mountain lion, painter, panther, Felis concolor'}\n",
      "{'score': 0.0324, 'label': 'snow leopard, ounce, Panthera uncia'}\n",
      "{'score': 0.0239, 'label': 'Egyptian cat'}\n",
      "{'score': 0.0229, 'label': 'tiger cat'}\n"
     ]
    }
   ],
   "source": [
    "# 使用本地图片（狼猫）\n",
    "preds = classifier(\n",
    "    \"data/image/cat-chonk.jpeg\"\n",
    ")\n",
    "preds = [{\"score\": round(pred[\"score\"], 4), \"label\": pred[\"label\"]} for pred in preds]\n",
    "print(*preds, sep=\"\\n\")"
   ]
  },
  {
   "cell_type": "markdown",
   "id": "8113c251-a648-4ea2-baa4-3081bb490c70",
   "metadata": {},
   "source": [
    "![](data/image/panda.jpg)"
   ]
  },
  {
   "cell_type": "code",
   "execution_count": 13,
   "id": "a7e9b51a-d759-4398-9894-f10933dbed47",
   "metadata": {
    "execution": {
     "iopub.execute_input": "2024-06-08T14:55:47.037686Z",
     "iopub.status.busy": "2024-06-08T14:55:47.037173Z",
     "iopub.status.idle": "2024-06-08T14:55:47.251975Z",
     "shell.execute_reply": "2024-06-08T14:55:47.251091Z",
     "shell.execute_reply.started": "2024-06-08T14:55:47.037660Z"
    }
   },
   "outputs": [
    {
     "name": "stdout",
     "output_type": "stream",
     "text": [
      "{'score': 0.9962, 'label': 'giant panda, panda, panda bear, coon bear, Ailuropoda melanoleuca'}\n",
      "{'score': 0.0018, 'label': 'lesser panda, red panda, panda, bear cat, cat bear, Ailurus fulgens'}\n",
      "{'score': 0.0002, 'label': 'ice bear, polar bear, Ursus Maritimus, Thalarctos maritimus'}\n",
      "{'score': 0.0001, 'label': 'sloth bear, Melursus ursinus, Ursus ursinus'}\n",
      "{'score': 0.0001, 'label': 'brown bear, bruin, Ursus arctos'}\n"
     ]
    }
   ],
   "source": [
    "# 使用本地图片（熊猫）\n",
    "preds = classifier(\n",
    "    \"data/image/panda.jpg\"\n",
    ")\n",
    "preds = [{\"score\": round(pred[\"score\"], 4), \"label\": pred[\"label\"]} for pred in preds]\n",
    "print(*preds, sep=\"\\n\")"
   ]
  },
  {
   "cell_type": "code",
   "execution_count": 12,
   "id": "120f5fdb-2803-4f4f-9008-00dee9a6a557",
   "metadata": {
    "execution": {
     "iopub.execute_input": "2024-06-11T02:47:44.601221Z",
     "iopub.status.busy": "2024-06-11T02:47:44.600642Z",
     "iopub.status.idle": "2024-06-11T02:47:45.180783Z",
     "shell.execute_reply": "2024-06-11T02:47:45.179940Z",
     "shell.execute_reply.started": "2024-06-11T02:47:44.601175Z"
    }
   },
   "outputs": [],
   "source": [
    "from transformers import pipeline\n",
    "\n",
    "classifier = pipeline(task=\"image-classification\",model=\"/root/autodl-tmp/hf/modules/beit-base-patch16-224-pt22k-ft22k\")"
   ]
  },
  {
   "cell_type": "markdown",
   "id": "8118a561-3dc9-4693-8c3b-3e29c37b4d71",
   "metadata": {},
   "source": [
    "### Object Detection\n",
    "\n",
    "与图像分类不同，目标检测在图像中识别多个对象以及这些对象在图像中的位置（由边界框定义）。目标检测的一些示例应用包括：\n",
    "\n",
    "- 自动驾驶车辆：检测日常交通对象，如其他车辆、行人和红绿灯\n",
    "- 遥感：灾害监测、城市规划和天气预报\n",
    "- 缺陷检测：检测建筑物中的裂缝或结构损坏，以及制造业产品缺陷\n",
    "\n",
    "模型主页：https://huggingface.co/facebook/detr-resnet-50"
   ]
  },
  {
   "cell_type": "markdown",
   "id": "e7122f04-7add-4623-8f3f-ccc00247524b",
   "metadata": {},
   "source": [
    "#### 前置依赖包安装"
   ]
  },
  {
   "cell_type": "code",
   "execution_count": 25,
   "id": "8cbc4227-cbcc-4f18-bf26-66535e66afb6",
   "metadata": {
    "collapsed": true,
    "jupyter": {
     "outputs_hidden": true
    }
   },
   "outputs": [
    {
     "name": "stdout",
     "output_type": "stream",
     "text": [
      "Requirement already satisfied: timm in /root/miniconda3/lib/python3.11/site-packages (0.9.12)\n",
      "Requirement already satisfied: torch>=1.7 in /root/miniconda3/lib/python3.11/site-packages (from timm) (2.3.0.dev20240116+cu121)\n",
      "Requirement already satisfied: torchvision in /root/miniconda3/lib/python3.11/site-packages (from timm) (0.18.0.dev20240117+cu121)\n",
      "Requirement already satisfied: pyyaml in /root/miniconda3/lib/python3.11/site-packages (from timm) (6.0.1)\n",
      "Requirement already satisfied: huggingface-hub in /root/miniconda3/lib/python3.11/site-packages (from timm) (0.20.1)\n",
      "Requirement already satisfied: safetensors in /root/miniconda3/lib/python3.11/site-packages (from timm) (0.4.0)\n",
      "Requirement already satisfied: filelock in /root/miniconda3/lib/python3.11/site-packages (from torch>=1.7->timm) (3.9.0)\n",
      "Requirement already satisfied: typing-extensions>=4.8.0 in /root/miniconda3/lib/python3.11/site-packages (from torch>=1.7->timm) (4.8.0)\n",
      "Requirement already satisfied: sympy in /root/miniconda3/lib/python3.11/site-packages (from torch>=1.7->timm) (1.11.1)\n",
      "Requirement already satisfied: networkx in /root/miniconda3/lib/python3.11/site-packages (from torch>=1.7->timm) (3.0rc1)\n",
      "Requirement already satisfied: jinja2 in /root/miniconda3/lib/python3.11/site-packages (from torch>=1.7->timm) (3.1.2)\n",
      "Requirement already satisfied: fsspec in /root/miniconda3/lib/python3.11/site-packages (from torch>=1.7->timm) (2023.4.0)\n",
      "Requirement already satisfied: nvidia-cuda-nvrtc-cu12==12.1.105 in /root/miniconda3/lib/python3.11/site-packages (from torch>=1.7->timm) (12.1.105)\n",
      "Requirement already satisfied: nvidia-cuda-runtime-cu12==12.1.105 in /root/miniconda3/lib/python3.11/site-packages (from torch>=1.7->timm) (12.1.105)\n",
      "Requirement already satisfied: nvidia-cuda-cupti-cu12==12.1.105 in /root/miniconda3/lib/python3.11/site-packages (from torch>=1.7->timm) (12.1.105)\n",
      "Requirement already satisfied: nvidia-cudnn-cu12==8.9.2.26 in /root/miniconda3/lib/python3.11/site-packages (from torch>=1.7->timm) (8.9.2.26)\n",
      "Requirement already satisfied: nvidia-cublas-cu12==12.1.3.1 in /root/miniconda3/lib/python3.11/site-packages (from torch>=1.7->timm) (12.1.3.1)\n",
      "Requirement already satisfied: nvidia-cufft-cu12==11.0.2.54 in /root/miniconda3/lib/python3.11/site-packages (from torch>=1.7->timm) (11.0.2.54)\n",
      "Requirement already satisfied: nvidia-curand-cu12==10.3.2.106 in /root/miniconda3/lib/python3.11/site-packages (from torch>=1.7->timm) (10.3.2.106)\n",
      "Requirement already satisfied: nvidia-cusolver-cu12==11.4.5.107 in /root/miniconda3/lib/python3.11/site-packages (from torch>=1.7->timm) (11.4.5.107)\n",
      "Requirement already satisfied: nvidia-cusparse-cu12==12.1.0.106 in /root/miniconda3/lib/python3.11/site-packages (from torch>=1.7->timm) (12.1.0.106)\n",
      "Requirement already satisfied: nvidia-nccl-cu12==2.19.3 in /root/miniconda3/lib/python3.11/site-packages (from torch>=1.7->timm) (2.19.3)\n",
      "Requirement already satisfied: nvidia-nvtx-cu12==12.1.105 in /root/miniconda3/lib/python3.11/site-packages (from torch>=1.7->timm) (12.1.105)\n",
      "Requirement already satisfied: pytorch-triton==2.2.0+e28a256d71 in /root/miniconda3/lib/python3.11/site-packages (from torch>=1.7->timm) (2.2.0+e28a256d71)\n",
      "Requirement already satisfied: nvidia-nvjitlink-cu12 in /root/miniconda3/lib/python3.11/site-packages (from nvidia-cusolver-cu12==11.4.5.107->torch>=1.7->timm) (12.1.105)\n",
      "Collecting fsspec (from torch>=1.7->timm)\n",
      "  Using cached fsspec-2023.12.2-py3-none-any.whl.metadata (6.8 kB)\n",
      "Requirement already satisfied: requests in /root/miniconda3/lib/python3.11/site-packages (from huggingface-hub->timm) (2.28.1)\n",
      "Requirement already satisfied: tqdm>=4.42.1 in /root/miniconda3/lib/python3.11/site-packages (from huggingface-hub->timm) (4.66.1)\n",
      "Requirement already satisfied: packaging>=20.9 in /root/miniconda3/lib/python3.11/site-packages (from huggingface-hub->timm) (23.2)\n",
      "Requirement already satisfied: numpy in /root/miniconda3/lib/python3.11/site-packages (from torchvision->timm) (1.24.1)\n",
      "Requirement already satisfied: pillow!=8.3.*,>=5.3.0 in /root/miniconda3/lib/python3.11/site-packages (from torchvision->timm) (9.3.0)\n",
      "Requirement already satisfied: MarkupSafe>=2.0 in /root/miniconda3/lib/python3.11/site-packages (from jinja2->torch>=1.7->timm) (2.1.3)\n",
      "Requirement already satisfied: charset-normalizer<3,>=2 in /root/miniconda3/lib/python3.11/site-packages (from requests->huggingface-hub->timm) (2.1.1)\n",
      "Requirement already satisfied: idna<4,>=2.5 in /root/miniconda3/lib/python3.11/site-packages (from requests->huggingface-hub->timm) (3.4)\n",
      "Requirement already satisfied: urllib3<1.27,>=1.21.1 in /root/miniconda3/lib/python3.11/site-packages (from requests->huggingface-hub->timm) (1.26.13)\n",
      "Requirement already satisfied: certifi>=2017.4.17 in /root/miniconda3/lib/python3.11/site-packages (from requests->huggingface-hub->timm) (2022.12.7)\n",
      "Requirement already satisfied: mpmath>=0.19 in /root/miniconda3/lib/python3.11/site-packages (from sympy->torch>=1.7->timm) (1.2.1)\n",
      "Using cached fsspec-2023.12.2-py3-none-any.whl (168 kB)\n",
      "Installing collected packages: fsspec\n",
      "  Attempting uninstall: fsspec\n",
      "    Found existing installation: fsspec 2023.4.0\n",
      "    Uninstalling fsspec-2023.4.0:\n",
      "      Successfully uninstalled fsspec-2023.4.0\n",
      "\u001b[31mERROR: pip's dependency resolver does not currently take into account all the packages that are installed. This behaviour is the source of the following dependency conflicts.\n",
      "datasets 2.16.1 requires fsspec[http]<=2023.10.0,>=2023.1.0, but you have fsspec 2023.12.2 which is incompatible.\u001b[0m\u001b[31m\n",
      "\u001b[0mSuccessfully installed fsspec-2023.12.2\n",
      "\u001b[33mWARNING: Running pip as the 'root' user can result in broken permissions and conflicting behaviour with the system package manager. It is recommended to use a virtual environment instead: https://pip.pypa.io/warnings/venv\u001b[0m\u001b[33m\n",
      "\u001b[0m"
     ]
    }
   ],
   "source": [
    "!pip install timm"
   ]
  },
  {
   "cell_type": "code",
   "execution_count": 50,
   "id": "c3401126-756b-4394-930c-c833c1f574b0",
   "metadata": {
    "execution": {
     "iopub.execute_input": "2024-06-11T06:54:42.370633Z",
     "iopub.status.busy": "2024-06-11T06:54:42.369079Z",
     "iopub.status.idle": "2024-06-11T06:54:46.380714Z",
     "shell.execute_reply": "2024-06-11T06:54:46.379816Z",
     "shell.execute_reply.started": "2024-06-11T06:54:42.370571Z"
    },
    "scrolled": true
   },
   "outputs": [
    {
     "name": "stderr",
     "output_type": "stream",
     "text": [
      "No model was supplied, defaulted to facebook/detr-resnet-50 and revision 2729413 (https://huggingface.co/facebook/detr-resnet-50).\n",
      "Using a pipeline without specifying a model name and revision in production is not recommended.\n"
     ]
    },
    {
     "data": {
      "application/vnd.jupyter.widget-view+json": {
       "model_id": "e5930b9f0a6c4c45b0ea641e995b26aa",
       "version_major": 2,
       "version_minor": 0
      },
      "text/plain": [
       "config.json:   0%|          | 0.00/4.59k [00:00<?, ?B/s]"
      ]
     },
     "metadata": {},
     "output_type": "display_data"
    },
    {
     "data": {
      "application/vnd.jupyter.widget-view+json": {
       "model_id": "db26c4c92a1440529a23f17df1247008",
       "version_major": 2,
       "version_minor": 0
      },
      "text/plain": [
       "model.safetensors:   0%|          | 0.00/167M [00:00<?, ?B/s]"
      ]
     },
     "metadata": {},
     "output_type": "display_data"
    },
    {
     "data": {
      "application/vnd.jupyter.widget-view+json": {
       "model_id": "516fec987483438192097ef9908f1d6e",
       "version_major": 2,
       "version_minor": 0
      },
      "text/plain": [
       "model.safetensors:   0%|          | 0.00/102M [00:00<?, ?B/s]"
      ]
     },
     "metadata": {},
     "output_type": "display_data"
    },
    {
     "name": "stderr",
     "output_type": "stream",
     "text": [
      "Some weights of the model checkpoint at facebook/detr-resnet-50 were not used when initializing DetrForObjectDetection: ['model.backbone.conv_encoder.model.layer1.0.downsample.1.num_batches_tracked', 'model.backbone.conv_encoder.model.layer2.0.downsample.1.num_batches_tracked', 'model.backbone.conv_encoder.model.layer3.0.downsample.1.num_batches_tracked', 'model.backbone.conv_encoder.model.layer4.0.downsample.1.num_batches_tracked']\n",
      "- This IS expected if you are initializing DetrForObjectDetection from the checkpoint of a model trained on another task or with another architecture (e.g. initializing a BertForSequenceClassification model from a BertForPreTraining model).\n",
      "- This IS NOT expected if you are initializing DetrForObjectDetection from the checkpoint of a model that you expect to be exactly identical (initializing a BertForSequenceClassification model from a BertForSequenceClassification model).\n"
     ]
    },
    {
     "data": {
      "application/vnd.jupyter.widget-view+json": {
       "model_id": "d4c73a7ee027419ea1fb6907a9525ffa",
       "version_major": 2,
       "version_minor": 0
      },
      "text/plain": [
       "preprocessor_config.json:   0%|          | 0.00/290 [00:00<?, ?B/s]"
      ]
     },
     "metadata": {},
     "output_type": "display_data"
    }
   ],
   "source": [
    "from transformers import pipeline\n",
    "import os\n",
    "\n",
    "import subprocess\n",
    "\n",
    "# 设置 Hugging Face 端点（如果需要使用镜像）\n",
    "os.environ['HF_ENDPOINT'] = 'https://hf-mirror.com'\n",
    "\n",
    "result = subprocess.run('bash -c \"source /etc/network_turbo && env | grep proxy\"', shell=True, capture_output=True, text=True)\n",
    "output = result.stdout\n",
    "for line in output.splitlines():\n",
    "    if '=' in line:\n",
    "        var, value = line.split('=', 1)\n",
    "        os.environ[var] = value\n",
    "import os\n",
    "os.environ['HF_HOME'] = '/root/autodl-tmp/cache/'\n",
    "# 设置 timm 模型的下载地址\n",
    "# os.environ['TORCH_HOME'] = '/root/autodl-tmp/timm/models'\n",
    "detector = pipeline(task=\"object-detection\")"
   ]
  },
  {
   "cell_type": "code",
   "execution_count": 51,
   "id": "170cf048-79e5-484b-82ad-99f7aedd4052",
   "metadata": {
    "execution": {
     "iopub.execute_input": "2024-06-11T06:54:50.425361Z",
     "iopub.status.busy": "2024-06-11T06:54:50.425049Z",
     "iopub.status.idle": "2024-06-11T06:54:50.431796Z",
     "shell.execute_reply": "2024-06-11T06:54:50.430885Z",
     "shell.execute_reply.started": "2024-06-11T06:54:50.425337Z"
    }
   },
   "outputs": [
    {
     "data": {
      "text/plain": [
       "<transformers.pipelines.object_detection.ObjectDetectionPipeline at 0x7fe2d3883500>"
      ]
     },
     "execution_count": 51,
     "metadata": {},
     "output_type": "execute_result"
    }
   ],
   "source": [
    "detector"
   ]
  },
  {
   "cell_type": "code",
   "execution_count": 53,
   "id": "32dc65d4-3868-4d10-a433-9f50832e8e68",
   "metadata": {
    "execution": {
     "iopub.execute_input": "2024-06-11T06:55:13.857233Z",
     "iopub.status.busy": "2024-06-11T06:55:13.856760Z",
     "iopub.status.idle": "2024-06-11T06:55:14.537014Z",
     "shell.execute_reply": "2024-06-11T06:55:14.536108Z",
     "shell.execute_reply.started": "2024-06-11T06:55:13.857206Z"
    }
   },
   "outputs": [
    {
     "data": {
      "text/plain": [
       "[{'score': 0.9864,\n",
       "  'label': 'cat',\n",
       "  'box': {'xmin': 178, 'ymin': 154, 'xmax': 882, 'ymax': 598}}]"
      ]
     },
     "execution_count": 53,
     "metadata": {},
     "output_type": "execute_result"
    }
   ],
   "source": [
    "os.environ['HF_ENDPOINT'] = 'https://hf-mirror.com'\n",
    "preds = detector(\n",
    "    \"/root/autodl-tmp/project/transformers/data/image/cat-chonk.jpeg\"\n",
    ")\n",
    "preds = [{\"score\": round(pred[\"score\"], 4), \"label\": pred[\"label\"], \"box\": pred[\"box\"]} for pred in preds]\n",
    "preds"
   ]
  },
  {
   "cell_type": "markdown",
   "id": "550759be-93ab-4988-81f0-c0cb8eccfda8",
   "metadata": {},
   "source": [
    "![](data/image/cat_dog.jpg)"
   ]
  },
  {
   "cell_type": "code",
   "execution_count": 55,
   "id": "40f66cd7-f2c8-4af3-b9ab-60012792ec1b",
   "metadata": {
    "execution": {
     "iopub.execute_input": "2024-06-11T06:55:25.427574Z",
     "iopub.status.busy": "2024-06-11T06:55:25.426469Z",
     "iopub.status.idle": "2024-06-11T06:55:26.064160Z",
     "shell.execute_reply": "2024-06-11T06:55:26.063319Z",
     "shell.execute_reply.started": "2024-06-11T06:55:25.427536Z"
    }
   },
   "outputs": [
    {
     "data": {
      "text/plain": [
       "[{'score': 0.9985,\n",
       "  'label': 'cat',\n",
       "  'box': {'xmin': 78, 'ymin': 57, 'xmax': 309, 'ymax': 371}},\n",
       " {'score': 0.989,\n",
       "  'label': 'dog',\n",
       "  'box': {'xmin': 279, 'ymin': 20, 'xmax': 482, 'ymax': 416}}]"
      ]
     },
     "execution_count": 55,
     "metadata": {},
     "output_type": "execute_result"
    }
   ],
   "source": [
    "\n",
    "preds = detector(\n",
    "    \"data/image/cat_dog.jpg\",height=100,width=200\n",
    ")\n",
    "preds = [{\"score\": round(pred[\"score\"], 4), \"label\": pred[\"label\"], \"box\": pred[\"box\"]} for pred in preds]\n",
    "preds"
   ]
  },
  {
   "cell_type": "code",
   "execution_count": 19,
   "id": "1d591246-662b-47e0-8531-f862b05ba1ad",
   "metadata": {
    "execution": {
     "iopub.execute_input": "2024-06-11T08:26:03.653107Z",
     "iopub.status.busy": "2024-06-11T08:26:03.652566Z",
     "iopub.status.idle": "2024-06-11T08:26:03.798572Z",
     "shell.execute_reply": "2024-06-11T08:26:03.797742Z",
     "shell.execute_reply.started": "2024-06-11T08:26:03.653074Z"
    }
   },
   "outputs": [
    {
     "name": "stdout",
     "output_type": "stream",
     "text": [
      "/root/autodl-tmp/cache/\n"
     ]
    }
   ],
   "source": [
    "from transformers import pipeline\n",
    "import os\n",
    "\n",
    "import subprocess\n",
    "\n",
    "# 设置 Hugging Face 端点（如果需要使用镜像）\n",
    "os.environ['HF_ENDPOINT'] = 'https://hf-mirror.com'\n",
    "\n",
    "print(os.environ['HF_HOME'])\n",
    "\n",
    "result = subprocess.run('bash -c \"source /etc/network_turbo && env | grep proxy\"', shell=True, capture_output=True, text=True)\n",
    "output = result.stdout\n",
    "for line in output.splitlines():\n",
    "    if '=' in line:\n",
    "        var, value = line.split('=', 1)\n",
    "        os.environ[var] = value\n",
    "import os\n",
    "# os.environ['HF_HOME'] = '/root/autodl-tmp/cache/'\n",
    "# 设置 timm 模型的下载地址\n",
    "# os.environ['TORCH_HOME'] = '/root/autodl-tmp/timm/models'\n",
    "detector = pipeline(task=\"object-detection\",model=\"hustvl/yolos-tiny\")"
   ]
  },
  {
   "cell_type": "code",
   "execution_count": 18,
   "id": "d1565e1d-20bf-4b19-86c1-dd3a8983a999",
   "metadata": {
    "execution": {
     "iopub.execute_input": "2024-06-11T08:25:56.564579Z",
     "iopub.status.busy": "2024-06-11T08:25:56.563532Z",
     "iopub.status.idle": "2024-06-11T08:25:56.735469Z",
     "shell.execute_reply": "2024-06-11T08:25:56.734661Z",
     "shell.execute_reply.started": "2024-06-11T08:25:56.564536Z"
    }
   },
   "outputs": [
    {
     "data": {
      "text/plain": [
       "[{'score': 0.8501,\n",
       "  'label': 'bear',\n",
       "  'box': {'xmin': 173, 'ymin': 161, 'xmax': 886, 'ymax': 594}}]"
      ]
     },
     "execution_count": 18,
     "metadata": {},
     "output_type": "execute_result"
    }
   ],
   "source": [
    "os.environ['HF_ENDPOINT'] = 'https://hf-mirror.com'\n",
    "preds = detector(\n",
    "    \"/root/autodl-tmp/project/transformers/data/image/cat-chonk.jpeg\"\n",
    ")\n",
    "preds = [{\"score\": round(pred[\"score\"], 4), \"label\": pred[\"label\"], \"box\": pred[\"box\"]} for pred in preds]\n",
    "preds"
   ]
  },
  {
   "cell_type": "code",
   "execution_count": 15,
   "id": "7be73453-9238-49c6-b833-b4397b3e8a27",
   "metadata": {
    "execution": {
     "iopub.execute_input": "2024-06-11T08:25:13.164911Z",
     "iopub.status.busy": "2024-06-11T08:25:13.164002Z",
     "iopub.status.idle": "2024-06-11T08:25:13.327130Z",
     "shell.execute_reply": "2024-06-11T08:25:13.326262Z",
     "shell.execute_reply.started": "2024-06-11T08:25:13.164882Z"
    }
   },
   "outputs": [
    {
     "data": {
      "text/plain": [
       "[{'score': 0.6406,\n",
       "  'label': 'dog',\n",
       "  'box': {'xmin': 258, 'ymin': 18, 'xmax': 479, 'ymax': 415}},\n",
       " {'score': 0.9946,\n",
       "  'label': 'cat',\n",
       "  'box': {'xmin': 75, 'ymin': 60, 'xmax': 290, 'ymax': 369}},\n",
       " {'score': 0.9899,\n",
       "  'label': 'dog',\n",
       "  'box': {'xmin': 280, 'ymin': 18, 'xmax': 479, 'ymax': 416}}]"
      ]
     },
     "execution_count": 15,
     "metadata": {},
     "output_type": "execute_result"
    }
   ],
   "source": [
    "\n",
    "preds = detector(\n",
    "    \"data/image/cat_dog.jpg\",height=100,width=200\n",
    ")\n",
    "preds = [{\"score\": round(pred[\"score\"], 4), \"label\": pred[\"label\"], \"box\": pred[\"box\"]} for pred in preds]\n",
    "preds"
   ]
  },
  {
   "cell_type": "markdown",
   "id": "e4993a9f-1032-46ab-97b1-a028d4bd5ebc",
   "metadata": {},
   "source": [
    "### Homework：替换以上示例中的模型，对比不同模型在相同任务上的性能表现\n",
    "\n",
    "在 Hugging Face Models 中找到适合你的模型：https://huggingface.co/models"
   ]
  },
  {
   "cell_type": "code",
   "execution_count": null,
   "id": "be3f51d2-863d-44f6-836f-9051351985ae",
   "metadata": {},
   "outputs": [],
   "source": []
  }
 ],
 "metadata": {
  "kernelspec": {
   "display_name": "peft",
   "language": "python",
   "name": "peft"
  },
  "language_info": {
   "codemirror_mode": {
    "name": "ipython",
    "version": 3
   },
   "file_extension": ".py",
   "mimetype": "text/x-python",
   "name": "python",
   "nbconvert_exporter": "python",
   "pygments_lexer": "ipython3",
   "version": "3.12.2"
  }
 },
 "nbformat": 4,
 "nbformat_minor": 5
}

{
 "cells": [
  {
   "cell_type": "markdown",
   "id": "1af0fbae-98f6-4a91-a0a8-cefed3ff445b",
   "metadata": {},
   "source": [
    "# LangChain 调用私有化 ChatGLM 模型\n",
    "\n",
    "## LLMChain 实现单轮对话"
   ]
  },
  {
   "cell_type": "code",
   "execution_count": 1,
   "id": "d04b3bdb-98ca-4b02-94d6-0871e1bea6a1",
   "metadata": {},
   "outputs": [],
   "source": [
    "from langchain_community.llms import ChatGLM\n",
    "from langchain.chains import LLMChain\n",
    "from langchain.prompts import PromptTemplate"
   ]
  },
  {
   "cell_type": "code",
   "execution_count": 2,
   "id": "5b32e8d2-50b8-4566-9081-716aa5df5d8c",
   "metadata": {},
   "outputs": [],
   "source": [
    "# ChatGLM 私有化部署的 Endpoint URL\n",
    "endpoint_url = \"http://127.0.0.1:8081\""
   ]
  },
  {
   "cell_type": "code",
   "execution_count": 22,
   "id": "8208a4a1-7863-414b-b2a9-2f86d6ddcf5a",
   "metadata": {},
   "outputs": [],
   "source": [
    "# 实例化 ChatGLM 大模型\n",
    "llm = ChatGLM(\n",
    "    endpoint_url=endpoint_url,\n",
    "    max_token=80000,\n",
    "    history=[\n",
    "        # [\"你是一个专业的销售顾问,欢迎问我任何问题。\"]\n",
    "    ],\n",
    "    top_p=0.9,\n",
    "    model_kwargs={\"sample_model_args\": False},\n",
    ")"
   ]
  },
  {
   "cell_type": "code",
   "execution_count": 23,
   "id": "b03b42d0-a4f7-48eb-a795-64d891703a38",
   "metadata": {},
   "outputs": [],
   "source": [
    "# 提示词模板\n",
    "template = \"\"\"{question}\"\"\"\n",
    "prompt = PromptTemplate(template=template, input_variables=[\"question\"])"
   ]
  },
  {
   "cell_type": "code",
   "execution_count": 24,
   "id": "b7322d29-8bc2-4c9d-aa34-adfed0c56f1f",
   "metadata": {},
   "outputs": [],
   "source": [
    "llm_chain = LLMChain(prompt=prompt, llm=llm)"
   ]
  },
  {
   "cell_type": "code",
   "execution_count": 25,
   "id": "700fef2d-eaa7-439e-bb3b-e3af4c2dac3b",
   "metadata": {},
   "outputs": [
    {
     "data": {
      "text/plain": [
       "'我们的衣服是通过线上和线下渠道销售。线上渠道包括官方网站和各大电商平台，如淘宝、京东等。线下渠道包括各大商场和专卖店。此外，我们还会定期参加一些时尚活动和展览，让更多人了解我们的品牌和产品。\\n\\n在购买我们的衣服时，消费者可以根据自己的需求和喜好选择款式、颜色和尺码。我们的产品价格因款式和材质的不同而有所差异，但总体来说，我们的价格是合理且具有竞争力的。\\n\\n如需了解更多关于我们衣服的信息，请访问我们的官方网站或联系我们的客服团队。我们将竭诚为您提供帮助。'"
      ]
     },
     "execution_count": 25,
     "metadata": {},
     "output_type": "execute_result"
    }
   ],
   "source": [
    "llm_chain.run(\"你们衣服怎么卖？\")"
   ]
  },
  {
   "cell_type": "code",
   "execution_count": null,
   "id": "a0396649-c400-4972-b6f6-18e51bbd7105",
   "metadata": {},
   "outputs": [],
   "source": []
  },
  {
   "cell_type": "markdown",
   "id": "0a9070c0-14b0-416f-98d3-65eb5ab43c4e",
   "metadata": {},
   "source": [
    "## 带记忆功能的聊天对话（Conversation with Memory）"
   ]
  },
  {
   "cell_type": "code",
   "execution_count": 26,
   "id": "9ca4b002-0a05-4c3b-9aa4-94e7990072f9",
   "metadata": {},
   "outputs": [],
   "source": [
    "from langchain.chains import ConversationChain\n",
    "from langchain.memory import ConversationBufferMemory"
   ]
  },
  {
   "cell_type": "code",
   "execution_count": 27,
   "id": "455b4814-75d3-4251-a0f1-859a9d72bc1c",
   "metadata": {},
   "outputs": [
    {
     "name": "stderr",
     "output_type": "stream",
     "text": [
      "/root/miniconda3/lib/python3.12/site-packages/langchain_core/_api/deprecation.py:139: LangChainDeprecationWarning: The class `ConversationChain` was deprecated in LangChain 0.2.7 and will be removed in 1.0. Use RunnableWithMessageHistory: https://api.python.langchain.com/en/latest/runnables/langchain_core.runnables.history.RunnableWithMessageHistory.html instead.\n",
      "  warn_deprecated(\n"
     ]
    }
   ],
   "source": [
    "conversation = ConversationChain(\n",
    "    llm=llm, \n",
    "    verbose=True, \n",
    "    memory=ConversationBufferMemory()\n",
    ")"
   ]
  },
  {
   "cell_type": "code",
   "execution_count": 28,
   "id": "11161e97-cfbb-4bbe-9839-27334c7f6eba",
   "metadata": {},
   "outputs": [
    {
     "name": "stdout",
     "output_type": "stream",
     "text": [
      "\n",
      "\n",
      "\u001b[1m> Entering new ConversationChain chain...\u001b[0m\n",
      "Prompt after formatting:\n",
      "\u001b[32;1m\u001b[1;3mThe following is a friendly conversation between a human and an AI. The AI is talkative and provides lots of specific details from its context. If the AI does not know the answer to a question, it truthfully says it does not know.\n",
      "\n",
      "Current conversation:\n",
      "\n",
      "Human: 你们衣服怎么卖？\n",
      "AI:\u001b[0m\n",
      "\n",
      "\u001b[1m> Finished chain.\u001b[0m\n"
     ]
    },
    {
     "data": {
      "text/plain": [
       "'我们的衣服在线上商城和实体店都有售卖。线上商城的话，您可以在我们的官方网站上进行购买，实体店的话，您可以在我们的专卖店或 partner 店铺中找到。关于价格方面，不同款式和尺码的价格会有所不同，您可以根据自己的需要进行选择。同时，我们还提供定制服务，如果您有特殊需求，可以联系我们的客服进行定制。'"
      ]
     },
     "execution_count": 28,
     "metadata": {},
     "output_type": "execute_result"
    }
   ],
   "source": [
    "conversation.predict(input=\"你们衣服怎么卖？\")"
   ]
  },
  {
   "cell_type": "code",
   "execution_count": 29,
   "id": "dcc8ced2-396e-47c0-8474-f8a5065ba7aa",
   "metadata": {},
   "outputs": [
    {
     "name": "stdout",
     "output_type": "stream",
     "text": [
      "\n",
      "\n",
      "\u001b[1m> Entering new ConversationChain chain...\u001b[0m\n",
      "Prompt after formatting:\n",
      "\u001b[32;1m\u001b[1;3mThe following is a friendly conversation between a human and an AI. The AI is talkative and provides lots of specific details from its context. If the AI does not know the answer to a question, it truthfully says it does not know.\n",
      "\n",
      "Current conversation:\n",
      "Human: 你们衣服怎么卖？\n",
      "AI: 我们的衣服在线上商城和实体店都有售卖。线上商城的话，您可以在我们的官方网站上进行购买，实体店的话，您可以在我们的专卖店或 partner 店铺中找到。关于价格方面，不同款式和尺码的价格会有所不同，您可以根据自己的需要进行选择。同时，我们还提供定制服务，如果您有特殊需求，可以联系我们的客服进行定制。\n",
      "Human: 有哪些款式？\n",
      "AI:\u001b[0m\n",
      "\n",
      "\u001b[1m> Finished chain.\u001b[0m\n"
     ]
    },
    {
     "data": {
      "text/plain": [
       "'我们的衣服款式丰富多样，包括休闲款、运动款、商务款、时尚款等。每款衣服都有多种尺码可供选择，您可以根据自己的身材和喜好进行挑选。此外，我们还针对不同季节和场合推出了季节性系列和限量版系列，您可以根据自己的需求和喜好进行选择。如果您有特殊需求，也可以联系我们的客服进行定制。'"
      ]
     },
     "execution_count": 29,
     "metadata": {},
     "output_type": "execute_result"
    }
   ],
   "source": [
    "conversation.predict(input=\"有哪些款式？\")"
   ]
  },
  {
   "cell_type": "code",
   "execution_count": 30,
   "id": "1518523e-6ccd-461c-a1e1-331905750f3d",
   "metadata": {},
   "outputs": [
    {
     "name": "stdout",
     "output_type": "stream",
     "text": [
      "\n",
      "\n",
      "\u001b[1m> Entering new ConversationChain chain...\u001b[0m\n",
      "Prompt after formatting:\n",
      "\u001b[32;1m\u001b[1;3mThe following is a friendly conversation between a human and an AI. The AI is talkative and provides lots of specific details from its context. If the AI does not know the answer to a question, it truthfully says it does not know.\n",
      "\n",
      "Current conversation:\n",
      "Human: 你们衣服怎么卖？\n",
      "AI: 我们的衣服在线上商城和实体店都有售卖。线上商城的话，您可以在我们的官方网站上进行购买，实体店的话，您可以在我们的专卖店或 partner 店铺中找到。关于价格方面，不同款式和尺码的价格会有所不同，您可以根据自己的需要进行选择。同时，我们还提供定制服务，如果您有特殊需求，可以联系我们的客服进行定制。\n",
      "Human: 有哪些款式？\n",
      "AI: 我们的衣服款式丰富多样，包括休闲款、运动款、商务款、时尚款等。每款衣服都有多种尺码可供选择，您可以根据自己的身材和喜好进行挑选。此外，我们还针对不同季节和场合推出了季节性系列和限量版系列，您可以根据自己的需求和喜好进行选择。如果您有特殊需求，也可以联系我们的客服进行定制。\n",
      "Human: 休闲装男款都有啥？\n",
      "AI:\u001b[0m\n",
      "\n",
      "\u001b[1m> Finished chain.\u001b[0m\n"
     ]
    },
    {
     "data": {
      "text/plain": [
       "'我们的休闲装男款有很多不同的款式可供选择，包括T恤、衬衫、卫衣、外套等。每款衣服都有多种尺码，您可以根据自己的身材和喜好进行挑选。此外，我们的休闲装男款还针对不同季节和场合推出了季节性系列和限量版系列，您可以根据自己的需求和喜好进行选择。如果您有特殊需求，也可以联系我们的客服进行定制。'"
      ]
     },
     "execution_count": 30,
     "metadata": {},
     "output_type": "execute_result"
    }
   ],
   "source": [
    "conversation.predict(input=\"休闲装男款都有啥？\")"
   ]
  },
  {
   "cell_type": "code",
   "execution_count": null,
   "id": "a987c6c6-98be-4a1b-b916-b05033d6d0a0",
   "metadata": {},
   "outputs": [],
   "source": []
  }
 ],
 "metadata": {
  "kernelspec": {
   "display_name": "peft",
   "language": "python",
   "name": "peft"
  },
  "language_info": {
   "codemirror_mode": {
    "name": "ipython",
    "version": 3
   },
   "file_extension": ".py",
   "mimetype": "text/x-python",
   "name": "python",
   "nbconvert_exporter": "python",
   "pygments_lexer": "ipython3",
   "version": "3.12.2"
  }
 },
 "nbformat": 4,
 "nbformat_minor": 5
}

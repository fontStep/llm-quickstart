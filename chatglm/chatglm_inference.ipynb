{
 "cells": [
  {
   "cell_type": "markdown",
   "id": "fc5bde60-1899-461d-8083-3ee04ac7c099",
   "metadata": {},
   "source": [
    "# 模型推理 - 使用 QLoRA 微调后的 ChatGLM-6B"
   ]
  },
  {
   "cell_type": "code",
   "execution_count": 4,
   "id": "3292b88c-91f0-48d2-91a5-06b0830c7e70",
   "metadata": {},
   "outputs": [],
   "source": [
    "import torch\n",
    "from transformers import AutoModel, AutoTokenizer, BitsAndBytesConfig\n",
    "\n",
    "# 模型ID或本地路径\n",
    "model_name_or_path = 'THUDM/chatglm3-6b'"
   ]
  },
  {
   "cell_type": "code",
   "execution_count": 5,
   "id": "59e11606",
   "metadata": {},
   "outputs": [],
   "source": [
    "import subprocess\n",
    "import os\n",
    "\n",
    "result = subprocess.run('bash -c \"source /etc/network_turbo && env | grep proxy\"', shell=True, capture_output=True, text=True)\n",
    "output = result.stdout\n",
    "for line in output.splitlines():\n",
    "    if '=' in line:\n",
    "        var, value = line.split('=', 1)\n",
    "        os.environ[var] = value"
   ]
  },
  {
   "cell_type": "code",
   "execution_count": 6,
   "id": "27cf970d",
   "metadata": {},
   "outputs": [
    {
     "name": "stdout",
     "output_type": "stream",
     "text": [
      "env: HF_HOME=/root/autodl-tmp/huggingface/cache\n",
      "env: HF_ENDPOINT=https://hf-mirror.com\n"
     ]
    }
   ],
   "source": [
    "import os\n",
    "%env HF_HOME=/root/autodl-tmp/huggingface/cache\n",
    "%env HF_ENDPOINT = https://hf-mirror.com\n",
    "os.environ['HF_HOME'] = '/root/autodl-tmp/huggingface/cache'\n",
    "os.environ['HF_HUB_CACHE'] = '/root/autodl-tmp/huggingface/cache'\n",
    "os.environ['HF_ENDPOINT'] = 'https://hf-mirror.com'"
   ]
  },
  {
   "cell_type": "code",
   "execution_count": 7,
   "id": "9f81454c-24b2-4072-ab05-b25f9b120ae6",
   "metadata": {},
   "outputs": [
    {
     "data": {
      "application/vnd.jupyter.widget-view+json": {
       "model_id": "14f1e2d4c59a474cbd89a7dd219a6d01",
       "version_major": 2,
       "version_minor": 0
      },
      "text/plain": [
       "Loading checkpoint shards:   0%|          | 0/7 [00:00<?, ?it/s]"
      ]
     },
     "metadata": {},
     "output_type": "display_data"
    }
   ],
   "source": [
    "_compute_dtype_map = {\n",
    "    'fp32': torch.float32,\n",
    "    'fp16': torch.float16,\n",
    "    'bf16': torch.bfloat16\n",
    "}\n",
    "\n",
    "# QLoRA 量化配置\n",
    "q_config = BitsAndBytesConfig(load_in_4bit=True,\n",
    "                              bnb_4bit_quant_type='nf4',\n",
    "                              bnb_4bit_use_double_quant=True,\n",
    "                              bnb_4bit_compute_dtype=_compute_dtype_map['bf16'])\n",
    "\n",
    "# 加载量化后模型(与微调的 revision 保持一致）\n",
    "base_model = AutoModel.from_pretrained(model_name_or_path,\n",
    "                                      quantization_config=q_config,\n",
    "                                      device_map='auto',\n",
    "                                      trust_remote_code=True,\n",
    "                                      revision='b098244')"
   ]
  },
  {
   "cell_type": "code",
   "execution_count": 15,
   "id": "d488846f-41bb-4fe6-9f09-0f392f3b39e6",
   "metadata": {},
   "outputs": [
    {
     "data": {
      "text/plain": [
       "ChatGLMForConditionalGeneration(\n",
       "  (transformer): ChatGLMModel(\n",
       "    (embedding): Embedding(\n",
       "      (word_embeddings): Embedding(65024, 4096)\n",
       "    )\n",
       "    (rotary_pos_emb): RotaryEmbedding()\n",
       "    (encoder): GLMTransformer(\n",
       "      (layers): ModuleList(\n",
       "        (0-27): 28 x GLMBlock(\n",
       "          (input_layernorm): RMSNorm()\n",
       "          (self_attention): SelfAttention(\n",
       "            (query_key_value): Linear4bit(in_features=4096, out_features=4608, bias=True)\n",
       "            (core_attention): CoreAttention(\n",
       "              (attention_dropout): Dropout(p=0.0, inplace=False)\n",
       "            )\n",
       "            (dense): Linear4bit(in_features=4096, out_features=4096, bias=False)\n",
       "          )\n",
       "          (post_attention_layernorm): RMSNorm()\n",
       "          (mlp): MLP(\n",
       "            (dense_h_to_4h): Linear4bit(in_features=4096, out_features=27392, bias=False)\n",
       "            (dense_4h_to_h): Linear4bit(in_features=13696, out_features=4096, bias=False)\n",
       "          )\n",
       "        )\n",
       "      )\n",
       "      (final_layernorm): RMSNorm()\n",
       "    )\n",
       "    (output_layer): Linear(in_features=4096, out_features=65024, bias=False)\n",
       "  )\n",
       ")"
      ]
     },
     "execution_count": 15,
     "metadata": {},
     "output_type": "execute_result"
    }
   ],
   "source": [
    "base_model.requires_grad_(False)\n",
    "base_model.eval()"
   ]
  },
  {
   "cell_type": "code",
   "execution_count": 16,
   "id": "7e4270e2-c827-450e-bf27-7cb43a97f8f7",
   "metadata": {},
   "outputs": [],
   "source": [
    "tokenizer = AutoTokenizer.from_pretrained(model_name_or_path,\n",
    "                                          trust_remote_code=True,\n",
    "                                          revision='b098244')"
   ]
  },
  {
   "cell_type": "markdown",
   "id": "63408b60-876e-4eda-b501-90f842cca002",
   "metadata": {},
   "source": [
    "## 使用原始 ChatGLM3-6B 模型"
   ]
  },
  {
   "cell_type": "code",
   "execution_count": 17,
   "id": "6ef405cf-7d77-41a6-a07b-c6c768ee30cf",
   "metadata": {},
   "outputs": [],
   "source": [
    "input_text = \"解释下乾卦是什么？\""
   ]
  },
  {
   "cell_type": "code",
   "execution_count": 18,
   "id": "566ed80e-828b-4105-b6e6-49de8905c991",
   "metadata": {},
   "outputs": [],
   "source": [
    "response, history = base_model.chat(tokenizer, query=input_text)"
   ]
  },
  {
   "cell_type": "code",
   "execution_count": 19,
   "id": "6cee217e-f276-4c2f-94e7-69afb6d541a6",
   "metadata": {},
   "outputs": [
    {
     "name": "stdout",
     "output_type": "stream",
     "text": [
      "乾卦是八卦之一，也是八宫图之一，它是由两个阴爻夹一个阳爻构成，象征着天、云和雷。乾卦的意义非常广泛，它不仅代表天、云和雷，也代表着 strength, leadership, and authority. It is often associated with the physical and material world, as well as the natural world such as the sky and clouds. It is also said to represent the ultimate authority and power, as well as the process of change and transformation.\n"
     ]
    }
   ],
   "source": [
    "print(response)"
   ]
  },
  {
   "cell_type": "markdown",
   "id": "3db3245d-037d-4fe5-ac0d-cc5e82742399",
   "metadata": {},
   "source": [
    "#### 询问一个64卦相关问题（应该不在 ChatGLM3-6B 预训练数据中）"
   ]
  },
  {
   "cell_type": "code",
   "execution_count": 20,
   "id": "bbe1395f-39c2-4759-ae81-90ef3bcfae47",
   "metadata": {},
   "outputs": [
    {
     "name": "stdout",
     "output_type": "stream",
     "text": [
      "讼卦是八卦之一，也是八宫图之一。它由两个阳爻夹一个阴爻构成，象征着天、云和雷。讼卦的意义非常广泛，它不仅代表天、云和雷，也代表着争端、诉讼、诉讼程序和法律。它也象征着自然现象，如风和雨。在这个卦象中，阳爻代表刚强和坚定，阴爻则代表柔弱和温和。这个卦象主要表达的是在争端中，柔弱胜过刚强的道理。它建议我们在处理争端和诉讼时要保持柔和的态度，以柔克刚，才能取得胜利。\n"
     ]
    }
   ],
   "source": [
    "response, history = base_model.chat(tokenizer, query=\"周易中的讼卦是什么？\", history=history)\n",
    "print(response)"
   ]
  },
  {
   "cell_type": "code",
   "execution_count": null,
   "id": "342b3659-d644-4232-8af1-f092e733bf40",
   "metadata": {},
   "outputs": [],
   "source": []
  },
  {
   "cell_type": "markdown",
   "id": "6d23e720-dee1-4b43-a298-0cbe1d8ad11d",
   "metadata": {},
   "source": [
    "## 使用微调后的 ChatGLM3-6B"
   ]
  },
  {
   "cell_type": "markdown",
   "id": "6bcfc5a2-41ed-405c-a31c-dca4fbb67425",
   "metadata": {},
   "source": [
    "### 加载 QLoRA Adapter(Epoch=3, automade-dataset(fixed)) - 请根据训练时间戳修改 timestamp "
   ]
  },
  {
   "cell_type": "code",
   "execution_count": 21,
   "id": "9c767c67-42aa-459c-a096-e226226c359b",
   "metadata": {},
   "outputs": [],
   "source": [
    "from peft import PeftModel, PeftConfig\n",
    "\n",
    "epochs = 3\n",
    "# timestamp = \"20240118_164514\"\n",
    "timestamp = \"20240724_153657\"\n",
    "\n",
    "peft_model_path = f\"models/{model_name_or_path}-epoch{epochs}-{timestamp}\"\n",
    "\n",
    "config = PeftConfig.from_pretrained(peft_model_path)\n",
    "qlora_model = PeftModel.from_pretrained(base_model, peft_model_path)\n",
    "training_tag=f\"ChatGLM3-6B(Epoch=3, automade-dataset(fixed))-{timestamp}\""
   ]
  },
  {
   "cell_type": "code",
   "execution_count": 30,
   "id": "24a5d22b-2c94-4dcf-8135-18d78f98755f",
   "metadata": {},
   "outputs": [],
   "source": [
    "def compare_chatglm_results(query, base_model, qlora_model, training_tag):\n",
    "    base_response, base_history = base_model.chat(tokenizer, query)\n",
    "\n",
    "    inputs = tokenizer(query, return_tensors=\"pt\").to(0)\n",
    "    # ft_out = qlora_model.generate(**inputs, max_new_tokens=512)\n",
    "    # ft_response = tokenizer.decode(ft_out[0], skip_special_tokens=True)\n",
    "    \n",
    "    ft_response = qlora_model.chat(tokenizer,query)\n",
    "    print(f\"问题：{query}\\n\\n原始输出：\\n{base_response}\\n\\n\\n微调后（{training_tag}）：\\n{ft_response}\")\n",
    "    return base_response, ft_response"
   ]
  },
  {
   "cell_type": "markdown",
   "id": "062cd62e-69f9-4605-8c83-e468f71ef3d3",
   "metadata": {},
   "source": [
    "### 微调前后效果对比"
   ]
  },
  {
   "cell_type": "code",
   "execution_count": 31,
   "id": "7db16cd5-0bb5-44ab-b861-d9ca6a4970c2",
   "metadata": {},
   "outputs": [
    {
     "name": "stdout",
     "output_type": "stream",
     "text": [
      "问题：解释下乾卦是什么？\n",
      "\n",
      "原始输出：\n",
      "在周易中，乾卦是六十四卦之首，象征天、龙，以及纯粹的阳和健。其卦辞为“元、亨、利、贞”，意味着大吉大利，吉利的贞卜。乾卦的核心哲学是天道刚健，君子观此卦象，从而以天为法，自强不息。乾卦所代表的刚健、正直、公允的实质，以及自强不息的精神，是在正确的道路上永远亨通的象征。在事业、经商、求名、婚恋等方面，都具有兴盛强健、名利双收的象征，但也需要注意骄傲自满的情绪，保持警惕和谨慎，方可充分发挥才智，保证成功。\n",
      "\n",
      "\n",
      "微调后（ChatGLM3-6B(Epoch=3, automade-dataset)）：\n",
      "('在周易中，乾卦是六十四卦之首，象征天、龙，以及纯粹的阳和健。其卦辞为“元、亨、利、贞”，意味着大吉大利，吉利的贞卜。乾卦的核心哲学是天道刚健，君子观此卦象，从而以天为法，自强不息。乾卦所代表的刚健、正直、公允的实质，以及自强不息的精神，是在正确的道路上永远亨通的象征。在事业、经商、求名、婚恋等方面，都具有兴盛强健、名利双收的象征，但也需要注意骄傲自满的情绪，保持警惕和谨慎，方可充分发挥才智，保证成功。', [{'role': 'user', 'content': '解释下乾卦是什么？'}, {'role': 'assistant', 'metadata': '', 'content': '在周易中，乾卦是六十四卦之首，象征天、龙，以及纯粹的阳和健。其卦辞为“元、亨、利、贞”，意味着大吉大利，吉利的贞卜。乾卦的核心哲学是天道刚健，君子观此卦象，从而以天为法，自强不息。乾卦所代表的刚健、正直、公允的实质，以及自强不息的精神，是在正确的道路上永远亨通的象征。在事业、经商、求名、婚恋等方面，都具有兴盛强健、名利双收的象征，但也需要注意骄傲自满的情绪，保持警惕和谨慎，方可充分发挥才智，保证成功。'}])\n"
     ]
    }
   ],
   "source": [
    "base_response, ft_response = compare_chatglm_results(\"解释下乾卦是什么？\", base_model, qlora_model, training_tag)"
   ]
  },
  {
   "cell_type": "code",
   "execution_count": 24,
   "id": "7aa074bd-c819-4533-a10f-f3184dc9549a",
   "metadata": {},
   "outputs": [
    {
     "name": "stdout",
     "output_type": "stream",
     "text": [
      "问题：周易中的讼卦是什么\n",
      "\n",
      "原始输出：\n",
      "在周易中，讼卦是一个充满警示的卦象。它由上卦乾（天）和下卦坎（水）组成，乾象征刚健，坎象征险陷。这两者相背而行，预示着将会有争讼之事。占卦得此卦，虽然开始时有利可图，但最终会陷入凶险之中。\n",
      "\n",
      "讼卦象征着事与愿违，凡事不顺，可能会遭遇小人加害，需要时刻防范陷阱。因此，谋事之初务必慎之又慎，不得固执已见，极力避免介入诉讼纠纷的争执之中。不如退而让人，求得化解，安于正理，可免除意外之灾。对于事业、经商、求名、婚恋等方面都有着相应的警示和建议。\n",
      "\n",
      "\n",
      "微调后（ChatGLM3-6B(Epoch=3, automade-dataset(fixed))-20240724_153657）：\n",
      "[gMASK]sop 周易中的讼卦是什么? 在周易中，讼卦是一个充满警示的卦象。它由上卦乾（天）和下卦坎（水）组成，乾象征刚健，坎象征险陷。这两者相背而行，预示着将会有争讼之事。占卦得此卦，虽然开始时有利可图，但最终会陷入凶险之中。\n",
      "\n",
      "讼卦象征着事与愿违，凡事不顺，可能会遭遇小人加害，需要时刻防范陷阱。因此，谋事之初务必慎之又慎，不得固执已见，极力避免介入诉讼纠纷的争执之中。不如退而让人，求得化解，安于正理，可免除意外之灾。对于事业、经商、求名、婚恋等方面都有着相应的警示和建议。\n"
     ]
    }
   ],
   "source": [
    "base_response, ft_response = compare_chatglm_results(\"周易中的讼卦是什么\", base_model, qlora_model, training_tag)"
   ]
  },
  {
   "cell_type": "code",
   "execution_count": 25,
   "id": "d5a31554-40f1-4e6e-8240-f207c4a61b42",
   "metadata": {},
   "outputs": [
    {
     "name": "stdout",
     "output_type": "stream",
     "text": [
      "问题：师卦是什么？\n",
      "\n",
      "原始输出：\n",
      "师卦是一个由两个异卦相叠而成的卦象，下卦为坎（水），上卦为坤（地）。这一卦象代表着军队和指挥军事的总体情况，预示着吉祥和无灾祸。师卦的核心哲学是兵众之情，取法于地中有水，象征着容纳众人和畜养大众的含义。在周易哲学中，只有德高望重的长者来统率军队，才能带来吉祥和无咎。师卦预示着时运的包容与修行待时，财运的珍惜与财库，家宅的联姻和喜庆，以及身体的调气无忧。在事业上，师卦预示着困难重重，需要遵守正规，与他人合作，谨慎行事，果断而不冒险，始终保持机动灵活。经商则需要坚强的精神和高尚的商业道德，加强沟通，方可摆脱困境。在求名与婚恋中，均需要专注慎重。总的来说，师卦预示着克服困难与坚定追求的人生态度。\n",
      "\n",
      "\n",
      "微调后（ChatGLM3-6B(Epoch=3, automade-dataset(fixed))-20240724_153657）：\n",
      "[gMASK]sop 师卦是什么？ 师卦是一个由两个异卦相叠而成的卦象，下卦为坎（水），上卦为坤（地）。这一卦象代表着军队和指挥军事的总体情况，预示着吉祥和无灾祸。师卦的核心哲学是兵众之情，取法于地中有水，象征着容纳众人和畜养大众的含义。在周易哲学中，只有德高望重的长者来统率军队，才能带来吉祥和无咎。师卦预示着时运的包容与修行待时，财运的珍惜与财库，家宅的联姻和喜庆，以及身体的调气无忧。在事业上，师卦预示着困难重重，需要遵守正规，与他人合作，谨慎行事，果断而不冒险，始终保持机动灵活。经商则需要坚强的精神和高尚的商业道德，加强沟通，方可摆脱困境。在求名与婚恋中，均需要专注慎重。总的来说，师卦预示着克服困难与坚定追求的人生态度。\n"
     ]
    }
   ],
   "source": [
    "base_response, ft_response = compare_chatglm_results(\"师卦是什么？\", base_model, qlora_model, training_tag)"
   ]
  },
  {
   "cell_type": "code",
   "execution_count": null,
   "id": "abae8a8e-00bb-4801-931a-c942206f0e2a",
   "metadata": {},
   "outputs": [],
   "source": []
  },
  {
   "cell_type": "markdown",
   "id": "7d48183f-f1dc-4171-b217-e269a5b9c1b9",
   "metadata": {},
   "source": [
    "## 其他模型（错误数据或训练参数）\n",
    "\n",
    "#### 加载 QLoRA Adapter(Epoch=3, automade-dataset)"
   ]
  },
  {
   "cell_type": "code",
   "execution_count": 26,
   "id": "46a0e881-a4f3-43b2-8a61-0ec543a538a7",
   "metadata": {},
   "outputs": [],
   "source": [
    "from peft import PeftModel, PeftConfig\n",
    "\n",
    "epochs = 3\n",
    "peft_model_path = f\"models/{model_name_or_path}-epoch{epochs}\"\n",
    "\n",
    "config = PeftConfig.from_pretrained(peft_model_path)\n",
    "qlora_model_e3 = PeftModel.from_pretrained(base_model, peft_model_path)\n",
    "training_tag = f\"ChatGLM3-6B(Epoch=3, automade-dataset)\""
   ]
  },
  {
   "cell_type": "code",
   "execution_count": 27,
   "id": "1f53196e-f523-4105-b04a-9ddab349cce1",
   "metadata": {},
   "outputs": [
    {
     "name": "stdout",
     "output_type": "stream",
     "text": [
      "问题：解释下乾卦是什么？\n",
      "\n",
      "原始输出：\n",
      "在周易中，乾卦是六十四卦之首，象征天、龙，以及纯粹的阳和健。其卦辞为“元、亨、利、贞”，意味着大吉大利，吉利的贞卜。乾卦的核心哲学是天道刚健，君子观此卦象，从而以天为法，自强不息。乾卦所代表的刚健、正直、公允的实质，以及自强不息的精神，是在正确的道路上永远亨通的象征。在事业、经商、求名、婚恋等方面，都具有兴盛强健、名利双收的象征，但也需要注意骄傲自满的情绪，保持警惕和谨慎，方可充分发挥才智，保证成功。\n",
      "\n",
      "\n",
      "微调后（ChatGLM3-6B(Epoch=3, automade-dataset)）：\n",
      "[gMASK]sop 解释下乾卦是什么？ 在周易中，乾卦是六十四卦之首，象征天、龙，以及纯粹的阳和健。其卦辞为“元、亨、利、贞”，意味着大吉大利，吉利的贞卜。乾卦的核心哲学是天道刚健，君子观此卦象，从而以天为法，自强不息。乾卦所代表的刚健、正直、公允的实质，以及自强不息的精神，是在正确的道路上永远亨通的象征。在事业、经商、求名、婚恋等方面，都具有兴盛强健、名利双收的象征，但也需要注意骄傲自满的情绪，保持警惕和谨慎，方可充分发挥才智，保证成功。\n"
     ]
    }
   ],
   "source": [
    "base_response, ft_response = compare_chatglm_results(\"解释下乾卦是什么？\", base_model, qlora_model_e3, training_tag)"
   ]
  },
  {
   "cell_type": "code",
   "execution_count": 28,
   "id": "046306ad-6afe-4ec9-ae55-3df04f61d8f5",
   "metadata": {},
   "outputs": [
    {
     "name": "stdout",
     "output_type": "stream",
     "text": [
      "问题：地水师卦是什么？\n",
      "\n",
      "原始输出：\n",
      "地水师卦是一个由两个卦相交而得到的卦象，下卦为坎（水），上卦为坤（地）。这一卦象代表着地元素的特性，象征着地气蒸腾，以及运势的顺境。地水师卦预示着势力强大，财运库满，意味着顺应自然，顺应形势，可以安心待时，财运良好。然而，地水师卦 also预示着潜在的危险和风险，建议谨慎对待，以免损失。在事业上，应谨慎处理，不要过于依赖他人的帮助，以免陷入口水战的泥潭。在经商方面，需要谨慎选择商业机会，避免冲动行事，否则将会有损财。在婚恋方面，需要谨慎选择伴侣，避免过于冲动的爱情，才能确保婚姻美满。总体而言，地水师卦提示着顺应自然，谨慎行事，谨慎冒险，才能获得成功。\n",
      "\n",
      "\n",
      "微调后（ChatGLM3-6B(Epoch=3, automade-dataset)）：\n",
      "[gMASK]sop 地水师卦是什么？ 地水师卦是一个由两个异卦相叠而成的卦象，下卦为坎（水），上卦为坤（地）。这一卦象代表着地元素的能量，预示着柔静的力量即将消逝，柔弱胜过刚强，预示着事物将朝著相反的方向发展。地水师卦预示着柔静的特性即将消失，柔弱将战胜刚强，预示着事物将朝著相反的方向发展。在哲学和心理学领域，地水师卦预示着柔性的力量即将消失，强性的力量即将产生。在生活和事业中，地水师卦预示着柔性的力量即将消失，强性的力量将有助于成功。在情感方面，地水师卦预示着爱情我将走运，婚姻我将顺利，代表着幸福和成功。在商业领域，地水师卦预示着成功和收获，代表着成功和财富。地水师卦预示着柔性的能量即将消失，强性的能量即将产生，柔性的力量将消失，强性的力量将产生，预示着事物将朝著相反的方向发展。\n"
     ]
    }
   ],
   "source": [
    "base_response, ft_response = compare_chatglm_results(\"地水师卦是什么？\", base_model, qlora_model_e3, training_tag)"
   ]
  },
  {
   "cell_type": "code",
   "execution_count": 29,
   "id": "2ab3c310-8cc8-428a-91fa-964b7a58df43",
   "metadata": {},
   "outputs": [
    {
     "name": "stdout",
     "output_type": "stream",
     "text": [
      "问题：周易中的讼卦是什么\n",
      "\n",
      "原始输出：\n",
      "在周易中，讼卦是一个充满警示的卦象。它由上卦乾（天）和下卦坎（水）组成，乾象征刚健，坎象征险陷。这两者相背而行，预示着将会有争讼之事。占卦得此卦，虽然开始时有利可图，但最终会陷入凶险之中。\n",
      "\n",
      "讼卦象征着事与愿违，凡事不顺，可能会遭遇小人加害，需要时刻防范陷阱。因此，谋事之初务必慎之又慎，不得固执已见，极力避免介入诉讼纠纷的争执之中。不如退而让人，求得化解，安于正理，可免除意外之灾。对于事业、经商、求名、婚恋等方面都有着相应的警示和建议。\n",
      "\n",
      "\n",
      "微调后（ChatGLM3-6B(Epoch=3, automade-dataset)）：\n",
      "[gMASK]sop 周易中的讼卦是什么? 在周易中，讼卦是一个充满警示的卦象。它由上卦乾（天）和下卦坎（水）组成，乾象征刚健，坎象征险陷。这两者相背而行，预示着将会有争讼之事。占卦得此卦，虽然开始时有利可图，但最终会陷入凶险之中。\n",
      "\n",
      "讼卦象征着事与愿违，凡事不顺，可能会遭遇小人加害，需要时刻防范陷阱。因此，谋事之初务必慎之又慎，不得固执已见，极力避免介入诉讼纠纷的争执之中。不如退而让人，求得化解，安于正理，可免除意外之灾。对于事业、经商、求名、婚恋等方面都有着相应的警示和建议。\n"
     ]
    }
   ],
   "source": [
    "base_response, ft_response = compare_chatglm_results(\"周易中的讼卦是什么\", base_model, qlora_model_e3, training_tag)"
   ]
  },
  {
   "cell_type": "code",
   "execution_count": null,
   "id": "9cfffcc5-afa6-45c1-985a-a3eb86a0d1c8",
   "metadata": {},
   "outputs": [],
   "source": []
  },
  {
   "cell_type": "markdown",
   "id": "8169237c-55d3-4d91-9f6b-8dbe635f1844",
   "metadata": {},
   "source": [
    "#### 加载 QLoRA Adapter(Epoch=50, Overfit, handmade-dataset)"
   ]
  },
  {
   "cell_type": "code",
   "execution_count": 32,
   "id": "72e6cc4f-c030-4107-b07a-6ef44f66a4b0",
   "metadata": {},
   "outputs": [],
   "source": [
    "from peft import PeftModel, PeftConfig\n",
    "\n",
    "epochs = 50\n",
    "peft_model_path = f\"models/{model_name_or_path}-epoch{epochs}\"\n",
    "\n",
    "config = PeftConfig.from_pretrained(peft_model_path)\n",
    "qlora_model_e50_handmade = PeftModel.from_pretrained(base_model, peft_model_path)\n",
    "training_tag = f\"ChatGLM3-6B(Epoch=50, handmade-dataset)\""
   ]
  },
  {
   "cell_type": "code",
   "execution_count": 33,
   "id": "8d63b187-37be-4721-8959-098d0437c41d",
   "metadata": {},
   "outputs": [
    {
     "name": "stdout",
     "output_type": "stream",
     "text": [
      "问题：解释下乾卦是什么？\n",
      "\n",
      "原始输出：\n",
      "在周易中，乾卦是六十四卦之首，象征天、龙，以及纯粹的阳和健。其卦辞为“元、亨、利、贞”，意味着大吉大利，吉利的贞卜。乾卦的核心哲学是天道刚健，君子观此卦象，从而以天为法，自强不息。乾卦所代表的刚健、正直、公允的实质，以及自强不息的精神，是在正确的道路上永远亨通的象征。在事业、经商、求名、婚恋等方面，都具有兴盛强健、名利双收的象征，但也需要注意骄傲自满的情绪，保持警惕和谨慎，方可充分发挥才智，保证成功。\n",
      "\n",
      "\n",
      "微调后（ChatGLM3-6B(Epoch=50, handmade-dataset)）：\n",
      "('在周易中，乾卦是六十四卦之首，象征天、龙，以及纯粹的阳和健。其卦辞为“元、亨、利、贞”，意味着大吉大利，吉利的贞卜。乾卦的核心哲学是天道刚健，君子观此卦象，从而以天为法，自强不息。乾卦所代表的刚健、正直、公允的实质，以及自强不息的精神，是在正确的道路上永远亨通的象征。在事业、经商、求名、婚恋等方面，都具有兴盛强健、名利双收的象征，但也需要注意骄傲自满的情绪，保持警惕和谨慎，方可充分发挥才智，保证成功。', [{'role': 'user', 'content': '解释下乾卦是什么？'}, {'role': 'assistant', 'metadata': '', 'content': '在周易中，乾卦是六十四卦之首，象征天、龙，以及纯粹的阳和健。其卦辞为“元、亨、利、贞”，意味着大吉大利，吉利的贞卜。乾卦的核心哲学是天道刚健，君子观此卦象，从而以天为法，自强不息。乾卦所代表的刚健、正直、公允的实质，以及自强不息的精神，是在正确的道路上永远亨通的象征。在事业、经商、求名、婚恋等方面，都具有兴盛强健、名利双收的象征，但也需要注意骄傲自满的情绪，保持警惕和谨慎，方可充分发挥才智，保证成功。'}])\n"
     ]
    }
   ],
   "source": [
    "base_response, ft_response = compare_chatglm_results(\"解释下乾卦是什么？\", base_model, qlora_model_e50_handmade, training_tag)"
   ]
  },
  {
   "cell_type": "code",
   "execution_count": 34,
   "id": "be5da80e-d1de-467f-a3bb-508d5a77a46d",
   "metadata": {},
   "outputs": [
    {
     "name": "stdout",
     "output_type": "stream",
     "text": [
      "问题：地水师卦\n",
      "\n",
      "原始输出：\n",
      "卦象为地雷师卦,由下卦坎(水)和上卦坎(地)组成,卦象中下卦为坎,上卦为坎,代表着地雷,预示着云霓密布,大事难成,自我投资平实,建议观望,避免决策,等待时机,总体建议是静观等待, hints@gmail.com。地雷师卦的核心卦象是地雷,象征着云和雨,预示着云霓密布,但大事难以成,需要等待时机。在投资方面,需要观望,避免决策,应该静待时机,不要强求。\n",
      "\n",
      "\n",
      "微调后（ChatGLM3-6B(Epoch=50, handmade-dataset)）：\n",
      "('卦象为地雷师,由下卦坎(水)和上卦坤(地)组成。这一卦象代表军队,预示着吉祥和无灾祸。在战争实践中,地雷师卦表示军队已经收到有益的讯息,预示着胜利和幸福。在数学上,地雷师卦预示着会赚取利润,但也会 safe and secure财富。但地雷师卦并不是适用于 every situation,它只适用于专门从事军事活动的人,卦象预示着只会有利润,而不适用于其他活动。地雷师卦的核心信息是,只有掌握地雷之力的军队,才能获得成功。', [{'role': 'user', 'content': '地水师卦'}, {'role': 'assistant', 'metadata': '', 'content': '卦象为地雷师,由下卦坎(水)和上卦坤(地)组成。这一卦象代表军队,预示着吉祥和无灾祸。在战争实践中,地雷师卦表示军队已经收到有益的讯息,预示着胜利和幸福。在数学上,地雷师卦预示着会赚取利润,但也会 safe and secure财富。但地雷师卦并不是适用于 every situation,它只适用于专门从事军事活动的人,卦象预示着只会有利润,而不适用于其他活动。地雷师卦的核心信息是,只有掌握地雷之力的军队,才能获得成功。'}])\n"
     ]
    }
   ],
   "source": [
    "base_response, ft_response = compare_chatglm_results(\"地水师卦\", base_model, qlora_model_e50_handmade, training_tag)"
   ]
  },
  {
   "cell_type": "code",
   "execution_count": 35,
   "id": "04f0eb9a-5075-4588-914a-2538bea801aa",
   "metadata": {},
   "outputs": [
    {
     "name": "stdout",
     "output_type": "stream",
     "text": [
      "问题：天水讼卦\n",
      "\n",
      "原始输出：\n",
      "天水讼卦是一个充满警示的卦象。它由上卦乾（天）和下卦坎（水）组成，乾象征刚健，坎象征险陷。这两者相背而行，预示着将会有争讼之事。占卦得此卦，虽然开始时有利可图，但最终会陷入凶险之中。\n",
      "\n",
      "在这个卦象中，glory和 calamity都指向着凶险的方向，因此建议你避免涉及法律诉讼的纠纷，以及过度追求成功。同时，也要谨慎做决策，避免冒险行为，避免将资金投入险境之中。\n",
      "\n",
      "\n",
      "微调后（ChatGLM3-6B(Epoch=50, handmade-dataset)）：\n",
      "('在周易中，讼卦是一个充满警示的卦象。它由上卦乾（天）和下卦坎（水）组成，乾象征刚健，坎象征险陷。这两者相背而行，预示着将会有争讼之事。占卦得此卦，虽然开始时有利可图，但最终会陷入凶险之中。\\n\\n讼卦象征着事与愿违，凡事不顺，可能会遭遇小人加害，需要时刻防范陷阱。因此，谋事之初务必慎之又慎，不得固执已见，极力避免介入诉讼纠纷的争执之中。不如退而让人，求得化解，安于正理，可免除意外之灾。对于事业、经商、求名、婚恋等方面都有着相应的警示和建议。', [{'role': 'user', 'content': '天水讼卦'}, {'role': 'assistant', 'metadata': '', 'content': '在周易中，讼卦是一个充满警示的卦象。它由上卦乾（天）和下卦坎（水）组成，乾象征刚健，坎象征险陷。这两者相背而行，预示着将会有争讼之事。占卦得此卦，虽然开始时有利可图，但最终会陷入凶险之中。\\n\\n讼卦象征着事与愿违，凡事不顺，可能会遭遇小人加害，需要时刻防范陷阱。因此，谋事之初务必慎之又慎，不得固执已见，极力避免介入诉讼纠纷的争执之中。不如退而让人，求得化解，安于正理，可免除意外之灾。对于事业、经商、求名、婚恋等方面都有着相应的警示和建议。'}])\n"
     ]
    }
   ],
   "source": [
    "base_response, ft_response = compare_chatglm_results(\"天水讼卦\", base_model, qlora_model_e50_handmade, training_tag)"
   ]
  }
 ],
 "metadata": {
  "kernelspec": {
   "display_name": "peft",
   "language": "python",
   "name": "peft"
  },
  "language_info": {
   "codemirror_mode": {
    "name": "ipython",
    "version": 3
   },
   "file_extension": ".py",
   "mimetype": "text/x-python",
   "name": "python",
   "nbconvert_exporter": "python",
   "pygments_lexer": "ipython3",
   "version": "3.12.2"
  }
 },
 "nbformat": 4,
 "nbformat_minor": 5
}

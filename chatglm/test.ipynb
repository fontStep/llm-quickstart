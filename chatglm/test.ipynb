{
 "cells": [
  {
   "cell_type": "code",
   "execution_count": 8,
   "metadata": {},
   "outputs": [
    {
     "name": "stdout",
     "output_type": "stream",
     "text": [
      "{'response': \"I'm sorry, but you didn't provide a specific prompt for me to respond to. Could you please provide more information or a specific question?\", 'history': [{'role': 'user', 'content': 'prompt'}, {'role': 'assistant', 'metadata': '', 'content': \"I'm sorry, but you didn't provide a specific prompt for me to respond to. Could you please provide more information or a specific question?\"}], 'status': 200, 'time': '2024-07-25 10:25:41'}\n"
     ]
    }
   ],
   "source": [
    "import requests\n",
    "import json\n",
    "headers = {\"Content-Type\": \"application/json\"}\n",
    "\n",
    "endpoint_url: str = \"http://127.0.0.1:8081/\"\n",
    "\n",
    "max_token: int = 20000\n",
    "\n",
    "temperature: float = 0.1\n",
    "\n",
    "\n",
    "top_p: float = 0.7\n",
    "\n",
    "with_history: bool = False\n",
    "payload = {\n",
    "            \"prompt\": \"prompt\",\n",
    "            \"temperature\": temperature,\n",
    "            \"max_length\": max_token,\n",
    "            \"top_p\": top_p,\n",
    "}\n",
    "response = requests.post(url=endpoint_url,json= payload,headers=headers)\n",
    "\n",
    "if response.status_code != 200:\n",
    "        raise ValueError(f\"Failed with response: {response}\")\n",
    "parsed_response = response.json() \n",
    "\n",
    "print(parsed_response)   "
   ]
  }
 ],
 "metadata": {
  "kernelspec": {
   "display_name": "peft",
   "language": "python",
   "name": "peft"
  },
  "language_info": {
   "codemirror_mode": {
    "name": "ipython",
    "version": 3
   },
   "file_extension": ".py",
   "mimetype": "text/x-python",
   "name": "python",
   "nbconvert_exporter": "python",
   "pygments_lexer": "ipython3",
   "version": "3.12.2"
  }
 },
 "nbformat": 4,
 "nbformat_minor": 2
}
